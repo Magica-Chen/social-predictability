{
 "cells": [
  {
   "cell_type": "markdown",
   "metadata": {},
   "source": [
    "# Social information for friendship network"
   ]
  },
  {
   "cell_type": "code",
   "execution_count": null,
   "metadata": {},
   "outputs": [],
   "source": [
    "import numpy as np\n",
    "import pandas as pd\n",
    "import matplotlib.pyplot as plt\n",
    "%matplotlib inline\n",
    "import matplotlib.colors as colors\n",
    "import timeit\n",
    "import math\n",
    "import random\n",
    "import feather as ft"
   ]
  },
  {
   "cell_type": "markdown",
   "metadata": {},
   "source": [
    "## Know something fundamentals of friendship network in Weeplace datset"
   ]
  },
  {
   "cell_type": "code",
   "execution_count": null,
   "metadata": {},
   "outputs": [],
   "source": [
    "df_friend = pd.read_csv('data/weeplace_friends.csv')\n",
    "df_wp = ft.read_dataframe('data/weeplace_checkins_without_loc_NA.feather') # it is the dataset without NA location"
   ]
  },
  {
   "cell_type": "code",
   "execution_count": null,
   "metadata": {},
   "outputs": [],
   "source": [
    "df_wp_origin = pd.read_csv('data/weeplace_checkins.csv')  # this is original Weeplace dataset without any processing, including some NA location"
   ]
  },
  {
   "cell_type": "code",
   "execution_count": null,
   "metadata": {},
   "outputs": [],
   "source": [
    "df_wp_origin = df_wp_origin.dropna(subset=[\"placeid\",'userid', 'datetime'])\n",
    "print(len(set(df_wp_origin['userid'].tolist())), len(set(df_wp['userid'].tolist())))"
   ]
  },
  {
   "cell_type": "markdown",
   "metadata": {},
   "source": [
    "Check all the users in friendship network whether they have mobility data in Weeplace dataset"
   ]
  },
  {
   "cell_type": "code",
   "execution_count": null,
   "metadata": {},
   "outputs": [],
   "source": [
    "TrueUser1 = set(df_friend['userid1'].tolist())\n",
    "TrueUser2 = set(df_friend['userid2'].tolist())\n",
    "UsedUser = set(df_wp['userid'].tolist())\n",
    "\n",
    "if UsedUser.issubset(TrueUser1) & UsedUser.issubset(TrueUser2):\n",
    "    print('All used users appear in the true friendship network')"
   ]
  },
  {
   "cell_type": "code",
   "execution_count": null,
   "metadata": {},
   "outputs": [],
   "source": [
    "print(len(TrueUser1), len(TrueUser2), len(UsedUser))"
   ]
  },
  {
   "cell_type": "markdown",
   "metadata": {},
   "source": [
    "It appears that the true friendship has more users than used mobility data, that is to say, some of users in friendship network have no mobility infomration. The following `TrueUser1 - UsedUser` shows the users appear in frienship network (user1) but do not have mobility information, similar meaning in `TrueUser2 - UsedUser`."
   ]
  },
  {
   "cell_type": "code",
   "execution_count": null,
   "metadata": {},
   "outputs": [],
   "source": [
    "TrueUser1 - UsedUser"
   ]
  },
  {
   "cell_type": "code",
   "execution_count": null,
   "metadata": {},
   "outputs": [],
   "source": [
    "TrueUser2 - UsedUser"
   ]
  },
  {
   "cell_type": "code",
   "execution_count": null,
   "metadata": {},
   "outputs": [],
   "source": [
    "print('There are ', len(TrueUser1 - UsedUser), 'users (user1) in true friendship who do not have mobility data information')"
   ]
  },
  {
   "cell_type": "code",
   "execution_count": null,
   "metadata": {},
   "outputs": [],
   "source": [
    "print('There are ', len(TrueUser2 - UsedUser), 'users (user2) in true friendship who do not have mobility data information')"
   ]
  },
  {
   "cell_type": "markdown",
   "metadata": {},
   "source": [
    "Therefore, we remove all the users in friendship network who do not have mobility information"
   ]
  },
  {
   "cell_type": "code",
   "execution_count": null,
   "metadata": {},
   "outputs": [],
   "source": [
    "df_friend_used = df_friend[df_friend['userid1'].isin(UsedUser) & df_friend['userid2'].isin(UsedUser)]"
   ]
  },
  {
   "cell_type": "code",
   "execution_count": null,
   "metadata": {},
   "outputs": [],
   "source": [
    "print('We remove', str(df_friend.shape[0] - df_friend_used.shape[0]), 'records in friendship network with no mobility data')"
   ]
  },
  {
   "cell_type": "code",
   "execution_count": null,
   "metadata": {},
   "outputs": [],
   "source": [
    "num_friend = df_friend.groupby('userid1').count()['userid2'].reset_index(name='count').sort_values('count', ascending=False)\n",
    "num_friend"
   ]
  },
  {
   "cell_type": "code",
   "execution_count": null,
   "metadata": {},
   "outputs": [],
   "source": [
    "num_friend_used = df_friend_used.groupby('userid1').count()['userid2'].reset_index(name='count').sort_values('count', ascending=False)\n",
    "num_friend_used "
   ]
  },
  {
   "cell_type": "code",
   "execution_count": null,
   "metadata": {},
   "outputs": [],
   "source": [
    "print('In fact, we remove', str(num_friend.shape[0] - num_friend_used.shape[0]), 'users in friendship network')"
   ]
  },
  {
   "cell_type": "code",
   "execution_count": null,
   "metadata": {},
   "outputs": [],
   "source": [
    "from scipy.optimize import curve_fit\n",
    "\n",
    "# exponential fit for the number of friends\n",
    "def exp_fit(rdata, A, alpha):\n",
    "    return A*rdata**(-alpha)"
   ]
  },
  {
   "cell_type": "code",
   "execution_count": null,
   "metadata": {},
   "outputs": [],
   "source": [
    "NumFriendsHist = np.histogram(num_friend[['count']],density=True, bins=100)"
   ]
  },
  {
   "cell_type": "code",
   "execution_count": null,
   "metadata": {},
   "outputs": [],
   "source": [
    "fig, (ax1, ax2) = plt.subplots(1, 2,figsize=(15,7.5))\n",
    "\n",
    "num_friend[['count']].plot.hist(bins=500, density=True, ax=ax1, histtype='step', color='red')\n",
    "num_friend_used[['count']].plot.hist(bins=500, density=True, ax=ax1, histtype='step', color='blue')\n",
    "ax1.set(xlabel='Num Friends', ylabel='Frequency', xscale='log', yscale='log',\n",
    "       title='Frequency (pdf) of Number of Friends a user has')\n",
    "ax1.legend(['Full Friendship Network', 'Flitered Friendship Network'])\n",
    "\n",
    "num_friend[['count']].plot.hist(bins=500, density=True, ax=ax2, histtype='step', color='red', cumulative=True)\n",
    "num_friend_used[['count']].plot.hist(bins=500, density=True, ax=ax2, histtype='step', color='blue', cumulative=True)\n",
    "ax2.set(xlabel='Num Friends', ylabel='Cumulative Frequency', xscale='log', yscale='log',\n",
    "       title='Cumulative Frequency (cdf) of Number of Friends a user has')\n",
    "ax2.legend(['Full Friendship Network', 'Flitered Friendship Network'], loc=8)\n",
    "\n",
    "plt.show()"
   ]
  },
  {
   "cell_type": "markdown",
   "metadata": {},
   "source": [
    "After filtering, we only have less users, but from the view of hist fit (log view), it is acceptable."
   ]
  },
  {
   "cell_type": "markdown",
   "metadata": {},
   "source": [
    "## Compute entropy for all users"
   ]
  },
  {
   "cell_type": "code",
   "execution_count": null,
   "metadata": {},
   "outputs": [],
   "source": [
    "from entropy_functions import shannon_entropy, entropy, cross_entropy\n",
    "import pickle"
   ]
  },
  {
   "cell_type": "markdown",
   "metadata": {},
   "source": [
    "* Notice: now we only consider user's visitation as the **time-ordered sequential** rather than **temporal sequential**, and then compute shannon entropy and LZ-entropy"
   ]
  },
  {
   "cell_type": "code",
   "execution_count": null,
   "metadata": {
    "scrolled": false
   },
   "outputs": [],
   "source": [
    "\"\"\" Extract time-ordered placeid sequential for all users\"\"\"\n",
    "num_used_users = len(UsedUser)\n",
    "\n",
    "# # this placeid store only include all the users who appear in the true friendship network\n",
    "# placeid_store = np.empty(num_used_users, dtype=object)\n",
    "\n",
    "# for i in range(num_used_users):\n",
    "#     placeid_store[i] = df_wp[df_wp['userid'] ==list(UsedUser)[i]].set_index('datetime').sort_index()['placeid'].to_list()\n",
    "\n",
    "# # save pickle file\n",
    "# pickle_out = open(\"placeid.pickle\", \"wb\")\n",
    "# pickle.dump(placeid_store, pickle_out)\n",
    "# pickle_out.close()\n",
    "\n",
    "# read picle file\n",
    "pickle_in = open(\"placeid_store.pickle\", \"rb\")\n",
    "placeid_store = pickle.load(pickle_in)"
   ]
  },
  {
   "cell_type": "markdown",
   "metadata": {},
   "source": [
    "Now we can compute shanon entropy and LZ-entropy for all the users and plot the histograms"
   ]
  },
  {
   "cell_type": "code",
   "execution_count": 172,
   "metadata": {},
   "outputs": [],
   "source": [
    "user_shannon_entropy = [shannon_entropy(placeid_store[i]) for i in range(num_used_users)]"
   ]
  },
  {
   "cell_type": "code",
   "execution_count": 173,
   "metadata": {},
   "outputs": [],
   "source": [
    "user_LZ_entropy = [entropy(placeid_store[i]) for i in range(num_used_users)]"
   ]
  },
  {
   "cell_type": "code",
   "execution_count": 177,
   "metadata": {
    "scrolled": true
   },
   "outputs": [
    {
     "data": {
      "image/png": "[encoded data removed]",
      "text/plain": [
       "<Figure size 432x288 with 1 Axes>"
      ]
     },
     "metadata": {
      "needs_background": "light"
     },
     "output_type": "display_data"
    }
   ],
   "source": [
    "plt.title('Histograms of Different Entropies of Users')\n",
    "plt.xlabel('Entropy')\n",
    "plt.ylabel('Frequency')\n",
    "plt.hist(user_LZ_entropy,bins = 50,density = True, label = 'Lempel-Ziv Entropy',alpha=.5)\n",
    "plt.hist(user_shannon_entropy ,bins = 50,density = True, label = 'Shannon Entropy',alpha=.5)\n",
    "plt.legend()\n",
    "plt.show()"
   ]
  },
  {
   "cell_type": "code",
   "execution_count": null,
   "metadata": {},
   "outputs": [],
   "source": []
  },
  {
   "cell_type": "code",
   "execution_count": null,
   "metadata": {},
   "outputs": [],
   "source": []
  }
 ],
 "metadata": {
  "kernelspec": {
   "display_name": "Python 3",
   "language": "python",
   "name": "python3"
  },
  "language_info": {
   "codemirror_mode": {
    "name": "ipython",
    "version": 3
   },
   "file_extension": ".py",
   "mimetype": "text/x-python",
   "name": "python",
   "nbconvert_exporter": "python",
   "pygments_lexer": "ipython3",
   "version": "3.6.9"
  },
  "latex_envs": {
   "LaTeX_envs_menu_present": true,
   "autoclose": false,
   "autocomplete": true,
   "bibliofile": "biblio.bib",
   "cite_by": "apalike",
   "current_citInitial": 1,
   "eqLabelWithNumbers": true,
   "eqNumInitial": 1,
   "hotkeys": {
    "equation": "Ctrl-E",
    "itemize": "Ctrl-I"
   },
   "labels_anchors": false,
   "latex_user_defs": false,
   "report_style_numbering": false,
   "user_envs_cfg": false
  }
 },
 "nbformat": 4,
 "nbformat_minor": 2
}
