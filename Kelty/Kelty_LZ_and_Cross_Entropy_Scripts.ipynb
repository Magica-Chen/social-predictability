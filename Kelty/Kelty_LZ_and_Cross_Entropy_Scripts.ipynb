{
 "cells": [
  {
   "cell_type": "code",
   "execution_count": 1,
   "metadata": {},
   "outputs": [],
   "source": [
    "import numpy as np\n",
    "import pandas as pd\n",
    "import matplotlib.pyplot as plt\n",
    "import matplotlib.colors as colors\n",
    "import timeit\n",
    "import math\n",
    "import random\n",
    "from scipy.optimize import fsolve\n",
    "from mpmath import *\n",
    "from datetime import datetime, timedelta\n",
    "from scipy.optimize import curve_fit\n",
    "#import xarray"
   ]
  },
  {
   "cell_type": "code",
   "execution_count": 2,
   "metadata": {},
   "outputs": [],
   "source": [
    "wf = pd.read_csv(\"../../../Data_Sets/weeplaces/weeplaces/weeplace_checkins.csv\")\n",
    "wf['datetime'] = pd.to_datetime(wf['datetime'])"
   ]
  },
  {
   "cell_type": "code",
   "execution_count": 3,
   "metadata": {},
   "outputs": [],
   "source": [
    "'''Entropy estimator for the time dependent string of locations of a given user'''\n",
    "\n",
    "def Lempel_Ziv(ego):\n",
    "    Lambda_i = 0\n",
    "    h_t = [0]\n",
    "    maxlen = 0\n",
    "    dict_ego = []\n",
    "    loc_x = wf[wf['userid'] == ego]['lon'].round(4).to_list()\n",
    "    loc_y = wf[wf['userid'] == ego]['lat'].round(4).to_list()\n",
    "    lenx = len(loc_x)\n",
    "    i = 0\n",
    "    wb = 0\n",
    "    while i < len(loc_x):\n",
    "        substr = []\n",
    "        j = 0\n",
    "        if dict_ego == []:\n",
    "            Lambda_i += 1\n",
    "            dict_ego.append([[(loc_x[i],loc_y[i])]])\n",
    "            maxlen += 1\n",
    "            i+=1\n",
    "        else:\n",
    "            while i < len(loc_x):\n",
    "                substr.append((loc_x[i+j],loc_y[i+j]))\n",
    "                strlen = len(substr)\n",
    "                if strlen > maxlen:\n",
    "                    maxlen += 1\n",
    "                    dict_ego.append([substr])\n",
    "                    Lambda_i += j+1\n",
    "                    i+= 1\n",
    "                    h_t.append(i*np.log2(i)/Lambda_i)\n",
    "                    break\n",
    "                if (i+j) == (len(loc_x) - 1):\n",
    "                    dict_ego[strlen-1].append(substr)\n",
    "                    Lambda_i += j+1\n",
    "                    i += 1\n",
    "                    h_t.append(i*np.log2(i)/Lambda_i)\n",
    "                    break\n",
    "                if substr in dict_ego[strlen-1]:\n",
    "                    j += 1\n",
    "                    #wb += 1\n",
    "                else:\n",
    "                    if j > 0:\n",
    "                        wb += 1\n",
    "                    Lambda_i += j+1\n",
    "                    dict_ego[strlen-1].append(substr)\n",
    "                    i += 1\n",
    "                    h_t.append(i*np.log2(i)/Lambda_i)\n",
    "                    break\n",
    "    return [lenx*np.log2(lenx)/Lambda_i,dict_ego,Lambda_i,lenx,wb,h_t]\n",
    "'''Returns a list whos elements are:\n",
    "Entropy\n",
    "The Dictionary of the Ego,\n",
    "Lambda_i\n",
    "Length of the string\n",
    "w_b\n",
    "Entropy w.r.t. time\n",
    "'''"
   ]
  },
  {
   "cell_type": "code",
   "execution_count": 165,
   "metadata": {},
   "outputs": [],
   "source": [
    "def CrossEntropy(ego,alters, **kwargs):\n",
    "    '''\n",
    "    returns[array of cross entropies, array of weights wb (returns len(alters) + 1 elements if with ego == True),,Array of Lambda_i]\n",
    "    '''\n",
    "    '''Dictionaries of Alters and their lengths are stored in an array in the order the alters were called\n",
    "    kwargs:\n",
    "        with_ego: bool, True implies we include the ego in the cummulative cross entropy\n",
    "        temporal_control: bool, True means we shuffle the time stamps of the alter locations\n",
    "        delay: int, Most recent number of hours that is removed from the alter to test for recency\n",
    "    '''\n",
    "    \n",
    "    '''Lambda_i is a list of the cross-parsed match lengths of the ego based on each alter i\n",
    "    wb is a list of number of matches of substrings of A in B\n",
    "    cross_ent is the list of (cummulative) cross entropies of the alters'''\n",
    "    TempCont = False\n",
    "    delay0 = False\n",
    "    if 'temporal_control' in kwargs:\n",
    "        TempCont = kwargs['temporal_control']\n",
    "    if 'delay' in kwargs:\n",
    "        delay0 = kwargs['delay']\n",
    "    '''Gets Coordinates of alters. Makes array of x-locs and y-locs\n",
    "    key is an array the size of the list of locations with all elements 'B', signifying each element as the alter's\n",
    "    N_alters is a list of the number of coordinates in the alter's string\n",
    "    Time_alters are the timestamps of the location visits\n",
    "    '''\n",
    "    if type(alters) is list:\n",
    "        loc_x_alters = []\n",
    "        loc_y_alters = []\n",
    "        key_alters = []\n",
    "        time_alters = []\n",
    "        N_alters = []\n",
    "        k = 0\n",
    "        for usr in alters:\n",
    "            #print(usr)\n",
    "            loc_x_alters.append(wf[wf['userid'] == usr]['lon'].round(4).to_list())\n",
    "            loc_y_alters.append(wf[wf['userid'] == usr]['lat'].round(4).to_list())\n",
    "            key_alters.append(['B']*len(loc_x_alters[k]))\n",
    "            N_alters.append(len(loc_x_alters[k]))\n",
    "            time_alters.append(wf[wf['userid'] == usr]['datetime'].to_list())\n",
    "            if delay0 != False:\n",
    "                time_alters.append(list(np.array(wf[wf['userid'] == usr]['datetime'].to_list()) + timedelta(hours=delay0)))\n",
    "            if delay0 == False:\n",
    "                time_alters.append(wf[wf['userid'] == usr]['datetime'].to_list())\n",
    "            if TempCont:\n",
    "                '''If we want a temporally controlled entropy, we shuffle the times and sort the \n",
    "                locations with respect to the shuffled time list'''\n",
    "                indices = np.arange(0,len(time_alters[0]),1)\n",
    "                random.shuffle(indices)\n",
    "                loc_x_alters[k] = [loc_x_alters[k][x] for x in indices]\n",
    "                loc_y_alters[k] = [loc_y_alters[k][x] for x in indices]\n",
    "            k+=1\n",
    "    else:\n",
    "        k=0\n",
    "        loc_x_alters = [wf[wf['userid'] == alters]['lon'].round(4).to_list()]\n",
    "        loc_y_alters = [wf[wf['userid'] == alters]['lat'].round(4).to_list()]\n",
    "        key_alters = [['B']*len(loc_x_alters[k])]\n",
    "        if delay0 != False:\n",
    "            time_alters = [list(np.array(wf[wf['userid'] == alters]['datetime'].to_list()) + timedelta(hours=delay0))]\n",
    "        else:\n",
    "            time_alters = [wf[wf['userid'] == alters]['datetime'].to_list()]\n",
    "        N_alters = [len(loc_x_alters[0])]\n",
    "        if TempCont:\n",
    "            indices = np.arange(0,len(time_alters[0]),1)\n",
    "            random.shuffle(indices)\n",
    "            loc_x_alters[0] = [loc_x_alters[0][x] for x in indices]\n",
    "            loc_y_alters[0] = [loc_y_alters[0][x] for x in indices]\n",
    "            #print(time_alters)\n",
    "        \n",
    "    Lambda_i = []\n",
    "    wb = []\n",
    "    cross_ent = []\n",
    "    k = -1\n",
    "    ego_index = 0\n",
    "    loc_x_ego = wf[wf['userid'] == ego]['lon'].round(4).to_list()\n",
    "    loc_y_ego = wf[wf['userid'] == ego]['lat'].round(4).to_list()\n",
    "    key_ego = ['A']*len(loc_x_ego)\n",
    "    time_ego = wf[wf['userid'] == ego]['datetime'].to_list()\n",
    "    N_ego = len(loc_x_ego)\n",
    "    \n",
    "    if 'with_ego' in kwargs:\n",
    "        with_ego = kwargs['with_ego']\n",
    "        if kwargs['with_ego']:\n",
    "            dummy = CrossEntropy(ego,ego,delay = delay0)\n",
    "            wb.append(dummy[1][0])\n",
    "            Lambda_i.append(dummy[2][0])\n",
    "            N_alters.insert(0,len(loc_x_ego))\n",
    "            ego_index = 1\n",
    "    else:\n",
    "        with_ego = False\n",
    "    for ALTER in loc_x_alters:\n",
    "        i = 0\n",
    "        i_ego = 0\n",
    "        i_alter = 0\n",
    "        k+=1\n",
    "        maxlen = 0\n",
    "        dict_ego = []\n",
    "        dict_alter = []\n",
    "        wb.append(0)\n",
    "        Lambda_i.append(0)\n",
    "        #print(k)\n",
    "        loc_x = loc_x_ego + loc_x_alters[k]\n",
    "        loc_y = loc_y_ego + loc_y_alters[k]\n",
    "        key = key_alters[k] + key_ego\n",
    "        times = time_alters[k] + time_ego\n",
    "        #print(sorted(zip(times,key)))\n",
    "        key = [x for _, x in sorted(zip(times,key))]\n",
    "        loc_x = [x for _, x in sorted(zip(times,loc_x))]\n",
    "        loc_y = [x for _, x in sorted(zip(times,loc_y))]\n",
    "        while i < len(loc_x):\n",
    "            if 'A' not in key[i:]:\n",
    "                break\n",
    "            substr_ego = []\n",
    "            substr_alter = []\n",
    "            j_ego = 0\n",
    "            j_alter = 0\n",
    "            while True:\n",
    "                if (key[i] == 'A') & (i_ego + j_ego < len(loc_x_ego)):\n",
    "                    substr_ego.append((loc_x_ego[i_ego+j_ego],loc_y_ego[i_ego+j_ego]))\n",
    "                    strlen_ego = len(substr_ego)\n",
    "                    if strlen_ego > maxlen:\n",
    "                        maxlen += 1\n",
    "                        dict_ego.append([substr_ego])\n",
    "                        dict_alter.append([])\n",
    "                        Lambda_i[k+ego_index] += j_ego+1\n",
    "                        i+= 1\n",
    "                        i_ego+=1\n",
    "                        break\n",
    "                    if (i_ego+j_ego) == (len(loc_x_ego) - 1):\n",
    "                        dict_ego[strlen_ego-1].append(substr_ego)\n",
    "                        Lambda_i[k+ego_index] += j_ego+1\n",
    "                        i_ego += 1\n",
    "                        i+=1\n",
    "                        break\n",
    "                    if (substr_ego in dict_alter[strlen_ego-1]):\n",
    "                        j_ego += 1\n",
    "                        #wb[k+ego_index] += 1   \n",
    "                    else:\n",
    "                        if j_ego > 0:\n",
    "                            wb[k+ego_index] += 1\n",
    "                        Lambda_i[k+ego_index] += j_ego+1\n",
    "                        dict_ego[strlen_ego-1].append(substr_ego)\n",
    "                        i += 1\n",
    "                        i_ego+=1\n",
    "                        break\n",
    "                elif (key[i] == 'B') & (i_alter + j_alter < len(loc_x_alters[k])):\n",
    "                    substr_alter.append((loc_x_alters[k][i_alter+j_alter],loc_y_alters[k][i_alter+j_alter]))\n",
    "                    strlen_alter = len(substr_alter)\n",
    "                    if strlen_alter > maxlen:\n",
    "                        maxlen += 1\n",
    "                        dict_alter.append([substr_alter])\n",
    "                        dict_ego.append([])\n",
    "                        i+= 1\n",
    "                        i_alter+=1\n",
    "                        break\n",
    "                    if (i_alter+j_alter) == (len(loc_x_alters[k]) - 1):\n",
    "                        dict_alter[strlen_alter-1].append(substr_alter)\n",
    "                        i_alter += 1\n",
    "                        i+=1\n",
    "                        break\n",
    "                    if (substr_alter in dict_alter[strlen_alter-1]):\n",
    "                        j_alter += 1 \n",
    "                    else:\n",
    "                        dict_alter[strlen_alter-1].append(substr_alter)\n",
    "                        i += 1\n",
    "                        i_alter+=1\n",
    "                        break      \n",
    "        N_AB = np.sum(np.multiply(wb,N_alters[:len(wb)]))/np.sum(wb)\n",
    "        Lambda_max = np.max(Lambda_i)\n",
    "        #print(wb)\n",
    "        #print(N_alters[:len(wb)])\n",
    "        #print(N_AB)\n",
    "        #print(Lambda_i)\n",
    "        cross_ent.append(N_ego*np.log2(N_AB)/Lambda_max)\n",
    "    return [cross_ent,wb,Lambda_i]"
   ]
  },
  {
   "cell_type": "code",
   "execution_count": 176,
   "metadata": {},
   "outputs": [],
   "source": [
    "'''Fano Inequality'''\n",
    "def Fano(Pi_max, N, S):\n",
    "    return np.log2(N-1)-S+Pi_max*np.log2((1/Pi_max - 1)*(1/(N-1))) - np.log2(1-Pi_max)"
   ]
  },
  {
   "cell_type": "code",
   "execution_count": 5,
   "metadata": {},
   "outputs": [],
   "source": [
    "usrstest = wf.groupby('userid')['userid'].head(1).to_list()"
   ]
  },
  {
   "cell_type": "code",
   "execution_count": 174,
   "metadata": {},
   "outputs": [
    {
     "data": {
      "text/plain": [
       "6.257254541065184"
      ]
     },
     "execution_count": 174,
     "metadata": {},
     "output_type": "execute_result"
    }
   ],
   "source": [
    "Lempel_Ziv(usrstest[3])[0]"
   ]
  },
  {
   "cell_type": "code",
   "execution_count": 173,
   "metadata": {},
   "outputs": [
    {
     "data": {
      "text/plain": [
       "[6.257254541065184]"
      ]
     },
     "execution_count": 173,
     "metadata": {},
     "output_type": "execute_result"
    }
   ],
   "source": [
    "CrossEntropy(usrstest[3],usrstest[3],delay = 0)[0]"
   ]
  },
  {
   "cell_type": "code",
   "execution_count": 175,
   "metadata": {},
   "outputs": [
    {
     "data": {
      "text/plain": [
       "[5.936521987465261]"
      ]
     },
     "execution_count": 175,
     "metadata": {},
     "output_type": "execute_result"
    }
   ],
   "source": [
    "CrossEntropy(usrstest[3],usrstest[3], with_ego = True, temporal_control = True, delay = 0)[0]"
   ]
  },
  {
   "cell_type": "code",
   "execution_count": 171,
   "metadata": {},
   "outputs": [
    {
     "data": {
      "text/plain": [
       "[5.774816171555542]"
      ]
     },
     "execution_count": 171,
     "metadata": {},
     "output_type": "execute_result"
    }
   ],
   "source": [
    "CrossEntropy(usrstest[3],usrstest[3],temporal_control = True)[0]"
   ]
  },
  {
   "cell_type": "code",
   "execution_count": null,
   "metadata": {},
   "outputs": [],
   "source": []
  }
 ],
 "metadata": {
  "kernelspec": {
   "display_name": "Python 3",
   "language": "python",
   "name": "python3"
  },
  "language_info": {
   "codemirror_mode": {
    "name": "ipython",
    "version": 3
   },
   "file_extension": ".py",
   "mimetype": "text/x-python",
   "name": "python",
   "nbconvert_exporter": "python",
   "pygments_lexer": "ipython3",
   "version": "3.7.3"
  }
 },
 "nbformat": 4,
 "nbformat_minor": 2
}
