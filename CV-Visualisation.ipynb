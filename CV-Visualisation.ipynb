{
 "cells": [
  {
   "cell_type": "markdown",
   "metadata": {},
   "source": [
    "# Only consider \"helpful\" alters and focus on the alters who meet up with ego on at least 2 distinct co-locations"
   ]
  },
  {
   "cell_type": "code",
   "execution_count": 1,
   "metadata": {
    "ExecuteTime": {
     "end_time": "2020-05-06T13:16:38.073493Z",
     "start_time": "2020-05-06T13:16:37.399927Z"
    }
   },
   "outputs": [],
   "source": [
    "import numpy as np\n",
    "import pandas as pd\n",
    "%load_ext autoreload\n",
    "%autoreload 2\n",
    "import meetup_strategy as ms\n",
    "import time \n",
    "import pickle\n",
    "import "
   ]
  },
  {
   "cell_type": "code",
   "execution_count": 2,
   "metadata": {
    "ExecuteTime": {
     "end_time": "2020-05-06T13:16:50.575498Z",
     "start_time": "2020-05-06T13:16:45.925422Z"
    }
   },
   "outputs": [],
   "source": [
    "# read picle file\n",
    "pickle_in = open(\"n_previous_placeidT.pickle\", \"rb\")\n",
    "placeidT = pickle.load(pickle_in)\n",
    "pickle_in.close()"
   ]
  },
  {
   "cell_type": "code",
   "execution_count": 18,
   "metadata": {
    "ExecuteTime": {
     "end_time": "2020-05-06T13:25:58.208231Z",
     "start_time": "2020-05-06T13:25:57.966757Z"
    }
   },
   "outputs": [],
   "source": [
    "meetup_details_uniq = pd.read_csv('n_previous_total_good_meetup_uniq.csv')\n",
    "valid_meetup = meetup_details_uniq[meetup_details_uniq['unique_meetup'] > 1]"
   ]
  },
  {
   "cell_type": "code",
   "execution_count": 8,
   "metadata": {
    "ExecuteTime": {
     "end_time": "2020-05-06T13:20:12.523850Z",
     "start_time": "2020-05-06T13:20:12.502361Z"
    }
   },
   "outputs": [
    {
     "data": {
      "text/plain": [
       "1070"
      ]
     },
     "execution_count": 8,
     "metadata": {},
     "output_type": "execute_result"
    }
   ],
   "source": [
    "len(placeidT['laura-boychenko'])"
   ]
  },
  {
   "cell_type": "code",
   "execution_count": 76,
   "metadata": {
    "ExecuteTime": {
     "end_time": "2020-05-07T15:22:18.683609Z",
     "start_time": "2020-05-07T15:22:17.898904Z"
    }
   },
   "outputs": [],
   "source": [
    "lenPlaceID = {key: [len(placeidT[key]), len(set(placeidT[key]['placeid'].tolist()))] for key in placeidT.keys()}"
   ]
  },
  {
   "cell_type": "code",
   "execution_count": 78,
   "metadata": {
    "ExecuteTime": {
     "end_time": "2020-05-07T15:22:52.687662Z",
     "start_time": "2020-05-07T15:22:52.621066Z"
    }
   },
   "outputs": [
    {
     "data": {
      "text/html": [
       "<div>\n",
       "<style scoped>\n",
       "    .dataframe tbody tr th:only-of-type {\n",
       "        vertical-align: middle;\n",
       "    }\n",
       "\n",
       "    .dataframe tbody tr th {\n",
       "        vertical-align: top;\n",
       "    }\n",
       "\n",
       "    .dataframe thead th {\n",
       "        text-align: right;\n",
       "    }\n",
       "</style>\n",
       "<table border=\"1\" class=\"dataframe\">\n",
       "  <thead>\n",
       "    <tr style=\"text-align: right;\">\n",
       "      <th></th>\n",
       "      <th>userid</th>\n",
       "      <th>length</th>\n",
       "      <th>Uniq_length</th>\n",
       "    </tr>\n",
       "  </thead>\n",
       "  <tbody>\n",
       "    <tr>\n",
       "      <td>0</td>\n",
       "      <td>00-a</td>\n",
       "      <td>358</td>\n",
       "      <td>82</td>\n",
       "    </tr>\n",
       "    <tr>\n",
       "      <td>1</td>\n",
       "      <td>01</td>\n",
       "      <td>508</td>\n",
       "      <td>206</td>\n",
       "    </tr>\n",
       "    <tr>\n",
       "      <td>2</td>\n",
       "      <td>0403</td>\n",
       "      <td>208</td>\n",
       "      <td>121</td>\n",
       "    </tr>\n",
       "    <tr>\n",
       "      <td>3</td>\n",
       "      <td>08</td>\n",
       "      <td>3557</td>\n",
       "      <td>558</td>\n",
       "    </tr>\n",
       "    <tr>\n",
       "      <td>4</td>\n",
       "      <td>12</td>\n",
       "      <td>1075</td>\n",
       "      <td>103</td>\n",
       "    </tr>\n",
       "    <tr>\n",
       "      <td>...</td>\n",
       "      <td>...</td>\n",
       "      <td>...</td>\n",
       "      <td>...</td>\n",
       "    </tr>\n",
       "    <tr>\n",
       "      <td>10266</td>\n",
       "      <td>zsofia-cser</td>\n",
       "      <td>204</td>\n",
       "      <td>96</td>\n",
       "    </tr>\n",
       "    <tr>\n",
       "      <td>10267</td>\n",
       "      <td>zubin-irani</td>\n",
       "      <td>243</td>\n",
       "      <td>160</td>\n",
       "    </tr>\n",
       "    <tr>\n",
       "      <td>10268</td>\n",
       "      <td>zulfan-tm</td>\n",
       "      <td>1040</td>\n",
       "      <td>193</td>\n",
       "    </tr>\n",
       "    <tr>\n",
       "      <td>10269</td>\n",
       "      <td>zvi-band</td>\n",
       "      <td>239</td>\n",
       "      <td>111</td>\n",
       "    </tr>\n",
       "    <tr>\n",
       "      <td>10270</td>\n",
       "      <td>zwilling</td>\n",
       "      <td>337</td>\n",
       "      <td>115</td>\n",
       "    </tr>\n",
       "  </tbody>\n",
       "</table>\n",
       "<p>10271 rows × 3 columns</p>\n",
       "</div>"
      ],
      "text/plain": [
       "            userid  length  Uniq_length\n",
       "0             00-a     358           82\n",
       "1               01     508          206\n",
       "2             0403     208          121\n",
       "3               08    3557          558\n",
       "4               12    1075          103\n",
       "...            ...     ...          ...\n",
       "10266  zsofia-cser     204           96\n",
       "10267  zubin-irani     243          160\n",
       "10268    zulfan-tm    1040          193\n",
       "10269     zvi-band     239          111\n",
       "10270     zwilling     337          115\n",
       "\n",
       "[10271 rows x 3 columns]"
      ]
     },
     "execution_count": 78,
     "metadata": {},
     "output_type": "execute_result"
    }
   ],
   "source": [
    "df_lenPlaceID = pd.DataFrame.from_dict(lenPlaceID,  orient='index', columns=['length', 'Uniq_length']).reset_index()\n",
    "df_lenPlaceID.columns=['userid', 'length', 'Uniq_length']\n",
    "df_lenPlaceID"
   ]
  },
  {
   "cell_type": "markdown",
   "metadata": {},
   "source": [
    "##  Build a class and produce all results"
   ]
  },
  {
   "cell_type": "code",
   "execution_count": 40,
   "metadata": {
    "ExecuteTime": {
     "end_time": "2020-05-06T17:33:19.424883Z",
     "start_time": "2020-05-06T17:33:00.402822Z"
    }
   },
   "outputs": [],
   "source": [
    "ValidGoodMeetupCV = ms.MeetupCrossValid('data/weeplace_checkins.csv', mins_records=200, n_previous=200, \n",
    "                            user_meetup=None, total_meetup=valid_meetup, placeidT=placeidT)"
   ]
  },
  {
   "cell_type": "code",
   "execution_count": 42,
   "metadata": {
    "ExecuteTime": {
     "end_time": "2020-05-06T17:40:14.685909Z",
     "start_time": "2020-05-06T17:33:43.146034Z"
    },
    "scrolled": true
   },
   "outputs": [
    {
     "data": {
      "text/plain": [
       "391.4974904060364"
      ]
     },
     "execution_count": 42,
     "metadata": {},
     "output_type": "execute_result"
    }
   ],
   "source": [
    "start = time.time()\n",
    "A = ValidGoodMeetupCV._ego_alter(ego='victor-nguyen-long')\n",
    "time.time() - start"
   ]
  },
  {
   "cell_type": "markdown",
   "metadata": {},
   "source": [
    "Let's focus on only 10 meetupers"
   ]
  },
  {
   "cell_type": "code",
   "execution_count": 44,
   "metadata": {
    "ExecuteTime": {
     "end_time": "2020-05-07T07:31:35.258698Z",
     "start_time": "2020-05-06T17:43:23.921603Z"
    },
    "scrolled": false
   },
   "outputs": [
    {
     "name": "stdout",
     "output_type": "stream",
     "text": [
      "['andrew-grill', 'enrico-gatti', 'kira', 'sha-hwang', 'brady-forrest', 'matt-ganzak', 'david-klein', 'fox-woods', 'unityan', 'rafael-rivera', 'jennifer-boyd', 'karen-monahan', 'brad-thompson', 'connie-k', 'orchid-liu', 'ernie-hsiung', 'some-inu', 'minsu-ju', 'maggie-liu', 'kenneth-auchenberg', 'butakao', 'michael-kantrow', 'richlocation', 'sheena-beaston', 'kevin-pfefferle', 'martin-thornkvist', 'suzy-chase-osborne', 'peter-cortez', 'geoff-kim', 'brad-benson', 'jp-kim', 'sean-mcdonald', 'toby-padilla', 'sandro-pigoni', 'nico-lumma', 'mtths', 'hugh', 'craig-pladson', 'moka-pantages', 'marla-mccormick', 'takeshi-yamamoto', 'sean-donovan', 'laura-boychenko', 'onepiece-chopper', 'prashant-agarwal', 'tim-geisenheimer', 'victor-nguyen-long', 'taylor-newby', 'dottie-guy']\n",
      "andrew-grill\n",
      "enrico-gatti\n",
      "kira\n",
      "sha-hwang\n",
      "brady-forrest\n",
      "matt-ganzak\n",
      "david-klein\n",
      "fox-woods\n",
      "unityan\n",
      "rafael-rivera\n",
      "jennifer-boyd\n",
      "karen-monahan\n",
      "brad-thompson\n",
      "connie-k\n",
      "orchid-liu\n",
      "ernie-hsiung\n",
      "some-inu\n",
      "minsu-ju\n",
      "maggie-liu\n",
      "kenneth-auchenberg\n",
      "butakao\n",
      "michael-kantrow\n",
      "richlocation\n",
      "sheena-beaston\n",
      "kevin-pfefferle\n",
      "martin-thornkvist\n",
      "suzy-chase-osborne\n",
      "peter-cortez\n",
      "geoff-kim\n",
      "brad-benson\n",
      "jp-kim\n",
      "sean-mcdonald\n",
      "toby-padilla\n",
      "sandro-pigoni\n",
      "nico-lumma\n",
      "mtths\n",
      "hugh\n",
      "craig-pladson\n",
      "moka-pantages\n",
      "marla-mccormick\n",
      "takeshi-yamamoto\n",
      "sean-donovan\n",
      "laura-boychenko\n",
      "onepiece-chopper\n",
      "prashant-agarwal\n",
      "tim-geisenheimer\n",
      "victor-nguyen-long\n",
      "taylor-newby\n",
      "dottie-guy\n"
     ]
    },
    {
     "data": {
      "text/plain": [
       "49691.29208803177"
      ]
     },
     "execution_count": 44,
     "metadata": {},
     "output_type": "execute_result"
    }
   ],
   "source": [
    "start = time.time()\n",
    "ValidGoodMeetupCV.ego_info(n_shown=10, verbose=True, filesave=True)\n",
    "time.time() - start"
   ]
  },
  {
   "cell_type": "code",
   "execution_count": 47,
   "metadata": {
    "ExecuteTime": {
     "end_time": "2020-05-07T14:56:33.578510Z",
     "start_time": "2020-05-07T14:56:33.548590Z"
    }
   },
   "outputs": [],
   "source": [
    "cross_info = ValidGoodMeetupCV.cross_info"
   ]
  },
  {
   "cell_type": "code",
   "execution_count": 85,
   "metadata": {
    "ExecuteTime": {
     "end_time": "2020-05-07T15:44:56.107459Z",
     "start_time": "2020-05-07T15:44:56.083498Z"
    }
   },
   "outputs": [],
   "source": [
    "cross_info['Pi_ego'] = cross_info['Pi_alters']/cross_info['Pi_alters_ratio']  "
   ]
  },
  {
   "cell_type": "markdown",
   "metadata": {},
   "source": [
    "## Main idea and conclusion"
   ]
  },
  {
   "cell_type": "markdown",
   "metadata": {},
   "source": [
    "In our previous experiments, we included alters one by one in the decreasing number of meetups. However, there always exists many alters with the same meetups and how to order them is a problem. Now I will investigate the order problem by achieving all the combinations."
   ]
  },
  {
   "cell_type": "markdown",
   "metadata": {},
   "source": [
    "Now we choose the egos with 10 meetupers, so for each ego, including 1 alters, there are $10 \\choose 1$ cases, including 2 alters there are $10 \\choose 2$ cases, $\\cdots$ and including 10 alters, there are $10 \\choose 10$ cases. I run all these experiments and check the full results."
   ]
  },
  {
   "cell_type": "markdown",
   "metadata": {},
   "source": [
    "* Conclusion 1: **including only 1 or 2 alters, how much predictability can be provided by alters depends on who you choose**. Choosing someone who is \"useful\" can provide much predictability while the \"useless\" can provide less predictability.\n",
    "* Conclusion 2: **including 4 meetupers, no matter who you include, these alters can provide approximately 60% predictability as ego**, **including 7 meetupers, no matter who you include, these alters can provide approximately 70% predictability as ego**"
   ]
  },
  {
   "cell_type": "markdown",
   "metadata": {},
   "source": [
    "## Visualisation"
   ]
  },
  {
   "cell_type": "markdown",
   "metadata": {},
   "source": [
    "**Let's see a specific user 'kenneth-auchenberg'**"
   ]
  },
  {
   "cell_type": "code",
   "execution_count": 264,
   "metadata": {
    "ExecuteTime": {
     "end_time": "2020-05-07T21:59:41.490300Z",
     "start_time": "2020-05-07T21:59:41.426957Z"
    }
   },
   "outputs": [],
   "source": [
    "import visualization as vs"
   ]
  },
  {
   "cell_type": "code",
   "execution_count": 276,
   "metadata": {
    "ExecuteTime": {
     "end_time": "2020-05-07T22:35:03.143390Z",
     "start_time": "2020-05-07T22:35:02.319274Z"
    },
    "scrolled": false
   },
   "outputs": [
    {
     "data": {
      "image/png": "[encoded data removed]",
      "text/plain": [
       "<Figure size 720x360 with 1 Axes>"
      ]
     },
     "metadata": {},
     "output_type": "display_data"
    }
   ],
   "source": [
    "vs.cv_plot(cross_info[cross_info['userid'] == 'kira'], plot_type='errorbar', mode='talk', l=10, w=5)"
   ]
  },
  {
   "cell_type": "code",
   "execution_count": 277,
   "metadata": {
    "ExecuteTime": {
     "end_time": "2020-05-07T22:35:13.469443Z",
     "start_time": "2020-05-07T22:35:13.393386Z"
    }
   },
   "outputs": [
    {
     "data": {
      "text/html": [
       "<div>\n",
       "<style scoped>\n",
       "    .dataframe tbody tr th:only-of-type {\n",
       "        vertical-align: middle;\n",
       "    }\n",
       "\n",
       "    .dataframe tbody tr th {\n",
       "        vertical-align: top;\n",
       "    }\n",
       "\n",
       "    .dataframe thead th {\n",
       "        text-align: right;\n",
       "    }\n",
       "</style>\n",
       "<table border=\"1\" class=\"dataframe\">\n",
       "  <thead>\n",
       "    <tr style=\"text-align: right;\">\n",
       "      <th></th>\n",
       "      <th>Included</th>\n",
       "      <th>alters_names</th>\n",
       "      <th>CCE_alters</th>\n",
       "      <th>CCE_ego_alters</th>\n",
       "      <th>Pi_alters</th>\n",
       "      <th>Pi_ego_alters</th>\n",
       "      <th>Pi_alters_ratio</th>\n",
       "      <th>Pi_ego_alters_ratio</th>\n",
       "      <th>userid</th>\n",
       "      <th>Pi_ego</th>\n",
       "    </tr>\n",
       "  </thead>\n",
       "  <tbody>\n",
       "    <tr>\n",
       "      <td>0</td>\n",
       "      <td>1</td>\n",
       "      <td>'lacey-mclear'</td>\n",
       "      <td>8.297367</td>\n",
       "      <td>4.955528</td>\n",
       "      <td>0.127600</td>\n",
       "      <td>0.553601</td>\n",
       "      <td>0.234837</td>\n",
       "      <td>1.018857</td>\n",
       "      <td>kira</td>\n",
       "      <td>0.543355</td>\n",
       "    </tr>\n",
       "    <tr>\n",
       "      <td>1</td>\n",
       "      <td>1</td>\n",
       "      <td>'johnny-hugel'</td>\n",
       "      <td>7.328853</td>\n",
       "      <td>4.851977</td>\n",
       "      <td>0.269289</td>\n",
       "      <td>0.564829</td>\n",
       "      <td>0.495604</td>\n",
       "      <td>1.039521</td>\n",
       "      <td>kira</td>\n",
       "      <td>0.543355</td>\n",
       "    </tr>\n",
       "    <tr>\n",
       "      <td>2</td>\n",
       "      <td>1</td>\n",
       "      <td>'ron-villacarillo'</td>\n",
       "      <td>7.672181</td>\n",
       "      <td>4.914536</td>\n",
       "      <td>0.221991</td>\n",
       "      <td>0.558056</td>\n",
       "      <td>0.408556</td>\n",
       "      <td>1.027055</td>\n",
       "      <td>kira</td>\n",
       "      <td>0.543355</td>\n",
       "    </tr>\n",
       "    <tr>\n",
       "      <td>3</td>\n",
       "      <td>1</td>\n",
       "      <td>'kwee'</td>\n",
       "      <td>7.124036</td>\n",
       "      <td>4.949297</td>\n",
       "      <td>0.296463</td>\n",
       "      <td>0.554279</td>\n",
       "      <td>0.545616</td>\n",
       "      <td>1.020105</td>\n",
       "      <td>kira</td>\n",
       "      <td>0.543355</td>\n",
       "    </tr>\n",
       "    <tr>\n",
       "      <td>4</td>\n",
       "      <td>1</td>\n",
       "      <td>'patrick-simkins'</td>\n",
       "      <td>7.776488</td>\n",
       "      <td>4.898973</td>\n",
       "      <td>0.207105</td>\n",
       "      <td>0.559743</td>\n",
       "      <td>0.381160</td>\n",
       "      <td>1.030161</td>\n",
       "      <td>kira</td>\n",
       "      <td>0.543355</td>\n",
       "    </tr>\n",
       "    <tr>\n",
       "      <td>5</td>\n",
       "      <td>1</td>\n",
       "      <td>'bryan-devasher'</td>\n",
       "      <td>7.925857</td>\n",
       "      <td>5.026308</td>\n",
       "      <td>0.185281</td>\n",
       "      <td>0.545881</td>\n",
       "      <td>0.340995</td>\n",
       "      <td>1.004648</td>\n",
       "      <td>kira</td>\n",
       "      <td>0.543355</td>\n",
       "    </tr>\n",
       "    <tr>\n",
       "      <td>6</td>\n",
       "      <td>1</td>\n",
       "      <td>'arthur-rainey-baynes'</td>\n",
       "      <td>8.554591</td>\n",
       "      <td>4.981856</td>\n",
       "      <td>0.083120</td>\n",
       "      <td>0.550734</td>\n",
       "      <td>0.152976</td>\n",
       "      <td>1.013580</td>\n",
       "      <td>kira</td>\n",
       "      <td>0.543355</td>\n",
       "    </tr>\n",
       "    <tr>\n",
       "      <td>7</td>\n",
       "      <td>1</td>\n",
       "      <td>'eva-schiave'</td>\n",
       "      <td>8.612435</td>\n",
       "      <td>4.975188</td>\n",
       "      <td>0.072224</td>\n",
       "      <td>0.551461</td>\n",
       "      <td>0.132922</td>\n",
       "      <td>1.014918</td>\n",
       "      <td>kira</td>\n",
       "      <td>0.543355</td>\n",
       "    </tr>\n",
       "    <tr>\n",
       "      <td>8</td>\n",
       "      <td>1</td>\n",
       "      <td>'mac'</td>\n",
       "      <td>8.761712</td>\n",
       "      <td>4.985478</td>\n",
       "      <td>0.041154</td>\n",
       "      <td>0.550339</td>\n",
       "      <td>0.075740</td>\n",
       "      <td>1.012853</td>\n",
       "      <td>kira</td>\n",
       "      <td>0.543355</td>\n",
       "    </tr>\n",
       "    <tr>\n",
       "      <td>9</td>\n",
       "      <td>1</td>\n",
       "      <td>'nicole-mcmullin'</td>\n",
       "      <td>7.663600</td>\n",
       "      <td>4.918495</td>\n",
       "      <td>0.223204</td>\n",
       "      <td>0.557626</td>\n",
       "      <td>0.410788</td>\n",
       "      <td>1.026264</td>\n",
       "      <td>kira</td>\n",
       "      <td>0.543355</td>\n",
       "    </tr>\n",
       "  </tbody>\n",
       "</table>\n",
       "</div>"
      ],
      "text/plain": [
       "   Included            alters_names  CCE_alters  CCE_ego_alters  Pi_alters  \\\n",
       "0         1          'lacey-mclear'    8.297367        4.955528   0.127600   \n",
       "1         1          'johnny-hugel'    7.328853        4.851977   0.269289   \n",
       "2         1      'ron-villacarillo'    7.672181        4.914536   0.221991   \n",
       "3         1                  'kwee'    7.124036        4.949297   0.296463   \n",
       "4         1       'patrick-simkins'    7.776488        4.898973   0.207105   \n",
       "5         1        'bryan-devasher'    7.925857        5.026308   0.185281   \n",
       "6         1  'arthur-rainey-baynes'    8.554591        4.981856   0.083120   \n",
       "7         1           'eva-schiave'    8.612435        4.975188   0.072224   \n",
       "8         1                   'mac'    8.761712        4.985478   0.041154   \n",
       "9         1       'nicole-mcmullin'    7.663600        4.918495   0.223204   \n",
       "\n",
       "   Pi_ego_alters  Pi_alters_ratio  Pi_ego_alters_ratio userid    Pi_ego  \n",
       "0       0.553601         0.234837             1.018857   kira  0.543355  \n",
       "1       0.564829         0.495604             1.039521   kira  0.543355  \n",
       "2       0.558056         0.408556             1.027055   kira  0.543355  \n",
       "3       0.554279         0.545616             1.020105   kira  0.543355  \n",
       "4       0.559743         0.381160             1.030161   kira  0.543355  \n",
       "5       0.545881         0.340995             1.004648   kira  0.543355  \n",
       "6       0.550734         0.152976             1.013580   kira  0.543355  \n",
       "7       0.551461         0.132922             1.014918   kira  0.543355  \n",
       "8       0.550339         0.075740             1.012853   kira  0.543355  \n",
       "9       0.557626         0.410788             1.026264   kira  0.543355  "
      ]
     },
     "execution_count": 277,
     "metadata": {},
     "output_type": "execute_result"
    }
   ],
   "source": [
    "cross_info[(cross_info['userid'] == 'kira') & (cross_info['Included'] ==1)]"
   ]
  },
  {
   "cell_type": "code",
   "execution_count": 278,
   "metadata": {
    "ExecuteTime": {
     "end_time": "2020-05-07T22:35:36.260609Z",
     "start_time": "2020-05-07T22:35:36.180828Z"
    }
   },
   "outputs": [
    {
     "data": {
      "text/html": [
       "<div>\n",
       "<style scoped>\n",
       "    .dataframe tbody tr th:only-of-type {\n",
       "        vertical-align: middle;\n",
       "    }\n",
       "\n",
       "    .dataframe tbody tr th {\n",
       "        vertical-align: top;\n",
       "    }\n",
       "\n",
       "    .dataframe thead th {\n",
       "        text-align: right;\n",
       "    }\n",
       "</style>\n",
       "<table border=\"1\" class=\"dataframe\">\n",
       "  <thead>\n",
       "    <tr style=\"text-align: right;\">\n",
       "      <th></th>\n",
       "      <th>userid</th>\n",
       "      <th>length</th>\n",
       "      <th>Uniq_length</th>\n",
       "    </tr>\n",
       "  </thead>\n",
       "  <tbody>\n",
       "    <tr>\n",
       "      <td>5618</td>\n",
       "      <td>kira</td>\n",
       "      <td>1683</td>\n",
       "      <td>472</td>\n",
       "    </tr>\n",
       "  </tbody>\n",
       "</table>\n",
       "</div>"
      ],
      "text/plain": [
       "     userid  length  Uniq_length\n",
       "5618   kira    1683          472"
      ]
     },
     "execution_count": 278,
     "metadata": {},
     "output_type": "execute_result"
    }
   ],
   "source": [
    "df_lenPlaceID[df_lenPlaceID['userid']=='kira']"
   ]
  },
  {
   "cell_type": "markdown",
   "metadata": {},
   "source": [
    "**Let's see all the users**"
   ]
  },
  {
   "cell_type": "code",
   "execution_count": 268,
   "metadata": {
    "ExecuteTime": {
     "end_time": "2020-05-07T22:02:36.840922Z",
     "start_time": "2020-05-07T22:02:35.470540Z"
    },
    "scrolled": false
   },
   "outputs": [
    {
     "data": {
      "image/png": "[encoded data removed]",
      "text/plain": [
       "<Figure size 720x360 with 1 Axes>"
      ]
     },
     "metadata": {},
     "output_type": "display_data"
    }
   ],
   "source": [
    "vs.cv_plot(cross_info, plot_type='errorbar', mode='talk', l=10, w=5)"
   ]
  },
  {
   "cell_type": "code",
   "execution_count": 115,
   "metadata": {
    "ExecuteTime": {
     "end_time": "2020-05-07T16:19:31.970794Z",
     "start_time": "2020-05-07T16:19:31.942986Z"
    }
   },
   "outputs": [],
   "source": [
    "# import operator\n",
    "# from functools import reduce\n",
    "# def c(n,k):\n",
    "#     return  reduce(operator.mul, range(n - k + 1, n + 1)) /reduce(operator.mul, range(1, k +1))"
   ]
  }
 ],
 "metadata": {
  "kernelspec": {
   "display_name": "Python 3",
   "language": "python",
   "name": "python3"
  },
  "language_info": {
   "codemirror_mode": {
    "name": "ipython",
    "version": 3
   },
   "file_extension": ".py",
   "mimetype": "text/x-python",
   "name": "python",
   "nbconvert_exporter": "python",
   "pygments_lexer": "ipython3",
   "version": "3.6.9"
  }
 },
 "nbformat": 4,
 "nbformat_minor": 2
}
