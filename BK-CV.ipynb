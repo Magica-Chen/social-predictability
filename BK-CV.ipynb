{
 "cells": [
  {
   "cell_type": "markdown",
   "metadata": {},
   "source": [
    "# Only focus on VIP network (Top 10 alters network)"
   ]
  },
  {
   "cell_type": "code",
   "execution_count": 1,
   "metadata": {
    "ExecuteTime": {
     "end_time": "2020-09-24T22:33:16.464993Z",
     "start_time": "2020-09-24T22:33:15.156219Z"
    }
   },
   "outputs": [],
   "source": [
    "import numpy as np\n",
    "import pandas as pd\n",
    "import meetup_strategy as ms\n",
    "import time \n",
    "import util\n",
    "import pickle\n",
    "%load_ext autoreload\n",
    "%autoreload 2"
   ]
  },
  {
   "cell_type": "code",
   "execution_count": 2,
   "metadata": {
    "ExecuteTime": {
     "end_time": "2020-09-24T22:33:35.312262Z",
     "start_time": "2020-09-24T22:33:35.269356Z"
    }
   },
   "outputs": [],
   "source": [
    "checkin_path = 'data/brightkite_checkins.csv'\n",
    "placeid_path = 'temp_data/bk-150/brightkite_placeidT_150.pickle'\n",
    "friendship_path = 'data/brightkite_friends.csv'\n",
    "VIP_network_path = 'final/bk-150/bk_VIP_MeetupNp.csv'"
   ]
  },
  {
   "cell_type": "code",
   "execution_count": 3,
   "metadata": {
    "ExecuteTime": {
     "end_time": "2020-09-24T22:33:38.053921Z",
     "start_time": "2020-09-24T22:33:37.966135Z"
    }
   },
   "outputs": [],
   "source": [
    "VIP_network = pd.read_csv(VIP_network_path)"
   ]
  },
  {
   "cell_type": "code",
   "execution_count": 4,
   "metadata": {
    "ExecuteTime": {
     "end_time": "2020-09-24T22:33:43.471055Z",
     "start_time": "2020-09-24T22:33:40.330098Z"
    }
   },
   "outputs": [],
   "source": [
    "# read picle file\n",
    "pickle_in = open(placeid_path, \"rb\")\n",
    "placeidT = pickle.load(pickle_in)\n",
    "pickle_in.close()"
   ]
  },
  {
   "cell_type": "code",
   "execution_count": 9,
   "metadata": {
    "ExecuteTime": {
     "end_time": "2020-09-24T22:37:02.997892Z",
     "start_time": "2020-09-24T22:37:02.951073Z"
    }
   },
   "outputs": [],
   "source": [
    "VIP_H_MFN = VIP_network[VIP_network['category'] == 'CB-1H-MFN'][['userid', 'userid_y']]"
   ]
  },
  {
   "cell_type": "markdown",
   "metadata": {},
   "source": [
    "## H-MFN"
   ]
  },
  {
   "cell_type": "code",
   "execution_count": 10,
   "metadata": {
    "ExecuteTime": {
     "end_time": "2020-09-24T22:37:05.856504Z",
     "start_time": "2020-09-24T22:37:05.808885Z"
    }
   },
   "outputs": [],
   "source": [
    "VIP_H_MFN.columns = ['userid_x', 'userid_y']\n",
    "VIP_H_MFN['userid_x'] = VIP_H_MFN['userid_x'].astype(int)\n",
    "VIP_H_MFN['userid_y'] = VIP_H_MFN['userid_y'].astype(int)"
   ]
  },
  {
   "cell_type": "code",
   "execution_count": 11,
   "metadata": {
    "ExecuteTime": {
     "end_time": "2020-09-24T22:37:11.917322Z",
     "start_time": "2020-09-24T22:37:11.870192Z"
    }
   },
   "outputs": [
    {
     "data": {
      "text/html": [
       "<div>\n",
       "<style scoped>\n",
       "    .dataframe tbody tr th:only-of-type {\n",
       "        vertical-align: middle;\n",
       "    }\n",
       "\n",
       "    .dataframe tbody tr th {\n",
       "        vertical-align: top;\n",
       "    }\n",
       "\n",
       "    .dataframe thead th {\n",
       "        text-align: right;\n",
       "    }\n",
       "</style>\n",
       "<table border=\"1\" class=\"dataframe\">\n",
       "  <thead>\n",
       "    <tr style=\"text-align: right;\">\n",
       "      <th></th>\n",
       "      <th>userid_x</th>\n",
       "      <th>userid_y</th>\n",
       "    </tr>\n",
       "  </thead>\n",
       "  <tbody>\n",
       "    <tr>\n",
       "      <th>0</th>\n",
       "      <td>0</td>\n",
       "      <td>2</td>\n",
       "    </tr>\n",
       "    <tr>\n",
       "      <th>1</th>\n",
       "      <td>0</td>\n",
       "      <td>30</td>\n",
       "    </tr>\n",
       "    <tr>\n",
       "      <th>2</th>\n",
       "      <td>0</td>\n",
       "      <td>35</td>\n",
       "    </tr>\n",
       "    <tr>\n",
       "      <th>3</th>\n",
       "      <td>0</td>\n",
       "      <td>29</td>\n",
       "    </tr>\n",
       "    <tr>\n",
       "      <th>4</th>\n",
       "      <td>0</td>\n",
       "      <td>40</td>\n",
       "    </tr>\n",
       "    <tr>\n",
       "      <th>...</th>\n",
       "      <td>...</td>\n",
       "      <td>...</td>\n",
       "    </tr>\n",
       "    <tr>\n",
       "      <th>655</th>\n",
       "      <td>10348</td>\n",
       "      <td>11918</td>\n",
       "    </tr>\n",
       "    <tr>\n",
       "      <th>656</th>\n",
       "      <td>10348</td>\n",
       "      <td>10375</td>\n",
       "    </tr>\n",
       "    <tr>\n",
       "      <th>657</th>\n",
       "      <td>10348</td>\n",
       "      <td>10458</td>\n",
       "    </tr>\n",
       "    <tr>\n",
       "      <th>658</th>\n",
       "      <td>10348</td>\n",
       "      <td>15815</td>\n",
       "    </tr>\n",
       "    <tr>\n",
       "      <th>659</th>\n",
       "      <td>10348</td>\n",
       "      <td>10435</td>\n",
       "    </tr>\n",
       "  </tbody>\n",
       "</table>\n",
       "<p>660 rows × 2 columns</p>\n",
       "</div>"
      ],
      "text/plain": [
       "     userid_x  userid_y\n",
       "0           0         2\n",
       "1           0        30\n",
       "2           0        35\n",
       "3           0        29\n",
       "4           0        40\n",
       "..        ...       ...\n",
       "655     10348     11918\n",
       "656     10348     10375\n",
       "657     10348     10458\n",
       "658     10348     15815\n",
       "659     10348     10435\n",
       "\n",
       "[660 rows x 2 columns]"
      ]
     },
     "execution_count": 11,
     "metadata": {},
     "output_type": "execute_result"
    }
   ],
   "source": [
    "VIP_H_MFN"
   ]
  },
  {
   "cell_type": "code",
   "execution_count": 12,
   "metadata": {
    "ExecuteTime": {
     "end_time": "2020-09-24T22:37:25.627345Z",
     "start_time": "2020-09-24T22:37:15.761128Z"
    }
   },
   "outputs": [],
   "source": [
    "ValidGoodMeetupCV = ms.MeetupCrossValid(checkin_path, mins_records=150, name='bk_H_cv_vip10',freq='H',\n",
    "                            n_previous=None, user_meetup=None, total_meetup=VIP_H_MFN, placeidT=placeidT)"
   ]
  },
  {
   "cell_type": "code",
   "execution_count": 13,
   "metadata": {
    "ExecuteTime": {
     "end_time": "2020-09-24T22:37:41.497113Z",
     "start_time": "2020-09-24T22:37:41.435730Z"
    }
   },
   "outputs": [
    {
     "data": {
      "text/plain": [
       "66"
      ]
     },
     "execution_count": 13,
     "metadata": {},
     "output_type": "execute_result"
    }
   ],
   "source": [
    "len(ValidGoodMeetupCV.egolist)"
   ]
  },
  {
   "cell_type": "code",
   "execution_count": 14,
   "metadata": {
    "ExecuteTime": {
     "end_time": "2020-09-25T18:19:26.776743Z",
     "start_time": "2020-09-24T22:37:47.614794Z"
    },
    "scrolled": true
   },
   "outputs": [
    {
     "name": "stdout",
     "output_type": "stream",
     "text": [
      "0\n",
      "2\n",
      "3\n",
      "7\n",
      "11\n",
      "12\n",
      "13\n",
      "17\n",
      "21\n",
      "23\n",
      "29\n",
      "30\n",
      "35\n",
      "36\n",
      "37\n",
      "41\n",
      "42\n",
      "45\n",
      "47\n",
      "49\n",
      "52\n",
      "67\n",
      "68\n",
      "69\n",
      "75\n",
      "115\n",
      "167\n",
      "189\n",
      "195\n",
      "214\n",
      "215\n",
      "295\n",
      "362\n",
      "364\n",
      "389\n",
      "652\n",
      "654\n",
      "659\n",
      "678\n",
      "703\n",
      "824\n",
      "836\n",
      "900\n",
      "959\n",
      "969\n",
      "1033\n",
      "1087\n",
      "1140\n",
      "1142\n",
      "1156\n",
      "1160\n",
      "1164\n",
      "1168\n",
      "1499\n",
      "1505\n",
      "1515\n",
      "1523\n",
      "1861\n",
      "1895\n",
      "1898\n",
      "2030\n",
      "2880\n",
      "4612\n",
      "6910\n",
      "7170\n",
      "10348\n"
     ]
    },
    {
     "data": {
      "text/html": [
       "<div>\n",
       "<style scoped>\n",
       "    .dataframe tbody tr th:only-of-type {\n",
       "        vertical-align: middle;\n",
       "    }\n",
       "\n",
       "    .dataframe tbody tr th {\n",
       "        vertical-align: top;\n",
       "    }\n",
       "\n",
       "    .dataframe thead th {\n",
       "        text-align: right;\n",
       "    }\n",
       "</style>\n",
       "<table border=\"1\" class=\"dataframe\">\n",
       "  <thead>\n",
       "    <tr style=\"text-align: right;\">\n",
       "      <th></th>\n",
       "      <th>Included</th>\n",
       "      <th>alters_names</th>\n",
       "      <th>CCE_alters</th>\n",
       "      <th>CCE_ego_alters</th>\n",
       "      <th>Pi_alters</th>\n",
       "      <th>Pi_ego_alters</th>\n",
       "      <th>Pi_alters_ratio</th>\n",
       "      <th>Pi_ego_alters_ratio</th>\n",
       "      <th>userid</th>\n",
       "    </tr>\n",
       "  </thead>\n",
       "  <tbody>\n",
       "    <tr>\n",
       "      <th>0</th>\n",
       "      <td>1</td>\n",
       "      <td>'2'</td>\n",
       "      <td>7.027791</td>\n",
       "      <td>4.956037</td>\n",
       "      <td>0.342498</td>\n",
       "      <td>0.572013</td>\n",
       "      <td>0.618957</td>\n",
       "      <td>1.033735</td>\n",
       "      <td>0</td>\n",
       "    </tr>\n",
       "    <tr>\n",
       "      <th>1</th>\n",
       "      <td>1</td>\n",
       "      <td>'30'</td>\n",
       "      <td>7.273598</td>\n",
       "      <td>4.932492</td>\n",
       "      <td>0.312669</td>\n",
       "      <td>0.574440</td>\n",
       "      <td>0.565051</td>\n",
       "      <td>1.038120</td>\n",
       "      <td>0</td>\n",
       "    </tr>\n",
       "    <tr>\n",
       "      <th>2</th>\n",
       "      <td>1</td>\n",
       "      <td>'35'</td>\n",
       "      <td>8.110979</td>\n",
       "      <td>5.037324</td>\n",
       "      <td>0.204618</td>\n",
       "      <td>0.563609</td>\n",
       "      <td>0.369783</td>\n",
       "      <td>1.018547</td>\n",
       "      <td>0</td>\n",
       "    </tr>\n",
       "    <tr>\n",
       "      <th>3</th>\n",
       "      <td>1</td>\n",
       "      <td>'29'</td>\n",
       "      <td>8.484623</td>\n",
       "      <td>5.083876</td>\n",
       "      <td>0.151754</td>\n",
       "      <td>0.558777</td>\n",
       "      <td>0.274247</td>\n",
       "      <td>1.009814</td>\n",
       "      <td>0</td>\n",
       "    </tr>\n",
       "    <tr>\n",
       "      <th>4</th>\n",
       "      <td>1</td>\n",
       "      <td>'40'</td>\n",
       "      <td>7.846641</td>\n",
       "      <td>5.061098</td>\n",
       "      <td>0.240003</td>\n",
       "      <td>0.561143</td>\n",
       "      <td>0.433730</td>\n",
       "      <td>1.014090</td>\n",
       "      <td>0</td>\n",
       "    </tr>\n",
       "    <tr>\n",
       "      <th>...</th>\n",
       "      <td>...</td>\n",
       "      <td>...</td>\n",
       "      <td>...</td>\n",
       "      <td>...</td>\n",
       "      <td>...</td>\n",
       "      <td>...</td>\n",
       "      <td>...</td>\n",
       "      <td>...</td>\n",
       "      <td>...</td>\n",
       "    </tr>\n",
       "    <tr>\n",
       "      <th>1018</th>\n",
       "      <td>9</td>\n",
       "      <td>'10430','10332','10371','2842','11918','10375'...</td>\n",
       "      <td>5.183241</td>\n",
       "      <td>3.981147</td>\n",
       "      <td>0.554213</td>\n",
       "      <td>0.673524</td>\n",
       "      <td>0.899286</td>\n",
       "      <td>1.092883</td>\n",
       "      <td>10348</td>\n",
       "    </tr>\n",
       "    <tr>\n",
       "      <th>1019</th>\n",
       "      <td>9</td>\n",
       "      <td>'10430','10332','10380','2842','11918','10375'...</td>\n",
       "      <td>5.235216</td>\n",
       "      <td>4.004108</td>\n",
       "      <td>0.548856</td>\n",
       "      <td>0.671324</td>\n",
       "      <td>0.890593</td>\n",
       "      <td>1.089314</td>\n",
       "      <td>10348</td>\n",
       "    </tr>\n",
       "    <tr>\n",
       "      <th>1020</th>\n",
       "      <td>9</td>\n",
       "      <td>'10430','10371','10380','2842','11918','10375'...</td>\n",
       "      <td>5.224296</td>\n",
       "      <td>4.001964</td>\n",
       "      <td>0.549983</td>\n",
       "      <td>0.671530</td>\n",
       "      <td>0.892421</td>\n",
       "      <td>1.089648</td>\n",
       "      <td>10348</td>\n",
       "    </tr>\n",
       "    <tr>\n",
       "      <th>1021</th>\n",
       "      <td>9</td>\n",
       "      <td>'10332','10371','10380','2842','11918','10375'...</td>\n",
       "      <td>5.411614</td>\n",
       "      <td>4.044249</td>\n",
       "      <td>0.530543</td>\n",
       "      <td>0.667472</td>\n",
       "      <td>0.860878</td>\n",
       "      <td>1.083064</td>\n",
       "      <td>10348</td>\n",
       "    </tr>\n",
       "    <tr>\n",
       "      <th>1022</th>\n",
       "      <td>10</td>\n",
       "      <td>'10430','10332','10371','10380','2842','11918'...</td>\n",
       "      <td>5.216361</td>\n",
       "      <td>3.982189</td>\n",
       "      <td>0.550801</td>\n",
       "      <td>0.673424</td>\n",
       "      <td>0.893749</td>\n",
       "      <td>1.092721</td>\n",
       "      <td>10348</td>\n",
       "    </tr>\n",
       "  </tbody>\n",
       "</table>\n",
       "<p>67518 rows × 9 columns</p>\n",
       "</div>"
      ],
      "text/plain": [
       "      Included                                       alters_names  CCE_alters  \\\n",
       "0            1                                                '2'    7.027791   \n",
       "1            1                                               '30'    7.273598   \n",
       "2            1                                               '35'    8.110979   \n",
       "3            1                                               '29'    8.484623   \n",
       "4            1                                               '40'    7.846641   \n",
       "...        ...                                                ...         ...   \n",
       "1018         9  '10430','10332','10371','2842','11918','10375'...    5.183241   \n",
       "1019         9  '10430','10332','10380','2842','11918','10375'...    5.235216   \n",
       "1020         9  '10430','10371','10380','2842','11918','10375'...    5.224296   \n",
       "1021         9  '10332','10371','10380','2842','11918','10375'...    5.411614   \n",
       "1022        10  '10430','10332','10371','10380','2842','11918'...    5.216361   \n",
       "\n",
       "      CCE_ego_alters  Pi_alters  Pi_ego_alters  Pi_alters_ratio  \\\n",
       "0           4.956037   0.342498       0.572013         0.618957   \n",
       "1           4.932492   0.312669       0.574440         0.565051   \n",
       "2           5.037324   0.204618       0.563609         0.369783   \n",
       "3           5.083876   0.151754       0.558777         0.274247   \n",
       "4           5.061098   0.240003       0.561143         0.433730   \n",
       "...              ...        ...            ...              ...   \n",
       "1018        3.981147   0.554213       0.673524         0.899286   \n",
       "1019        4.004108   0.548856       0.671324         0.890593   \n",
       "1020        4.001964   0.549983       0.671530         0.892421   \n",
       "1021        4.044249   0.530543       0.667472         0.860878   \n",
       "1022        3.982189   0.550801       0.673424         0.893749   \n",
       "\n",
       "      Pi_ego_alters_ratio  userid  \n",
       "0                1.033735       0  \n",
       "1                1.038120       0  \n",
       "2                1.018547       0  \n",
       "3                1.009814       0  \n",
       "4                1.014090       0  \n",
       "...                   ...     ...  \n",
       "1018             1.092883   10348  \n",
       "1019             1.089314   10348  \n",
       "1020             1.089648   10348  \n",
       "1021             1.083064   10348  \n",
       "1022             1.092721   10348  \n",
       "\n",
       "[67518 rows x 9 columns]"
      ]
     },
     "execution_count": 14,
     "metadata": {},
     "output_type": "execute_result"
    }
   ],
   "source": [
    "ValidGoodMeetupCV.ego_info(n_shown=False, verbose=True, filesave=True)"
   ]
  },
  {
   "cell_type": "markdown",
   "metadata": {},
   "source": [
    "## TFN"
   ]
  },
  {
   "cell_type": "code",
   "execution_count": 15,
   "metadata": {
    "ExecuteTime": {
     "end_time": "2020-09-25T20:09:45.334865Z",
     "start_time": "2020-09-25T20:09:45.280856Z"
    }
   },
   "outputs": [],
   "source": [
    "VIP_TFN = VIP_network[VIP_network['category'] == 'TFN'][['userid', 'userid_y']]"
   ]
  },
  {
   "cell_type": "code",
   "execution_count": 16,
   "metadata": {
    "ExecuteTime": {
     "end_time": "2020-09-25T20:09:47.757440Z",
     "start_time": "2020-09-25T20:09:47.715002Z"
    }
   },
   "outputs": [],
   "source": [
    "VIP_TFN.columns = ['userid_x', 'userid_y']\n",
    "VIP_TFN['userid_x'] = VIP_TFN['userid_x'].astype(int)\n",
    "VIP_TFN['userid_y'] = VIP_TFN['userid_y'].astype(int)"
   ]
  },
  {
   "cell_type": "code",
   "execution_count": 17,
   "metadata": {
    "ExecuteTime": {
     "end_time": "2020-09-25T20:10:06.624733Z",
     "start_time": "2020-09-25T20:09:56.036304Z"
    }
   },
   "outputs": [],
   "source": [
    "TFN_vip_meetup = ms.MeetupCrossValid(checkin_path, mins_records=150, name='bk_TFN_cv_vip10',freq='H',\n",
    "                            n_previous=None, user_meetup=None, total_meetup=VIP_TFN, placeidT=placeidT)"
   ]
  },
  {
   "cell_type": "code",
   "execution_count": 18,
   "metadata": {
    "ExecuteTime": {
     "end_time": "2020-09-25T20:10:10.064888Z",
     "start_time": "2020-09-25T20:10:10.028475Z"
    }
   },
   "outputs": [
    {
     "data": {
      "text/plain": [
       "66"
      ]
     },
     "execution_count": 18,
     "metadata": {},
     "output_type": "execute_result"
    }
   ],
   "source": [
    "len(TFN_vip_meetup.egolist)"
   ]
  },
  {
   "cell_type": "code",
   "execution_count": 19,
   "metadata": {
    "ExecuteTime": {
     "end_time": "2020-09-26T14:42:48.391875Z",
     "start_time": "2020-09-25T20:10:12.572505Z"
    },
    "scrolled": true
   },
   "outputs": [
    {
     "name": "stdout",
     "output_type": "stream",
     "text": [
      "0\n",
      "2\n",
      "3\n",
      "7\n",
      "11\n",
      "12\n",
      "13\n",
      "17\n",
      "21\n",
      "23\n",
      "29\n",
      "30\n",
      "35\n",
      "36\n",
      "37\n",
      "41\n",
      "42\n",
      "45\n",
      "47\n",
      "49\n",
      "52\n",
      "67\n",
      "68\n",
      "69\n",
      "75\n",
      "115\n",
      "167\n",
      "189\n",
      "195\n",
      "214\n",
      "215\n",
      "295\n",
      "362\n",
      "364\n",
      "389\n",
      "652\n",
      "654\n",
      "659\n",
      "678\n",
      "703\n",
      "824\n",
      "836\n",
      "900\n",
      "959\n",
      "969\n",
      "1033\n",
      "1087\n",
      "1140\n",
      "1142\n",
      "1156\n",
      "1160\n",
      "1164\n",
      "1168\n",
      "1499\n",
      "1505\n",
      "1515\n",
      "1523\n",
      "1861\n",
      "1895\n",
      "1898\n",
      "2030\n",
      "2880\n",
      "4612\n",
      "6910\n",
      "7170\n",
      "10348\n"
     ]
    },
    {
     "data": {
      "text/html": [
       "<div>\n",
       "<style scoped>\n",
       "    .dataframe tbody tr th:only-of-type {\n",
       "        vertical-align: middle;\n",
       "    }\n",
       "\n",
       "    .dataframe tbody tr th {\n",
       "        vertical-align: top;\n",
       "    }\n",
       "\n",
       "    .dataframe thead th {\n",
       "        text-align: right;\n",
       "    }\n",
       "</style>\n",
       "<table border=\"1\" class=\"dataframe\">\n",
       "  <thead>\n",
       "    <tr style=\"text-align: right;\">\n",
       "      <th></th>\n",
       "      <th>Included</th>\n",
       "      <th>alters_names</th>\n",
       "      <th>CCE_alters</th>\n",
       "      <th>CCE_ego_alters</th>\n",
       "      <th>Pi_alters</th>\n",
       "      <th>Pi_ego_alters</th>\n",
       "      <th>Pi_alters_ratio</th>\n",
       "      <th>Pi_ego_alters_ratio</th>\n",
       "      <th>userid</th>\n",
       "    </tr>\n",
       "  </thead>\n",
       "  <tbody>\n",
       "    <tr>\n",
       "      <th>0</th>\n",
       "      <td>1</td>\n",
       "      <td>'2'</td>\n",
       "      <td>7.027791</td>\n",
       "      <td>4.956037</td>\n",
       "      <td>0.342498</td>\n",
       "      <td>0.572013</td>\n",
       "      <td>0.618957</td>\n",
       "      <td>1.033735</td>\n",
       "      <td>0</td>\n",
       "    </tr>\n",
       "    <tr>\n",
       "      <th>1</th>\n",
       "      <td>1</td>\n",
       "      <td>'30'</td>\n",
       "      <td>7.273598</td>\n",
       "      <td>4.932492</td>\n",
       "      <td>0.312669</td>\n",
       "      <td>0.574440</td>\n",
       "      <td>0.565051</td>\n",
       "      <td>1.038120</td>\n",
       "      <td>0</td>\n",
       "    </tr>\n",
       "    <tr>\n",
       "      <th>2</th>\n",
       "      <td>1</td>\n",
       "      <td>'35'</td>\n",
       "      <td>8.110979</td>\n",
       "      <td>5.037324</td>\n",
       "      <td>0.204618</td>\n",
       "      <td>0.563609</td>\n",
       "      <td>0.369783</td>\n",
       "      <td>1.018547</td>\n",
       "      <td>0</td>\n",
       "    </tr>\n",
       "    <tr>\n",
       "      <th>3</th>\n",
       "      <td>1</td>\n",
       "      <td>'29'</td>\n",
       "      <td>8.484623</td>\n",
       "      <td>5.083876</td>\n",
       "      <td>0.151754</td>\n",
       "      <td>0.558777</td>\n",
       "      <td>0.274247</td>\n",
       "      <td>1.009814</td>\n",
       "      <td>0</td>\n",
       "    </tr>\n",
       "    <tr>\n",
       "      <th>4</th>\n",
       "      <td>1</td>\n",
       "      <td>'40'</td>\n",
       "      <td>7.846641</td>\n",
       "      <td>5.061098</td>\n",
       "      <td>0.240003</td>\n",
       "      <td>0.561143</td>\n",
       "      <td>0.433730</td>\n",
       "      <td>1.014090</td>\n",
       "      <td>0</td>\n",
       "    </tr>\n",
       "    <tr>\n",
       "      <th>...</th>\n",
       "      <td>...</td>\n",
       "      <td>...</td>\n",
       "      <td>...</td>\n",
       "      <td>...</td>\n",
       "      <td>...</td>\n",
       "      <td>...</td>\n",
       "      <td>...</td>\n",
       "      <td>...</td>\n",
       "      <td>...</td>\n",
       "    </tr>\n",
       "    <tr>\n",
       "      <th>1018</th>\n",
       "      <td>9</td>\n",
       "      <td>'10375','10344','2819','1446','2850','10690','...</td>\n",
       "      <td>6.401174</td>\n",
       "      <td>4.257195</td>\n",
       "      <td>0.423802</td>\n",
       "      <td>0.646882</td>\n",
       "      <td>0.687677</td>\n",
       "      <td>1.049653</td>\n",
       "      <td>10348</td>\n",
       "    </tr>\n",
       "    <tr>\n",
       "      <th>1019</th>\n",
       "      <td>9</td>\n",
       "      <td>'10375','10344','10612','1446','2850','10690',...</td>\n",
       "      <td>6.567387</td>\n",
       "      <td>4.313675</td>\n",
       "      <td>0.405136</td>\n",
       "      <td>0.641377</td>\n",
       "      <td>0.657388</td>\n",
       "      <td>1.040720</td>\n",
       "      <td>10348</td>\n",
       "    </tr>\n",
       "    <tr>\n",
       "      <th>1020</th>\n",
       "      <td>9</td>\n",
       "      <td>'10375','2819','10612','1446','2850','10690','...</td>\n",
       "      <td>7.000431</td>\n",
       "      <td>4.346465</td>\n",
       "      <td>0.355347</td>\n",
       "      <td>0.638172</td>\n",
       "      <td>0.576599</td>\n",
       "      <td>1.035520</td>\n",
       "      <td>10348</td>\n",
       "    </tr>\n",
       "    <tr>\n",
       "      <th>1021</th>\n",
       "      <td>9</td>\n",
       "      <td>'10344','2819','10612','1446','2850','10690','...</td>\n",
       "      <td>6.591645</td>\n",
       "      <td>4.321541</td>\n",
       "      <td>0.402392</td>\n",
       "      <td>0.640608</td>\n",
       "      <td>0.652936</td>\n",
       "      <td>1.039474</td>\n",
       "      <td>10348</td>\n",
       "    </tr>\n",
       "    <tr>\n",
       "      <th>1022</th>\n",
       "      <td>10</td>\n",
       "      <td>'10375','10344','2819','10612','1446','2850','...</td>\n",
       "      <td>6.535052</td>\n",
       "      <td>4.292543</td>\n",
       "      <td>0.408786</td>\n",
       "      <td>0.643439</td>\n",
       "      <td>0.663310</td>\n",
       "      <td>1.044066</td>\n",
       "      <td>10348</td>\n",
       "    </tr>\n",
       "  </tbody>\n",
       "</table>\n",
       "<p>67518 rows × 9 columns</p>\n",
       "</div>"
      ],
      "text/plain": [
       "      Included                                       alters_names  CCE_alters  \\\n",
       "0            1                                                '2'    7.027791   \n",
       "1            1                                               '30'    7.273598   \n",
       "2            1                                               '35'    8.110979   \n",
       "3            1                                               '29'    8.484623   \n",
       "4            1                                               '40'    7.846641   \n",
       "...        ...                                                ...         ...   \n",
       "1018         9  '10375','10344','2819','1446','2850','10690','...    6.401174   \n",
       "1019         9  '10375','10344','10612','1446','2850','10690',...    6.567387   \n",
       "1020         9  '10375','2819','10612','1446','2850','10690','...    7.000431   \n",
       "1021         9  '10344','2819','10612','1446','2850','10690','...    6.591645   \n",
       "1022        10  '10375','10344','2819','10612','1446','2850','...    6.535052   \n",
       "\n",
       "      CCE_ego_alters  Pi_alters  Pi_ego_alters  Pi_alters_ratio  \\\n",
       "0           4.956037   0.342498       0.572013         0.618957   \n",
       "1           4.932492   0.312669       0.574440         0.565051   \n",
       "2           5.037324   0.204618       0.563609         0.369783   \n",
       "3           5.083876   0.151754       0.558777         0.274247   \n",
       "4           5.061098   0.240003       0.561143         0.433730   \n",
       "...              ...        ...            ...              ...   \n",
       "1018        4.257195   0.423802       0.646882         0.687677   \n",
       "1019        4.313675   0.405136       0.641377         0.657388   \n",
       "1020        4.346465   0.355347       0.638172         0.576599   \n",
       "1021        4.321541   0.402392       0.640608         0.652936   \n",
       "1022        4.292543   0.408786       0.643439         0.663310   \n",
       "\n",
       "      Pi_ego_alters_ratio  userid  \n",
       "0                1.033735       0  \n",
       "1                1.038120       0  \n",
       "2                1.018547       0  \n",
       "3                1.009814       0  \n",
       "4                1.014090       0  \n",
       "...                   ...     ...  \n",
       "1018             1.049653   10348  \n",
       "1019             1.040720   10348  \n",
       "1020             1.035520   10348  \n",
       "1021             1.039474   10348  \n",
       "1022             1.044066   10348  \n",
       "\n",
       "[67518 rows x 9 columns]"
      ]
     },
     "execution_count": 19,
     "metadata": {},
     "output_type": "execute_result"
    }
   ],
   "source": [
    "TFN_vip_meetup.ego_info(n_shown=False, verbose=True, filesave=True)"
   ]
  },
  {
   "cell_type": "markdown",
   "metadata": {},
   "source": [
    "# Compare and visualisation"
   ]
  },
  {
   "cell_type": "code",
   "execution_count": 20,
   "metadata": {
    "ExecuteTime": {
     "end_time": "2020-09-26T21:20:21.209333Z",
     "start_time": "2020-09-26T21:20:21.131783Z"
    }
   },
   "outputs": [],
   "source": [
    "TFN_vip = TFN_vip_meetup.cross_info.copy()\n",
    "H_MFN_vip = ValidGoodMeetupCV.cross_info.copy()"
   ]
  },
  {
   "cell_type": "code",
   "execution_count": 21,
   "metadata": {
    "ExecuteTime": {
     "end_time": "2020-09-26T21:20:23.557407Z",
     "start_time": "2020-09-26T21:20:23.510731Z"
    }
   },
   "outputs": [],
   "source": [
    "TFN_vip['category'] = 'TFN'\n",
    "H_MFN_vip['category'] = 'CB-1H-MFN'"
   ]
  },
  {
   "cell_type": "code",
   "execution_count": 22,
   "metadata": {
    "ExecuteTime": {
     "end_time": "2020-09-26T21:20:25.613215Z",
     "start_time": "2020-09-26T21:20:25.569035Z"
    }
   },
   "outputs": [],
   "source": [
    "import visualization as vs"
   ]
  },
  {
   "cell_type": "code",
   "execution_count": 23,
   "metadata": {
    "ExecuteTime": {
     "end_time": "2020-09-26T21:20:27.939279Z",
     "start_time": "2020-09-26T21:20:27.864210Z"
    }
   },
   "outputs": [],
   "source": [
    "vip_meetup = pd.concat([H_MFN_vip, TFN_vip])"
   ]
  },
  {
   "cell_type": "code",
   "execution_count": 25,
   "metadata": {
    "ExecuteTime": {
     "end_time": "2020-09-26T21:22:09.347014Z",
     "start_time": "2020-09-26T21:22:07.270946Z"
    }
   },
   "outputs": [],
   "source": [
    "# vip_meetup.to_csv('final/bk-150-cv/bk_join_vip10_CV_MeetupNp.csv', index=False)"
   ]
  },
  {
   "cell_type": "code",
   "execution_count": 24,
   "metadata": {
    "ExecuteTime": {
     "end_time": "2020-09-26T21:20:35.266652Z",
     "start_time": "2020-09-26T21:20:33.560336Z"
    }
   },
   "outputs": [
    {
     "data": {
      "image/png": "[encoded data removed]",
      "text/plain": [
       "<Figure size 720x360 with 1 Axes>"
      ]
     },
     "metadata": {},
     "output_type": "display_data"
    }
   ],
   "source": [
    "vs.cv_compare_plot(vip_meetup, threshold=10, mode='talk', l=10, w=5)"
   ]
  },
  {
   "cell_type": "code",
   "execution_count": null,
   "metadata": {},
   "outputs": [],
   "source": []
  }
 ],
 "metadata": {
  "kernelspec": {
   "display_name": "Python 3",
   "language": "python",
   "name": "python3"
  },
  "language_info": {
   "codemirror_mode": {
    "name": "ipython",
    "version": 3
   },
   "file_extension": ".py",
   "mimetype": "text/x-python",
   "name": "python",
   "nbconvert_exporter": "python",
   "pygments_lexer": "ipython3",
   "version": "3.6.10"
  }
 },
 "nbformat": 4,
 "nbformat_minor": 4
}
