{
 "cells": [
  {
   "cell_type": "markdown",
   "metadata": {},
   "source": [
    "# Meetup Strategy -- Social information from aritifical friendship"
   ]
  },
  {
   "cell_type": "code",
   "execution_count": 1,
   "metadata": {
    "pycharm": {
     "is_executing": false
    }
   },
   "outputs": [],
   "source": [
    "from meetup_process import MeetupStrategy\n",
    "import feather as ft\n",
    "import numpy as np\n",
    "import matplotlib.pyplot as plt\n",
    "from math import log, e\n",
    "import time\n",
    "import pickle\n",
    "import pandas as pd\n",
    "%load_ext autoreload\n",
    "%autoreload 2"
   ]
  },
  {
   "cell_type": "code",
   "execution_count": 3,
   "metadata": {
    "pycharm": {
     "is_executing": false,
     "name": "#%%\n"
    }
   },
   "outputs": [],
   "source": [
    "df_wp = ft.read_dataframe('data/weeplace_checkins_without_loc_NA.feather') # it is the dataset without NA location\n",
    "# df_wp = ft.read_dataframe('social-predictability/data/weeplace_checkins_without_loc_NA.feather') # it is the dataset without NA location\n",
    "# # it will be the same if you use the original csv file.\n",
    "# df_wp= pd.read_csv('data/weeplace_checkins.csv')  # this is original Weeplace dataset without any processing, including some NA location\n",
    "# df_wp = df_wp.dropna(subset=[\"placeid\",'userid', 'datetime'])\n",
    "\n",
    "user_list = sorted(list(set(df_wp['userid'].tolist())))\n",
    "\n",
    "# import meetup_store\n",
    "pickle_in = open(\"meetup_store.pickle\", \"rb\")\n",
    "# pickle_in = open(\"social-predictability/meetup_store.pickle\", \"rb\")\n",
    "meetup_store = pickle.load(pickle_in)\n",
    "pickle_in.close()\n",
    "\n",
    "# concat as a dataframe\n",
    "user_meetup=pd.concat(meetup_store)\n",
    "user_meetup=user_meetup.rename(columns = {'count':'meetup'})\n",
    "\n",
    "## import users' temporal placeid \n",
    "# pickle_in = open(\"social-predictability/user_placeidT.pickle\", \"rb\")\n",
    "pickle_in = open(\"user_placeidT.pickle\", \"rb\")\n",
    "user_placeidT = pickle.load(pickle_in)\n",
    "pickle_in.close()"
   ]
  },
  {
   "cell_type": "code",
   "execution_count": null,
   "metadata": {
    "pycharm": {
     "is_executing": false,
     "name": "#%%\n"
    }
   },
   "outputs": [],
   "source": [
    "import time\n",
    "start = time.time()\n",
    "we_meet = MeetupStrategy(user_list, user_meetup, user_placeidT)\n",
    "we_meet.ego_alter_info(filesave=True, verbose=True)\n",
    "# we_meet.ego_info(filesave=True)\n",
    "print(time.time() - start)"
   ]
  },
  {
   "cell_type": "code",
   "execution_count": null,
   "metadata": {},
   "outputs": [],
   "source": [
    "start = time.time()\n",
    "we_meet.ego_info(filesave=True)\n",
    "print(time.time() - start)"
   ]
  },
  {
   "cell_type": "code",
   "execution_count": 9,
   "metadata": {},
   "outputs": [
    {
     "data": {
      "text/plain": [
       "'damien-basile'"
      ]
     },
     "execution_count": 9,
     "metadata": {},
     "output_type": "execute_result"
    }
   ],
   "source": [
    "user_meetup.groupby('userid_x').count()['userid_y'].idxmax()"
   ]
  },
  {
   "cell_type": "code",
   "execution_count": null,
   "metadata": {
    "scrolled": false
   },
   "outputs": [],
   "source": [
    "user_meetup[user_meetup['userid_x'] == 'damien-basile']"
   ]
  },
  {
   "cell_type": "code",
   "execution_count": 26,
   "metadata": {},
   "outputs": [
    {
     "data": {
      "text/plain": [
       "3331"
      ]
     },
     "execution_count": 26,
     "metadata": {},
     "output_type": "execute_result"
    }
   ],
   "source": [
    "user_list.index('damien-basile')"
   ]
  },
  {
   "cell_type": "code",
   "execution_count": null,
   "metadata": {},
   "outputs": [],
   "source": []
  }
 ],
 "metadata": {
  "kernelspec": {
   "display_name": "Python 3",
   "language": "python",
   "name": "python3"
  },
  "language_info": {
   "codemirror_mode": {
    "name": "ipython",
    "version": 3
   },
   "file_extension": ".py",
   "mimetype": "text/x-python",
   "name": "python",
   "nbconvert_exporter": "python",
   "pygments_lexer": "ipython3",
   "version": "3.7.3"
  },
  "pycharm": {
   "stem_cell": {
    "cell_type": "raw",
    "metadata": {
     "collapsed": false
    },
    "source": []
   }
  }
 },
 "nbformat": 4,
 "nbformat_minor": 2
}
