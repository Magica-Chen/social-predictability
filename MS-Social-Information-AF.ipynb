{
 "cells": [
  {
   "cell_type": "markdown",
   "metadata": {},
   "source": [
    "# Meetup Strategy -- Social information from aritifical friendship"
   ]
  },
  {
   "cell_type": "code",
   "execution_count": 1,
   "metadata": {
    "pycharm": {
     "is_executing": false
    }
   },
   "outputs": [],
   "source": [
    "from meetup_process import MeetupStrategy\n",
    "import feather as ft\n",
    "import numpy as np\n",
    "import matplotlib.pyplot as plt\n",
    "from math import log, e\n",
    "import time\n",
    "import pickle\n",
    "import pandas as pd\n",
    "%load_ext autoreload\n",
    "%autoreload 2"
   ]
  },
  {
   "cell_type": "code",
   "execution_count": 3,
   "metadata": {
    "pycharm": {
     "is_executing": false,
     "name": "#%%\n"
    }
   },
   "outputs": [],
   "source": [
    "df_wp = ft.read_dataframe('data/weeplace_checkins_without_loc_NA.feather') # it is the dataset without NA location\n",
    "# df_wp = ft.read_dataframe('social-predictability/data/weeplace_checkins_without_loc_NA.feather') # it is the dataset without NA location\n",
    "# # it will be the same if you use the original csv file.\n",
    "# df_wp= pd.read_csv('data/weeplace_checkins.csv')  # this is original Weeplace dataset without any processing, including some NA location\n",
    "# df_wp = df_wp.dropna(subset=[\"placeid\",'userid', 'datetime'])\n",
    "\n",
    "user_list = sorted(list(set(df_wp['userid'].tolist())))\n",
    "\n",
    "# import meetup_store\n",
    "pickle_in = open(\"results/meetup_store.pickle\", \"rb\")\n",
    "# pickle_in = open(\"social-predictability/meetup_store.pickle\", \"rb\")\n",
    "meetup_store = pickle.load(pickle_in)\n",
    "pickle_in.close()\n",
    "\n",
    "# concat as a dataframe\n",
    "user_meetup=pd.concat(meetup_store)\n",
    "user_meetup=user_meetup.rename(columns = {'count':'meetup'})\n",
    "\n",
    "## import users' temporal placeid \n",
    "# pickle_in = open(\"social-predictability/user_placeidT.pickle\", \"rb\")\n",
    "pickle_in = open(\"results/user_placeidT.pickle\", \"rb\")\n",
    "user_placeidT = pickle.load(pickle_in)\n",
    "pickle_in.close()"
   ]
  },
  {
   "cell_type": "code",
   "execution_count": null,
   "metadata": {
    "pycharm": {
     "is_executing": false,
     "name": "#%%\n"
    },
    "scrolled": true
   },
   "outputs": [],
   "source": [
    "import time\n",
    "start = time.time()\n",
    "we_meet = MeetupStrategy(user_list, user_meetup, user_placeidT)\n",
    "we_meet.ego_alter_info(filesave=True, verbose=True)\n",
    "# we_meet.ego_info(filesave=True)\n",
    "print(time.time() - start)"
   ]
  },
  {
   "cell_type": "code",
   "execution_count": 188,
   "metadata": {},
   "outputs": [
    {
     "name": "stdout",
     "output_type": "stream",
     "text": [
      "758.1568303108215\n"
     ]
    }
   ],
   "source": [
    "start = time.time()\n",
    "we_meet.ego_info(filesave=True)\n",
    "print(time.time() - start)"
   ]
  },
  {
   "cell_type": "code",
   "execution_count": 210,
   "metadata": {
    "scrolled": true
   },
   "outputs": [
    {
     "data": {
      "text/html": [
       "<div>\n",
       "<style scoped>\n",
       "    .dataframe tbody tr th:only-of-type {\n",
       "        vertical-align: middle;\n",
       "    }\n",
       "\n",
       "    .dataframe tbody tr th {\n",
       "        vertical-align: top;\n",
       "    }\n",
       "\n",
       "    .dataframe thead th {\n",
       "        text-align: right;\n",
       "    }\n",
       "</style>\n",
       "<table border=\"1\" class=\"dataframe\">\n",
       "  <thead>\n",
       "    <tr style=\"text-align: right;\">\n",
       "      <th></th>\n",
       "      <th>userid_x</th>\n",
       "      <th>ego_info</th>\n",
       "      <th>LZ_entropy</th>\n",
       "      <th>Pi</th>\n",
       "      <th>CCE_alters</th>\n",
       "      <th>CCE_ego_alters</th>\n",
       "      <th>Pi_alters</th>\n",
       "      <th>Pi_ego_alters</th>\n",
       "    </tr>\n",
       "  </thead>\n",
       "  <tbody>\n",
       "    <tr>\n",
       "      <th>0</th>\n",
       "      <td>00-a</td>\n",
       "      <td>82</td>\n",
       "      <td>3.965021</td>\n",
       "      <td>0.643260</td>\n",
       "      <td>3.234649</td>\n",
       "      <td>3.125603</td>\n",
       "      <td>0.719506</td>\n",
       "      <td>0.730545</td>\n",
       "    </tr>\n",
       "    <tr>\n",
       "      <th>1</th>\n",
       "      <td>0046aki</td>\n",
       "      <td>21</td>\n",
       "      <td>2.578115</td>\n",
       "      <td>0.747027</td>\n",
       "      <td>2.757923</td>\n",
       "      <td>2.637897</td>\n",
       "      <td>0.725743</td>\n",
       "      <td>0.739995</td>\n",
       "    </tr>\n",
       "    <tr>\n",
       "      <th>2</th>\n",
       "      <td>01</td>\n",
       "      <td>206</td>\n",
       "      <td>4.857715</td>\n",
       "      <td>0.569149</td>\n",
       "      <td>7.270307</td>\n",
       "      <td>4.650058</td>\n",
       "      <td>0.287184</td>\n",
       "      <td>0.591118</td>\n",
       "    </tr>\n",
       "    <tr>\n",
       "      <th>3</th>\n",
       "      <td>0403</td>\n",
       "      <td>121</td>\n",
       "      <td>4.958797</td>\n",
       "      <td>0.485355</td>\n",
       "      <td>4.549136</td>\n",
       "      <td>4.379496</td>\n",
       "      <td>0.538137</td>\n",
       "      <td>0.559406</td>\n",
       "    </tr>\n",
       "    <tr>\n",
       "      <th>4</th>\n",
       "      <td>062</td>\n",
       "      <td>23</td>\n",
       "      <td>2.261324</td>\n",
       "      <td>0.797819</td>\n",
       "      <td>6.432533</td>\n",
       "      <td>2.655800</td>\n",
       "      <td>0.262074</td>\n",
       "      <td>0.755825</td>\n",
       "    </tr>\n",
       "  </tbody>\n",
       "</table>\n",
       "</div>"
      ],
      "text/plain": [
       "  userid_x  ego_info  LZ_entropy        Pi  CCE_alters  CCE_ego_alters  \\\n",
       "0     00-a        82    3.965021  0.643260    3.234649        3.125603   \n",
       "1  0046aki        21    2.578115  0.747027    2.757923        2.637897   \n",
       "2       01       206    4.857715  0.569149    7.270307        4.650058   \n",
       "3     0403       121    4.958797  0.485355    4.549136        4.379496   \n",
       "4      062        23    2.261324  0.797819    6.432533        2.655800   \n",
       "\n",
       "   Pi_alters  Pi_ego_alters  \n",
       "0   0.719506       0.730545  \n",
       "1   0.725743       0.739995  \n",
       "2   0.287184       0.591118  \n",
       "3   0.538137       0.559406  \n",
       "4   0.262074       0.755825  "
      ]
     },
     "execution_count": 210,
     "metadata": {},
     "output_type": "execute_result"
    }
   ],
   "source": [
    "we_meet.ego_stats.head(5)"
   ]
  },
  {
   "cell_type": "code",
   "execution_count": 211,
   "metadata": {},
   "outputs": [
    {
     "data": {
      "text/html": [
       "<div>\n",
       "<style scoped>\n",
       "    .dataframe tbody tr th:only-of-type {\n",
       "        vertical-align: middle;\n",
       "    }\n",
       "\n",
       "    .dataframe tbody tr th {\n",
       "        vertical-align: top;\n",
       "    }\n",
       "\n",
       "    .dataframe thead th {\n",
       "        text-align: right;\n",
       "    }\n",
       "</style>\n",
       "<table border=\"1\" class=\"dataframe\">\n",
       "  <thead>\n",
       "    <tr style=\"text-align: right;\">\n",
       "      <th></th>\n",
       "      <th>userid_x</th>\n",
       "      <th>userid_y</th>\n",
       "      <th>meetup</th>\n",
       "      <th>percent</th>\n",
       "      <th>Included Rank</th>\n",
       "      <th>Weight</th>\n",
       "      <th>alter_info</th>\n",
       "      <th>CE_alter</th>\n",
       "      <th>CCE_alters</th>\n",
       "      <th>CCE_ego_alter</th>\n",
       "      <th>CCE_ego_alters</th>\n",
       "      <th>Pi_alter</th>\n",
       "      <th>Pi_alters</th>\n",
       "      <th>Pi_ego_alter</th>\n",
       "      <th>Pi_ego_alters</th>\n",
       "    </tr>\n",
       "  </thead>\n",
       "  <tbody>\n",
       "    <tr>\n",
       "      <th>0</th>\n",
       "      <td>00-a</td>\n",
       "      <td>26</td>\n",
       "      <td>8</td>\n",
       "      <td>0.048485</td>\n",
       "      <td>1</td>\n",
       "      <td>183.0</td>\n",
       "      <td>8.184875</td>\n",
       "      <td>6.959787</td>\n",
       "      <td>6.959787</td>\n",
       "      <td>4.662468</td>\n",
       "      <td>4.662468</td>\n",
       "      <td>0.280155</td>\n",
       "      <td>0.280155</td>\n",
       "      <td>0.566581</td>\n",
       "      <td>0.566581</td>\n",
       "    </tr>\n",
       "    <tr>\n",
       "      <th>1</th>\n",
       "      <td>00-a</td>\n",
       "      <td>manabu-tanaka</td>\n",
       "      <td>8</td>\n",
       "      <td>0.048485</td>\n",
       "      <td>2</td>\n",
       "      <td>130.0</td>\n",
       "      <td>5.857981</td>\n",
       "      <td>5.837483</td>\n",
       "      <td>5.850411</td>\n",
       "      <td>3.911011</td>\n",
       "      <td>4.485083</td>\n",
       "      <td>0.427745</td>\n",
       "      <td>0.426140</td>\n",
       "      <td>0.649037</td>\n",
       "      <td>0.586456</td>\n",
       "    </tr>\n",
       "    <tr>\n",
       "      <th>2</th>\n",
       "      <td>00-a</td>\n",
       "      <td>masa-kawamukai</td>\n",
       "      <td>8</td>\n",
       "      <td>0.048485</td>\n",
       "      <td>3</td>\n",
       "      <td>152.0</td>\n",
       "      <td>6.392317</td>\n",
       "      <td>6.006177</td>\n",
       "      <td>5.534295</td>\n",
       "      <td>3.978796</td>\n",
       "      <td>4.360330</td>\n",
       "      <td>0.406651</td>\n",
       "      <td>0.464861</td>\n",
       "      <td>0.641783</td>\n",
       "      <td>0.600279</td>\n",
       "    </tr>\n",
       "    <tr>\n",
       "      <th>3</th>\n",
       "      <td>00-a</td>\n",
       "      <td>826</td>\n",
       "      <td>4</td>\n",
       "      <td>0.024242</td>\n",
       "      <td>4</td>\n",
       "      <td>148.0</td>\n",
       "      <td>7.118941</td>\n",
       "      <td>6.407873</td>\n",
       "      <td>4.993938</td>\n",
       "      <td>4.125004</td>\n",
       "      <td>4.238589</td>\n",
       "      <td>0.355005</td>\n",
       "      <td>0.528724</td>\n",
       "      <td>0.626014</td>\n",
       "      <td>0.613648</td>\n",
       "    </tr>\n",
       "    <tr>\n",
       "      <th>4</th>\n",
       "      <td>00-a</td>\n",
       "      <td>hironao</td>\n",
       "      <td>4</td>\n",
       "      <td>0.024242</td>\n",
       "      <td>5</td>\n",
       "      <td>136.0</td>\n",
       "      <td>5.554589</td>\n",
       "      <td>5.439902</td>\n",
       "      <td>4.796333</td>\n",
       "      <td>3.759524</td>\n",
       "      <td>4.122365</td>\n",
       "      <td>0.476221</td>\n",
       "      <td>0.551407</td>\n",
       "      <td>0.665122</td>\n",
       "      <td>0.626300</td>\n",
       "    </tr>\n",
       "  </tbody>\n",
       "</table>\n",
       "</div>"
      ],
      "text/plain": [
       "  userid_x        userid_y  meetup   percent Included Rank  Weight  \\\n",
       "0     00-a              26       8  0.048485             1   183.0   \n",
       "1     00-a   manabu-tanaka       8  0.048485             2   130.0   \n",
       "2     00-a  masa-kawamukai       8  0.048485             3   152.0   \n",
       "3     00-a             826       4  0.024242             4   148.0   \n",
       "4     00-a         hironao       4  0.024242             5   136.0   \n",
       "\n",
       "   alter_info  CE_alter  CCE_alters  CCE_ego_alter  CCE_ego_alters  Pi_alter  \\\n",
       "0    8.184875  6.959787    6.959787       4.662468        4.662468  0.280155   \n",
       "1    5.857981  5.837483    5.850411       3.911011        4.485083  0.427745   \n",
       "2    6.392317  6.006177    5.534295       3.978796        4.360330  0.406651   \n",
       "3    7.118941  6.407873    4.993938       4.125004        4.238589  0.355005   \n",
       "4    5.554589  5.439902    4.796333       3.759524        4.122365  0.476221   \n",
       "\n",
       "   Pi_alters  Pi_ego_alter  Pi_ego_alters  \n",
       "0   0.280155      0.566581       0.566581  \n",
       "1   0.426140      0.649037       0.586456  \n",
       "2   0.464861      0.641783       0.600279  \n",
       "3   0.528724      0.626014       0.613648  \n",
       "4   0.551407      0.665122       0.626300  "
      ]
     },
     "execution_count": 211,
     "metadata": {},
     "output_type": "execute_result"
    }
   ],
   "source": [
    "we_meet.user_stats.head(5)"
   ]
  },
  {
   "cell_type": "code",
   "execution_count": 192,
   "metadata": {},
   "outputs": [
    {
     "data": {
      "text/html": [
       "<div>\n",
       "<style scoped>\n",
       "    .dataframe tbody tr th:only-of-type {\n",
       "        vertical-align: middle;\n",
       "    }\n",
       "\n",
       "    .dataframe tbody tr th {\n",
       "        vertical-align: top;\n",
       "    }\n",
       "\n",
       "    .dataframe thead th {\n",
       "        text-align: right;\n",
       "    }\n",
       "</style>\n",
       "<table border=\"1\" class=\"dataframe\">\n",
       "  <thead>\n",
       "    <tr style=\"text-align: right;\">\n",
       "      <th></th>\n",
       "      <th>userid_x</th>\n",
       "      <th>ego_info</th>\n",
       "      <th>LZ_entropy</th>\n",
       "      <th>Pi</th>\n",
       "      <th>CCE_alters</th>\n",
       "      <th>CCE_ego_alters</th>\n",
       "      <th>Pi_alters</th>\n",
       "      <th>Pi_ego_alters</th>\n",
       "    </tr>\n",
       "  </thead>\n",
       "  <tbody>\n",
       "    <tr>\n",
       "      <th>0</th>\n",
       "      <td>00-a</td>\n",
       "      <td>82</td>\n",
       "      <td>3.965021</td>\n",
       "      <td>0.643260</td>\n",
       "      <td>3.234649</td>\n",
       "      <td>3.125603</td>\n",
       "      <td>0.719506</td>\n",
       "      <td>0.730545</td>\n",
       "    </tr>\n",
       "    <tr>\n",
       "      <th>1</th>\n",
       "      <td>0046aki</td>\n",
       "      <td>21</td>\n",
       "      <td>2.578115</td>\n",
       "      <td>0.747027</td>\n",
       "      <td>2.757923</td>\n",
       "      <td>2.637897</td>\n",
       "      <td>0.725743</td>\n",
       "      <td>0.739995</td>\n",
       "    </tr>\n",
       "    <tr>\n",
       "      <th>2</th>\n",
       "      <td>01</td>\n",
       "      <td>206</td>\n",
       "      <td>4.857715</td>\n",
       "      <td>0.569149</td>\n",
       "      <td>7.270307</td>\n",
       "      <td>4.650058</td>\n",
       "      <td>0.287184</td>\n",
       "      <td>0.591118</td>\n",
       "    </tr>\n",
       "    <tr>\n",
       "      <th>3</th>\n",
       "      <td>0403</td>\n",
       "      <td>121</td>\n",
       "      <td>4.958797</td>\n",
       "      <td>0.485355</td>\n",
       "      <td>4.549136</td>\n",
       "      <td>4.379496</td>\n",
       "      <td>0.538137</td>\n",
       "      <td>0.559406</td>\n",
       "    </tr>\n",
       "    <tr>\n",
       "      <th>4</th>\n",
       "      <td>062</td>\n",
       "      <td>23</td>\n",
       "      <td>2.261324</td>\n",
       "      <td>0.797819</td>\n",
       "      <td>6.432533</td>\n",
       "      <td>2.655800</td>\n",
       "      <td>0.262074</td>\n",
       "      <td>0.755825</td>\n",
       "    </tr>\n",
       "  </tbody>\n",
       "</table>\n",
       "</div>"
      ],
      "text/plain": [
       "  userid_x  ego_info  LZ_entropy        Pi  CCE_alters  CCE_ego_alters  \\\n",
       "0     00-a        82    3.965021  0.643260    3.234649        3.125603   \n",
       "1  0046aki        21    2.578115  0.747027    2.757923        2.637897   \n",
       "2       01       206    4.857715  0.569149    7.270307        4.650058   \n",
       "3     0403       121    4.958797  0.485355    4.549136        4.379496   \n",
       "4      062        23    2.261324  0.797819    6.432533        2.655800   \n",
       "\n",
       "   Pi_alters  Pi_ego_alters  \n",
       "0   0.719506       0.730545  \n",
       "1   0.725743       0.739995  \n",
       "2   0.287184       0.591118  \n",
       "3   0.538137       0.559406  \n",
       "4   0.262074       0.755825  "
      ]
     },
     "execution_count": 192,
     "metadata": {},
     "output_type": "execute_result"
    }
   ],
   "source": [
    "we_meet.ego_stats.head(5)"
   ]
  },
  {
   "cell_type": "markdown",
   "metadata": {},
   "source": [
    "## Temporal and Social Control"
   ]
  },
  {
   "cell_type": "code",
   "execution_count": null,
   "metadata": {
    "scrolled": false
   },
   "outputs": [],
   "source": [
    "start = time.time()\n",
    "# we_meet.ego_alter_info(filesave=True, verbose=True)\n",
    "we_meet.ego_alter_info(filesave=True, verbose=True, social_shuffle=True)\n",
    "# we_meet.ego_alter_info(filesave=True, verbose=True, temp_shuffle=True)\n",
    "print(time.time() - start)"
   ]
  },
  {
   "cell_type": "markdown",
   "metadata": {},
   "source": [
    "Time: 7733"
   ]
  },
  {
   "cell_type": "code",
   "execution_count": null,
   "metadata": {
    "scrolled": false
   },
   "outputs": [],
   "source": [
    "start = time.time()\n",
    "# we_meet.ego_alter_info(filesave=True, verbose=True)\n",
    "# we_meet.ego_alter_info(filesave=True, verbose=True, social_shuffle=True)\n",
    "we_meet.ego_alter_info(filesave=True, verbose=True, temp_shuffle=True)\n",
    "print(time.time() - start)"
   ]
  },
  {
   "cell_type": "markdown",
   "metadata": {},
   "source": [
    "TIme :  103689.49200940132"
   ]
  },
  {
   "cell_type": "code",
   "execution_count": 435,
   "metadata": {},
   "outputs": [
    {
     "name": "stdout",
     "output_type": "stream",
     "text": [
      "1775.9402523040771\n"
     ]
    }
   ],
   "source": [
    "start = time.time()\n",
    "we_meet.ego_info(filesave=True)\n",
    "print(time.time() - start)"
   ]
  },
  {
   "cell_type": "code",
   "execution_count": 436,
   "metadata": {},
   "outputs": [
    {
     "name": "stdout",
     "output_type": "stream",
     "text": [
      "32.805713176727295\n"
     ]
    }
   ],
   "source": [
    "start = time.time()\n",
    "we_meet.merge_stats(filesave=True)\n",
    "print(time.time() - start)"
   ]
  },
  {
   "cell_type": "code",
   "execution_count": null,
   "metadata": {
    "scrolled": false
   },
   "outputs": [],
   "source": []
  },
  {
   "cell_type": "code",
   "execution_count": 452,
   "metadata": {},
   "outputs": [
    {
     "data": {
      "text/plain": [
       "1069"
      ]
     },
     "execution_count": 452,
     "metadata": {},
     "output_type": "execute_result"
    }
   ],
   "source": [
    "len(set(we_meet.user_stats['Included Rank'].tolist()))"
   ]
  },
  {
   "cell_type": "code",
   "execution_count": 453,
   "metadata": {},
   "outputs": [
    {
     "data": {
      "text/plain": [
       "1069"
      ]
     },
     "execution_count": 453,
     "metadata": {},
     "output_type": "execute_result"
    }
   ],
   "source": [
    "len(set(we_meet.user_stats_all['Included Rank'].tolist()))"
   ]
  },
  {
   "cell_type": "code",
   "execution_count": null,
   "metadata": {},
   "outputs": [],
   "source": []
  }
 ],
 "metadata": {
  "kernelspec": {
   "display_name": "Python 3",
   "language": "python",
   "name": "python3"
  },
  "language_info": {
   "codemirror_mode": {
    "name": "ipython",
    "version": 3
   },
   "file_extension": ".py",
   "mimetype": "text/x-python",
   "name": "python",
   "nbconvert_exporter": "python",
   "pygments_lexer": "ipython3",
   "version": "3.7.3"
  },
  "pycharm": {
   "stem_cell": {
    "cell_type": "raw",
    "metadata": {
     "collapsed": false
    },
    "source": []
   }
  }
 },
 "nbformat": 4,
 "nbformat_minor": 2
}
