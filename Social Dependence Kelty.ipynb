{
 "cells": [
  {
   "cell_type": "code",
   "execution_count": 16,
   "metadata": {},
   "outputs": [],
   "source": [
    "import numpy as np\n",
    "import pandas as pd\n",
    "import matplotlib.pyplot as plt\n",
    "import matplotlib.colors as colors\n",
    "import timeit\n",
    "import math\n",
    "from mpmath import *\n",
    "from datetime import datetime, timedelta\n",
    "#import xarray"
   ]
  },
  {
   "cell_type": "code",
   "execution_count": 2,
   "metadata": {},
   "outputs": [],
   "source": [
    "#wf = pd.read_csv(\"../Data_Sets/weeplaces/weeplaces/weeplace_checkins_scrubbed_Reordered_DistinctLocs.csv\")\n",
    "wf = pd.read_csv(\"../Data_Sets/weeplaces/weeplaces/weeplace_checkins_scrubbed_Reordered_DistinctLocs_QPiRog2.csv\")"
   ]
  },
  {
   "cell_type": "code",
   "execution_count": 3,
   "metadata": {},
   "outputs": [],
   "source": [
    "wf = wf.drop(columns = ['Unnamed: 0','Year','Week','Delta_t','Delta_r','Counts'])\n",
    "wf['datetime'] = pd.to_datetime(wf['datetime'])"
   ]
  },
  {
   "cell_type": "code",
   "execution_count": 4,
   "metadata": {},
   "outputs": [],
   "source": [
    "usrs = [wf.groupby('userid').count().index.to_list()]"
   ]
  },
  {
   "cell_type": "code",
   "execution_count": 141,
   "metadata": {},
   "outputs": [],
   "source": [
    "'''Simulates Lempel Ziv algorithm to find an estimate for the true entropy of \n",
    "a time-ordered user's trajectory\n",
    "\n",
    "Lamba_i : The length of the shortest substring starting at position i which doesn’t previously\n",
    "appear from position 1 to i−1. \n",
    "uniquelocs: The id of each unique location.\n",
    "locdict: The substrings of visitation patterns that haven't been seen. \n",
    "Each index in locdict represents the beginning of a trajectory starting at \n",
    "a unique location. The order of the index is the order in which new starting locations are found\n",
    "lendict: An array of lengths of substrings in locdict\n",
    "visited: The continuous string of visited locations'''\n",
    "\n",
    "\n",
    "''' Function takes two users, finds their dictionaries of subtrajectories\n",
    "Returns the proportion of subtrajectories of the ego that are also contained in the dictionary of the alter'''\n",
    "def LZ_compare(egoID,alterID):\n",
    "    dictego = Lempel_Ziv_dict(egoID)\n",
    "    dictalter = Lempel_Ziv_dict(alterID)\n",
    "    return len([w for w in dictalter if w in dictego])/len(dictego)\n",
    "\n",
    "\n",
    "'''Returns the dictionary of subtrajectories of a user'''\n",
    "def Lempel_Ziv_dict(egoID):\n",
    "    locs = wf[(wf['userid']==usrs[0][egoID]) & wf['placeid'].notna()]['placeid'].to_list()\n",
    "    Lambda_i = 0\n",
    "    visited = ''\n",
    "    dictLZ = []\n",
    "    i = 0\n",
    "    while i < len(locs):\n",
    "        j = 0\n",
    "        if visited == '':\n",
    "            Lambda_i += 1\n",
    "            visited = visited + locs[i]\n",
    "            dictLZ.append(locs[i])\n",
    "            substr = locs[1]\n",
    "            i+=1\n",
    "        else:\n",
    "            while i < len(locs):\n",
    "                if (i+j) == (len(locs) - 1):\n",
    "                    substr = substr + locs[i+j]\n",
    "                    dictLZ.append(substr)\n",
    "                    #visited = visited + locs[i]\n",
    "                    Lambda_i += j+1\n",
    "                    i += 1\n",
    "                    break\n",
    "                if (substr in dictLZ):\n",
    "                    j += 1\n",
    "                    substr = substr + locs[i+j]\n",
    "                else:\n",
    "                    Lambda_i += j+1\n",
    "                    #visited = visited + substr\n",
    "                    dictLZ.append(substr)\n",
    "                    i += 1\n",
    "                    substr = locs[i]\n",
    "                    j = 0\n",
    "                    break\n",
    "#    print(visited)\n",
    "    return dictLZ\n",
    "'''\n",
    "def Lempel_Ziv(locs):\n",
    "    Lambda_i = 0\n",
    "    visited = ''\n",
    "    i = 0\n",
    "    while i < len(locs):\n",
    "        substr = ''\n",
    "        j = 0\n",
    "        if visited == '':\n",
    "            Lambda_i += 1\n",
    "            visited = visited + locs[i]\n",
    "            i+=1\n",
    "        else:\n",
    "            while i < len(locs):\n",
    "                substr = substr + locs[i+j]\n",
    "                if (i+j) == (len(locs) - 1):\n",
    "                    visited = visited + locs[i]\n",
    "                    Lambda_i += j+1\n",
    "                    i += 1\n",
    "                    break\n",
    "                if (substr in visited):\n",
    "                    j += 1\n",
    "                else:\n",
    "                    Lambda_i += j+1\n",
    "                    visited = visited + locs[i]\n",
    "                    i += 1\n",
    "                    break\n",
    "    return len(locs)*np.log2(len(locs))/Lambda_i\n",
    "'''\n",
    "\n",
    "'''Uncorrelated (Shannon) entropy'''\n",
    "def UncEntropy(LocCounts):\n",
    "    LocCounts = np.array(LocCounts/np.sum(LocCounts))\n",
    "    terms = LocCounts*np.log2(LocCounts)\n",
    "    return -1*np.sum(terms)\n",
    "       \n",
    "'''Entropy of a completely random process'''\n",
    "def RandEntropy(numlocs):\n",
    "    return np.log2(numlocs)\n",
    "\n",
    "'''Fano Inequality'''\n",
    "def Fano(Pi_max, N, S):\n",
    "    return np.log2(N-1)-S+Pi_max*np.log2((1/Pi_max - 1)*(1/(N-1))) - np.log2(1-Pi_max)\n",
    "            "
   ]
  },
  {
   "cell_type": "code",
   "execution_count": 309,
   "metadata": {
    "scrolled": true
   },
   "outputs": [],
   "source": [
    "''' Finds the top alters of a given ego\n",
    "Top alters are decided by the proportion of number of locations shared between the ego and alter to \n",
    "the number of total locations the ego has visited. This is used as a proxy for friendship'''\n",
    "def TopAlters(egoID):\n",
    "    #Yields top alters of a given ego based on the number of mutual locations the two have visited.\n",
    "    ego = wf[(wf['userid']==usrs[0][egoID]) & wf['placeid'].notna()].groupby('placeid').count().index.to_list()\n",
    "    lenego = len(ego)\n",
    "    indices = np.arange(0,len(usrs[0]),1)\n",
    "    alters = []\n",
    "    for usr in usrs[0]:\n",
    "        if usr == usrs[0][egoID]:\n",
    "            alters.append(0)\n",
    "        else:\n",
    "            locs = wf[(wf['userid']==usr) & wf['placeid'].notna()].groupby('placeid').count().index.to_list()\n",
    "            alters.append(len([w for w in locs if w in ego])/lenego)\n",
    "    return [x for _,x in sorted(zip(alters,indices),reverse=True)][:15]\n",
    "\n",
    "''' Function to get the proportion of number of locations shared between the ego and alter to \n",
    "the number of total locations the ego has visited.'''\n",
    "def mutualLocs(egoID,alterid):\n",
    "    ego = wf[(wf['userid']==usrs[0][egoID]) & wf['placeid'].notna()].groupby('placeid').count().index.to_list()\n",
    "    locs = wf[(wf['userid']==usrs[0][alterid]) & wf['placeid'].notna()].groupby('placeid').count().index.to_list()\n",
    "    return (len([w for w in locs if w in ego])/lenego)\n",
    "\n",
    "'''Probability of a user visiting a location based on the frequency of visitation over the course of their trajectory'''\n",
    "def Px(egoID):\n",
    "    lst = wf[(wf['userid']==usrs[0][egoID]) & wf['placeid'].notna()].groupby('placeid')['userid'].count().to_list()\n",
    "    return np.array(lst)/sum(lst)\n",
    "\n",
    "'''Rounds a datetime to the nearest hour'''\n",
    "def hr_rnd(t):\n",
    "    # Rounds to nearest hour by adding a timedelta hour if minute >= 30\n",
    "    return (t.replace(second=0, microsecond=0, minute=0, hour=t.hour)+timedelta(hours=t.minute//30))\n",
    "\n",
    "'''Rounds an array of datetimes to the nearest hour'''\n",
    "def hour_rounder(times):\n",
    "    # Rounds to nearest hour by adding a timedelta hour if minute >= 30\n",
    "    i = 0\n",
    "    for t in times:\n",
    "        times[i] = hr_rnd(t)\n",
    "        i+=1\n",
    "    return times\n",
    "\n",
    "'''Probability of alter y interacting with the ego at arbitray locations'''\n",
    "def Py(alters,egoID):\n",
    "    t_x = hour_rounder(wf[(wf['userid']==usrs[0][egoID]) & wf['placeid'].notna()]['datetime'].to_list())\n",
    "    loc_x = wf[(wf['userid']==usrs[0][egoID]) & wf['placeid'].notna()]['placeid'].to_list()\n",
    "#    uniquelocs = wf[(wf['userid']==usrs[0][egoID]) & wf['placeid'].notna()].groupby('placeid').count().index.to_list()\n",
    "    totcounts = 0\n",
    "    locprobs = [0]\n",
    "    for j in range(len(alters)):\n",
    "        loc_y = wf[(wf['userid']==usrs[0][alters[j]]) & wf['placeid'].notna()]['placeid'].to_list()\n",
    "        t_y = hour_rounder(wf[(wf['userid']==usrs[0][alters[j]]) & wf['placeid'].notna()]['datetime'].to_list())\n",
    "        prev = 0\n",
    "        for i in range(len(t_x)):\n",
    "            if t_x[i] in t_y[prev:]:\n",
    "                prev = t_y.index(t_x[i])\n",
    "                if (loc_x[i] == loc_y[prev]): # or (t_x[i] + timedelta(hours=1) == t_y[prev]) or (t_x[i] - timedelta(hours=1) == t_y[prev]):\n",
    "                    locprobs[j]+=1\n",
    "                    totcounts+=1\n",
    "        locprobs.append(0)\n",
    "    del locprobs[-1]\n",
    "    return np.array(locprobs)/totcounts\n",
    "\n",
    "'''Probability of alter y interacting with the ego at location x'''          \n",
    "def Pxy(alters,egoID):\n",
    "    t_x = hour_rounder(wf[(wf['userid']==usrs[0][egoID]) & wf['placeid'].notna()]['datetime'].to_list())\n",
    "    loc_x = wf[(wf['userid']==usrs[0][egoID]) & wf['placeid'].notna()]['placeid'].to_list()\n",
    "    uniquelocs = wf[(wf['userid']==usrs[0][0]) & wf['placeid'].notna()].groupby('placeid').count().index.to_list()\n",
    "    totcounts = 0\n",
    "    locprobs = [[0]*len(uniquelocs)]\n",
    "    for j in range(len(alters)):\n",
    "        loc_y = wf[(wf['userid']==usrs[0][alters[j]]) & wf['placeid'].notna()]['placeid'].to_list()\n",
    "        t_y = hour_rounder(wf[(wf['userid']==usrs[0][alters[j]]) & wf['placeid'].notna()]['datetime'].to_list())\n",
    "        prev = 0\n",
    "        for i in range(len(t_x)):\n",
    "            if t_x[i] in t_y[prev:]:\n",
    "                prev = t_y.index(t_x[i])\n",
    "                if loc_x[i] == loc_y[prev]:\n",
    "                    locprobs[j][uniquelocs.index(loc_x[i])]+=1\n",
    "                    totcounts+=1\n",
    "        locprobs.append([0]*len(uniquelocs))\n",
    "    del locprobs[-1]\n",
    "    print(totcounts)\n",
    "    return np.array(locprobs)/totcounts\n",
    "\n",
    "'''Gets Marginal Probability of location probabilities for the ego'''\n",
    "def PxMarg(probxy):\n",
    "    return np.nansum(probxy, axis = 0)\n",
    "\n",
    "'''Gets Marginal Probability of interactions with alter y'''\n",
    "def PyMarg(probxy):\n",
    "    return np.nansum(probxy, axis = 1)\n",
    "\n",
    "'''Gets Mutual Information based on Marginal Probabilities of P(x,y)'''\n",
    "def MutualInfMarg(alters,egoID):\n",
    "    probxy = Pxy(alters,egoID)\n",
    "    probx = PxMarg(probxy)\n",
    "    proby = PyMarg(probxy)\n",
    "    IXY = np.multiply(probxy,np.log2(probxy/np.outer(proby,probx)))\n",
    "    #return IXY\n",
    "    return np.nansum(IXY)\n",
    "\n",
    "'''Norm of Mutual Information based on Marginalization'''\n",
    "def normMutInfMarg(alters,egoID):\n",
    "    probxy = Pxy(alters,ego)\n",
    "    return MutualInf(alters,egoID)/np.sqrt(Shannon(PxMarg(probxy))*Shannon(PyMarg(probxy)))\n",
    "\n",
    "'''Shannon Entropy'''\n",
    "def Shannon(probs):\n",
    "    #return np.multiply(probs,np.log2(probs))\n",
    "    return (-1)*np.nansum(np.multiply(probs,np.log2(probs)))\n",
    "\n",
    "    \n",
    "def MutualInf(alters,egoID):\n",
    "    probxy = Pxy(alters,egoID)\n",
    "    probx = Px(egoID)\n",
    "    proby = Py(alters,egoID)\n",
    "    IXY = np.multiply(probxy,np.log2(probxy/np.outer(proby,probx)))\n",
    "    #return IXY\n",
    "    return np.nansum(IXY)\n",
    "\n",
    "def normMutInf(alters,egoID):\n",
    "    return MutualInfMarg(alters,egoID)/np.sqrt(Shannon(Px(egoID))*Shannon(Py(alters,egoID)))"
   ]
  },
  {
   "cell_type": "code",
   "execution_count": 158,
   "metadata": {
    "scrolled": false
   },
   "outputs": [
    {
     "name": "stdout",
     "output_type": "stream",
     "text": [
      "Time:  49738.3883777\n"
     ]
    }
   ],
   "source": [
    "start = timeit.default_timer()\n",
    "\n",
    "TopAltersUsr0 = TopAlters(0)\n",
    "\n",
    "stop = timeit.default_timer()\n",
    "print(\"Time: \", stop-start)"
   ]
  },
  {
   "cell_type": "code",
   "execution_count": 314,
   "metadata": {},
   "outputs": [
    {
     "data": {
      "text/plain": [
       "[3608,\n",
       " 5407,\n",
       " 1524,\n",
       " 956,\n",
       " 9593,\n",
       " 8,\n",
       " 10419,\n",
       " 9252,\n",
       " 9578,\n",
       " 9168,\n",
       " 7448,\n",
       " 8147,\n",
       " 5399,\n",
       " 9594,\n",
       " 3865]"
      ]
     },
     "execution_count": 314,
     "metadata": {},
     "output_type": "execute_result"
    }
   ],
   "source": [
    "TopAltersUsr0 = [3608, 5407,\n",
    " 1524,\n",
    " 956,\n",
    " 9593,\n",
    " 8,\n",
    " 10419,\n",
    " 9252,\n",
    " 9578,\n",
    " 9168,\n",
    " 7448,\n",
    " 8147,\n",
    " 5399,\n",
    " 9594,\n",
    " 3865]"
   ]
  },
  {
   "cell_type": "code",
   "execution_count": 307,
   "metadata": {
    "scrolled": true
   },
   "outputs": [
    {
     "name": "stderr",
     "output_type": "stream",
     "text": [
      "C:\\Users\\Sean\\Anaconda3\\lib\\site-packages\\ipykernel_launcher.py:96: RuntimeWarning: invalid value encountered in true_divide\n",
      "C:\\Users\\Sean\\Anaconda3\\lib\\site-packages\\ipykernel_launcher.py:117: RuntimeWarning: invalid value encountered in double_scalars\n",
      "C:\\Users\\Sean\\Anaconda3\\lib\\site-packages\\ipykernel_launcher.py:114: RuntimeWarning: divide by zero encountered in log2\n",
      "C:\\Users\\Sean\\Anaconda3\\lib\\site-packages\\ipykernel_launcher.py:114: RuntimeWarning: invalid value encountered in multiply\n",
      "C:\\Users\\Sean\\Anaconda3\\lib\\site-packages\\ipykernel_launcher.py:96: RuntimeWarning: divide by zero encountered in log2\n",
      "C:\\Users\\Sean\\Anaconda3\\lib\\site-packages\\ipykernel_launcher.py:96: RuntimeWarning: invalid value encountered in multiply\n"
     ]
    }
   ],
   "source": [
    "MutInf = []\n",
    "for i in range(len(TopAltersUsr0))[1:]:\n",
    "    MutInf.append(normMutInf(TopAltersUsr0[:i],0))"
   ]
  },
  {
   "cell_type": "code",
   "execution_count": 308,
   "metadata": {},
   "outputs": [
    {
     "data": {
      "text/plain": [
       "[nan,\n",
       " nan,\n",
       " 0.4169456254927237,\n",
       " 0.4169456254927237,\n",
       " 0.4169456254927237,\n",
       " 0.34244291043430497,\n",
       " 0.45838420289661996,\n",
       " 0.4583842028966199,\n",
       " 0.4528737311867059,\n",
       " 0.4528737311867059,\n",
       " 0.4528737311867059,\n",
       " 0.39629810099822477,\n",
       " 0.35923100856238366,\n",
       " 0.35923100856238366]"
      ]
     },
     "execution_count": 308,
     "metadata": {},
     "output_type": "execute_result"
    }
   ],
   "source": [
    "MutInf"
   ]
  },
  {
   "cell_type": "code",
   "execution_count": 175,
   "metadata": {},
   "outputs": [
    {
     "data": {
      "text/plain": [
       "[0.15921787709497207,\n",
       " 0.17039106145251395,\n",
       " 0.14804469273743018,\n",
       " 0.14804469273743018,\n",
       " 0.09776536312849161,\n",
       " 0.13966480446927373,\n",
       " 0.2011173184357542,\n",
       " 0.09217877094972067,\n",
       " 0.08659217877094973,\n",
       " 0.09217877094972067,\n",
       " 0.09497206703910614,\n",
       " 0.15921787709497207,\n",
       " 0.10614525139664804,\n",
       " 0.0670391061452514,\n",
       " 0.08659217877094973]"
      ]
     },
     "execution_count": 175,
     "metadata": {},
     "output_type": "execute_result"
    }
   ],
   "source": [
    "LZ = []\n",
    "for usr in TopAltersUsr0:\n",
    "    LZ.append(LZ_compare(0,usr))\n",
    "LZ"
   ]
  },
  {
   "cell_type": "code",
   "execution_count": 302,
   "metadata": {},
   "outputs": [
    {
     "name": "stdout",
     "output_type": "stream",
     "text": [
      "['nan', 0.036312849162011177, 0.09497206703910614, 0.07262569832402235, 0.0446927374301676, 0.05307262569832402]\n",
      "['nan', 0.12195121951219512, 0.21951219512195122, 0.17073170731707318, 0.13414634146341464, 0.12195121951219512]\n"
     ]
    }
   ],
   "source": [
    "LZfriend = []\n",
    "mutlocs = []\n",
    "lenegoo = len(wf[(wf['userid']==usrs[0][0]) & wf['placeid'].notna()].groupby('placeid').count().index.to_list())\n",
    "for usr in Usr0Friends:\n",
    "    if usr in usrs[0]:\n",
    "        LZfriend.append(LZ_compare(0,usrs[0].index(usr)))\n",
    "        mutlocs.append(len([w for w in wf[(wf['userid']==usr) & wf['placeid'].notna()].groupby('placeid').count().index.to_list() if w in ego])/lenegoo)\n",
    "    else:\n",
    "        LZfriend.append('nan')\n",
    "        mutlocs.append('nan')\n",
    "print(LZfriend)\n",
    "print(mutlocs)"
   ]
  },
  {
   "cell_type": "code",
   "execution_count": 313,
   "metadata": {},
   "outputs": [
    {
     "data": {
      "image/png": "[encoded data removed]",
      "text/plain": [
       "<Figure size 432x288 with 1 Axes>"
      ]
     },
     "metadata": {
      "needs_background": "light"
     },
     "output_type": "display_data"
    }
   ],
   "source": [
    "plt.title('Norm Mutual Information vs number of top alters')\n",
    "plt.xlabel('Alter Number')\n",
    "plt.ylabel('Norm Mutual Information')\n",
    "plt.plot(np.arange(1,len(MutInf)+1,1), MutInf, 'o')\n",
    "\n",
    "#plt.plot(xtest,ytest,'.')\n",
    "#,label = 'data of jump lengths')\n",
    "#plt.yscale('log')\n",
    "#plt.xscale('log')\n",
    "#plt.legend()\n",
    "#plt.xlim(-50,50)\n",
    "#plt.ylim(-50,50)\n",
    "plt.show()"
   ]
  },
  {
   "cell_type": "code",
   "execution_count": 232,
   "metadata": {},
   "outputs": [],
   "source": [
    "wfriend = pd.read_csv(\"../Data_Sets/weeplaces/weeplaces/weeplace_friends.csv\")"
   ]
  },
  {
   "cell_type": "code",
   "execution_count": 289,
   "metadata": {},
   "outputs": [],
   "source": [
    "wfriend = wfriend.sort_values(by = ['userid1'])"
   ]
  },
  {
   "cell_type": "code",
   "execution_count": 291,
   "metadata": {
    "scrolled": true
   },
   "outputs": [
    {
     "name": "stdout",
     "output_type": "stream",
     "text": [
      "gotetsu\n",
      "kaichi-kuroda\n",
      "butakao\n",
      "atknktn\n",
      "takechiyo-yamanaka\n",
      "26\n",
      "yoshihiro\n",
      "smokeymonkey-highness\n",
      "syochin\n",
      "shinya-sakemoto\n",
      "naoishix-paparabi\n",
      "pinkpeco\n",
      "kaerugeko\n",
      "takehiko-kamijo\n",
      "hiderows\n"
     ]
    }
   ],
   "source": [
    "for usr in TopAltersUsr0:\n",
    "    print(usrs[0][usr])"
   ]
  }
 ],
 "metadata": {
  "kernelspec": {
   "display_name": "Python 3",
   "language": "python",
   "name": "python3"
  },
  "language_info": {
   "codemirror_mode": {
    "name": "ipython",
    "version": 3
   },
   "file_extension": ".py",
   "mimetype": "text/x-python",
   "name": "python",
   "nbconvert_exporter": "python",
   "pygments_lexer": "ipython3",
   "version": "3.7.3"
  }
 },
 "nbformat": 4,
 "nbformat_minor": 2
}
