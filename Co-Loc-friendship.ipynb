{
 "cells": [
  {
   "cell_type": "markdown",
   "metadata": {},
   "source": [
    "# Co-occurance friendship"
   ]
  },
  {
   "cell_type": "code",
   "execution_count": 325,
   "metadata": {},
   "outputs": [],
   "source": [
    "import pandas as pd\n",
    "import feather as ft\n",
    "%matplotlib inline\n",
    "import numpy as np\n",
    "import matplotlib.pyplot as plt\n",
    "from pyitlib import discrete_random_variable as drv\n",
    "from math import log, e\n",
    "from scipy.stats import entropy\n",
    "import h5py\n",
    "import time\n",
    "import pickle\n",
    "import networkx as nx"
   ]
  },
  {
   "cell_type": "markdown",
   "metadata": {
    "heading_collapsed": true
   },
   "source": [
    "## Data processing"
   ]
  },
  {
   "cell_type": "code",
   "execution_count": 3,
   "metadata": {
    "hidden": true
   },
   "outputs": [],
   "source": [
    "\"\"\" Data pre-processing \"\"\"\n",
    "# df_full = dd.read_csv(\"data/weeplace_checkins.csv\")\n",
    "# # df_full = df_full.dropna(subset=[\"placeid\"])\n",
    "# df_full = pd.read_csv(\"data/weeplace_checkins.csv\")\n",
    "# # df_full = df_full.dropna(subset=[\"placeid\"])\n",
    "# # full dataset only removing NA location\n",
    "# df_full = ft.read_dataframe('data/weeplace_checkins_without_loc_NA.feather')\n",
    "\n",
    "# make new dataframe removing minutes and seconds information, called df_hour\n",
    "# df_full['datetime'] = dd.to_datetime(df_full['datetime']).dt.floor('H')\n",
    "# df_full['datetime'] = pd.to_datetime(df_full['datetime']).dt.floor('H')\n",
    "# ft.write_dataframe(df_full, 'data/weeplace_checkins_hour_without_loc_NA.feather')\n",
    "# # full dataset removing NA location and group the time into 1-hour bin\n",
    "df_hour = ft.read_dataframe('data/weeplace_checkins_hour_without_loc_NA.feather')\n",
    "df_friend = pd.read_csv('data/weeplace_friends.csv')"
   ]
  },
  {
   "cell_type": "markdown",
   "metadata": {},
   "source": [
    "## Co-occurance detection"
   ]
  },
  {
   "cell_type": "code",
   "execution_count": 5,
   "metadata": {},
   "outputs": [],
   "source": [
    "username = df_hour['userid'].unique().tolist()\n",
    "N_users = len(username)\n",
    "\n",
    "# start_time = time.time()\n",
    "# # allocate space for object array\n",
    "# meetup_store = np.empty(N_users, dtype=object)\n",
    "\n",
    "# counter = 1\n",
    "# for id in username[0:20]:\n",
    "#     ego = df_hour[df_hour['userid'] == id][['userid', 'placeid', 'datetime']]\n",
    "#     alter = df_hour[df_hour['userid']!=id][['userid', 'placeid', 'datetime']]\n",
    "    \n",
    "#     meetup = ego.merge(alter, how='left', on =['placeid', 'datetime'])\\\n",
    "#     .dropna()[['userid_x','placeid', 'userid_y']].groupby(['userid_x','userid_y'])['placeid']\\\n",
    "#     .count().reset_index(name='count').sort_values('count', ascending=False)\n",
    "    \n",
    "#     meetup[['percent']] = meetup[['count']]/meetup['count'].sum()\n",
    "#     meetup_store[username.index(id)]=meetup\n",
    "# #     names = 'user' + str(counter)\n",
    "# #     meetup.to_hdf('meetup.h5', key=names, mode='a', complib ='blosc:zstd',complevel=9)\n",
    "# #     print(counter)\n",
    "#     counter += 1\n",
    "\n",
    "\n",
    "# # save pickle file\n",
    "# pickle_out = open(\"meetup_store.pickle\", \"wb\")\n",
    "# pickle.dump(meetup_store, pickle_out)\n",
    "# pickle_out.close()\n",
    "\n",
    "# elapsed_time = time.time() - start_time\n",
    "\n",
    "\n",
    "# read picle file\n",
    "pickle_in = open(\"meetup_store.pickle\", \"rb\")\n",
    "meetup_store = pickle.load(pickle_in)"
   ]
  },
  {
   "cell_type": "markdown",
   "metadata": {},
   "source": [
    "## Check how many friends the users general have"
   ]
  },
  {
   "cell_type": "markdown",
   "metadata": {
    "heading_collapsed": true
   },
   "source": [
    "### Elements check between two sources"
   ]
  },
  {
   "cell_type": "code",
   "execution_count": 74,
   "metadata": {
    "hidden": true
   },
   "outputs": [
    {
     "name": "stdout",
     "output_type": "stream",
     "text": [
      "All used users appear in the true friendship network\n"
     ]
    }
   ],
   "source": [
    "TrueUser1 = set(df_friend['userid1'].tolist())\n",
    "TrueUser2 = set(df_friend['userid2'].tolist())\n",
    "UsedUser = set(df_hour['userid'].tolist())\n",
    "\n",
    "if UsedUser.issubset(TrueUser1) & UsedUser.issubset(TrueUser2):\n",
    "    print('All used users appear in the true friendship network')"
   ]
  },
  {
   "cell_type": "code",
   "execution_count": 79,
   "metadata": {
    "hidden": true
   },
   "outputs": [
    {
     "name": "stdout",
     "output_type": "stream",
     "text": [
      "228\n"
     ]
    }
   ],
   "source": [
    "print(len(list(TrueUser1 - UsedUser)))   # Users in userid1 but not appear in our used checkin dataset "
   ]
  },
  {
   "cell_type": "code",
   "execution_count": 80,
   "metadata": {
    "hidden": true
   },
   "outputs": [
    {
     "name": "stdout",
     "output_type": "stream",
     "text": [
      "229\n"
     ]
    }
   ],
   "source": [
    "print(len(list(TrueUser2 - UsedUser)))   # Users in userid2 but not appear in our used checkin dataset "
   ]
  },
  {
   "cell_type": "markdown",
   "metadata": {},
   "source": [
    "### Know something about friendship "
   ]
  },
  {
   "cell_type": "code",
   "execution_count": 103,
   "metadata": {
    "scrolled": false
   },
   "outputs": [
    {
     "data": {
      "text/html": [
       "<div>\n",
       "<style scoped>\n",
       "    .dataframe tbody tr th:only-of-type {\n",
       "        vertical-align: middle;\n",
       "    }\n",
       "\n",
       "    .dataframe tbody tr th {\n",
       "        vertical-align: top;\n",
       "    }\n",
       "\n",
       "    .dataframe thead th {\n",
       "        text-align: right;\n",
       "    }\n",
       "</style>\n",
       "<table border=\"1\" class=\"dataframe\">\n",
       "  <thead>\n",
       "    <tr style=\"text-align: right;\">\n",
       "      <th></th>\n",
       "      <th>userid1</th>\n",
       "      <th>count</th>\n",
       "    </tr>\n",
       "  </thead>\n",
       "  <tbody>\n",
       "    <tr>\n",
       "      <td>6044</td>\n",
       "      <td>huffpost</td>\n",
       "      <td>1685</td>\n",
       "    </tr>\n",
       "    <tr>\n",
       "      <td>12974</td>\n",
       "      <td>robert-scoble</td>\n",
       "      <td>822</td>\n",
       "    </tr>\n",
       "    <tr>\n",
       "      <td>4503</td>\n",
       "      <td>elavrov</td>\n",
       "      <td>707</td>\n",
       "    </tr>\n",
       "    <tr>\n",
       "      <td>14162</td>\n",
       "      <td>standard-hotels</td>\n",
       "      <td>445</td>\n",
       "    </tr>\n",
       "    <tr>\n",
       "      <td>12630</td>\n",
       "      <td>red-bull</td>\n",
       "      <td>334</td>\n",
       "    </tr>\n",
       "    <tr>\n",
       "      <td>...</td>\n",
       "      <td>...</td>\n",
       "      <td>...</td>\n",
       "    </tr>\n",
       "    <tr>\n",
       "      <td>10796</td>\n",
       "      <td>michael-sutton-long</td>\n",
       "      <td>1</td>\n",
       "    </tr>\n",
       "    <tr>\n",
       "      <td>6912</td>\n",
       "      <td>jenn-b</td>\n",
       "      <td>1</td>\n",
       "    </tr>\n",
       "    <tr>\n",
       "      <td>6915</td>\n",
       "      <td>jenn-davis</td>\n",
       "      <td>1</td>\n",
       "    </tr>\n",
       "    <tr>\n",
       "      <td>3528</td>\n",
       "      <td>daniel-goodall</td>\n",
       "      <td>1</td>\n",
       "    </tr>\n",
       "    <tr>\n",
       "      <td>12559</td>\n",
       "      <td>raphael-journe</td>\n",
       "      <td>1</td>\n",
       "    </tr>\n",
       "  </tbody>\n",
       "</table>\n",
       "<p>16021 rows × 2 columns</p>\n",
       "</div>"
      ],
      "text/plain": [
       "                   userid1  count\n",
       "6044              huffpost   1685\n",
       "12974        robert-scoble    822\n",
       "4503               elavrov    707\n",
       "14162      standard-hotels    445\n",
       "12630             red-bull    334\n",
       "...                    ...    ...\n",
       "10796  michael-sutton-long      1\n",
       "6912                jenn-b      1\n",
       "6915            jenn-davis      1\n",
       "3528        daniel-goodall      1\n",
       "12559       raphael-journe      1\n",
       "\n",
       "[16021 rows x 2 columns]"
      ]
     },
     "execution_count": 103,
     "metadata": {},
     "output_type": "execute_result"
    }
   ],
   "source": [
    "# The number of friend in the true friendship nework\n",
    "NT_friend = df_friend.groupby('userid1').count()['userid2'].reset_index(name='count').sort_values('count', ascending=False)\n",
    "NT_friend"
   ]
  },
  {
   "cell_type": "code",
   "execution_count": 124,
   "metadata": {},
   "outputs": [
    {
     "data": {
      "image/png": "[encoded data removed]",
      "text/plain": [
       "<Figure size 432x288 with 1 Axes>"
      ]
     },
     "metadata": {
      "needs_background": "light"
     },
     "output_type": "display_data"
    }
   ],
   "source": [
    "plt.title('Histograms of the number of friends that the users have')\n",
    "plt.xlabel('The number of friends')\n",
    "plt.ylabel('Frequency')\n",
    "plt.hist(NT_friend['count'],density = True, alpha=.5)\n",
    "plt.show()"
   ]
  },
  {
   "cell_type": "code",
   "execution_count": 189,
   "metadata": {},
   "outputs": [
    {
     "data": {
      "text/html": [
       "<div>\n",
       "<style scoped>\n",
       "    .dataframe tbody tr th:only-of-type {\n",
       "        vertical-align: middle;\n",
       "    }\n",
       "\n",
       "    .dataframe tbody tr th {\n",
       "        vertical-align: top;\n",
       "    }\n",
       "\n",
       "    .dataframe thead th {\n",
       "        text-align: right;\n",
       "    }\n",
       "</style>\n",
       "<table border=\"1\" class=\"dataframe\">\n",
       "  <thead>\n",
       "    <tr style=\"text-align: right;\">\n",
       "      <th></th>\n",
       "      <th>count</th>\n",
       "    </tr>\n",
       "  </thead>\n",
       "  <tbody>\n",
       "    <tr>\n",
       "      <td>0.10</td>\n",
       "      <td>1.0</td>\n",
       "    </tr>\n",
       "    <tr>\n",
       "      <td>0.20</td>\n",
       "      <td>2.0</td>\n",
       "    </tr>\n",
       "    <tr>\n",
       "      <td>0.25</td>\n",
       "      <td>2.0</td>\n",
       "    </tr>\n",
       "    <tr>\n",
       "      <td>0.50</td>\n",
       "      <td>4.0</td>\n",
       "    </tr>\n",
       "    <tr>\n",
       "      <td>0.75</td>\n",
       "      <td>8.0</td>\n",
       "    </tr>\n",
       "    <tr>\n",
       "      <td>0.90</td>\n",
       "      <td>16.0</td>\n",
       "    </tr>\n",
       "  </tbody>\n",
       "</table>\n",
       "</div>"
      ],
      "text/plain": [
       "      count\n",
       "0.10    1.0\n",
       "0.20    2.0\n",
       "0.25    2.0\n",
       "0.50    4.0\n",
       "0.75    8.0\n",
       "0.90   16.0"
      ]
     },
     "execution_count": 189,
     "metadata": {},
     "output_type": "execute_result"
    }
   ],
   "source": [
    "# check quantile of true friendship network\n",
    "pd.DataFrame(NT_friend['count']).quantile([0.1, 0.2, 0.25, 0.5, 0.75, 0.9])"
   ]
  },
  {
   "cell_type": "markdown",
   "metadata": {},
   "source": [
    "### Start to think our artificial friendship"
   ]
  },
  {
   "cell_type": "markdown",
   "metadata": {},
   "source": [
    "As shown in the privious, we can see that 90% users have at most 16 friends, now we would like to use the number of co-occurance to infer the friendship network, called Artificial Friendship network"
   ]
  },
  {
   "cell_type": "code",
   "execution_count": 136,
   "metadata": {},
   "outputs": [],
   "source": [
    "NA_meetup = [meetup_store[x]['count'].sum() for x in range(N_users)]"
   ]
  },
  {
   "cell_type": "code",
   "execution_count": 123,
   "metadata": {},
   "outputs": [
    {
     "data": {
      "image/png": "[encoded data removed]",
      "text/plain": [
       "<Figure size 432x288 with 1 Axes>"
      ]
     },
     "metadata": {
      "needs_background": "light"
     },
     "output_type": "display_data"
    }
   ],
   "source": [
    "plt.title('Histograms of the number of meetup that the users have')\n",
    "plt.xlabel('The number of meetup')\n",
    "plt.ylabel('Frequency')\n",
    "plt.hist(NA_meetup,density = True, alpha=.5)\n",
    "plt.show()"
   ]
  },
  {
   "cell_type": "code",
   "execution_count": 190,
   "metadata": {},
   "outputs": [
    {
     "data": {
      "text/html": [
       "<div>\n",
       "<style scoped>\n",
       "    .dataframe tbody tr th:only-of-type {\n",
       "        vertical-align: middle;\n",
       "    }\n",
       "\n",
       "    .dataframe tbody tr th {\n",
       "        vertical-align: top;\n",
       "    }\n",
       "\n",
       "    .dataframe thead th {\n",
       "        text-align: right;\n",
       "    }\n",
       "</style>\n",
       "<table border=\"1\" class=\"dataframe\">\n",
       "  <thead>\n",
       "    <tr style=\"text-align: right;\">\n",
       "      <th></th>\n",
       "      <th>count</th>\n",
       "    </tr>\n",
       "  </thead>\n",
       "  <tbody>\n",
       "    <tr>\n",
       "      <td>0.10</td>\n",
       "      <td>1.0</td>\n",
       "    </tr>\n",
       "    <tr>\n",
       "      <td>0.20</td>\n",
       "      <td>3.0</td>\n",
       "    </tr>\n",
       "    <tr>\n",
       "      <td>0.25</td>\n",
       "      <td>5.0</td>\n",
       "    </tr>\n",
       "    <tr>\n",
       "      <td>0.50</td>\n",
       "      <td>21.0</td>\n",
       "    </tr>\n",
       "    <tr>\n",
       "      <td>0.75</td>\n",
       "      <td>77.0</td>\n",
       "    </tr>\n",
       "    <tr>\n",
       "      <td>0.90</td>\n",
       "      <td>220.0</td>\n",
       "    </tr>\n",
       "  </tbody>\n",
       "</table>\n",
       "</div>"
      ],
      "text/plain": [
       "      count\n",
       "0.10    1.0\n",
       "0.20    3.0\n",
       "0.25    5.0\n",
       "0.50   21.0\n",
       "0.75   77.0\n",
       "0.90  220.0"
      ]
     },
     "execution_count": 190,
     "metadata": {},
     "output_type": "execute_result"
    }
   ],
   "source": [
    "# check quantile of meetup\n",
    "pd.DataFrame(NA_meetup, columns=['count']).quantile([0.1, 0.2,  0.25, 0.5, 0.75, 0.9])"
   ]
  },
  {
   "cell_type": "markdown",
   "metadata": {},
   "source": [
    "#### Artificial Friendship (AF) definition 1 : fixed percentage alters"
   ]
  },
  {
   "cell_type": "markdown",
   "metadata": {},
   "source": [
    "#####  Assumption 1 : Every user in our used dataset should have at least one friend.\n",
    "The percentage of meetup alters should be fixed percentage of friend, we set it as Artificial Friend Rate (AFR), firstly, we set"
   ]
  },
  {
   "cell_type": "code",
   "execution_count": 431,
   "metadata": {},
   "outputs": [
    {
     "name": "stdout",
     "output_type": "stream",
     "text": [
      "2 3\n",
      "2 5\n",
      "3 21\n",
      "7 77\n",
      "17 220\n"
     ]
    }
   ],
   "source": [
    "# AFR = 0.07 ceil function + 1\n",
    "def AFR(x, mode):\n",
    "    switcher = {\n",
    "        'all' : x,\n",
    "        'threshold' : 1 if x<=2 else math.ceil(0.07*x) + 1,        \n",
    "    }\n",
    "    return switcher.get(mode)\n",
    "\n",
    "\n",
    "# def AFR(x, **kwargs):\n",
    "#     if 'all' in kwargs:   #  \"\"\" ARF definition 2\"\"\"\n",
    "#         return x\n",
    "#     elif x <=2:     #     \"\"\" ARF definition 1\"\"\"\n",
    "#         return 1\n",
    "#     else:\n",
    "#         return math.ceil(0.07*x) + 1\n",
    "    \n",
    "test = [3, 5, 21, 77, 220]\n",
    "for i in test:\n",
    "    print(AFR(i, 'threshold'), AFR(i, 'all'))"
   ]
  },
  {
   "cell_type": "markdown",
   "metadata": {},
   "source": [
    "If we can have more accurate estimation of AFR, we may achieve better network"
   ]
  },
  {
   "cell_type": "code",
   "execution_count": 428,
   "metadata": {},
   "outputs": [],
   "source": [
    "def meetup_to_friend(userid_num, mode):\n",
    "    \"\"\"  return the alters who the friends of ego based on AFR criteria  \"\"\"\n",
    "    N_meetup = meetup_store[userid_num]['count'].sum()\n",
    "    threshold = AFR(N_meetup, mode)\n",
    "    alter = meetup_store[userid_num].head(threshold).reset_index(drop=True)\n",
    "    return alter"
   ]
  },
  {
   "cell_type": "code",
   "execution_count": 429,
   "metadata": {
    "scrolled": true
   },
   "outputs": [],
   "source": [
    "# Construct all AF network details \n",
    "AR_network = pd.concat([meetup_to_friend(x, 'threshold') for x in range(N_users)])"
   ]
  },
  {
   "cell_type": "code",
   "execution_count": 432,
   "metadata": {
    "scrolled": false
   },
   "outputs": [
    {
     "data": {
      "text/html": [
       "<div>\n",
       "<style scoped>\n",
       "    .dataframe tbody tr th:only-of-type {\n",
       "        vertical-align: middle;\n",
       "    }\n",
       "\n",
       "    .dataframe tbody tr th {\n",
       "        vertical-align: top;\n",
       "    }\n",
       "\n",
       "    .dataframe thead th {\n",
       "        text-align: right;\n",
       "    }\n",
       "</style>\n",
       "<table border=\"1\" class=\"dataframe\">\n",
       "  <thead>\n",
       "    <tr style=\"text-align: right;\">\n",
       "      <th></th>\n",
       "      <th>userid_x</th>\n",
       "      <th>userid_y</th>\n",
       "      <th>count</th>\n",
       "      <th>percent</th>\n",
       "    </tr>\n",
       "  </thead>\n",
       "  <tbody>\n",
       "    <tr>\n",
       "      <td>0</td>\n",
       "      <td>fred-wilson</td>\n",
       "      <td>andrew-parker</td>\n",
       "      <td>10</td>\n",
       "      <td>0.035088</td>\n",
       "    </tr>\n",
       "    <tr>\n",
       "      <td>1</td>\n",
       "      <td>fred-wilson</td>\n",
       "      <td>bijan-sabet</td>\n",
       "      <td>6</td>\n",
       "      <td>0.021053</td>\n",
       "    </tr>\n",
       "    <tr>\n",
       "      <td>2</td>\n",
       "      <td>fred-wilson</td>\n",
       "      <td>caroline-mccarthy</td>\n",
       "      <td>5</td>\n",
       "      <td>0.017544</td>\n",
       "    </tr>\n",
       "    <tr>\n",
       "      <td>3</td>\n",
       "      <td>fred-wilson</td>\n",
       "      <td>mark-g</td>\n",
       "      <td>5</td>\n",
       "      <td>0.017544</td>\n",
       "    </tr>\n",
       "    <tr>\n",
       "      <td>4</td>\n",
       "      <td>fred-wilson</td>\n",
       "      <td>eric-spiegelman</td>\n",
       "      <td>4</td>\n",
       "      <td>0.014035</td>\n",
       "    </tr>\n",
       "    <tr>\n",
       "      <td>...</td>\n",
       "      <td>...</td>\n",
       "      <td>...</td>\n",
       "      <td>...</td>\n",
       "      <td>...</td>\n",
       "    </tr>\n",
       "    <tr>\n",
       "      <td>3</td>\n",
       "      <td>simon-colijn</td>\n",
       "      <td>maarten-scheer</td>\n",
       "      <td>1</td>\n",
       "      <td>0.027778</td>\n",
       "    </tr>\n",
       "    <tr>\n",
       "      <td>0</td>\n",
       "      <td>mark-van-der-poel</td>\n",
       "      <td>simon-colijn</td>\n",
       "      <td>22</td>\n",
       "      <td>0.733333</td>\n",
       "    </tr>\n",
       "    <tr>\n",
       "      <td>1</td>\n",
       "      <td>mark-van-der-poel</td>\n",
       "      <td>rene-sijnke</td>\n",
       "      <td>5</td>\n",
       "      <td>0.166667</td>\n",
       "    </tr>\n",
       "    <tr>\n",
       "      <td>2</td>\n",
       "      <td>mark-van-der-poel</td>\n",
       "      <td>celine-lucas</td>\n",
       "      <td>1</td>\n",
       "      <td>0.033333</td>\n",
       "    </tr>\n",
       "    <tr>\n",
       "      <td>3</td>\n",
       "      <td>mark-van-der-poel</td>\n",
       "      <td>jordi-wiegerink</td>\n",
       "      <td>1</td>\n",
       "      <td>0.033333</td>\n",
       "    </tr>\n",
       "  </tbody>\n",
       "</table>\n",
       "<p>110460 rows × 4 columns</p>\n",
       "</div>"
      ],
      "text/plain": [
       "             userid_x           userid_y  count   percent\n",
       "0         fred-wilson      andrew-parker     10  0.035088\n",
       "1         fred-wilson        bijan-sabet      6  0.021053\n",
       "2         fred-wilson  caroline-mccarthy      5  0.017544\n",
       "3         fred-wilson             mark-g      5  0.017544\n",
       "4         fred-wilson    eric-spiegelman      4  0.014035\n",
       "..                ...                ...    ...       ...\n",
       "3        simon-colijn     maarten-scheer      1  0.027778\n",
       "0   mark-van-der-poel       simon-colijn     22  0.733333\n",
       "1   mark-van-der-poel        rene-sijnke      5  0.166667\n",
       "2   mark-van-der-poel       celine-lucas      1  0.033333\n",
       "3   mark-van-der-poel    jordi-wiegerink      1  0.033333\n",
       "\n",
       "[110460 rows x 4 columns]"
      ]
     },
     "execution_count": 432,
     "metadata": {},
     "output_type": "execute_result"
    }
   ],
   "source": [
    "AR_network"
   ]
  },
  {
   "cell_type": "code",
   "execution_count": 433,
   "metadata": {},
   "outputs": [],
   "source": [
    "# save artificial friendship network with threshold \n",
    "AR_network.to_csv('data/weeplace_artifical_friend_threshold.csv', index=False)"
   ]
  },
  {
   "cell_type": "code",
   "execution_count": 434,
   "metadata": {},
   "outputs": [],
   "source": [
    "# save artificial friendship network with threshold only for graph-tool \n",
    "AR_network[['userid_x', 'userid_y']].to_csv('data/weeplace_artifical_friend_threshold_gt.csv', index=False)"
   ]
  },
  {
   "cell_type": "markdown",
   "metadata": {},
   "source": [
    "#### Artificial Friendship (AF) definition 2 : all meetup alters"
   ]
  },
  {
   "cell_type": "code",
   "execution_count": 435,
   "metadata": {},
   "outputs": [],
   "source": [
    "# Construct all AF_all network details \n",
    "AR_network_all = pd.concat([meetup_to_friend(x, 'all') for x in range(N_users)])"
   ]
  },
  {
   "cell_type": "code",
   "execution_count": 436,
   "metadata": {},
   "outputs": [
    {
     "data": {
      "text/html": [
       "<div>\n",
       "<style scoped>\n",
       "    .dataframe tbody tr th:only-of-type {\n",
       "        vertical-align: middle;\n",
       "    }\n",
       "\n",
       "    .dataframe tbody tr th {\n",
       "        vertical-align: top;\n",
       "    }\n",
       "\n",
       "    .dataframe thead th {\n",
       "        text-align: right;\n",
       "    }\n",
       "</style>\n",
       "<table border=\"1\" class=\"dataframe\">\n",
       "  <thead>\n",
       "    <tr style=\"text-align: right;\">\n",
       "      <th></th>\n",
       "      <th>userid_x</th>\n",
       "      <th>userid_y</th>\n",
       "      <th>count</th>\n",
       "      <th>percent</th>\n",
       "    </tr>\n",
       "  </thead>\n",
       "  <tbody>\n",
       "    <tr>\n",
       "      <td>0</td>\n",
       "      <td>fred-wilson</td>\n",
       "      <td>andrew-parker</td>\n",
       "      <td>10</td>\n",
       "      <td>0.035088</td>\n",
       "    </tr>\n",
       "    <tr>\n",
       "      <td>1</td>\n",
       "      <td>fred-wilson</td>\n",
       "      <td>bijan-sabet</td>\n",
       "      <td>6</td>\n",
       "      <td>0.021053</td>\n",
       "    </tr>\n",
       "    <tr>\n",
       "      <td>2</td>\n",
       "      <td>fred-wilson</td>\n",
       "      <td>caroline-mccarthy</td>\n",
       "      <td>5</td>\n",
       "      <td>0.017544</td>\n",
       "    </tr>\n",
       "    <tr>\n",
       "      <td>3</td>\n",
       "      <td>fred-wilson</td>\n",
       "      <td>mark-g</td>\n",
       "      <td>5</td>\n",
       "      <td>0.017544</td>\n",
       "    </tr>\n",
       "    <tr>\n",
       "      <td>4</td>\n",
       "      <td>fred-wilson</td>\n",
       "      <td>eric-spiegelman</td>\n",
       "      <td>4</td>\n",
       "      <td>0.014035</td>\n",
       "    </tr>\n",
       "    <tr>\n",
       "      <td>...</td>\n",
       "      <td>...</td>\n",
       "      <td>...</td>\n",
       "      <td>...</td>\n",
       "      <td>...</td>\n",
       "    </tr>\n",
       "    <tr>\n",
       "      <td>0</td>\n",
       "      <td>mark-van-der-poel</td>\n",
       "      <td>simon-colijn</td>\n",
       "      <td>22</td>\n",
       "      <td>0.733333</td>\n",
       "    </tr>\n",
       "    <tr>\n",
       "      <td>1</td>\n",
       "      <td>mark-van-der-poel</td>\n",
       "      <td>rene-sijnke</td>\n",
       "      <td>5</td>\n",
       "      <td>0.166667</td>\n",
       "    </tr>\n",
       "    <tr>\n",
       "      <td>2</td>\n",
       "      <td>mark-van-der-poel</td>\n",
       "      <td>celine-lucas</td>\n",
       "      <td>1</td>\n",
       "      <td>0.033333</td>\n",
       "    </tr>\n",
       "    <tr>\n",
       "      <td>3</td>\n",
       "      <td>mark-van-der-poel</td>\n",
       "      <td>jordi-wiegerink</td>\n",
       "      <td>1</td>\n",
       "      <td>0.033333</td>\n",
       "    </tr>\n",
       "    <tr>\n",
       "      <td>4</td>\n",
       "      <td>mark-van-der-poel</td>\n",
       "      <td>rob-w8</td>\n",
       "      <td>1</td>\n",
       "      <td>0.033333</td>\n",
       "    </tr>\n",
       "  </tbody>\n",
       "</table>\n",
       "<p>676300 rows × 4 columns</p>\n",
       "</div>"
      ],
      "text/plain": [
       "             userid_x           userid_y  count   percent\n",
       "0         fred-wilson      andrew-parker     10  0.035088\n",
       "1         fred-wilson        bijan-sabet      6  0.021053\n",
       "2         fred-wilson  caroline-mccarthy      5  0.017544\n",
       "3         fred-wilson             mark-g      5  0.017544\n",
       "4         fred-wilson    eric-spiegelman      4  0.014035\n",
       "..                ...                ...    ...       ...\n",
       "0   mark-van-der-poel       simon-colijn     22  0.733333\n",
       "1   mark-van-der-poel        rene-sijnke      5  0.166667\n",
       "2   mark-van-der-poel       celine-lucas      1  0.033333\n",
       "3   mark-van-der-poel    jordi-wiegerink      1  0.033333\n",
       "4   mark-van-der-poel             rob-w8      1  0.033333\n",
       "\n",
       "[676300 rows x 4 columns]"
      ]
     },
     "execution_count": 436,
     "metadata": {},
     "output_type": "execute_result"
    }
   ],
   "source": [
    "AR_network_all"
   ]
  },
  {
   "cell_type": "code",
   "execution_count": 437,
   "metadata": {},
   "outputs": [],
   "source": [
    "# save artificial friendship network with threshold \n",
    "AR_network_all.to_csv('data/weeplace_artifical_friend_all.csv', index=False)\n",
    "# save artificial friendship network with threshold only for graph-tool \n",
    "AR_network_all[['userid_x', 'userid_y']].to_csv('data/weeplace_artifical_friend_all_gt.csv', index=False)"
   ]
  },
  {
   "cell_type": "markdown",
   "metadata": {},
   "source": [
    "### Analysis for different friendship network"
   ]
  },
  {
   "cell_type": "code",
   "execution_count": 469,
   "metadata": {},
   "outputs": [],
   "source": [
    "import seaborn as sns"
   ]
  },
  {
   "cell_type": "code",
   "execution_count": 459,
   "metadata": {
    "scrolled": true
   },
   "outputs": [],
   "source": [
    "adj_similarity = pd.DataFrame.from_dict({\n",
    "    'TF': [1, 0.009080255219410565, 0.008505080190397247],\n",
    "    'AFR-T': [0.009080255219410565, 1, 0.013178097513854289],\n",
    "    'AFR-A': [0.008505080190397247, 0.013178097513854289, 1]\n",
    "},\n",
    "orient='index', columns=['TF', 'AFR-T', 'AFR-A'])"
   ]
  },
  {
   "cell_type": "code",
   "execution_count": 476,
   "metadata": {},
   "outputs": [
    {
     "data": {
      "image/png": "[encoded data removed]",
      "text/plain": [
       "<Figure size 432x288 with 2 Axes>"
      ]
     },
     "metadata": {
      "needs_background": "light"
     },
     "output_type": "display_data"
    }
   ],
   "source": [
    "ax = sns.heatmap(adj_similarity,annot=True,linewidths=1,cmap=\"YlGnBu\", fmt='f', square=True)\n",
    "ax.set_aspect(\"equal\")\n",
    "b, t = plt.ylim() # discover the values for bottom and top\n",
    "b += 0.5 # Add 0.5 to the bottom\n",
    "t -= 0.5 # Subtract 0.5 from the top\n",
    "plt.ylim(b, t) # update the ylim(bottom, top) values\n",
    "plt.show() # ta-da!"
   ]
  },
  {
   "cell_type": "code",
   "execution_count": 411,
   "metadata": {
    "scrolled": true
   },
   "outputs": [],
   "source": [
    "# x = 0\n",
    "# for i in C1:\n",
    "#     if i not in D1:\n",
    "#         temp1 = AR_network[AR_network['userid_x'] == i]['userid_y'].tolist()\n",
    "#         temp2 = AR_network[AR_network['userid_y'] == temp1[0]]['userid_x'].tolist()\n",
    "#         if len(temp2)==1 & (temp1[0] not in AR_network['userid_x'].tolist()):\n",
    "#             x +=1\n",
    "#             print(i, temp1[0])"
   ]
  },
  {
   "cell_type": "code",
   "execution_count": null,
   "metadata": {},
   "outputs": [],
   "source": []
  }
 ],
 "metadata": {
  "kernelspec": {
   "display_name": "Python 3",
   "language": "python",
   "name": "python3"
  },
  "language_info": {
   "codemirror_mode": {
    "name": "ipython",
    "version": 3
   },
   "file_extension": ".py",
   "mimetype": "text/x-python",
   "name": "python",
   "nbconvert_exporter": "python",
   "pygments_lexer": "ipython3",
   "version": "3.6.9"
  },
  "latex_envs": {
   "LaTeX_envs_menu_present": true,
   "autoclose": false,
   "autocomplete": true,
   "bibliofile": "biblio.bib",
   "cite_by": "apalike",
   "current_citInitial": 1,
   "eqLabelWithNumbers": true,
   "eqNumInitial": 1,
   "hotkeys": {
    "equation": "Ctrl-E",
    "itemize": "Ctrl-I"
   },
   "labels_anchors": false,
   "latex_user_defs": false,
   "report_style_numbering": false,
   "user_envs_cfg": false
  }
 },
 "nbformat": 4,
 "nbformat_minor": 2
}
