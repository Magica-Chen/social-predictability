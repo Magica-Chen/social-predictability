{
 "cells": [
  {
   "cell_type": "markdown",
   "metadata": {},
   "source": [
    "# Co-occurance friendship"
   ]
  },
  {
   "cell_type": "code",
   "execution_count": 25,
   "metadata": {},
   "outputs": [],
   "source": [
    "import pandas as pd\n",
    "import feather as ft\n",
    "%matplotlib inline\n",
    "import numpy as np\n",
    "# import pylab as pl\n",
    "from pyitlib import discrete_random_variable as drv\n",
    "from math import log, e\n",
    "from scipy.stats import entropy\n",
    "import h5py\n",
    "import time\n",
    "import pickle"
   ]
  },
  {
   "cell_type": "markdown",
   "metadata": {},
   "source": [
    "## Data processing"
   ]
  },
  {
   "cell_type": "code",
   "execution_count": 2,
   "metadata": {},
   "outputs": [],
   "source": [
    "\"\"\" Data pre-processing \"\"\"\n",
    "# df_full = dd.read_csv(\"data/weeplace_checkins.csv\")\n",
    "# # df_full = df_full.dropna(subset=[\"placeid\"])\n",
    "# df_full = pd.read_csv(\"data/weeplace_checkins.csv\")\n",
    "# # df_full = df_full.dropna(subset=[\"placeid\"])\n",
    "# # full dataset only removing NA location\n",
    "# df_full = ft.read_dataframe('data/weeplace_checkins_without_loc_NA.feather')\n",
    "\n",
    "# make new dataframe removing minutes and seconds information, called df_hour\n",
    "# df_full['datetime'] = dd.to_datetime(df_full['datetime']).dt.floor('H')\n",
    "# df_full['datetime'] = pd.to_datetime(df_full['datetime']).dt.floor('H')\n",
    "# ft.write_dataframe(df_full, 'data/weeplace_checkins_hour_without_loc_NA.feather')\n",
    "# # full dataset removing NA location and group the time into 1-hour bin\n",
    "df_hour = ft.read_dataframe('data/weeplace_checkins_hour_without_loc_NA.feather')\n"
   ]
  },
  {
   "cell_type": "markdown",
   "metadata": {},
   "source": [
    "## Co-occurance detection"
   ]
  },
  {
   "cell_type": "code",
   "execution_count": 26,
   "metadata": {},
   "outputs": [],
   "source": [
    "username = df_hour['userid'].unique().tolist()\n",
    "N_users = len(username)\n",
    "\n",
    "# start_time = time.time()\n",
    "# # allocate space for object array\n",
    "# meetup_store = np.empty(N_users, dtype=object)\n",
    "\n",
    "# counter = 1\n",
    "# for id in username[0:20]:\n",
    "#     ego = df_hour[df_hour['userid'] == id][['userid', 'placeid', 'datetime']]\n",
    "#     alter = df_hour[df_hour['userid']!=id][['userid', 'placeid', 'datetime']]\n",
    "    \n",
    "#     meetup = ego.merge(alter, how='left', on =['placeid', 'datetime'])\\\n",
    "#     .dropna()[['userid_x','placeid', 'userid_y']].groupby(['userid_x','userid_y'])['placeid']\\\n",
    "#     .count().reset_index(name='count').sort_values('count', ascending=False)\n",
    "    \n",
    "#     meetup[['percent']] = meetup[['count']]/meetup['count'].sum()\n",
    "#     meetup_store[username.index(id)]=meetup\n",
    "# #     names = 'user' + str(counter)\n",
    "# #     meetup.to_hdf('meetup.h5', key=names, mode='a', complib ='blosc:zstd',complevel=9)\n",
    "# #     print(counter)\n",
    "#     counter += 1\n",
    "\n",
    "\n",
    "# # save pickle file\n",
    "# pickle_out = open(\"meetup_store.pickle\", \"wb\")\n",
    "# pickle.dump(meetup_store, pickle_out)\n",
    "# pickle_out.close()\n",
    "\n",
    "# elapsed_time = time.time() - start_time\n",
    "\n",
    "\n",
    "# read picle file\n",
    "pickle_in = open(\"meetup_store.pickle\", \"rb\")\n",
    "meetup_store = pickle.load(pickle_in)"
   ]
  },
  {
   "cell_type": "code",
   "execution_count": 28,
   "metadata": {},
   "outputs": [
    {
     "data": {
      "text/html": [
       "<div>\n",
       "<style scoped>\n",
       "    .dataframe tbody tr th:only-of-type {\n",
       "        vertical-align: middle;\n",
       "    }\n",
       "\n",
       "    .dataframe tbody tr th {\n",
       "        vertical-align: top;\n",
       "    }\n",
       "\n",
       "    .dataframe thead th {\n",
       "        text-align: right;\n",
       "    }\n",
       "</style>\n",
       "<table border=\"1\" class=\"dataframe\">\n",
       "  <thead>\n",
       "    <tr style=\"text-align: right;\">\n",
       "      <th></th>\n",
       "      <th>userid_x</th>\n",
       "      <th>userid_y</th>\n",
       "      <th>count</th>\n",
       "      <th>percent</th>\n",
       "    </tr>\n",
       "  </thead>\n",
       "  <tbody>\n",
       "    <tr>\n",
       "      <td>0</td>\n",
       "      <td>hao-chen</td>\n",
       "      <td>dan-ubilla</td>\n",
       "      <td>6</td>\n",
       "      <td>0.666667</td>\n",
       "    </tr>\n",
       "    <tr>\n",
       "      <td>1</td>\n",
       "      <td>hao-chen</td>\n",
       "      <td>jesse-middleton</td>\n",
       "      <td>1</td>\n",
       "      <td>0.111111</td>\n",
       "    </tr>\n",
       "    <tr>\n",
       "      <td>2</td>\n",
       "      <td>hao-chen</td>\n",
       "      <td>jh-madison-kim</td>\n",
       "      <td>1</td>\n",
       "      <td>0.111111</td>\n",
       "    </tr>\n",
       "    <tr>\n",
       "      <td>3</td>\n",
       "      <td>hao-chen</td>\n",
       "      <td>tara-whittle</td>\n",
       "      <td>1</td>\n",
       "      <td>0.111111</td>\n",
       "    </tr>\n",
       "  </tbody>\n",
       "</table>\n",
       "</div>"
      ],
      "text/plain": [
       "   userid_x         userid_y  count   percent\n",
       "0  hao-chen       dan-ubilla      6  0.666667\n",
       "1  hao-chen  jesse-middleton      1  0.111111\n",
       "2  hao-chen   jh-madison-kim      1  0.111111\n",
       "3  hao-chen     tara-whittle      1  0.111111"
      ]
     },
     "execution_count": 28,
     "metadata": {},
     "output_type": "execute_result"
    }
   ],
   "source": [
    "meetup_store[111]"
   ]
  },
  {
   "cell_type": "code",
   "execution_count": 12,
   "metadata": {},
   "outputs": [
    {
     "data": {
      "text/plain": [
       "17.432972222222222"
      ]
     },
     "execution_count": 12,
     "metadata": {},
     "output_type": "execute_result"
    }
   ],
   "source": [
    "82*15307/20/3600"
   ]
  },
  {
   "cell_type": "code",
   "execution_count": null,
   "metadata": {},
   "outputs": [],
   "source": []
  }
 ],
 "metadata": {
  "kernelspec": {
   "display_name": "Python 3",
   "language": "python",
   "name": "python3"
  },
  "language_info": {
   "codemirror_mode": {
    "name": "ipython",
    "version": 3
   },
   "file_extension": ".py",
   "mimetype": "text/x-python",
   "name": "python",
   "nbconvert_exporter": "python",
   "pygments_lexer": "ipython3",
   "version": "3.6.9"
  }
 },
 "nbformat": 4,
 "nbformat_minor": 2
}
