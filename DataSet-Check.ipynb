{
 "cells": [
  {
   "cell_type": "markdown",
   "metadata": {},
   "source": [
    "# Dataset check"
   ]
  },
  {
   "cell_type": "code",
   "execution_count": 4,
   "metadata": {
    "ExecuteTime": {
     "end_time": "2020-07-14T22:25:48.882911Z",
     "start_time": "2020-07-14T22:25:48.833335Z"
    }
   },
   "outputs": [
    {
     "name": "stdout",
     "output_type": "stream",
     "text": [
      "The autoreload extension is already loaded. To reload it, use:\n",
      "  %reload_ext autoreload\n"
     ]
    }
   ],
   "source": [
    "import pandas as pd\n",
    "import numpy as np\n",
    "import util\n",
    "import preprocessing as pp\n",
    "%load_ext autoreload\n",
    "%autoreload 2\n",
    "import meetup_strategy as ms\n",
    "import time \n",
    "import pickle"
   ]
  },
  {
   "cell_type": "markdown",
   "metadata": {},
   "source": [
    "## Weeplace dataset"
   ]
  },
  {
   "cell_type": "code",
   "execution_count": 5,
   "metadata": {
    "ExecuteTime": {
     "end_time": "2020-07-14T22:26:26.562083Z",
     "start_time": "2020-07-14T22:26:10.267748Z"
    }
   },
   "outputs": [],
   "source": [
    "df_wp = pd.read_csv('data/weeplace_checkins.csv')\n",
    "df_wp_process = pp.pre_processing(df_wp, min_records=200)"
   ]
  },
  {
   "cell_type": "code",
   "execution_count": 20,
   "metadata": {
    "ExecuteTime": {
     "end_time": "2020-07-14T22:48:26.194611Z",
     "start_time": "2020-07-14T22:48:25.881452Z"
    }
   },
   "outputs": [],
   "source": [
    "df_wp_user = list(set(df_wp_process['userid'].tolist()))"
   ]
  },
  {
   "cell_type": "code",
   "execution_count": 22,
   "metadata": {
    "ExecuteTime": {
     "end_time": "2020-07-14T22:50:56.501564Z",
     "start_time": "2020-07-14T22:50:56.330606Z"
    }
   },
   "outputs": [],
   "source": [
    "df_wp_friend = pd.read_csv('data/weeplace_friends.csv')\n",
    "df_wp_friend = df_wp_friend[(df_wp_friend['userid1'].isin(df_wp_user)) & (df_wp_friend['userid2'].isin(df_wp_user))]"
   ]
  },
  {
   "cell_type": "code",
   "execution_count": 24,
   "metadata": {
    "ExecuteTime": {
     "end_time": "2020-07-14T22:59:26.116821Z",
     "start_time": "2020-07-14T22:59:26.060398Z"
    }
   },
   "outputs": [],
   "source": [
    "df_wp_friend_ego = list(set(df_wp_friend['userid1'].tolist()))\n",
    "df_wp_friend_alter = list(set(df_wp_friend['userid2'].tolist()))\n",
    "df_wp_friend_user = list(set(df_wp_friend['userid1'].tolist()) & set(df_wp_friend['userid2'].tolist()))"
   ]
  },
  {
   "cell_type": "code",
   "execution_count": 29,
   "metadata": {
    "ExecuteTime": {
     "end_time": "2020-07-14T23:02:00.772401Z",
     "start_time": "2020-07-14T23:01:59.231598Z"
    }
   },
   "outputs": [
    {
     "name": "stdout",
     "output_type": "stream",
     "text": [
      "check-ins: 6832168 \n",
      "users: 10271 \n",
      "UPlaceid: 896292 \n",
      "user-ego: 9679 \n",
      "user-alter: 9679 \n",
      "all user 9679\n"
     ]
    }
   ],
   "source": [
    "print('check-ins:', df_wp_process['userid'].count(), '\\n'\n",
    "      'users:', df_wp_process['userid'].nunique(), '\\n'\n",
    "      'UPlaceid:', df_wp_process['placeid'].nunique(), '\\n'\n",
    "      'user-ego:', len(df_wp_friend_ego), '\\n'\n",
    "      'user-alter:', len(df_wp_friend_alter), '\\n'\n",
    "      'all user', len(df_wp_friend_user)\n",
    "     )"
   ]
  },
  {
   "cell_type": "markdown",
   "metadata": {},
   "source": [
    "## BrightKite Dataset"
   ]
  },
  {
   "cell_type": "code",
   "execution_count": 16,
   "metadata": {
    "ExecuteTime": {
     "end_time": "2020-07-14T22:41:16.912601Z",
     "start_time": "2020-07-14T22:41:12.360572Z"
    }
   },
   "outputs": [],
   "source": [
    "df_bk = pd.read_table('data/Brightkite_totalCheckins.txt', header=None)\n",
    "df_bk.columns=['userid', 'datetime', 'lat', 'lon', 'placeid']"
   ]
  },
  {
   "cell_type": "code",
   "execution_count": 30,
   "metadata": {
    "ExecuteTime": {
     "end_time": "2020-07-14T23:07:19.994452Z",
     "start_time": "2020-07-14T23:07:15.339777Z"
    }
   },
   "outputs": [],
   "source": [
    "df_bk_process = pp.pre_processing(df_bk, min_records=200)\n",
    "df_bk_user = list(set(df_bk_process['userid'].tolist()))"
   ]
  },
  {
   "cell_type": "code",
   "execution_count": 34,
   "metadata": {
    "ExecuteTime": {
     "end_time": "2020-07-14T23:10:45.466596Z",
     "start_time": "2020-07-14T23:10:45.307161Z"
    }
   },
   "outputs": [],
   "source": [
    "df_bk_friend = pd.read_table('data/Brightkite_edges.txt', header=None)\n",
    "df_bk_friend.columns = ['userid1', 'userid2']\n",
    "df_bk_friend = df_bk_friend[(df_bk_friend['userid1'].isin(df_bk_user)) & (df_bk_friend['userid2'].isin(df_bk_user))]"
   ]
  },
  {
   "cell_type": "code",
   "execution_count": 35,
   "metadata": {
    "ExecuteTime": {
     "end_time": "2020-07-14T23:11:39.888538Z",
     "start_time": "2020-07-14T23:11:39.807752Z"
    }
   },
   "outputs": [],
   "source": [
    "df_bk_friend_ego = list(set(df_bk_friend['userid1'].tolist()))\n",
    "df_bk_friend_alter = list(set(df_bk_friend['userid2'].tolist()))\n",
    "df_bk_friend_user = list(set(df_bk_friend['userid1'].tolist()) & set(df_bk_friend['userid2'].tolist()))"
   ]
  },
  {
   "cell_type": "code",
   "execution_count": 36,
   "metadata": {
    "ExecuteTime": {
     "end_time": "2020-07-14T23:12:13.765046Z",
     "start_time": "2020-07-14T23:12:13.351050Z"
    }
   },
   "outputs": [
    {
     "name": "stdout",
     "output_type": "stream",
     "text": [
      "check-ins: 3540717 \n",
      "users: 5159 \n",
      "UPlaceid: 464332 \n",
      "user-ego: 4689 \n",
      "user-alter: 4689 \n",
      "all user 4689\n"
     ]
    }
   ],
   "source": [
    "print('check-ins:', df_bk_process['userid'].count(), '\\n'\n",
    "      'users:', df_bk_process['userid'].nunique(), '\\n'\n",
    "      'UPlaceid:', df_bk_process['placeid'].nunique(), '\\n'\n",
    "      'user-ego:', len(df_bk_friend_ego), '\\n'\n",
    "      'user-alter:', len(df_bk_friend_alter), '\\n'\n",
    "      'all user', len(df_bk_friend_user)\n",
    "     )"
   ]
  },
  {
   "cell_type": "markdown",
   "metadata": {},
   "source": [
    "## Gowalla dataset"
   ]
  },
  {
   "cell_type": "code",
   "execution_count": 39,
   "metadata": {
    "ExecuteTime": {
     "end_time": "2020-07-14T23:51:57.278487Z",
     "start_time": "2020-07-14T23:51:37.411013Z"
    }
   },
   "outputs": [],
   "source": [
    "df_gw = pd.read_csv('data/gowalla_checkins.csv')\n",
    "df_gw.columns=['userid','placeid', 'datetime']\n",
    "df_gw['lat'] = 'unknown'\n",
    "df_gw['lon'] = 'unknown'"
   ]
  },
  {
   "cell_type": "code",
   "execution_count": 41,
   "metadata": {
    "ExecuteTime": {
     "end_time": "2020-07-14T23:53:10.880192Z",
     "start_time": "2020-07-14T23:52:32.196309Z"
    }
   },
   "outputs": [],
   "source": [
    "df_gw_process = pp.pre_processing(df_gw, min_records=200)\n",
    "df_gw_user = list(set(df_gw_process['userid'].tolist()))"
   ]
  },
  {
   "cell_type": "code",
   "execution_count": 42,
   "metadata": {
    "ExecuteTime": {
     "end_time": "2020-07-14T23:53:31.261271Z",
     "start_time": "2020-07-14T23:53:29.209002Z"
    }
   },
   "outputs": [],
   "source": [
    "df_gw_friend = pd.read_csv('data/gowalla_friendship.csv')\n",
    "df_gw_friend.columns = ['userid1', 'userid2']\n",
    "df_gw_friend = df_gw_friend[(df_gw_friend['userid1'].isin(df_gw_user)) & (df_gw_friend['userid2'].isin(df_gw_user))]"
   ]
  },
  {
   "cell_type": "code",
   "execution_count": 43,
   "metadata": {
    "ExecuteTime": {
     "end_time": "2020-07-14T23:53:34.002182Z",
     "start_time": "2020-07-14T23:53:33.786548Z"
    }
   },
   "outputs": [],
   "source": [
    "df_gw_friend_ego = list(set(df_gw_friend['userid1'].tolist()))\n",
    "df_gw_friend_alter = list(set(df_gw_friend['userid2'].tolist()))\n",
    "df_gw_friend_user = list(set(df_gw_friend['userid1'].tolist()) & set(df_gw_friend['userid2'].tolist()))"
   ]
  },
  {
   "cell_type": "code",
   "execution_count": 44,
   "metadata": {
    "ExecuteTime": {
     "end_time": "2020-07-14T23:53:36.662599Z",
     "start_time": "2020-07-14T23:53:35.902806Z"
    }
   },
   "outputs": [
    {
     "name": "stdout",
     "output_type": "stream",
     "text": [
      "check-ins: 26266973 \n",
      "users: 37496 \n",
      "UPlaceid: 2356590 \n",
      "user-ego: 34815 \n",
      "user-alter: 34815 \n",
      "all user 34815\n"
     ]
    }
   ],
   "source": [
    "print('check-ins:', df_gw_process['userid'].count(), '\\n'\n",
    "      'users:', df_gw_process['userid'].nunique(), '\\n'\n",
    "      'UPlaceid:', df_gw_process['placeid'].nunique(), '\\n'\n",
    "      'user-ego:', len(df_gw_friend_ego), '\\n'\n",
    "      'user-alter:', len(df_gw_friend_alter), '\\n'\n",
    "      'all user', len(df_gw_friend_user)\n",
    "     )"
   ]
  },
  {
   "cell_type": "code",
   "execution_count": null,
   "metadata": {},
   "outputs": [],
   "source": []
  }
 ],
 "metadata": {
  "kernelspec": {
   "display_name": "Python 3",
   "language": "python",
   "name": "python3"
  },
  "language_info": {
   "codemirror_mode": {
    "name": "ipython",
    "version": 3
   },
   "file_extension": ".py",
   "mimetype": "text/x-python",
   "name": "python",
   "nbconvert_exporter": "python",
   "pygments_lexer": "ipython3",
   "version": "3.6.10"
  }
 },
 "nbformat": 4,
 "nbformat_minor": 4
}
