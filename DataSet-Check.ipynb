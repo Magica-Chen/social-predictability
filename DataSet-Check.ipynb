{
 "cells": [
  {
   "cell_type": "markdown",
   "metadata": {},
   "source": [
    "# Dataset check"
   ]
  },
  {
   "cell_type": "code",
   "execution_count": 1,
   "metadata": {
    "ExecuteTime": {
     "end_time": "2020-11-12T17:35:17.297898Z",
     "start_time": "2020-11-12T17:35:15.446256Z"
    }
   },
   "outputs": [],
   "source": [
    "import pandas as pd\n",
    "import numpy as np\n",
    "import util\n",
    "import preprocessing as pp\n",
    "%load_ext autoreload\n",
    "%autoreload 2\n",
    "import meetup_strategy as ms\n",
    "import time \n",
    "import pickle"
   ]
  },
  {
   "cell_type": "markdown",
   "metadata": {},
   "source": [
    "## Weeplace dataset"
   ]
  },
  {
   "cell_type": "code",
   "execution_count": 2,
   "metadata": {
    "ExecuteTime": {
     "end_time": "2020-11-12T17:35:48.730235Z",
     "start_time": "2020-11-12T17:35:21.790266Z"
    }
   },
   "outputs": [],
   "source": [
    "df_wp = pd.read_csv('data/weeplace_checkins.csv')\n",
    "df_wp_process = pp.pre_processing(df_wp, min_records=150)"
   ]
  },
  {
   "cell_type": "code",
   "execution_count": 4,
   "metadata": {
    "ExecuteTime": {
     "end_time": "2020-11-12T17:36:30.767020Z",
     "start_time": "2020-11-12T17:36:30.575796Z"
    }
   },
   "outputs": [],
   "source": [
    "df_wp_user = list(set(df_wp_process['userid'].tolist()))"
   ]
  },
  {
   "cell_type": "code",
   "execution_count": 5,
   "metadata": {
    "ExecuteTime": {
     "end_time": "2020-11-12T17:36:32.899068Z",
     "start_time": "2020-11-12T17:36:32.620567Z"
    }
   },
   "outputs": [],
   "source": [
    "df_wp_friend = pd.read_csv('data/weeplace_friends.csv')\n",
    "df_wp_friend = df_wp_friend[(df_wp_friend['userid1'].isin(df_wp_user)) & (df_wp_friend['userid2'].isin(df_wp_user))]"
   ]
  },
  {
   "cell_type": "code",
   "execution_count": 6,
   "metadata": {
    "ExecuteTime": {
     "end_time": "2020-11-12T17:36:35.087660Z",
     "start_time": "2020-11-12T17:36:35.039842Z"
    }
   },
   "outputs": [],
   "source": [
    "df_wp_friend_ego = list(set(df_wp_friend['userid1'].tolist()))\n",
    "df_wp_friend_alter = list(set(df_wp_friend['userid2'].tolist()))\n",
    "df_wp_friend_user = list(set(df_wp_friend['userid1'].tolist() + df_wp_friend['userid2'].tolist()))"
   ]
  },
  {
   "cell_type": "code",
   "execution_count": 7,
   "metadata": {
    "ExecuteTime": {
     "end_time": "2020-11-12T17:36:38.862809Z",
     "start_time": "2020-11-12T17:36:36.972525Z"
    }
   },
   "outputs": [
    {
     "name": "stdout",
     "output_type": "stream",
     "text": [
      "check-ins: 7049037 \n",
      "users: 11533 \n",
      "UPlaceid: 924666 \n",
      "user-ego: 10999 \n",
      "user-alter: 10998 \n",
      "all user 10999\n"
     ]
    }
   ],
   "source": [
    "print('check-ins:', df_wp_process['userid'].count(), '\\n'\n",
    "      'users:', df_wp_process['userid'].nunique(), '\\n'\n",
    "      'UPlaceid:', df_wp_process['placeid'].nunique(), '\\n'\n",
    "      'user-ego:', len(df_wp_friend_ego), '\\n'\n",
    "      'user-alter:', len(df_wp_friend_alter), '\\n'\n",
    "      'all user', len(df_wp_friend_user)\n",
    "     )"
   ]
  },
  {
   "cell_type": "code",
   "execution_count": 10,
   "metadata": {
    "ExecuteTime": {
     "end_time": "2020-08-19T14:05:34.594709Z",
     "start_time": "2020-08-19T14:05:34.564213Z"
    }
   },
   "outputs": [
    {
     "data": {
      "text/plain": [
       "81511"
      ]
     },
     "execution_count": 10,
     "metadata": {},
     "output_type": "execute_result"
    }
   ],
   "source": [
    "len(df_wp_friend)"
   ]
  },
  {
   "cell_type": "markdown",
   "metadata": {},
   "source": [
    "## BrightKite Dataset"
   ]
  },
  {
   "cell_type": "code",
   "execution_count": 11,
   "metadata": {
    "ExecuteTime": {
     "end_time": "2020-07-27T22:48:05.768994Z",
     "start_time": "2020-07-27T22:48:01.087260Z"
    }
   },
   "outputs": [],
   "source": [
    "# df_bk = pd.read_table('data/Brightkite_totalCheckins.txt', header=None)\n",
    "# df_bk.columns=['userid', 'datetime', 'lat', 'lon', 'placeid']"
   ]
  },
  {
   "cell_type": "markdown",
   "metadata": {},
   "source": [
    "Remove all missing values"
   ]
  },
  {
   "cell_type": "code",
   "execution_count": 16,
   "metadata": {
    "ExecuteTime": {
     "end_time": "2020-07-27T22:58:52.320121Z",
     "start_time": "2020-07-27T22:58:51.899326Z"
    }
   },
   "outputs": [],
   "source": [
    "# df_bk = df_bk[(df_bk['lat'] != 0.0) & (df_bk['lon'] != 0.0)]"
   ]
  },
  {
   "cell_type": "code",
   "execution_count": 18,
   "metadata": {
    "ExecuteTime": {
     "end_time": "2020-07-27T22:59:49.928412Z",
     "start_time": "2020-07-27T22:59:33.554849Z"
    }
   },
   "outputs": [],
   "source": [
    "# df_bk.to_csv('data/brightkite_checkins.csv', index=False)"
   ]
  },
  {
   "cell_type": "code",
   "execution_count": 11,
   "metadata": {
    "ExecuteTime": {
     "end_time": "2020-08-03T12:17:32.701145Z",
     "start_time": "2020-08-03T12:17:28.054531Z"
    }
   },
   "outputs": [],
   "source": [
    "df_bk = pd.read_csv('data/brightkite_checkins.csv')"
   ]
  },
  {
   "cell_type": "code",
   "execution_count": 12,
   "metadata": {
    "ExecuteTime": {
     "end_time": "2020-08-03T12:17:39.970755Z",
     "start_time": "2020-08-03T12:17:34.697350Z"
    }
   },
   "outputs": [],
   "source": [
    "df_bk_process = pp.pre_processing(df_bk, min_records=150)\n",
    "df_bk_user = list(set(df_bk_process['userid'].tolist()))"
   ]
  },
  {
   "cell_type": "code",
   "execution_count": 20,
   "metadata": {
    "ExecuteTime": {
     "end_time": "2020-07-27T23:00:39.423082Z",
     "start_time": "2020-07-27T23:00:39.295807Z"
    }
   },
   "outputs": [],
   "source": [
    "# df_bk_friend = pd.read_table('data/Brightkite_edges.txt', header=None)\n",
    "# df_bk_friend.columns = ['userid1', 'userid2']"
   ]
  },
  {
   "cell_type": "code",
   "execution_count": 21,
   "metadata": {
    "ExecuteTime": {
     "end_time": "2020-07-27T23:00:44.712213Z",
     "start_time": "2020-07-27T23:00:43.980910Z"
    }
   },
   "outputs": [],
   "source": [
    "# df_bk_friend.to_csv('data/brightkite_friends.csv', index=False)"
   ]
  },
  {
   "cell_type": "code",
   "execution_count": 11,
   "metadata": {
    "ExecuteTime": {
     "end_time": "2020-08-19T14:05:48.981579Z",
     "start_time": "2020-08-19T14:05:48.836574Z"
    }
   },
   "outputs": [],
   "source": [
    "df_bk_friend = pd.read_csv('data/brightkite_friends.csv')"
   ]
  },
  {
   "cell_type": "code",
   "execution_count": 14,
   "metadata": {
    "ExecuteTime": {
     "end_time": "2020-08-03T12:20:26.988247Z",
     "start_time": "2020-08-03T12:20:26.901131Z"
    }
   },
   "outputs": [],
   "source": [
    "df_bk_friend = df_bk_friend[(df_bk_friend['userid1'].isin(df_bk_user)) & (df_bk_friend['userid2'].isin(df_bk_user))]\n",
    "df_bk_friend_ego = list(set(df_bk_friend['userid1'].tolist()))\n",
    "df_bk_friend_alter = list(set(df_bk_friend['userid2'].tolist()))\n",
    "df_bk_friend_user = list(set(df_bk_friend['userid1'].tolist() + df_bk_friend['userid2'].tolist()))"
   ]
  },
  {
   "cell_type": "code",
   "execution_count": 15,
   "metadata": {
    "ExecuteTime": {
     "end_time": "2020-08-03T12:20:29.812914Z",
     "start_time": "2020-08-03T12:20:29.255510Z"
    }
   },
   "outputs": [
    {
     "name": "stdout",
     "output_type": "stream",
     "text": [
      "check-ins: 3513895 \n",
      "users: 6132 \n",
      "UPlaceid: 510308 \n",
      "user-ego: 5671 \n",
      "user-alter: 5671 \n",
      "all user 5671\n"
     ]
    }
   ],
   "source": [
    "print('check-ins:', df_bk_process['userid'].count(), '\\n'\n",
    "      'users:', df_bk_process['userid'].nunique(), '\\n'\n",
    "      'UPlaceid:', df_bk_process['placeid'].nunique(), '\\n'\n",
    "      'user-ego:', len(df_bk_friend_ego), '\\n'\n",
    "      'user-alter:', len(df_bk_friend_alter), '\\n'\n",
    "      'all user', len(df_bk_friend_user)\n",
    "     )"
   ]
  },
  {
   "cell_type": "code",
   "execution_count": 12,
   "metadata": {
    "ExecuteTime": {
     "end_time": "2020-08-19T14:05:59.007816Z",
     "start_time": "2020-08-19T14:05:58.978937Z"
    }
   },
   "outputs": [
    {
     "data": {
      "text/plain": [
       "428156"
      ]
     },
     "execution_count": 12,
     "metadata": {},
     "output_type": "execute_result"
    }
   ],
   "source": [
    "len(df_bk_friend)"
   ]
  },
  {
   "cell_type": "markdown",
   "metadata": {},
   "source": [
    "## Gowalla dataset"
   ]
  },
  {
   "cell_type": "code",
   "execution_count": 4,
   "metadata": {
    "ExecuteTime": {
     "end_time": "2020-08-05T21:57:11.748973Z",
     "start_time": "2020-08-05T21:56:43.300634Z"
    }
   },
   "outputs": [],
   "source": [
    "df_gw = pd.read_csv('data/gowalla_checkins.csv')\n",
    "# df_gw.columns=['userid','placeid', 'datetime']\n",
    "# df_gw['lat'] = 'unknown'\n",
    "# df_gw['lon'] = 'unknown'"
   ]
  },
  {
   "cell_type": "code",
   "execution_count": 9,
   "metadata": {
    "ExecuteTime": {
     "end_time": "2020-07-23T16:46:43.937031Z",
     "start_time": "2020-07-23T16:45:39.285472Z"
    }
   },
   "outputs": [],
   "source": [
    "# df_gw.to_csv('data/gowalla_checkins.csv', index=False)"
   ]
  },
  {
   "cell_type": "code",
   "execution_count": 9,
   "metadata": {
    "ExecuteTime": {
     "end_time": "2020-08-05T22:01:00.037045Z",
     "start_time": "2020-08-05T22:00:21.338820Z"
    }
   },
   "outputs": [],
   "source": [
    "df_gw_process = pp.pre_processing(df_gw, min_records=150)\n",
    "df_gw_user = list(set(df_gw_process['userid'].tolist()))"
   ]
  },
  {
   "cell_type": "code",
   "execution_count": 11,
   "metadata": {
    "ExecuteTime": {
     "end_time": "2020-07-23T16:47:25.088446Z",
     "start_time": "2020-07-23T16:47:24.082962Z"
    }
   },
   "outputs": [],
   "source": [
    "# df_gw_friend = pd.read_csv('data/gowalla_friendship.csv')\n",
    "# df_gw_friend.columns = ['userid1', 'userid2']\n",
    "# df_gw_friend.to_csv('data/gowalla_friends.csv', index=False)"
   ]
  },
  {
   "cell_type": "code",
   "execution_count": 13,
   "metadata": {
    "ExecuteTime": {
     "end_time": "2020-08-19T14:06:19.105628Z",
     "start_time": "2020-08-19T14:06:18.693030Z"
    }
   },
   "outputs": [],
   "source": [
    "df_gw_friend = pd.read_csv('data/gowalla_friends.csv')"
   ]
  },
  {
   "cell_type": "code",
   "execution_count": 20,
   "metadata": {
    "ExecuteTime": {
     "end_time": "2020-08-03T12:25:08.237252Z",
     "start_time": "2020-08-03T12:25:06.727143Z"
    }
   },
   "outputs": [],
   "source": [
    "df_gw_friend = df_gw_friend[(df_gw_friend['userid1'].isin(df_gw_user)) & (df_gw_friend['userid2'].isin(df_gw_user))]\n",
    "df_gw_friend_ego = list(set(df_gw_friend['userid1'].tolist()))\n",
    "df_gw_friend_alter = list(set(df_gw_friend['userid2'].tolist()))\n",
    "df_gw_friend_user = list(set(df_gw_friend['userid1'].tolist()) & set(df_gw_friend['userid2'].tolist()))"
   ]
  },
  {
   "cell_type": "code",
   "execution_count": 21,
   "metadata": {
    "ExecuteTime": {
     "end_time": "2020-08-03T12:25:10.651792Z",
     "start_time": "2020-08-03T12:25:09.893349Z"
    }
   },
   "outputs": [
    {
     "name": "stdout",
     "output_type": "stream",
     "text": [
      "check-ins: 28179780 \n",
      "users: 48577 \n",
      "UPlaceid: 2441512 \n",
      "user-ego: 45396 \n",
      "user-alter: 45396 \n",
      "all user 45396\n"
     ]
    }
   ],
   "source": [
    "print('check-ins:', df_gw_process['userid'].count(), '\\n'\n",
    "      'users:', df_gw_process['userid'].nunique(), '\\n'\n",
    "      'UPlaceid:', df_gw_process['placeid'].nunique(), '\\n'\n",
    "      'user-ego:', len(df_gw_friend_ego), '\\n'\n",
    "      'user-alter:', len(df_gw_friend_alter), '\\n'\n",
    "      'all user', len(df_gw_friend_user)\n",
    "     )"
   ]
  },
  {
   "cell_type": "code",
   "execution_count": 14,
   "metadata": {
    "ExecuteTime": {
     "end_time": "2020-08-19T14:06:35.427371Z",
     "start_time": "2020-08-19T14:06:35.398264Z"
    }
   },
   "outputs": [
    {
     "data": {
      "text/plain": [
       "1900654"
      ]
     },
     "execution_count": 14,
     "metadata": {},
     "output_type": "execute_result"
    }
   ],
   "source": [
    "len(df_gw_friend)"
   ]
  },
  {
   "cell_type": "markdown",
   "metadata": {},
   "source": [
    "# Gowalla from SNAP"
   ]
  },
  {
   "cell_type": "code",
   "execution_count": 3,
   "metadata": {
    "ExecuteTime": {
     "end_time": "2020-08-05T21:56:14.930108Z",
     "start_time": "2020-08-05T21:56:09.377559Z"
    }
   },
   "outputs": [],
   "source": [
    "df_gw_new = pd.read_table('data/Gowalla_totalCheckins.txt', header=None)\n",
    "df_gw_new.columns=['userid', 'datetime', 'lat', 'lon', 'placeid']"
   ]
  },
  {
   "cell_type": "code",
   "execution_count": 13,
   "metadata": {
    "ExecuteTime": {
     "end_time": "2020-08-05T22:10:45.314925Z",
     "start_time": "2020-08-05T22:10:22.157534Z"
    }
   },
   "outputs": [],
   "source": [
    "df_gw_new.to_csv('data/gowalla_checkins.csv', index=False)"
   ]
  },
  {
   "cell_type": "code",
   "execution_count": 14,
   "metadata": {
    "ExecuteTime": {
     "end_time": "2020-08-05T22:11:14.090105Z",
     "start_time": "2020-08-05T22:11:08.255237Z"
    }
   },
   "outputs": [
    {
     "name": "stderr",
     "output_type": "stream",
     "text": [
      "/opt/conda/lib/python3.6/site-packages/pandas/core/ops/array_ops.py:253: FutureWarning: elementwise comparison failed; returning scalar instead, but in the future will perform elementwise comparison\n",
      "  res_values = method(rvalues)\n"
     ]
    }
   ],
   "source": [
    "df_gw_new_process = pp.pre_processing(df_gw_new, min_records=150)\n",
    "df_gw_new_user = list(set(df_gw_new_process['userid'].tolist()))"
   ]
  },
  {
   "cell_type": "code",
   "execution_count": 16,
   "metadata": {
    "ExecuteTime": {
     "end_time": "2020-08-19T14:07:05.040691Z",
     "start_time": "2020-08-19T14:07:04.655871Z"
    }
   },
   "outputs": [],
   "source": [
    "df_gw_new_friend = pd.read_table('data/Gowalla_edges.txt', header=None)\n",
    "df_gw_new_friend.columns = ['userid1', 'userid2']"
   ]
  },
  {
   "cell_type": "code",
   "execution_count": 18,
   "metadata": {
    "ExecuteTime": {
     "end_time": "2020-08-05T22:16:42.363672Z",
     "start_time": "2020-08-05T22:16:40.152078Z"
    }
   },
   "outputs": [],
   "source": [
    "df_gw_new_friend.to_csv('data/gowalla_friends.csv', index=False)"
   ]
  },
  {
   "cell_type": "code",
   "execution_count": null,
   "metadata": {
    "ExecuteTime": {
     "end_time": "2020-08-19T14:07:12.889796Z",
     "start_time": "2020-08-19T14:07:12.832446Z"
    },
    "scrolled": true
   },
   "outputs": [],
   "source": [
    "df_gw_new_friend = df_gw_new_friend[(df_gw_new_friend['userid1'].isin(df_gw_new_user)\n",
    "                                    ) & (df_gw_new_friend['userid2'].isin(df_gw_new_user))]\n",
    "df_gw_new_friend_ego = list(set(df_gw_new_friend['userid1'].tolist()))\n",
    "df_gw_new_friend_alter = list(set(df_gw_new_friend['userid2'].tolist()))\n",
    "df_gw_new_friend_user = list(set(df_gw_new_friend['userid1'].tolist()) & set(df_gw_new_friend['userid2'].tolist()))"
   ]
  },
  {
   "cell_type": "code",
   "execution_count": 20,
   "metadata": {
    "ExecuteTime": {
     "end_time": "2020-08-05T22:20:27.885384Z",
     "start_time": "2020-08-05T22:20:27.718276Z"
    }
   },
   "outputs": [
    {
     "name": "stdout",
     "output_type": "stream",
     "text": [
      "check-ins: 3466392 \n",
      "users: 9937 \n",
      "UPlaceid: 850094 \n",
      "user-ego: 8155 \n",
      "user-alter: 8155 \n",
      "all user 8155\n"
     ]
    }
   ],
   "source": [
    "print('check-ins:', df_gw_new_process['userid'].count(), '\\n'\n",
    "      'users:', df_gw_new_process['userid'].nunique(), '\\n'\n",
    "      'UPlaceid:', df_gw_new_process['placeid'].nunique(), '\\n'\n",
    "      'user-ego:', len(df_gw_new_friend_ego), '\\n'\n",
    "      'user-alter:', len(df_gw_new_friend_alter), '\\n'\n",
    "      'all user', len(df_gw_new_friend_user)\n",
    "     )"
   ]
  },
  {
   "cell_type": "code",
   "execution_count": 19,
   "metadata": {
    "ExecuteTime": {
     "end_time": "2020-08-19T14:08:12.509420Z",
     "start_time": "2020-08-19T14:08:12.480366Z"
    }
   },
   "outputs": [
    {
     "data": {
      "text/plain": [
       "1900654"
      ]
     },
     "execution_count": 19,
     "metadata": {},
     "output_type": "execute_result"
    }
   ],
   "source": [
    "len(df_gw_new_friend)"
   ]
  },
  {
   "cell_type": "code",
   "execution_count": null,
   "metadata": {},
   "outputs": [],
   "source": []
  }
 ],
 "metadata": {
  "kernelspec": {
   "display_name": "Python 3",
   "language": "python",
   "name": "python3"
  },
  "language_info": {
   "codemirror_mode": {
    "name": "ipython",
    "version": 3
   },
   "file_extension": ".py",
   "mimetype": "text/x-python",
   "name": "python",
   "nbconvert_exporter": "python",
   "pygments_lexer": "ipython3",
   "version": "3.6.10"
  }
 },
 "nbformat": 4,
 "nbformat_minor": 4
}
