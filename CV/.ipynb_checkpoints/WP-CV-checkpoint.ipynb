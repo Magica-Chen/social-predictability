{
 "cells": [
  {
   "cell_type": "markdown",
   "metadata": {},
   "source": [
    "# Only focus on VIP network (Top 10 alters network)"
   ]
  },
  {
   "cell_type": "code",
   "execution_count": 1,
   "metadata": {
    "ExecuteTime": {
     "end_time": "2020-09-24T22:21:56.658430Z",
     "start_time": "2020-09-24T22:21:55.302268Z"
    }
   },
   "outputs": [],
   "source": [
    "import numpy as np\n",
    "import pandas as pd\n",
    "%load_ext autoreload\n",
    "%autoreload 2\n",
    "import meetup_strategy as ms\n",
    "import time \n",
    "import util\n",
    "import pickle"
   ]
  },
  {
   "cell_type": "code",
   "execution_count": 2,
   "metadata": {
    "ExecuteTime": {
     "end_time": "2020-09-24T22:21:58.171586Z",
     "start_time": "2020-09-24T22:21:58.140423Z"
    }
   },
   "outputs": [],
   "source": [
    "checkin_path = 'data/weeplace_checkins.csv'\n",
    "placeid_path = 'temp_data/wp-150/weeplace_placeidT_150.pickle'\n",
    "friendship_path = 'data/weeplace_friends.csv'\n",
    "VIP_network_path = 'final/wp-150/wp_VIP_MeetupNp.csv'"
   ]
  },
  {
   "cell_type": "code",
   "execution_count": 3,
   "metadata": {
    "ExecuteTime": {
     "end_time": "2020-09-24T22:22:00.812759Z",
     "start_time": "2020-09-24T22:22:00.702390Z"
    }
   },
   "outputs": [],
   "source": [
    "VIP_network = pd.read_csv(VIP_network_path)"
   ]
  },
  {
   "cell_type": "code",
   "execution_count": 4,
   "metadata": {
    "ExecuteTime": {
     "end_time": "2020-09-24T22:22:10.540323Z",
     "start_time": "2020-09-24T22:22:03.460581Z"
    }
   },
   "outputs": [],
   "source": [
    "# read picle file\n",
    "pickle_in = open(placeid_path, \"rb\")\n",
    "placeidT = pickle.load(pickle_in)\n",
    "pickle_in.close()"
   ]
  },
  {
   "cell_type": "code",
   "execution_count": 11,
   "metadata": {
    "ExecuteTime": {
     "end_time": "2020-09-24T22:24:38.343781Z",
     "start_time": "2020-09-24T22:24:38.295509Z"
    }
   },
   "outputs": [],
   "source": [
    "VIP_H_MFN = VIP_network[VIP_network['category'] == 'CB-1H-MFN'][['userid', 'userid_y']]"
   ]
  },
  {
   "cell_type": "markdown",
   "metadata": {},
   "source": [
    "## H-MFN"
   ]
  },
  {
   "cell_type": "code",
   "execution_count": 14,
   "metadata": {
    "ExecuteTime": {
     "end_time": "2020-09-24T22:28:31.881417Z",
     "start_time": "2020-09-24T22:28:31.837022Z"
    }
   },
   "outputs": [],
   "source": [
    "VIP_H_MFN.columns = ['userid_x', 'userid_y']"
   ]
  },
  {
   "cell_type": "code",
   "execution_count": 15,
   "metadata": {
    "ExecuteTime": {
     "end_time": "2020-09-24T22:28:56.257629Z",
     "start_time": "2020-09-24T22:28:35.787686Z"
    }
   },
   "outputs": [],
   "source": [
    "ValidGoodMeetupCV = ms.MeetupCrossValid(checkin_path, mins_records=150, name='wp_H_cv_vip10',freq='H',\n",
    "                            n_previous=None, user_meetup=None, total_meetup=VIP_H_MFN, placeidT=placeidT)\n",
    "# N_previous has already appeared in VIP_H_MFN"
   ]
  },
  {
   "cell_type": "code",
   "execution_count": 16,
   "metadata": {
    "ExecuteTime": {
     "end_time": "2020-09-24T22:29:12.285178Z",
     "start_time": "2020-09-24T22:29:12.225670Z"
    }
   },
   "outputs": [
    {
     "data": {
      "text/plain": [
       "285"
      ]
     },
     "execution_count": 16,
     "metadata": {},
     "output_type": "execute_result"
    }
   ],
   "source": [
    "len(ValidGoodMeetupCV.egolist)"
   ]
  },
  {
   "cell_type": "code",
   "execution_count": null,
   "metadata": {
    "ExecuteTime": {
     "start_time": "2020-09-24T22:29:44.526Z"
    }
   },
   "outputs": [
    {
     "name": "stdout",
     "output_type": "stream",
     "text": [
      "4sq-seoul\n",
      "aaron-cruz\n",
      "aaron-landry\n",
      "aaron-rutledge\n",
      "adam-cohen\n",
      "adam-fullerton\n",
      "adam-jackson\n",
      "adam-ostrow\n",
      "akshay-dodeja\n",
      "alastair-green\n",
      "alex-rainert\n",
      "alex-white\n",
      "alexis-dorenter\n",
      "alli\n",
      "amber-rae-lambke\n",
      "ana-h\n",
      "andrea-rosen\n",
      "andrei-zmievski\n",
      "andrew-grill\n",
      "andrew-mager\n",
      "andrew-pile\n",
      "andy-amendola\n",
      "andy-hadfield\n",
      "angela-baxley\n",
      "anita-brooklynbybike-singh\n",
      "anjelika-paranjpe\n",
      "anna-frenkel\n",
      "anthony-dines\n",
      "anton-volnuhin\n",
      "ari-greenberg\n",
      "ben-kessler\n",
      "ben-parr\n",
      "ben-roodman\n",
      "blake-whitman\n",
      "brady-forrest\n",
      "brandon-chesnutt\n",
      "brian-kalma\n",
      "brian-moore3\n",
      "brian-papa\n",
      "brian-stelter\n",
      "brynn-evans\n",
      "carla-blumenthal\n",
      "caroline-mccarthy\n",
      "carolyn-weiss\n",
      "cassel-kroll\n",
      "celsius\n",
      "chet-gulland\n",
      "chris-ayres\n",
      "chris-mccann8\n",
      "chris-messina7\n",
      "chris-oleary\n",
      "christian-hughes\n",
      "christine-ngo\n",
      "chuck-masucci\n",
      "chuck-reynolds\n",
      "conner-mccall\n",
      "cooper-smith7\n",
      "damian-damjanovski\n",
      "damien-basile\n",
      "dan-dofter\n",
      "daniel-newman\n",
      "danielle-morrill\n",
      "danny-nathan\n",
      "darrell-whitelaw\n",
      "dave-edwards\n",
      "dave-kerpen\n",
      "dave-taylor\n",
      "david-berkowitz\n",
      "david-lifson\n",
      "david-rosen\n",
      "david-trahan\n",
      "dawn-winchester\n",
      "dennis-yang\n",
      "dens\n",
      "derric-podschun\n",
      "devin-brown\n",
      "doug-akin\n",
      "doug-jaeger\n",
      "downtownrob-marlbrough\n",
      "ed-kohler\n",
      "elysa-rice\n",
      "emily-woolf\n",
      "emilyspearl\n",
      "enrico-gatti\n",
      "eric-andersen\n",
      "eric-petersen\n",
      "erin-gleason\n",
      "ernie-hsiung\n",
      "esther-assaad\n",
      "fazz0611\n",
      "fee-beyer\n",
      "florian-seroussi\n",
      "fred-wilson\n",
      "geoff-kim\n",
      "geoff-wood\n",
      "george-smith\n",
      "gerard-ramos\n",
      "giancarlo-pitocco\n",
      "gijsbregt-brouwer\n",
      "halle-tecco\n",
      "hashem-bajwa\n",
      "hawaii\n",
      "henry-balanon\n",
      "hillary-lannan\n",
      "iamkhayyam\n",
      "idan-cohen\n",
      "indira-vaidy\n",
      "jacob-btter\n",
      "jaime-punishill\n",
      "jake-furst\n",
      "james-whatley\n",
      "jan-videren6\n",
      "janelle-gunther\n",
      "janine-freriks\n",
      "jason-liszka\n",
      "jason-sack\n",
      "jasoncarlin\n",
      "jay-thompson\n",
      "jenn-lowther\n",
      "jennifer-van-grove\n",
      "jesse-middleton\n",
      "jessica-murray\n",
      "jessica01\n",
      "jill-hanner\n",
      "jim-techfrog-alden\n",
      "john-mccartney\n",
      "john-wallace6\n",
      "jon-steinberg\n",
      "joselin-mane\n",
      "josh-rubin\n",
      "josh-weinberger-kitson\n",
      "joshua-fishman\n",
      "joshua-kaufman\n",
      "jp-kim\n",
      "julie-minevich\n",
      "kaichi-kuroda\n",
      "karma\n",
      "kat-egan\n",
      "kate-goldsmith\n",
      "kate-ritchie\n",
      "keith-robinson\n",
      "kevin-silverman\n",
      "kevin-skobac\n",
      "keynas-jeong\n",
      "kristin-maverick\n",
      "krystyl-b\n",
      "kushal-dave\n",
      "kyle-cameron-studstill\n",
      "lars-bastholm\n",
      "laura-macleod\n",
      "laura-nolte\n",
      "lawrence-lewitinn\n",
      "lindsey-lanpher\n",
      "lisa-lang\n",
      "loritodd\n",
      "mac\n",
      "malcolm-ong\n",
      "manisha-m\n",
      "marcelino-alvarez\n",
      "marci-ikeler\n",
      "maria-ogneva\n",
      "mark-burstiner\n",
      "mark-g\n",
      "mark-himmelsbach\n",
      "martin-thornkvist\n",
      "mary-ann-porch\n",
      "mary-crosse\n",
      "matt-biddulph\n"
     ]
    }
   ],
   "source": [
    "ValidGoodMeetupCV.ego_info(n_shown=False, verbose=True, filesave=True)"
   ]
  },
  {
   "cell_type": "markdown",
   "metadata": {},
   "source": [
    "## TFN"
   ]
  },
  {
   "cell_type": "code",
   "execution_count": 18,
   "metadata": {
    "ExecuteTime": {
     "end_time": "2020-09-28T16:06:53.911611Z",
     "start_time": "2020-09-28T16:06:53.862430Z"
    }
   },
   "outputs": [],
   "source": [
    "VIP_TFN = VIP_network[VIP_network['category'] == 'TFN'][['userid', 'userid_y']]"
   ]
  },
  {
   "cell_type": "code",
   "execution_count": 19,
   "metadata": {
    "ExecuteTime": {
     "end_time": "2020-09-28T16:06:56.822836Z",
     "start_time": "2020-09-28T16:06:56.781368Z"
    }
   },
   "outputs": [],
   "source": [
    "VIP_TFN.columns = ['userid_x', 'userid_y']"
   ]
  },
  {
   "cell_type": "code",
   "execution_count": 20,
   "metadata": {
    "ExecuteTime": {
     "end_time": "2020-09-28T16:08:09.667614Z",
     "start_time": "2020-09-28T16:07:48.477125Z"
    }
   },
   "outputs": [],
   "source": [
    "TFN_vip_meetup = ms.MeetupCrossValid(checkin_path, mins_records=150, name='wp_TFN_cv_vip10',freq='H',\n",
    "                            n_previous=None, user_meetup=None, total_meetup=VIP_TFN, placeidT=placeidT)"
   ]
  },
  {
   "cell_type": "code",
   "execution_count": 21,
   "metadata": {
    "ExecuteTime": {
     "end_time": "2020-09-28T16:08:13.004960Z",
     "start_time": "2020-09-28T16:08:12.945942Z"
    }
   },
   "outputs": [
    {
     "data": {
      "text/plain": [
       "285"
      ]
     },
     "execution_count": 21,
     "metadata": {},
     "output_type": "execute_result"
    }
   ],
   "source": [
    "len(TFN_vip_meetup.egolist)"
   ]
  },
  {
   "cell_type": "code",
   "execution_count": null,
   "metadata": {
    "ExecuteTime": {
     "start_time": "2020-09-28T16:08:22.104Z"
    },
    "scrolled": true
   },
   "outputs": [
    {
     "name": "stdout",
     "output_type": "stream",
     "text": [
      "4sq-seoul\n",
      "aaron-cruz\n",
      "aaron-landry\n",
      "aaron-rutledge\n",
      "adam-cohen\n",
      "adam-fullerton\n",
      "adam-jackson\n",
      "adam-ostrow\n",
      "akshay-dodeja\n",
      "alastair-green\n",
      "alex-rainert\n",
      "alex-white\n",
      "alexis-dorenter\n",
      "alli\n",
      "amber-rae-lambke\n",
      "ana-h\n",
      "andrea-rosen\n",
      "andrei-zmievski\n",
      "andrew-grill\n",
      "andrew-mager\n",
      "andrew-pile\n",
      "andy-amendola\n",
      "andy-hadfield\n",
      "angela-baxley\n",
      "anita-brooklynbybike-singh\n",
      "anjelika-paranjpe\n",
      "anna-frenkel\n",
      "anthony-dines\n",
      "anton-volnuhin\n",
      "ari-greenberg\n",
      "ben-kessler\n",
      "ben-parr\n",
      "ben-roodman\n",
      "blake-whitman\n",
      "brady-forrest\n",
      "brandon-chesnutt\n",
      "brian-kalma\n",
      "brian-moore3\n",
      "brian-papa\n",
      "brian-stelter\n",
      "brynn-evans\n",
      "carla-blumenthal\n",
      "caroline-mccarthy\n",
      "carolyn-weiss\n"
     ]
    }
   ],
   "source": [
    "TFN_vip_meetup.ego_info(n_shown=False, verbose=True, filesave=True)"
   ]
  },
  {
   "cell_type": "markdown",
   "metadata": {},
   "source": [
    "# Compare and visualisation"
   ]
  },
  {
   "cell_type": "code",
   "execution_count": 23,
   "metadata": {
    "ExecuteTime": {
     "end_time": "2020-10-07T20:59:40.048993Z",
     "start_time": "2020-10-07T20:59:39.276163Z"
    }
   },
   "outputs": [],
   "source": [
    "TFN_vip = TFN_vip_meetup.cross_info.copy()\n",
    "H_MFN_vip = ValidGoodMeetupCV.cross_info.copy()"
   ]
  },
  {
   "cell_type": "code",
   "execution_count": 24,
   "metadata": {
    "ExecuteTime": {
     "end_time": "2020-10-07T21:00:05.101644Z",
     "start_time": "2020-10-07T21:00:05.045964Z"
    }
   },
   "outputs": [],
   "source": [
    "TFN_vip['category'] = 'Friendship'\n",
    "H_MFN_vip['category'] = 'CB-1H-CN'"
   ]
  },
  {
   "cell_type": "code",
   "execution_count": 25,
   "metadata": {
    "ExecuteTime": {
     "end_time": "2020-10-07T21:00:10.430555Z",
     "start_time": "2020-10-07T21:00:10.203099Z"
    }
   },
   "outputs": [],
   "source": [
    "vip_meetup = pd.concat([H_MFN_vip, TFN_vip])"
   ]
  },
  {
   "cell_type": "code",
   "execution_count": 26,
   "metadata": {
    "ExecuteTime": {
     "end_time": "2020-10-07T21:00:37.778914Z",
     "start_time": "2020-10-07T21:00:31.796928Z"
    }
   },
   "outputs": [],
   "source": [
    "vip_meetup.to_csv('final/wp-150-cv/wp_join_vip10_CV_MeetupNp.csv', index=False)"
   ]
  },
  {
   "cell_type": "code",
   "execution_count": 28,
   "metadata": {
    "ExecuteTime": {
     "end_time": "2020-10-07T21:01:07.539493Z",
     "start_time": "2020-10-07T21:01:07.496664Z"
    }
   },
   "outputs": [],
   "source": [
    "import visualization as vs"
   ]
  },
  {
   "cell_type": "code",
   "execution_count": 29,
   "metadata": {
    "ExecuteTime": {
     "end_time": "2020-10-07T21:01:19.318423Z",
     "start_time": "2020-10-07T21:01:13.679438Z"
    }
   },
   "outputs": [
    {
     "data": {
      "image/png": "[encoded data removed]",
      "text/plain": [
       "<Figure size 720x360 with 1 Axes>"
      ]
     },
     "metadata": {},
     "output_type": "display_data"
    }
   ],
   "source": [
    "vs.cv_compare_plot(vip_meetup, threshold=10, mode='talk', l=10, w=5, ci=95)"
   ]
  },
  {
   "cell_type": "code",
   "execution_count": null,
   "metadata": {},
   "outputs": [],
   "source": []
  },
  {
   "cell_type": "code",
   "execution_count": null,
   "metadata": {},
   "outputs": [],
   "source": []
  }
 ],
 "metadata": {
  "kernelspec": {
   "display_name": "Python 3",
   "language": "python",
   "name": "python3"
  },
  "language_info": {
   "codemirror_mode": {
    "name": "ipython",
    "version": 3
   },
   "file_extension": ".py",
   "mimetype": "text/x-python",
   "name": "python",
   "nbconvert_exporter": "python",
   "pygments_lexer": "ipython3",
   "version": "3.6.10"
  }
 },
 "nbformat": 4,
 "nbformat_minor": 4
}
