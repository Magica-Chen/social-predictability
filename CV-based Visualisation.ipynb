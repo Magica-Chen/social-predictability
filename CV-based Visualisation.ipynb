{
 "cells": [
  {
   "cell_type": "markdown",
   "metadata": {},
   "source": [
    "# Only consider \"helpful\" alters and focus on the alters who meet up with ego on at least 2 distinct co-locations"
   ]
  },
  {
   "cell_type": "code",
   "execution_count": 1,
   "metadata": {
    "ExecuteTime": {
     "end_time": "2020-05-06T13:16:38.073493Z",
     "start_time": "2020-05-06T13:16:37.399927Z"
    }
   },
   "outputs": [],
   "source": [
    "import numpy as np\n",
    "import pandas as pd\n",
    "%load_ext autoreload\n",
    "%autoreload 2\n",
    "import meetup_strategy as ms\n",
    "import time \n",
    "import pickle\n",
    "import "
   ]
  },
  {
   "cell_type": "code",
   "execution_count": 2,
   "metadata": {
    "ExecuteTime": {
     "end_time": "2020-05-06T13:16:50.575498Z",
     "start_time": "2020-05-06T13:16:45.925422Z"
    }
   },
   "outputs": [],
   "source": [
    "# read picle file\n",
    "pickle_in = open(\"n_previous_placeidT.pickle\", \"rb\")\n",
    "placeidT = pickle.load(pickle_in)\n",
    "pickle_in.close()"
   ]
  },
  {
   "cell_type": "code",
   "execution_count": 18,
   "metadata": {
    "ExecuteTime": {
     "end_time": "2020-05-06T13:25:58.208231Z",
     "start_time": "2020-05-06T13:25:57.966757Z"
    }
   },
   "outputs": [],
   "source": [
    "meetup_details_uniq = pd.read_csv('n_previous_total_good_meetup_uniq.csv')\n",
    "valid_meetup = meetup_details_uniq[meetup_details_uniq['unique_meetup'] > 1]"
   ]
  },
  {
   "cell_type": "code",
   "execution_count": 8,
   "metadata": {
    "ExecuteTime": {
     "end_time": "2020-05-06T13:20:12.523850Z",
     "start_time": "2020-05-06T13:20:12.502361Z"
    }
   },
   "outputs": [
    {
     "data": {
      "text/plain": [
       "1070"
      ]
     },
     "execution_count": 8,
     "metadata": {},
     "output_type": "execute_result"
    }
   ],
   "source": [
    "len(placeidT['laura-boychenko'])"
   ]
  },
  {
   "cell_type": "code",
   "execution_count": 76,
   "metadata": {
    "ExecuteTime": {
     "end_time": "2020-05-07T15:22:18.683609Z",
     "start_time": "2020-05-07T15:22:17.898904Z"
    }
   },
   "outputs": [],
   "source": [
    "lenPlaceID = {key: [len(placeidT[key]), len(set(placeidT[key]['placeid'].tolist()))] for key in placeidT.keys()}"
   ]
  },
  {
   "cell_type": "code",
   "execution_count": 78,
   "metadata": {
    "ExecuteTime": {
     "end_time": "2020-05-07T15:22:52.687662Z",
     "start_time": "2020-05-07T15:22:52.621066Z"
    }
   },
   "outputs": [
    {
     "data": {
      "text/html": [
       "<div>\n",
       "<style scoped>\n",
       "    .dataframe tbody tr th:only-of-type {\n",
       "        vertical-align: middle;\n",
       "    }\n",
       "\n",
       "    .dataframe tbody tr th {\n",
       "        vertical-align: top;\n",
       "    }\n",
       "\n",
       "    .dataframe thead th {\n",
       "        text-align: right;\n",
       "    }\n",
       "</style>\n",
       "<table border=\"1\" class=\"dataframe\">\n",
       "  <thead>\n",
       "    <tr style=\"text-align: right;\">\n",
       "      <th></th>\n",
       "      <th>userid</th>\n",
       "      <th>length</th>\n",
       "      <th>Uniq_length</th>\n",
       "    </tr>\n",
       "  </thead>\n",
       "  <tbody>\n",
       "    <tr>\n",
       "      <td>0</td>\n",
       "      <td>00-a</td>\n",
       "      <td>358</td>\n",
       "      <td>82</td>\n",
       "    </tr>\n",
       "    <tr>\n",
       "      <td>1</td>\n",
       "      <td>01</td>\n",
       "      <td>508</td>\n",
       "      <td>206</td>\n",
       "    </tr>\n",
       "    <tr>\n",
       "      <td>2</td>\n",
       "      <td>0403</td>\n",
       "      <td>208</td>\n",
       "      <td>121</td>\n",
       "    </tr>\n",
       "    <tr>\n",
       "      <td>3</td>\n",
       "      <td>08</td>\n",
       "      <td>3557</td>\n",
       "      <td>558</td>\n",
       "    </tr>\n",
       "    <tr>\n",
       "      <td>4</td>\n",
       "      <td>12</td>\n",
       "      <td>1075</td>\n",
       "      <td>103</td>\n",
       "    </tr>\n",
       "    <tr>\n",
       "      <td>...</td>\n",
       "      <td>...</td>\n",
       "      <td>...</td>\n",
       "      <td>...</td>\n",
       "    </tr>\n",
       "    <tr>\n",
       "      <td>10266</td>\n",
       "      <td>zsofia-cser</td>\n",
       "      <td>204</td>\n",
       "      <td>96</td>\n",
       "    </tr>\n",
       "    <tr>\n",
       "      <td>10267</td>\n",
       "      <td>zubin-irani</td>\n",
       "      <td>243</td>\n",
       "      <td>160</td>\n",
       "    </tr>\n",
       "    <tr>\n",
       "      <td>10268</td>\n",
       "      <td>zulfan-tm</td>\n",
       "      <td>1040</td>\n",
       "      <td>193</td>\n",
       "    </tr>\n",
       "    <tr>\n",
       "      <td>10269</td>\n",
       "      <td>zvi-band</td>\n",
       "      <td>239</td>\n",
       "      <td>111</td>\n",
       "    </tr>\n",
       "    <tr>\n",
       "      <td>10270</td>\n",
       "      <td>zwilling</td>\n",
       "      <td>337</td>\n",
       "      <td>115</td>\n",
       "    </tr>\n",
       "  </tbody>\n",
       "</table>\n",
       "<p>10271 rows × 3 columns</p>\n",
       "</div>"
      ],
      "text/plain": [
       "            userid  length  Uniq_length\n",
       "0             00-a     358           82\n",
       "1               01     508          206\n",
       "2             0403     208          121\n",
       "3               08    3557          558\n",
       "4               12    1075          103\n",
       "...            ...     ...          ...\n",
       "10266  zsofia-cser     204           96\n",
       "10267  zubin-irani     243          160\n",
       "10268    zulfan-tm    1040          193\n",
       "10269     zvi-band     239          111\n",
       "10270     zwilling     337          115\n",
       "\n",
       "[10271 rows x 3 columns]"
      ]
     },
     "execution_count": 78,
     "metadata": {},
     "output_type": "execute_result"
    }
   ],
   "source": [
    "df_lenPlaceID = pd.DataFrame.from_dict(lenPlaceID,  orient='index', columns=['length', 'Uniq_length']).reset_index()\n",
    "df_lenPlaceID.columns=['userid', 'length', 'Uniq_length']\n",
    "df_lenPlaceID"
   ]
  },
  {
   "cell_type": "markdown",
   "metadata": {},
   "source": [
    "##  Build a class and produce all results"
   ]
  },
  {
   "cell_type": "code",
   "execution_count": 40,
   "metadata": {
    "ExecuteTime": {
     "end_time": "2020-05-06T17:33:19.424883Z",
     "start_time": "2020-05-06T17:33:00.402822Z"
    }
   },
   "outputs": [],
   "source": [
    "ValidGoodMeetupCV = ms.MeetupCrossValid('data/weeplace_checkins.csv', mins_records=200, n_previous=200, \n",
    "                            user_meetup=None, total_meetup=valid_meetup, placeidT=placeidT)"
   ]
  },
  {
   "cell_type": "code",
   "execution_count": 42,
   "metadata": {
    "ExecuteTime": {
     "end_time": "2020-05-06T17:40:14.685909Z",
     "start_time": "2020-05-06T17:33:43.146034Z"
    },
    "scrolled": true
   },
   "outputs": [
    {
     "data": {
      "text/plain": [
       "391.4974904060364"
      ]
     },
     "execution_count": 42,
     "metadata": {},
     "output_type": "execute_result"
    }
   ],
   "source": [
    "start = time.time()\n",
    "A = ValidGoodMeetupCV._ego_alter(ego='victor-nguyen-long')\n",
    "time.time() - start"
   ]
  },
  {
   "cell_type": "markdown",
   "metadata": {},
   "source": [
    "Let's focus on only 10 meetupers"
   ]
  },
  {
   "cell_type": "code",
   "execution_count": 44,
   "metadata": {
    "ExecuteTime": {
     "end_time": "2020-05-07T07:31:35.258698Z",
     "start_time": "2020-05-06T17:43:23.921603Z"
    },
    "scrolled": false
   },
   "outputs": [
    {
     "name": "stdout",
     "output_type": "stream",
     "text": [
      "['andrew-grill', 'enrico-gatti', 'kira', 'sha-hwang', 'brady-forrest', 'matt-ganzak', 'david-klein', 'fox-woods', 'unityan', 'rafael-rivera', 'jennifer-boyd', 'karen-monahan', 'brad-thompson', 'connie-k', 'orchid-liu', 'ernie-hsiung', 'some-inu', 'minsu-ju', 'maggie-liu', 'kenneth-auchenberg', 'butakao', 'michael-kantrow', 'richlocation', 'sheena-beaston', 'kevin-pfefferle', 'martin-thornkvist', 'suzy-chase-osborne', 'peter-cortez', 'geoff-kim', 'brad-benson', 'jp-kim', 'sean-mcdonald', 'toby-padilla', 'sandro-pigoni', 'nico-lumma', 'mtths', 'hugh', 'craig-pladson', 'moka-pantages', 'marla-mccormick', 'takeshi-yamamoto', 'sean-donovan', 'laura-boychenko', 'onepiece-chopper', 'prashant-agarwal', 'tim-geisenheimer', 'victor-nguyen-long', 'taylor-newby', 'dottie-guy']\n",
      "andrew-grill\n",
      "enrico-gatti\n",
      "kira\n",
      "sha-hwang\n",
      "brady-forrest\n",
      "matt-ganzak\n",
      "david-klein\n",
      "fox-woods\n",
      "unityan\n",
      "rafael-rivera\n",
      "jennifer-boyd\n",
      "karen-monahan\n",
      "brad-thompson\n",
      "connie-k\n",
      "orchid-liu\n",
      "ernie-hsiung\n",
      "some-inu\n",
      "minsu-ju\n",
      "maggie-liu\n",
      "kenneth-auchenberg\n",
      "butakao\n",
      "michael-kantrow\n",
      "richlocation\n",
      "sheena-beaston\n",
      "kevin-pfefferle\n",
      "martin-thornkvist\n",
      "suzy-chase-osborne\n",
      "peter-cortez\n",
      "geoff-kim\n",
      "brad-benson\n",
      "jp-kim\n",
      "sean-mcdonald\n",
      "toby-padilla\n",
      "sandro-pigoni\n",
      "nico-lumma\n",
      "mtths\n",
      "hugh\n",
      "craig-pladson\n",
      "moka-pantages\n",
      "marla-mccormick\n",
      "takeshi-yamamoto\n",
      "sean-donovan\n",
      "laura-boychenko\n",
      "onepiece-chopper\n",
      "prashant-agarwal\n",
      "tim-geisenheimer\n",
      "victor-nguyen-long\n",
      "taylor-newby\n",
      "dottie-guy\n"
     ]
    },
    {
     "data": {
      "text/plain": [
       "49691.29208803177"
      ]
     },
     "execution_count": 44,
     "metadata": {},
     "output_type": "execute_result"
    }
   ],
   "source": [
    "start = time.time()\n",
    "ValidGoodMeetupCV.ego_info(n_shown=10, verbose=True, filesave=True)\n",
    "time.time() - start"
   ]
  },
  {
   "cell_type": "code",
   "execution_count": 47,
   "metadata": {
    "ExecuteTime": {
     "end_time": "2020-05-07T14:56:33.578510Z",
     "start_time": "2020-05-07T14:56:33.548590Z"
    }
   },
   "outputs": [],
   "source": [
    "cross_info = ValidGoodMeetupCV.cross_info"
   ]
  },
  {
   "cell_type": "code",
   "execution_count": 85,
   "metadata": {
    "ExecuteTime": {
     "end_time": "2020-05-07T15:44:56.107459Z",
     "start_time": "2020-05-07T15:44:56.083498Z"
    }
   },
   "outputs": [],
   "source": [
    "cross_info['Pi_ego'] = cross_info['Pi_alters']/cross_info['Pi_alters_ratio']  "
   ]
  },
  {
   "cell_type": "code",
   "execution_count": 377,
   "metadata": {
    "ExecuteTime": {
     "end_time": "2020-05-11T23:57:48.483334Z",
     "start_time": "2020-05-11T23:57:47.943051Z"
    }
   },
   "outputs": [],
   "source": [
    "cross_info.to_csv('MeetupCV200-10.csv', index=False)"
   ]
  },
  {
   "cell_type": "code",
   "execution_count": 281,
   "metadata": {
    "ExecuteTime": {
     "end_time": "2020-05-11T19:07:46.715886Z",
     "start_time": "2020-05-11T19:07:46.670248Z"
    }
   },
   "outputs": [
    {
     "data": {
      "text/plain": [
       "49"
      ]
     },
     "execution_count": 281,
     "metadata": {},
     "output_type": "execute_result"
    }
   ],
   "source": [
    "len(ValidGoodMeetupCV.egolist)"
   ]
  },
  {
   "cell_type": "markdown",
   "metadata": {},
   "source": [
    "## Main idea and conclusion"
   ]
  },
  {
   "cell_type": "markdown",
   "metadata": {},
   "source": [
    "In our previous experiments, we included alters one by one in the decreasing number of meetups. However, there always exists many alters with the same meetups and how to order them is a problem. Now I will investigate the order problem by achieving all the combinations."
   ]
  },
  {
   "cell_type": "markdown",
   "metadata": {},
   "source": [
    "Now we choose the egos with 10 meetupers, so for each ego, including 1 alters, there are $10 \\choose 1$ cases, including 2 alters there are $10 \\choose 2$ cases, $\\cdots$ and including 10 alters, there are $10 \\choose 10$ cases. I run all these experiments and check the full results."
   ]
  },
  {
   "cell_type": "markdown",
   "metadata": {},
   "source": [
    "* Conclusion 1: **including only 1 or 2 alters, how much predictability can be provided by alters depends on who you choose**. Choosing someone who is \"useful\" can provide much predictability while the \"useless\" can provide less predictability.\n",
    "* Conclusion 2: **including 4 meetupers, no matter who you include, these alters can provide approximately 60% predictability as ego**, **including 7 meetupers, no matter who you include, these alters can provide approximately 70% predictability as ego**"
   ]
  },
  {
   "cell_type": "markdown",
   "metadata": {},
   "source": [
    "## Visualisation"
   ]
  },
  {
   "cell_type": "markdown",
   "metadata": {},
   "source": [
    "**Let's see a specific user 'kenneth-auchenberg'**"
   ]
  },
  {
   "cell_type": "code",
   "execution_count": 264,
   "metadata": {
    "ExecuteTime": {
     "end_time": "2020-05-07T21:59:41.490300Z",
     "start_time": "2020-05-07T21:59:41.426957Z"
    }
   },
   "outputs": [],
   "source": [
    "import visualization as vs"
   ]
  },
  {
   "cell_type": "code",
   "execution_count": 349,
   "metadata": {
    "ExecuteTime": {
     "end_time": "2020-05-11T22:37:52.353179Z",
     "start_time": "2020-05-11T22:37:49.450865Z"
    },
    "scrolled": false
   },
   "outputs": [
    {
     "data": {
      "image/png": "[encoded data removed]",
      "text/plain": [
       "<Figure size 720x360 with 1 Axes>"
      ]
     },
     "metadata": {},
     "output_type": "display_data"
    }
   ],
   "source": [
    "vs.cv_plot(cross_info[cross_info['userid'] == 'hugh'], plot_type='errorbar', mode='talk', l=10, w=5)"
   ]
  },
  {
   "cell_type": "code",
   "execution_count": 277,
   "metadata": {
    "ExecuteTime": {
     "end_time": "2020-05-07T22:35:13.469443Z",
     "start_time": "2020-05-07T22:35:13.393386Z"
    }
   },
   "outputs": [
    {
     "data": {
      "text/html": [
       "<div>\n",
       "<style scoped>\n",
       "    .dataframe tbody tr th:only-of-type {\n",
       "        vertical-align: middle;\n",
       "    }\n",
       "\n",
       "    .dataframe tbody tr th {\n",
       "        vertical-align: top;\n",
       "    }\n",
       "\n",
       "    .dataframe thead th {\n",
       "        text-align: right;\n",
       "    }\n",
       "</style>\n",
       "<table border=\"1\" class=\"dataframe\">\n",
       "  <thead>\n",
       "    <tr style=\"text-align: right;\">\n",
       "      <th></th>\n",
       "      <th>Included</th>\n",
       "      <th>alters_names</th>\n",
       "      <th>CCE_alters</th>\n",
       "      <th>CCE_ego_alters</th>\n",
       "      <th>Pi_alters</th>\n",
       "      <th>Pi_ego_alters</th>\n",
       "      <th>Pi_alters_ratio</th>\n",
       "      <th>Pi_ego_alters_ratio</th>\n",
       "      <th>userid</th>\n",
       "      <th>Pi_ego</th>\n",
       "    </tr>\n",
       "  </thead>\n",
       "  <tbody>\n",
       "    <tr>\n",
       "      <td>0</td>\n",
       "      <td>1</td>\n",
       "      <td>'lacey-mclear'</td>\n",
       "      <td>8.297367</td>\n",
       "      <td>4.955528</td>\n",
       "      <td>0.127600</td>\n",
       "      <td>0.553601</td>\n",
       "      <td>0.234837</td>\n",
       "      <td>1.018857</td>\n",
       "      <td>kira</td>\n",
       "      <td>0.543355</td>\n",
       "    </tr>\n",
       "    <tr>\n",
       "      <td>1</td>\n",
       "      <td>1</td>\n",
       "      <td>'johnny-hugel'</td>\n",
       "      <td>7.328853</td>\n",
       "      <td>4.851977</td>\n",
       "      <td>0.269289</td>\n",
       "      <td>0.564829</td>\n",
       "      <td>0.495604</td>\n",
       "      <td>1.039521</td>\n",
       "      <td>kira</td>\n",
       "      <td>0.543355</td>\n",
       "    </tr>\n",
       "    <tr>\n",
       "      <td>2</td>\n",
       "      <td>1</td>\n",
       "      <td>'ron-villacarillo'</td>\n",
       "      <td>7.672181</td>\n",
       "      <td>4.914536</td>\n",
       "      <td>0.221991</td>\n",
       "      <td>0.558056</td>\n",
       "      <td>0.408556</td>\n",
       "      <td>1.027055</td>\n",
       "      <td>kira</td>\n",
       "      <td>0.543355</td>\n",
       "    </tr>\n",
       "    <tr>\n",
       "      <td>3</td>\n",
       "      <td>1</td>\n",
       "      <td>'kwee'</td>\n",
       "      <td>7.124036</td>\n",
       "      <td>4.949297</td>\n",
       "      <td>0.296463</td>\n",
       "      <td>0.554279</td>\n",
       "      <td>0.545616</td>\n",
       "      <td>1.020105</td>\n",
       "      <td>kira</td>\n",
       "      <td>0.543355</td>\n",
       "    </tr>\n",
       "    <tr>\n",
       "      <td>4</td>\n",
       "      <td>1</td>\n",
       "      <td>'patrick-simkins'</td>\n",
       "      <td>7.776488</td>\n",
       "      <td>4.898973</td>\n",
       "      <td>0.207105</td>\n",
       "      <td>0.559743</td>\n",
       "      <td>0.381160</td>\n",
       "      <td>1.030161</td>\n",
       "      <td>kira</td>\n",
       "      <td>0.543355</td>\n",
       "    </tr>\n",
       "    <tr>\n",
       "      <td>5</td>\n",
       "      <td>1</td>\n",
       "      <td>'bryan-devasher'</td>\n",
       "      <td>7.925857</td>\n",
       "      <td>5.026308</td>\n",
       "      <td>0.185281</td>\n",
       "      <td>0.545881</td>\n",
       "      <td>0.340995</td>\n",
       "      <td>1.004648</td>\n",
       "      <td>kira</td>\n",
       "      <td>0.543355</td>\n",
       "    </tr>\n",
       "    <tr>\n",
       "      <td>6</td>\n",
       "      <td>1</td>\n",
       "      <td>'arthur-rainey-baynes'</td>\n",
       "      <td>8.554591</td>\n",
       "      <td>4.981856</td>\n",
       "      <td>0.083120</td>\n",
       "      <td>0.550734</td>\n",
       "      <td>0.152976</td>\n",
       "      <td>1.013580</td>\n",
       "      <td>kira</td>\n",
       "      <td>0.543355</td>\n",
       "    </tr>\n",
       "    <tr>\n",
       "      <td>7</td>\n",
       "      <td>1</td>\n",
       "      <td>'eva-schiave'</td>\n",
       "      <td>8.612435</td>\n",
       "      <td>4.975188</td>\n",
       "      <td>0.072224</td>\n",
       "      <td>0.551461</td>\n",
       "      <td>0.132922</td>\n",
       "      <td>1.014918</td>\n",
       "      <td>kira</td>\n",
       "      <td>0.543355</td>\n",
       "    </tr>\n",
       "    <tr>\n",
       "      <td>8</td>\n",
       "      <td>1</td>\n",
       "      <td>'mac'</td>\n",
       "      <td>8.761712</td>\n",
       "      <td>4.985478</td>\n",
       "      <td>0.041154</td>\n",
       "      <td>0.550339</td>\n",
       "      <td>0.075740</td>\n",
       "      <td>1.012853</td>\n",
       "      <td>kira</td>\n",
       "      <td>0.543355</td>\n",
       "    </tr>\n",
       "    <tr>\n",
       "      <td>9</td>\n",
       "      <td>1</td>\n",
       "      <td>'nicole-mcmullin'</td>\n",
       "      <td>7.663600</td>\n",
       "      <td>4.918495</td>\n",
       "      <td>0.223204</td>\n",
       "      <td>0.557626</td>\n",
       "      <td>0.410788</td>\n",
       "      <td>1.026264</td>\n",
       "      <td>kira</td>\n",
       "      <td>0.543355</td>\n",
       "    </tr>\n",
       "  </tbody>\n",
       "</table>\n",
       "</div>"
      ],
      "text/plain": [
       "   Included            alters_names  CCE_alters  CCE_ego_alters  Pi_alters  \\\n",
       "0         1          'lacey-mclear'    8.297367        4.955528   0.127600   \n",
       "1         1          'johnny-hugel'    7.328853        4.851977   0.269289   \n",
       "2         1      'ron-villacarillo'    7.672181        4.914536   0.221991   \n",
       "3         1                  'kwee'    7.124036        4.949297   0.296463   \n",
       "4         1       'patrick-simkins'    7.776488        4.898973   0.207105   \n",
       "5         1        'bryan-devasher'    7.925857        5.026308   0.185281   \n",
       "6         1  'arthur-rainey-baynes'    8.554591        4.981856   0.083120   \n",
       "7         1           'eva-schiave'    8.612435        4.975188   0.072224   \n",
       "8         1                   'mac'    8.761712        4.985478   0.041154   \n",
       "9         1       'nicole-mcmullin'    7.663600        4.918495   0.223204   \n",
       "\n",
       "   Pi_ego_alters  Pi_alters_ratio  Pi_ego_alters_ratio userid    Pi_ego  \n",
       "0       0.553601         0.234837             1.018857   kira  0.543355  \n",
       "1       0.564829         0.495604             1.039521   kira  0.543355  \n",
       "2       0.558056         0.408556             1.027055   kira  0.543355  \n",
       "3       0.554279         0.545616             1.020105   kira  0.543355  \n",
       "4       0.559743         0.381160             1.030161   kira  0.543355  \n",
       "5       0.545881         0.340995             1.004648   kira  0.543355  \n",
       "6       0.550734         0.152976             1.013580   kira  0.543355  \n",
       "7       0.551461         0.132922             1.014918   kira  0.543355  \n",
       "8       0.550339         0.075740             1.012853   kira  0.543355  \n",
       "9       0.557626         0.410788             1.026264   kira  0.543355  "
      ]
     },
     "execution_count": 277,
     "metadata": {},
     "output_type": "execute_result"
    }
   ],
   "source": [
    "cross_info[(cross_info['userid'] == 'kira') & (cross_info['Included'] ==1)]"
   ]
  },
  {
   "cell_type": "code",
   "execution_count": 278,
   "metadata": {
    "ExecuteTime": {
     "end_time": "2020-05-07T22:35:36.260609Z",
     "start_time": "2020-05-07T22:35:36.180828Z"
    }
   },
   "outputs": [
    {
     "data": {
      "text/html": [
       "<div>\n",
       "<style scoped>\n",
       "    .dataframe tbody tr th:only-of-type {\n",
       "        vertical-align: middle;\n",
       "    }\n",
       "\n",
       "    .dataframe tbody tr th {\n",
       "        vertical-align: top;\n",
       "    }\n",
       "\n",
       "    .dataframe thead th {\n",
       "        text-align: right;\n",
       "    }\n",
       "</style>\n",
       "<table border=\"1\" class=\"dataframe\">\n",
       "  <thead>\n",
       "    <tr style=\"text-align: right;\">\n",
       "      <th></th>\n",
       "      <th>userid</th>\n",
       "      <th>length</th>\n",
       "      <th>Uniq_length</th>\n",
       "    </tr>\n",
       "  </thead>\n",
       "  <tbody>\n",
       "    <tr>\n",
       "      <td>5618</td>\n",
       "      <td>kira</td>\n",
       "      <td>1683</td>\n",
       "      <td>472</td>\n",
       "    </tr>\n",
       "  </tbody>\n",
       "</table>\n",
       "</div>"
      ],
      "text/plain": [
       "     userid  length  Uniq_length\n",
       "5618   kira    1683          472"
      ]
     },
     "execution_count": 278,
     "metadata": {},
     "output_type": "execute_result"
    }
   ],
   "source": [
    "df_lenPlaceID[df_lenPlaceID['userid']=='kira']"
   ]
  },
  {
   "cell_type": "markdown",
   "metadata": {},
   "source": [
    "**Let's see all the users**"
   ]
  },
  {
   "cell_type": "code",
   "execution_count": 268,
   "metadata": {
    "ExecuteTime": {
     "end_time": "2020-05-07T22:02:36.840922Z",
     "start_time": "2020-05-07T22:02:35.470540Z"
    },
    "scrolled": false
   },
   "outputs": [
    {
     "data": {
      "image/png": "[encoded data removed]",
      "text/plain": [
       "<Figure size 720x360 with 1 Axes>"
      ]
     },
     "metadata": {},
     "output_type": "display_data"
    }
   ],
   "source": [
    "vs.cv_plot(cross_info, plot_type='errorbar', mode='talk', l=10, w=5)"
   ]
  },
  {
   "cell_type": "code",
   "execution_count": 115,
   "metadata": {
    "ExecuteTime": {
     "end_time": "2020-05-07T16:19:31.970794Z",
     "start_time": "2020-05-07T16:19:31.942986Z"
    }
   },
   "outputs": [],
   "source": [
    "# import operator\n",
    "# from functools import reduce\n",
    "# def c(n,k):\n",
    "#     return  reduce(operator.mul, range(n - k + 1, n + 1)) /reduce(operator.mul, range(1, k +1))"
   ]
  },
  {
   "cell_type": "markdown",
   "metadata": {},
   "source": [
    "# True friendship network"
   ]
  },
  {
   "cell_type": "code",
   "execution_count": 282,
   "metadata": {
    "ExecuteTime": {
     "end_time": "2020-05-11T19:09:00.373862Z",
     "start_time": "2020-05-11T19:09:00.210688Z"
    }
   },
   "outputs": [
    {
     "data": {
      "text/html": [
       "<div>\n",
       "<style scoped>\n",
       "    .dataframe tbody tr th:only-of-type {\n",
       "        vertical-align: middle;\n",
       "    }\n",
       "\n",
       "    .dataframe tbody tr th {\n",
       "        vertical-align: top;\n",
       "    }\n",
       "\n",
       "    .dataframe thead th {\n",
       "        text-align: right;\n",
       "    }\n",
       "</style>\n",
       "<table border=\"1\" class=\"dataframe\">\n",
       "  <thead>\n",
       "    <tr style=\"text-align: right;\">\n",
       "      <th></th>\n",
       "      <th>userid1</th>\n",
       "      <th>userid2</th>\n",
       "    </tr>\n",
       "  </thead>\n",
       "  <tbody>\n",
       "    <tr>\n",
       "      <td>0</td>\n",
       "      <td>fred-wilson</td>\n",
       "      <td>justin-shaffer</td>\n",
       "    </tr>\n",
       "    <tr>\n",
       "      <td>1</td>\n",
       "      <td>fred-wilson</td>\n",
       "      <td>bijan-sabet</td>\n",
       "    </tr>\n",
       "    <tr>\n",
       "      <td>2</td>\n",
       "      <td>fred-wilson</td>\n",
       "      <td>mark-g</td>\n",
       "    </tr>\n",
       "    <tr>\n",
       "      <td>3</td>\n",
       "      <td>fred-wilson</td>\n",
       "      <td>ty-white</td>\n",
       "    </tr>\n",
       "    <tr>\n",
       "      <td>4</td>\n",
       "      <td>fred-wilson</td>\n",
       "      <td>simon-saint</td>\n",
       "    </tr>\n",
       "    <tr>\n",
       "      <td>...</td>\n",
       "      <td>...</td>\n",
       "      <td>...</td>\n",
       "    </tr>\n",
       "    <tr>\n",
       "      <td>119925</td>\n",
       "      <td>yoshiaki-aita</td>\n",
       "      <td>dekichi</td>\n",
       "    </tr>\n",
       "    <tr>\n",
       "      <td>119926</td>\n",
       "      <td>simon-colijn</td>\n",
       "      <td>rene-sijnke</td>\n",
       "    </tr>\n",
       "    <tr>\n",
       "      <td>119927</td>\n",
       "      <td>simon-colijn</td>\n",
       "      <td>mark-van-der-poel</td>\n",
       "    </tr>\n",
       "    <tr>\n",
       "      <td>119928</td>\n",
       "      <td>mark-van-der-poel</td>\n",
       "      <td>simon-colijn</td>\n",
       "    </tr>\n",
       "    <tr>\n",
       "      <td>119929</td>\n",
       "      <td>mark-van-der-poel</td>\n",
       "      <td>rene-sijnke</td>\n",
       "    </tr>\n",
       "  </tbody>\n",
       "</table>\n",
       "<p>119930 rows × 2 columns</p>\n",
       "</div>"
      ],
      "text/plain": [
       "                  userid1            userid2\n",
       "0             fred-wilson     justin-shaffer\n",
       "1             fred-wilson        bijan-sabet\n",
       "2             fred-wilson             mark-g\n",
       "3             fred-wilson           ty-white\n",
       "4             fred-wilson        simon-saint\n",
       "...                   ...                ...\n",
       "119925      yoshiaki-aita            dekichi\n",
       "119926       simon-colijn        rene-sijnke\n",
       "119927       simon-colijn  mark-van-der-poel\n",
       "119928  mark-van-der-poel       simon-colijn\n",
       "119929  mark-van-der-poel        rene-sijnke\n",
       "\n",
       "[119930 rows x 2 columns]"
      ]
     },
     "execution_count": 282,
     "metadata": {},
     "output_type": "execute_result"
    }
   ],
   "source": [
    "df_friend=pd.read_csv('data/weeplace_friends.csv')\n",
    "df_friend"
   ]
  },
  {
   "cell_type": "code",
   "execution_count": 295,
   "metadata": {
    "ExecuteTime": {
     "end_time": "2020-05-11T19:21:18.338910Z",
     "start_time": "2020-05-11T19:21:18.267156Z"
    }
   },
   "outputs": [],
   "source": [
    "egolist = ValidGoodMeetupCV.egolist\n",
    "pdata =  ValidGoodMeetupCV.pdata"
   ]
  },
  {
   "cell_type": "code",
   "execution_count": 300,
   "metadata": {
    "ExecuteTime": {
     "end_time": "2020-05-11T19:23:37.385914Z",
     "start_time": "2020-05-11T19:23:37.055761Z"
    }
   },
   "outputs": [],
   "source": [
    "users_record = pdata['userid'].unique().tolist()"
   ]
  },
  {
   "cell_type": "code",
   "execution_count": 301,
   "metadata": {
    "ExecuteTime": {
     "end_time": "2020-05-11T19:24:24.841865Z",
     "start_time": "2020-05-11T19:24:24.742126Z"
    }
   },
   "outputs": [],
   "source": [
    "users_network =df_friend[(df_friend['userid1'].isin(users_record)) & (df_friend['userid2'].isin(users_record))]"
   ]
  },
  {
   "cell_type": "code",
   "execution_count": 305,
   "metadata": {
    "ExecuteTime": {
     "end_time": "2020-05-11T19:28:48.074639Z",
     "start_time": "2020-05-11T19:28:48.023510Z"
    }
   },
   "outputs": [],
   "source": [
    "shown_network = users_network[users_network['userid1'].isin(egolist)]"
   ]
  },
  {
   "cell_type": "code",
   "execution_count": 306,
   "metadata": {
    "ExecuteTime": {
     "end_time": "2020-05-11T19:29:17.998581Z",
     "start_time": "2020-05-11T19:29:17.962900Z"
    }
   },
   "outputs": [
    {
     "data": {
      "text/plain": [
       "userid1\n",
       "andrew-grill          29\n",
       "brad-benson            7\n",
       "brad-thompson          3\n",
       "brady-forrest         51\n",
       "butakao                3\n",
       "connie-k               6\n",
       "craig-pladson          4\n",
       "david-klein            5\n",
       "dottie-guy             5\n",
       "enrico-gatti          13\n",
       "ernie-hsiung          27\n",
       "fox-woods              3\n",
       "geoff-kim             11\n",
       "hugh                  23\n",
       "jennifer-boyd         15\n",
       "jp-kim                15\n",
       "karen-monahan         17\n",
       "kenneth-auchenberg     4\n",
       "kevin-pfefferle        4\n",
       "kira                   6\n",
       "laura-boychenko        8\n",
       "maggie-liu             2\n",
       "marla-mccormick       12\n",
       "martin-thornkvist     12\n",
       "matt-ganzak            4\n",
       "michael-kantrow       25\n",
       "minsu-ju              12\n",
       "moka-pantages          5\n",
       "mtths                  3\n",
       "nico-lumma            45\n",
       "onepiece-chopper       4\n",
       "orchid-liu             5\n",
       "peter-cortez          24\n",
       "prashant-agarwal      12\n",
       "rafael-rivera          2\n",
       "richlocation          22\n",
       "sandro-pigoni         13\n",
       "sean-donovan           8\n",
       "sean-mcdonald         13\n",
       "sha-hwang              6\n",
       "sheena-beaston        16\n",
       "some-inu               2\n",
       "suzy-chase-osborne     1\n",
       "takeshi-yamamoto      11\n",
       "taylor-newby           5\n",
       "tim-geisenheimer       7\n",
       "toby-padilla          20\n",
       "unityan               13\n",
       "victor-nguyen-long    19\n",
       "dtype: int64"
      ]
     },
     "execution_count": 306,
     "metadata": {},
     "output_type": "execute_result"
    }
   ],
   "source": [
    "shown_network.groupby('userid1').size()"
   ]
  },
  {
   "cell_type": "code",
   "execution_count": 320,
   "metadata": {
    "ExecuteTime": {
     "end_time": "2020-05-11T21:37:26.783228Z",
     "start_time": "2020-05-11T21:37:26.740964Z"
    }
   },
   "outputs": [
    {
     "data": {
      "text/html": [
       "<div>\n",
       "<style scoped>\n",
       "    .dataframe tbody tr th:only-of-type {\n",
       "        vertical-align: middle;\n",
       "    }\n",
       "\n",
       "    .dataframe tbody tr th {\n",
       "        vertical-align: top;\n",
       "    }\n",
       "\n",
       "    .dataframe thead th {\n",
       "        text-align: right;\n",
       "    }\n",
       "</style>\n",
       "<table border=\"1\" class=\"dataframe\">\n",
       "  <thead>\n",
       "    <tr style=\"text-align: right;\">\n",
       "      <th></th>\n",
       "      <th>userid_x</th>\n",
       "      <th>userid_y</th>\n",
       "    </tr>\n",
       "  </thead>\n",
       "  <tbody>\n",
       "    <tr>\n",
       "      <td>1951</td>\n",
       "      <td>toby-padilla</td>\n",
       "      <td>robin-lisle</td>\n",
       "    </tr>\n",
       "    <tr>\n",
       "      <td>1952</td>\n",
       "      <td>toby-padilla</td>\n",
       "      <td>laura-nolte</td>\n",
       "    </tr>\n",
       "    <tr>\n",
       "      <td>1953</td>\n",
       "      <td>toby-padilla</td>\n",
       "      <td>maribel-castellanos</td>\n",
       "    </tr>\n",
       "    <tr>\n",
       "      <td>1954</td>\n",
       "      <td>toby-padilla</td>\n",
       "      <td>jason-herskowitz</td>\n",
       "    </tr>\n",
       "    <tr>\n",
       "      <td>1955</td>\n",
       "      <td>toby-padilla</td>\n",
       "      <td>ben-xo</td>\n",
       "    </tr>\n",
       "    <tr>\n",
       "      <td>...</td>\n",
       "      <td>...</td>\n",
       "      <td>...</td>\n",
       "    </tr>\n",
       "    <tr>\n",
       "      <td>105438</td>\n",
       "      <td>unityan</td>\n",
       "      <td>nya-buro-kisaragi</td>\n",
       "    </tr>\n",
       "    <tr>\n",
       "      <td>105439</td>\n",
       "      <td>unityan</td>\n",
       "      <td>mitsugogo</td>\n",
       "    </tr>\n",
       "    <tr>\n",
       "      <td>105440</td>\n",
       "      <td>unityan</td>\n",
       "      <td>750277</td>\n",
       "    </tr>\n",
       "    <tr>\n",
       "      <td>111640</td>\n",
       "      <td>some-inu</td>\n",
       "      <td>kaichi-kuroda</td>\n",
       "    </tr>\n",
       "    <tr>\n",
       "      <td>111641</td>\n",
       "      <td>some-inu</td>\n",
       "      <td>kaerugeko</td>\n",
       "    </tr>\n",
       "  </tbody>\n",
       "</table>\n",
       "<p>582 rows × 2 columns</p>\n",
       "</div>"
      ],
      "text/plain": [
       "            userid_x             userid_y\n",
       "1951    toby-padilla          robin-lisle\n",
       "1952    toby-padilla          laura-nolte\n",
       "1953    toby-padilla  maribel-castellanos\n",
       "1954    toby-padilla     jason-herskowitz\n",
       "1955    toby-padilla               ben-xo\n",
       "...              ...                  ...\n",
       "105438       unityan    nya-buro-kisaragi\n",
       "105439       unityan            mitsugogo\n",
       "105440       unityan               750277\n",
       "111640      some-inu        kaichi-kuroda\n",
       "111641      some-inu            kaerugeko\n",
       "\n",
       "[582 rows x 2 columns]"
      ]
     },
     "execution_count": 320,
     "metadata": {},
     "output_type": "execute_result"
    }
   ],
   "source": [
    "shown_network.columns = ['userid_x', 'userid_y'] \n",
    "shown_network"
   ]
  },
  {
   "cell_type": "markdown",
   "metadata": {},
   "source": [
    "## import a new class, FriendNetwork"
   ]
  },
  {
   "cell_type": "code",
   "execution_count": 334,
   "metadata": {
    "ExecuteTime": {
     "end_time": "2020-05-11T22:08:18.240733Z",
     "start_time": "2020-05-11T22:08:02.003112Z"
    }
   },
   "outputs": [],
   "source": [
    "TrueFriendNet = ms.FriendNetwork('data/weeplace_checkins.csv', shown_network, placeidT=placeidT)"
   ]
  },
  {
   "cell_type": "code",
   "execution_count": 335,
   "metadata": {
    "ExecuteTime": {
     "end_time": "2020-05-11T22:08:23.913915Z",
     "start_time": "2020-05-11T22:08:21.744454Z"
    }
   },
   "outputs": [
    {
     "data": {
      "text/html": [
       "<div>\n",
       "<style scoped>\n",
       "    .dataframe tbody tr th:only-of-type {\n",
       "        vertical-align: middle;\n",
       "    }\n",
       "\n",
       "    .dataframe tbody tr th {\n",
       "        vertical-align: top;\n",
       "    }\n",
       "\n",
       "    .dataframe thead th {\n",
       "        text-align: right;\n",
       "    }\n",
       "</style>\n",
       "<table border=\"1\" class=\"dataframe\">\n",
       "  <thead>\n",
       "    <tr style=\"text-align: right;\">\n",
       "      <th></th>\n",
       "      <th>userid_x</th>\n",
       "      <th>userid_y</th>\n",
       "      <th>N_previous</th>\n",
       "      <th>N_alter_total</th>\n",
       "      <th>group</th>\n",
       "      <th>CE_alter</th>\n",
       "      <th>Pi_alter</th>\n",
       "      <th>CE_ego</th>\n",
       "      <th>Pi_ego</th>\n",
       "    </tr>\n",
       "  </thead>\n",
       "  <tbody>\n",
       "    <tr>\n",
       "      <td>0</td>\n",
       "      <td>kira</td>\n",
       "      <td>christina-dick</td>\n",
       "      <td>713</td>\n",
       "      <td>714</td>\n",
       "      <td>useless</td>\n",
       "      <td>9.220270</td>\n",
       "      <td>-0.049337</td>\n",
       "      <td>5.049386</td>\n",
       "      <td>0.543355</td>\n",
       "    </tr>\n",
       "    <tr>\n",
       "      <td>1</td>\n",
       "      <td>kira</td>\n",
       "      <td>lacey-mclear</td>\n",
       "      <td>578</td>\n",
       "      <td>578</td>\n",
       "      <td>helpful</td>\n",
       "      <td>8.297367</td>\n",
       "      <td>0.127600</td>\n",
       "      <td>5.049386</td>\n",
       "      <td>0.543355</td>\n",
       "    </tr>\n",
       "    <tr>\n",
       "      <td>2</td>\n",
       "      <td>kira</td>\n",
       "      <td>dave-kerpen</td>\n",
       "      <td>2837</td>\n",
       "      <td>2837</td>\n",
       "      <td>useless</td>\n",
       "      <td>11.449741</td>\n",
       "      <td>-0.309460</td>\n",
       "      <td>5.049386</td>\n",
       "      <td>0.543355</td>\n",
       "    </tr>\n",
       "    <tr>\n",
       "      <td>3</td>\n",
       "      <td>kira</td>\n",
       "      <td>johnny-hugel</td>\n",
       "      <td>923</td>\n",
       "      <td>923</td>\n",
       "      <td>helpful</td>\n",
       "      <td>7.328853</td>\n",
       "      <td>0.269289</td>\n",
       "      <td>5.049386</td>\n",
       "      <td>0.543355</td>\n",
       "    </tr>\n",
       "    <tr>\n",
       "      <td>4</td>\n",
       "      <td>kira</td>\n",
       "      <td>steve-guthrie</td>\n",
       "      <td>1505</td>\n",
       "      <td>1994</td>\n",
       "      <td>useless</td>\n",
       "      <td>9.133669</td>\n",
       "      <td>-0.037441</td>\n",
       "      <td>5.049386</td>\n",
       "      <td>0.543355</td>\n",
       "    </tr>\n",
       "    <tr>\n",
       "      <td>5</td>\n",
       "      <td>kira</td>\n",
       "      <td>travis-oliver</td>\n",
       "      <td>1435</td>\n",
       "      <td>1435</td>\n",
       "      <td>useless</td>\n",
       "      <td>8.931854</td>\n",
       "      <td>-0.007076</td>\n",
       "      <td>5.049386</td>\n",
       "      <td>0.543355</td>\n",
       "    </tr>\n",
       "  </tbody>\n",
       "</table>\n",
       "</div>"
      ],
      "text/plain": [
       "  userid_x        userid_y  N_previous  N_alter_total    group   CE_alter  \\\n",
       "0     kira  christina-dick         713            714  useless   9.220270   \n",
       "1     kira    lacey-mclear         578            578  helpful   8.297367   \n",
       "2     kira     dave-kerpen        2837           2837  useless  11.449741   \n",
       "3     kira    johnny-hugel         923            923  helpful   7.328853   \n",
       "4     kira   steve-guthrie        1505           1994  useless   9.133669   \n",
       "5     kira   travis-oliver        1435           1435  useless   8.931854   \n",
       "\n",
       "   Pi_alter    CE_ego    Pi_ego  \n",
       "0 -0.049337  5.049386  0.543355  \n",
       "1  0.127600  5.049386  0.543355  \n",
       "2 -0.309460  5.049386  0.543355  \n",
       "3  0.269289  5.049386  0.543355  \n",
       "4 -0.037441  5.049386  0.543355  \n",
       "5 -0.007076  5.049386  0.543355  "
      ]
     },
     "execution_count": 335,
     "metadata": {},
     "output_type": "execute_result"
    }
   ],
   "source": [
    "TrueFriendNet._ego_alter('kira')"
   ]
  },
  {
   "cell_type": "code",
   "execution_count": 337,
   "metadata": {
    "ExecuteTime": {
     "end_time": "2020-05-11T22:11:50.667046Z",
     "start_time": "2020-05-11T22:09:07.749105Z"
    }
   },
   "outputs": [
    {
     "name": "stdout",
     "output_type": "stream",
     "text": [
      "andrew-grill\n",
      "brad-benson\n",
      "brad-thompson\n",
      "brady-forrest\n",
      "butakao\n",
      "connie-k\n",
      "craig-pladson\n",
      "david-klein\n",
      "dottie-guy\n",
      "enrico-gatti\n",
      "ernie-hsiung\n",
      "fox-woods\n",
      "geoff-kim\n",
      "hugh\n",
      "jennifer-boyd\n",
      "jp-kim\n",
      "karen-monahan\n",
      "kenneth-auchenberg\n",
      "kevin-pfefferle\n",
      "kira\n",
      "laura-boychenko\n",
      "maggie-liu\n",
      "marla-mccormick\n",
      "martin-thornkvist\n",
      "matt-ganzak\n",
      "michael-kantrow\n",
      "minsu-ju\n",
      "moka-pantages\n",
      "mtths\n",
      "nico-lumma\n",
      "onepiece-chopper\n",
      "orchid-liu\n",
      "peter-cortez\n",
      "prashant-agarwal\n",
      "rafael-rivera\n",
      "richlocation\n",
      "sandro-pigoni\n",
      "sean-donovan\n",
      "sean-mcdonald\n",
      "sha-hwang\n",
      "sheena-beaston\n",
      "some-inu\n",
      "suzy-chase-osborne\n",
      "takeshi-yamamoto\n",
      "taylor-newby\n",
      "tim-geisenheimer\n",
      "toby-padilla\n",
      "unityan\n",
      "victor-nguyen-long\n"
     ]
    },
    {
     "data": {
      "text/html": [
       "<div>\n",
       "<style scoped>\n",
       "    .dataframe tbody tr th:only-of-type {\n",
       "        vertical-align: middle;\n",
       "    }\n",
       "\n",
       "    .dataframe tbody tr th {\n",
       "        vertical-align: top;\n",
       "    }\n",
       "\n",
       "    .dataframe thead th {\n",
       "        text-align: right;\n",
       "    }\n",
       "</style>\n",
       "<table border=\"1\" class=\"dataframe\">\n",
       "  <thead>\n",
       "    <tr style=\"text-align: right;\">\n",
       "      <th></th>\n",
       "      <th>userid_x</th>\n",
       "      <th>userid_y</th>\n",
       "      <th>N_previous</th>\n",
       "      <th>N_alter_total</th>\n",
       "      <th>group</th>\n",
       "      <th>CE_alter</th>\n",
       "      <th>Pi_alter</th>\n",
       "      <th>CE_ego</th>\n",
       "      <th>Pi_ego</th>\n",
       "      <th>n_friends</th>\n",
       "    </tr>\n",
       "  </thead>\n",
       "  <tbody>\n",
       "    <tr>\n",
       "      <td>0</td>\n",
       "      <td>andrew-grill</td>\n",
       "      <td>ben-matthews</td>\n",
       "      <td>407</td>\n",
       "      <td>407</td>\n",
       "      <td>helpful</td>\n",
       "      <td>8.296095</td>\n",
       "      <td>0.275012</td>\n",
       "      <td>5.726186</td>\n",
       "      <td>0.539486</td>\n",
       "      <td>29</td>\n",
       "    </tr>\n",
       "    <tr>\n",
       "      <td>1</td>\n",
       "      <td>andrew-grill</td>\n",
       "      <td>tom-gibby</td>\n",
       "      <td>476</td>\n",
       "      <td>480</td>\n",
       "      <td>helpful</td>\n",
       "      <td>8.862176</td>\n",
       "      <td>0.209364</td>\n",
       "      <td>5.726186</td>\n",
       "      <td>0.539486</td>\n",
       "      <td>29</td>\n",
       "    </tr>\n",
       "    <tr>\n",
       "      <td>2</td>\n",
       "      <td>andrew-grill</td>\n",
       "      <td>robert-scoble</td>\n",
       "      <td>934</td>\n",
       "      <td>934</td>\n",
       "      <td>helpful</td>\n",
       "      <td>9.850951</td>\n",
       "      <td>0.080303</td>\n",
       "      <td>5.726186</td>\n",
       "      <td>0.539486</td>\n",
       "      <td>29</td>\n",
       "    </tr>\n",
       "    <tr>\n",
       "      <td>3</td>\n",
       "      <td>andrew-grill</td>\n",
       "      <td>aden-davies</td>\n",
       "      <td>257</td>\n",
       "      <td>257</td>\n",
       "      <td>helpful</td>\n",
       "      <td>7.998260</td>\n",
       "      <td>0.308137</td>\n",
       "      <td>5.726186</td>\n",
       "      <td>0.539486</td>\n",
       "      <td>29</td>\n",
       "    </tr>\n",
       "    <tr>\n",
       "      <td>4</td>\n",
       "      <td>andrew-grill</td>\n",
       "      <td>yuri-van-geest</td>\n",
       "      <td>2272</td>\n",
       "      <td>2272</td>\n",
       "      <td>useless</td>\n",
       "      <td>11.102719</td>\n",
       "      <td>-0.101660</td>\n",
       "      <td>5.726186</td>\n",
       "      <td>0.539486</td>\n",
       "      <td>29</td>\n",
       "    </tr>\n",
       "    <tr>\n",
       "      <td>...</td>\n",
       "      <td>...</td>\n",
       "      <td>...</td>\n",
       "      <td>...</td>\n",
       "      <td>...</td>\n",
       "      <td>...</td>\n",
       "      <td>...</td>\n",
       "      <td>...</td>\n",
       "      <td>...</td>\n",
       "      <td>...</td>\n",
       "      <td>...</td>\n",
       "    </tr>\n",
       "    <tr>\n",
       "      <td>577</td>\n",
       "      <td>victor-nguyen-long</td>\n",
       "      <td>ellen-lovelidge</td>\n",
       "      <td>964</td>\n",
       "      <td>964</td>\n",
       "      <td>useless</td>\n",
       "      <td>9.784151</td>\n",
       "      <td>-0.131241</td>\n",
       "      <td>5.441923</td>\n",
       "      <td>0.495094</td>\n",
       "      <td>19</td>\n",
       "    </tr>\n",
       "    <tr>\n",
       "      <td>578</td>\n",
       "      <td>victor-nguyen-long</td>\n",
       "      <td>ricky-engelberg</td>\n",
       "      <td>1532</td>\n",
       "      <td>1619</td>\n",
       "      <td>useless</td>\n",
       "      <td>10.272260</td>\n",
       "      <td>-0.188662</td>\n",
       "      <td>5.441923</td>\n",
       "      <td>0.495094</td>\n",
       "      <td>19</td>\n",
       "    </tr>\n",
       "    <tr>\n",
       "      <td>579</td>\n",
       "      <td>victor-nguyen-long</td>\n",
       "      <td>julie-minevich</td>\n",
       "      <td>1100</td>\n",
       "      <td>1419</td>\n",
       "      <td>useless</td>\n",
       "      <td>9.916880</td>\n",
       "      <td>-0.147107</td>\n",
       "      <td>5.441923</td>\n",
       "      <td>0.495094</td>\n",
       "      <td>19</td>\n",
       "    </tr>\n",
       "    <tr>\n",
       "      <td>580</td>\n",
       "      <td>victor-nguyen-long</td>\n",
       "      <td>matt-hunter</td>\n",
       "      <td>755</td>\n",
       "      <td>964</td>\n",
       "      <td>useless</td>\n",
       "      <td>9.436173</td>\n",
       "      <td>-0.088398</td>\n",
       "      <td>5.441923</td>\n",
       "      <td>0.495094</td>\n",
       "      <td>19</td>\n",
       "    </tr>\n",
       "    <tr>\n",
       "      <td>581</td>\n",
       "      <td>victor-nguyen-long</td>\n",
       "      <td>jesse-thomas</td>\n",
       "      <td>350</td>\n",
       "      <td>350</td>\n",
       "      <td>helpful</td>\n",
       "      <td>8.122935</td>\n",
       "      <td>0.144399</td>\n",
       "      <td>5.441923</td>\n",
       "      <td>0.495094</td>\n",
       "      <td>19</td>\n",
       "    </tr>\n",
       "  </tbody>\n",
       "</table>\n",
       "<p>582 rows × 10 columns</p>\n",
       "</div>"
      ],
      "text/plain": [
       "               userid_x         userid_y  N_previous  N_alter_total    group  \\\n",
       "0          andrew-grill     ben-matthews         407            407  helpful   \n",
       "1          andrew-grill        tom-gibby         476            480  helpful   \n",
       "2          andrew-grill    robert-scoble         934            934  helpful   \n",
       "3          andrew-grill      aden-davies         257            257  helpful   \n",
       "4          andrew-grill   yuri-van-geest        2272           2272  useless   \n",
       "..                  ...              ...         ...            ...      ...   \n",
       "577  victor-nguyen-long  ellen-lovelidge         964            964  useless   \n",
       "578  victor-nguyen-long  ricky-engelberg        1532           1619  useless   \n",
       "579  victor-nguyen-long   julie-minevich        1100           1419  useless   \n",
       "580  victor-nguyen-long      matt-hunter         755            964  useless   \n",
       "581  victor-nguyen-long     jesse-thomas         350            350  helpful   \n",
       "\n",
       "      CE_alter  Pi_alter    CE_ego    Pi_ego  n_friends  \n",
       "0     8.296095  0.275012  5.726186  0.539486         29  \n",
       "1     8.862176  0.209364  5.726186  0.539486         29  \n",
       "2     9.850951  0.080303  5.726186  0.539486         29  \n",
       "3     7.998260  0.308137  5.726186  0.539486         29  \n",
       "4    11.102719 -0.101660  5.726186  0.539486         29  \n",
       "..         ...       ...       ...       ...        ...  \n",
       "577   9.784151 -0.131241  5.441923  0.495094         19  \n",
       "578  10.272260 -0.188662  5.441923  0.495094         19  \n",
       "579   9.916880 -0.147107  5.441923  0.495094         19  \n",
       "580   9.436173 -0.088398  5.441923  0.495094         19  \n",
       "581   8.122935  0.144399  5.441923  0.495094         19  \n",
       "\n",
       "[582 rows x 10 columns]"
      ]
     },
     "execution_count": 337,
     "metadata": {},
     "output_type": "execute_result"
    }
   ],
   "source": [
    "TrueFriendNet.ego_info(verbose=True)"
   ]
  },
  {
   "cell_type": "code",
   "execution_count": 354,
   "metadata": {
    "ExecuteTime": {
     "end_time": "2020-05-11T22:42:30.683802Z",
     "start_time": "2020-05-11T22:42:30.604109Z"
    }
   },
   "outputs": [
    {
     "data": {
      "text/html": [
       "<div>\n",
       "<style scoped>\n",
       "    .dataframe tbody tr th:only-of-type {\n",
       "        vertical-align: middle;\n",
       "    }\n",
       "\n",
       "    .dataframe tbody tr th {\n",
       "        vertical-align: top;\n",
       "    }\n",
       "\n",
       "    .dataframe thead th {\n",
       "        text-align: right;\n",
       "    }\n",
       "</style>\n",
       "<table border=\"1\" class=\"dataframe\">\n",
       "  <thead>\n",
       "    <tr style=\"text-align: right;\">\n",
       "      <th></th>\n",
       "      <th>userid_x</th>\n",
       "      <th>userid_y</th>\n",
       "      <th>N_previous</th>\n",
       "      <th>N_alter_total</th>\n",
       "      <th>group</th>\n",
       "      <th>CE_alter</th>\n",
       "      <th>Pi_alter</th>\n",
       "      <th>CE_ego</th>\n",
       "      <th>Pi_ego</th>\n",
       "      <th>n_friends</th>\n",
       "    </tr>\n",
       "  </thead>\n",
       "  <tbody>\n",
       "    <tr>\n",
       "      <td>0</td>\n",
       "      <td>andrew-grill</td>\n",
       "      <td>ben-matthews</td>\n",
       "      <td>407</td>\n",
       "      <td>407</td>\n",
       "      <td>helpful</td>\n",
       "      <td>8.296095</td>\n",
       "      <td>0.275012</td>\n",
       "      <td>5.726186</td>\n",
       "      <td>0.539486</td>\n",
       "      <td>29</td>\n",
       "    </tr>\n",
       "    <tr>\n",
       "      <td>1</td>\n",
       "      <td>andrew-grill</td>\n",
       "      <td>tom-gibby</td>\n",
       "      <td>476</td>\n",
       "      <td>480</td>\n",
       "      <td>helpful</td>\n",
       "      <td>8.862176</td>\n",
       "      <td>0.209364</td>\n",
       "      <td>5.726186</td>\n",
       "      <td>0.539486</td>\n",
       "      <td>29</td>\n",
       "    </tr>\n",
       "    <tr>\n",
       "      <td>2</td>\n",
       "      <td>andrew-grill</td>\n",
       "      <td>robert-scoble</td>\n",
       "      <td>934</td>\n",
       "      <td>934</td>\n",
       "      <td>helpful</td>\n",
       "      <td>9.850951</td>\n",
       "      <td>0.080303</td>\n",
       "      <td>5.726186</td>\n",
       "      <td>0.539486</td>\n",
       "      <td>29</td>\n",
       "    </tr>\n",
       "    <tr>\n",
       "      <td>3</td>\n",
       "      <td>andrew-grill</td>\n",
       "      <td>aden-davies</td>\n",
       "      <td>257</td>\n",
       "      <td>257</td>\n",
       "      <td>helpful</td>\n",
       "      <td>7.998260</td>\n",
       "      <td>0.308137</td>\n",
       "      <td>5.726186</td>\n",
       "      <td>0.539486</td>\n",
       "      <td>29</td>\n",
       "    </tr>\n",
       "    <tr>\n",
       "      <td>5</td>\n",
       "      <td>andrew-grill</td>\n",
       "      <td>jon-curnow</td>\n",
       "      <td>959</td>\n",
       "      <td>959</td>\n",
       "      <td>helpful</td>\n",
       "      <td>9.310412</td>\n",
       "      <td>0.153999</td>\n",
       "      <td>5.726186</td>\n",
       "      <td>0.539486</td>\n",
       "      <td>29</td>\n",
       "    </tr>\n",
       "    <tr>\n",
       "      <td>...</td>\n",
       "      <td>...</td>\n",
       "      <td>...</td>\n",
       "      <td>...</td>\n",
       "      <td>...</td>\n",
       "      <td>...</td>\n",
       "      <td>...</td>\n",
       "      <td>...</td>\n",
       "      <td>...</td>\n",
       "      <td>...</td>\n",
       "      <td>...</td>\n",
       "    </tr>\n",
       "    <tr>\n",
       "      <td>573</td>\n",
       "      <td>victor-nguyen-long</td>\n",
       "      <td>danielle-knopf</td>\n",
       "      <td>205</td>\n",
       "      <td>205</td>\n",
       "      <td>helpful</td>\n",
       "      <td>6.826205</td>\n",
       "      <td>0.327832</td>\n",
       "      <td>5.441923</td>\n",
       "      <td>0.495094</td>\n",
       "      <td>19</td>\n",
       "    </tr>\n",
       "    <tr>\n",
       "      <td>574</td>\n",
       "      <td>victor-nguyen-long</td>\n",
       "      <td>brittany-laughlin</td>\n",
       "      <td>278</td>\n",
       "      <td>279</td>\n",
       "      <td>helpful</td>\n",
       "      <td>7.976504</td>\n",
       "      <td>0.167423</td>\n",
       "      <td>5.441923</td>\n",
       "      <td>0.495094</td>\n",
       "      <td>19</td>\n",
       "    </tr>\n",
       "    <tr>\n",
       "      <td>575</td>\n",
       "      <td>victor-nguyen-long</td>\n",
       "      <td>evan-cunningham</td>\n",
       "      <td>318</td>\n",
       "      <td>318</td>\n",
       "      <td>helpful</td>\n",
       "      <td>8.092322</td>\n",
       "      <td>0.149290</td>\n",
       "      <td>5.441923</td>\n",
       "      <td>0.495094</td>\n",
       "      <td>19</td>\n",
       "    </tr>\n",
       "    <tr>\n",
       "      <td>576</td>\n",
       "      <td>victor-nguyen-long</td>\n",
       "      <td>justin-taylor</td>\n",
       "      <td>718</td>\n",
       "      <td>718</td>\n",
       "      <td>helpful</td>\n",
       "      <td>6.632761</td>\n",
       "      <td>0.352501</td>\n",
       "      <td>5.441923</td>\n",
       "      <td>0.495094</td>\n",
       "      <td>19</td>\n",
       "    </tr>\n",
       "    <tr>\n",
       "      <td>581</td>\n",
       "      <td>victor-nguyen-long</td>\n",
       "      <td>jesse-thomas</td>\n",
       "      <td>350</td>\n",
       "      <td>350</td>\n",
       "      <td>helpful</td>\n",
       "      <td>8.122935</td>\n",
       "      <td>0.144399</td>\n",
       "      <td>5.441923</td>\n",
       "      <td>0.495094</td>\n",
       "      <td>19</td>\n",
       "    </tr>\n",
       "  </tbody>\n",
       "</table>\n",
       "<p>305 rows × 10 columns</p>\n",
       "</div>"
      ],
      "text/plain": [
       "               userid_x           userid_y  N_previous  N_alter_total  \\\n",
       "0          andrew-grill       ben-matthews         407            407   \n",
       "1          andrew-grill          tom-gibby         476            480   \n",
       "2          andrew-grill      robert-scoble         934            934   \n",
       "3          andrew-grill        aden-davies         257            257   \n",
       "5          andrew-grill         jon-curnow         959            959   \n",
       "..                  ...                ...         ...            ...   \n",
       "573  victor-nguyen-long     danielle-knopf         205            205   \n",
       "574  victor-nguyen-long  brittany-laughlin         278            279   \n",
       "575  victor-nguyen-long    evan-cunningham         318            318   \n",
       "576  victor-nguyen-long      justin-taylor         718            718   \n",
       "581  victor-nguyen-long       jesse-thomas         350            350   \n",
       "\n",
       "       group  CE_alter  Pi_alter    CE_ego    Pi_ego  n_friends  \n",
       "0    helpful  8.296095  0.275012  5.726186  0.539486         29  \n",
       "1    helpful  8.862176  0.209364  5.726186  0.539486         29  \n",
       "2    helpful  9.850951  0.080303  5.726186  0.539486         29  \n",
       "3    helpful  7.998260  0.308137  5.726186  0.539486         29  \n",
       "5    helpful  9.310412  0.153999  5.726186  0.539486         29  \n",
       "..       ...       ...       ...       ...       ...        ...  \n",
       "573  helpful  6.826205  0.327832  5.441923  0.495094         19  \n",
       "574  helpful  7.976504  0.167423  5.441923  0.495094         19  \n",
       "575  helpful  8.092322  0.149290  5.441923  0.495094         19  \n",
       "576  helpful  6.632761  0.352501  5.441923  0.495094         19  \n",
       "581  helpful  8.122935  0.144399  5.441923  0.495094         19  \n",
       "\n",
       "[305 rows x 10 columns]"
      ]
     },
     "execution_count": 354,
     "metadata": {},
     "output_type": "execute_result"
    }
   ],
   "source": [
    "ValidFriends = TrueFriendNet.total_meetup[TrueFriendNet.total_meetup['group'] =='helpful']\n",
    "ValidFriends"
   ]
  },
  {
   "cell_type": "markdown",
   "metadata": {},
   "source": [
    "## Cross-validation predictability"
   ]
  },
  {
   "cell_type": "code",
   "execution_count": 355,
   "metadata": {
    "ExecuteTime": {
     "end_time": "2020-05-11T22:42:50.476658Z",
     "start_time": "2020-05-11T22:42:34.202012Z"
    }
   },
   "outputs": [],
   "source": [
    "ValidGoodFriendsCV = ms.MeetupCrossValid('data/weeplace_checkins.csv', mins_records=200, n_previous=200,\n",
    "                                         user_meetup=None, total_meetup=ValidFriends, placeidT=placeidT)"
   ]
  },
  {
   "cell_type": "code",
   "execution_count": 367,
   "metadata": {
    "ExecuteTime": {
     "end_time": "2020-05-11T22:55:10.158815Z",
     "start_time": "2020-05-11T22:55:10.092080Z"
    }
   },
   "outputs": [
    {
     "data": {
      "text/html": [
       "<div>\n",
       "<style scoped>\n",
       "    .dataframe tbody tr th:only-of-type {\n",
       "        vertical-align: middle;\n",
       "    }\n",
       "\n",
       "    .dataframe tbody tr th {\n",
       "        vertical-align: top;\n",
       "    }\n",
       "\n",
       "    .dataframe thead th {\n",
       "        text-align: right;\n",
       "    }\n",
       "</style>\n",
       "<table border=\"1\" class=\"dataframe\">\n",
       "  <thead>\n",
       "    <tr style=\"text-align: right;\">\n",
       "      <th></th>\n",
       "      <th>userid_x</th>\n",
       "      <th>userid_y</th>\n",
       "      <th>N_previous</th>\n",
       "      <th>N_alter_total</th>\n",
       "      <th>group</th>\n",
       "      <th>CE_alter</th>\n",
       "      <th>Pi_alter</th>\n",
       "      <th>CE_ego</th>\n",
       "      <th>Pi_ego</th>\n",
       "      <th>n_friends</th>\n",
       "    </tr>\n",
       "  </thead>\n",
       "  <tbody>\n",
       "    <tr>\n",
       "      <td>0</td>\n",
       "      <td>andrew-grill</td>\n",
       "      <td>ben-matthews</td>\n",
       "      <td>407</td>\n",
       "      <td>407</td>\n",
       "      <td>helpful</td>\n",
       "      <td>8.296095</td>\n",
       "      <td>0.275012</td>\n",
       "      <td>5.726186</td>\n",
       "      <td>0.539486</td>\n",
       "      <td>29</td>\n",
       "    </tr>\n",
       "    <tr>\n",
       "      <td>1</td>\n",
       "      <td>andrew-grill</td>\n",
       "      <td>tom-gibby</td>\n",
       "      <td>476</td>\n",
       "      <td>480</td>\n",
       "      <td>helpful</td>\n",
       "      <td>8.862176</td>\n",
       "      <td>0.209364</td>\n",
       "      <td>5.726186</td>\n",
       "      <td>0.539486</td>\n",
       "      <td>29</td>\n",
       "    </tr>\n",
       "    <tr>\n",
       "      <td>2</td>\n",
       "      <td>andrew-grill</td>\n",
       "      <td>robert-scoble</td>\n",
       "      <td>934</td>\n",
       "      <td>934</td>\n",
       "      <td>helpful</td>\n",
       "      <td>9.850951</td>\n",
       "      <td>0.080303</td>\n",
       "      <td>5.726186</td>\n",
       "      <td>0.539486</td>\n",
       "      <td>29</td>\n",
       "    </tr>\n",
       "    <tr>\n",
       "      <td>3</td>\n",
       "      <td>andrew-grill</td>\n",
       "      <td>aden-davies</td>\n",
       "      <td>257</td>\n",
       "      <td>257</td>\n",
       "      <td>helpful</td>\n",
       "      <td>7.998260</td>\n",
       "      <td>0.308137</td>\n",
       "      <td>5.726186</td>\n",
       "      <td>0.539486</td>\n",
       "      <td>29</td>\n",
       "    </tr>\n",
       "    <tr>\n",
       "      <td>5</td>\n",
       "      <td>andrew-grill</td>\n",
       "      <td>jon-curnow</td>\n",
       "      <td>959</td>\n",
       "      <td>959</td>\n",
       "      <td>helpful</td>\n",
       "      <td>9.310412</td>\n",
       "      <td>0.153999</td>\n",
       "      <td>5.726186</td>\n",
       "      <td>0.539486</td>\n",
       "      <td>29</td>\n",
       "    </tr>\n",
       "    <tr>\n",
       "      <td>...</td>\n",
       "      <td>...</td>\n",
       "      <td>...</td>\n",
       "      <td>...</td>\n",
       "      <td>...</td>\n",
       "      <td>...</td>\n",
       "      <td>...</td>\n",
       "      <td>...</td>\n",
       "      <td>...</td>\n",
       "      <td>...</td>\n",
       "      <td>...</td>\n",
       "    </tr>\n",
       "    <tr>\n",
       "      <td>573</td>\n",
       "      <td>victor-nguyen-long</td>\n",
       "      <td>danielle-knopf</td>\n",
       "      <td>205</td>\n",
       "      <td>205</td>\n",
       "      <td>helpful</td>\n",
       "      <td>6.826205</td>\n",
       "      <td>0.327832</td>\n",
       "      <td>5.441923</td>\n",
       "      <td>0.495094</td>\n",
       "      <td>19</td>\n",
       "    </tr>\n",
       "    <tr>\n",
       "      <td>574</td>\n",
       "      <td>victor-nguyen-long</td>\n",
       "      <td>brittany-laughlin</td>\n",
       "      <td>278</td>\n",
       "      <td>279</td>\n",
       "      <td>helpful</td>\n",
       "      <td>7.976504</td>\n",
       "      <td>0.167423</td>\n",
       "      <td>5.441923</td>\n",
       "      <td>0.495094</td>\n",
       "      <td>19</td>\n",
       "    </tr>\n",
       "    <tr>\n",
       "      <td>575</td>\n",
       "      <td>victor-nguyen-long</td>\n",
       "      <td>evan-cunningham</td>\n",
       "      <td>318</td>\n",
       "      <td>318</td>\n",
       "      <td>helpful</td>\n",
       "      <td>8.092322</td>\n",
       "      <td>0.149290</td>\n",
       "      <td>5.441923</td>\n",
       "      <td>0.495094</td>\n",
       "      <td>19</td>\n",
       "    </tr>\n",
       "    <tr>\n",
       "      <td>576</td>\n",
       "      <td>victor-nguyen-long</td>\n",
       "      <td>justin-taylor</td>\n",
       "      <td>718</td>\n",
       "      <td>718</td>\n",
       "      <td>helpful</td>\n",
       "      <td>6.632761</td>\n",
       "      <td>0.352501</td>\n",
       "      <td>5.441923</td>\n",
       "      <td>0.495094</td>\n",
       "      <td>19</td>\n",
       "    </tr>\n",
       "    <tr>\n",
       "      <td>581</td>\n",
       "      <td>victor-nguyen-long</td>\n",
       "      <td>jesse-thomas</td>\n",
       "      <td>350</td>\n",
       "      <td>350</td>\n",
       "      <td>helpful</td>\n",
       "      <td>8.122935</td>\n",
       "      <td>0.144399</td>\n",
       "      <td>5.441923</td>\n",
       "      <td>0.495094</td>\n",
       "      <td>19</td>\n",
       "    </tr>\n",
       "  </tbody>\n",
       "</table>\n",
       "<p>300 rows × 10 columns</p>\n",
       "</div>"
      ],
      "text/plain": [
       "               userid_x           userid_y  N_previous  N_alter_total  \\\n",
       "0          andrew-grill       ben-matthews         407            407   \n",
       "1          andrew-grill          tom-gibby         476            480   \n",
       "2          andrew-grill      robert-scoble         934            934   \n",
       "3          andrew-grill        aden-davies         257            257   \n",
       "5          andrew-grill         jon-curnow         959            959   \n",
       "..                  ...                ...         ...            ...   \n",
       "573  victor-nguyen-long     danielle-knopf         205            205   \n",
       "574  victor-nguyen-long  brittany-laughlin         278            279   \n",
       "575  victor-nguyen-long    evan-cunningham         318            318   \n",
       "576  victor-nguyen-long      justin-taylor         718            718   \n",
       "581  victor-nguyen-long       jesse-thomas         350            350   \n",
       "\n",
       "       group  CE_alter  Pi_alter    CE_ego    Pi_ego  n_friends  \n",
       "0    helpful  8.296095  0.275012  5.726186  0.539486         29  \n",
       "1    helpful  8.862176  0.209364  5.726186  0.539486         29  \n",
       "2    helpful  9.850951  0.080303  5.726186  0.539486         29  \n",
       "3    helpful  7.998260  0.308137  5.726186  0.539486         29  \n",
       "5    helpful  9.310412  0.153999  5.726186  0.539486         29  \n",
       "..       ...       ...       ...       ...       ...        ...  \n",
       "573  helpful  6.826205  0.327832  5.441923  0.495094         19  \n",
       "574  helpful  7.976504  0.167423  5.441923  0.495094         19  \n",
       "575  helpful  8.092322  0.149290  5.441923  0.495094         19  \n",
       "576  helpful  6.632761  0.352501  5.441923  0.495094         19  \n",
       "581  helpful  8.122935  0.144399  5.441923  0.495094         19  \n",
       "\n",
       "[300 rows x 10 columns]"
      ]
     },
     "execution_count": 367,
     "metadata": {},
     "output_type": "execute_result"
    }
   ],
   "source": [
    "ValidGoodFriendsCV.user_meetup"
   ]
  },
  {
   "cell_type": "code",
   "execution_count": 369,
   "metadata": {
    "ExecuteTime": {
     "end_time": "2020-05-11T23:41:03.630179Z",
     "start_time": "2020-05-11T22:56:30.530996Z"
    },
    "scrolled": true
   },
   "outputs": [
    {
     "name": "stdout",
     "output_type": "stream",
     "text": [
      "['hugh', 'geoff-kim', 'jp-kim']\n",
      "hugh\n",
      "geoff-kim\n",
      "jp-kim\n"
     ]
    },
    {
     "data": {
      "text/plain": [
       "2673.052261829376"
      ]
     },
     "execution_count": 369,
     "metadata": {},
     "output_type": "execute_result"
    }
   ],
   "source": [
    "start = time.time()\n",
    "ValidGoodFriendsCV.ego_info(n_shown=10, verbose=True, filesave=True)\n",
    "time.time() - start"
   ]
  },
  {
   "cell_type": "code",
   "execution_count": 371,
   "metadata": {
    "ExecuteTime": {
     "end_time": "2020-05-11T23:51:09.183215Z",
     "start_time": "2020-05-11T23:51:09.153018Z"
    }
   },
   "outputs": [],
   "source": [
    "cross_info_friend = ValidGoodFriendsCV.cross_info"
   ]
  },
  {
   "cell_type": "code",
   "execution_count": 375,
   "metadata": {
    "ExecuteTime": {
     "end_time": "2020-05-11T23:54:42.184134Z",
     "start_time": "2020-05-11T23:54:42.140887Z"
    }
   },
   "outputs": [],
   "source": [
    "cross_info_friend['Pi_ego'] = cross_info_friend['Pi_alters']/cross_info_friend['Pi_alters_ratio']  "
   ]
  },
  {
   "cell_type": "code",
   "execution_count": 378,
   "metadata": {
    "ExecuteTime": {
     "end_time": "2020-05-11T23:58:23.231058Z",
     "start_time": "2020-05-11T23:58:23.121846Z"
    }
   },
   "outputs": [],
   "source": [
    "cross_info_friend.to_csv('FriendCV200-10.csv', index=False)"
   ]
  },
  {
   "cell_type": "code",
   "execution_count": 376,
   "metadata": {
    "ExecuteTime": {
     "end_time": "2020-05-11T23:54:45.335504Z",
     "start_time": "2020-05-11T23:54:44.645415Z"
    }
   },
   "outputs": [
    {
     "data": {
      "image/png": "[encoded data removed]",
      "text/plain": [
       "<Figure size 720x360 with 1 Axes>"
      ]
     },
     "metadata": {},
     "output_type": "display_data"
    }
   ],
   "source": [
    "vs.cv_plot(cross_info_friend[cross_info_friend['userid'] == 'hugh'], plot_type='errorbar', mode='talk', l=10, w=5)"
   ]
  },
  {
   "cell_type": "code",
   "execution_count": 379,
   "metadata": {
    "ExecuteTime": {
     "end_time": "2020-05-12T00:02:24.314709Z",
     "start_time": "2020-05-12T00:02:23.593575Z"
    }
   },
   "outputs": [
    {
     "data": {
      "image/png": "[encoded data removed]",
      "text/plain": [
       "<Figure size 720x360 with 1 Axes>"
      ]
     },
     "metadata": {},
     "output_type": "display_data"
    }
   ],
   "source": [
    "vs.cv_plot(cross_info_friend, plot_type='errorbar', mode='talk', l=10, w=5)"
   ]
  },
  {
   "cell_type": "code",
   "execution_count": 382,
   "metadata": {
    "ExecuteTime": {
     "end_time": "2020-05-12T00:13:32.465027Z",
     "start_time": "2020-05-12T00:13:32.348701Z"
    }
   },
   "outputs": [
    {
     "data": {
      "text/html": [
       "<div>\n",
       "<style scoped>\n",
       "    .dataframe tbody tr th:only-of-type {\n",
       "        vertical-align: middle;\n",
       "    }\n",
       "\n",
       "    .dataframe tbody tr th {\n",
       "        vertical-align: top;\n",
       "    }\n",
       "\n",
       "    .dataframe thead th {\n",
       "        text-align: right;\n",
       "    }\n",
       "</style>\n",
       "<table border=\"1\" class=\"dataframe\">\n",
       "  <thead>\n",
       "    <tr style=\"text-align: right;\">\n",
       "      <th></th>\n",
       "      <th>Included</th>\n",
       "      <th>alters_names</th>\n",
       "      <th>CCE_alters</th>\n",
       "      <th>CCE_ego_alters</th>\n",
       "      <th>Pi_alters</th>\n",
       "      <th>Pi_ego_alters</th>\n",
       "      <th>Pi_alters_ratio</th>\n",
       "      <th>Pi_ego_alters_ratio</th>\n",
       "      <th>userid</th>\n",
       "      <th>Pi_ego</th>\n",
       "      <th>category</th>\n",
       "    </tr>\n",
       "  </thead>\n",
       "  <tbody>\n",
       "    <tr>\n",
       "      <td>0</td>\n",
       "      <td>1</td>\n",
       "      <td>'mike-chang'</td>\n",
       "      <td>9.127645</td>\n",
       "      <td>7.573309</td>\n",
       "      <td>0.161132</td>\n",
       "      <td>0.343457</td>\n",
       "      <td>0.484971</td>\n",
       "      <td>1.033732</td>\n",
       "      <td>geoff-kim</td>\n",
       "      <td>0.332250</td>\n",
       "      <td>Meetup Friendship</td>\n",
       "    </tr>\n",
       "    <tr>\n",
       "      <td>1</td>\n",
       "      <td>1</td>\n",
       "      <td>'nicola-swankie'</td>\n",
       "      <td>7.989066</td>\n",
       "      <td>7.499171</td>\n",
       "      <td>0.297447</td>\n",
       "      <td>0.351505</td>\n",
       "      <td>0.895250</td>\n",
       "      <td>1.057954</td>\n",
       "      <td>geoff-kim</td>\n",
       "      <td>0.332250</td>\n",
       "      <td>Meetup Friendship</td>\n",
       "    </tr>\n",
       "    <tr>\n",
       "      <td>2</td>\n",
       "      <td>1</td>\n",
       "      <td>'tiphereth-gloria'</td>\n",
       "      <td>9.536956</td>\n",
       "      <td>7.519327</td>\n",
       "      <td>0.105919</td>\n",
       "      <td>0.349321</td>\n",
       "      <td>0.318792</td>\n",
       "      <td>1.051382</td>\n",
       "      <td>geoff-kim</td>\n",
       "      <td>0.332250</td>\n",
       "      <td>Meetup Friendship</td>\n",
       "    </tr>\n",
       "    <tr>\n",
       "      <td>3</td>\n",
       "      <td>1</td>\n",
       "      <td>'alastair-green'</td>\n",
       "      <td>9.896806</td>\n",
       "      <td>7.597362</td>\n",
       "      <td>0.050858</td>\n",
       "      <td>0.340837</td>\n",
       "      <td>0.153070</td>\n",
       "      <td>1.025845</td>\n",
       "      <td>geoff-kim</td>\n",
       "      <td>0.332250</td>\n",
       "      <td>Meetup Friendship</td>\n",
       "    </tr>\n",
       "    <tr>\n",
       "      <td>4</td>\n",
       "      <td>1</td>\n",
       "      <td>'jonny-nail'</td>\n",
       "      <td>9.158628</td>\n",
       "      <td>7.592723</td>\n",
       "      <td>0.157118</td>\n",
       "      <td>0.341342</td>\n",
       "      <td>0.472892</td>\n",
       "      <td>1.027367</td>\n",
       "      <td>geoff-kim</td>\n",
       "      <td>0.332250</td>\n",
       "      <td>Meetup Friendship</td>\n",
       "    </tr>\n",
       "    <tr>\n",
       "      <td>...</td>\n",
       "      <td>...</td>\n",
       "      <td>...</td>\n",
       "      <td>...</td>\n",
       "      <td>...</td>\n",
       "      <td>...</td>\n",
       "      <td>...</td>\n",
       "      <td>...</td>\n",
       "      <td>...</td>\n",
       "      <td>...</td>\n",
       "      <td>...</td>\n",
       "      <td>...</td>\n",
       "    </tr>\n",
       "    <tr>\n",
       "      <td>1018</td>\n",
       "      <td>9</td>\n",
       "      <td>'onepiece-chopper','4sq-seoul','wungjae-hyun',...</td>\n",
       "      <td>6.787361</td>\n",
       "      <td>5.937729</td>\n",
       "      <td>0.419208</td>\n",
       "      <td>0.506077</td>\n",
       "      <td>1.005526</td>\n",
       "      <td>1.213892</td>\n",
       "      <td>jp-kim</td>\n",
       "      <td>0.416904</td>\n",
       "      <td>True Friendship</td>\n",
       "    </tr>\n",
       "    <tr>\n",
       "      <td>1019</td>\n",
       "      <td>9</td>\n",
       "      <td>'onepiece-chopper','4sq-seoul','holly-mcnamara...</td>\n",
       "      <td>6.734987</td>\n",
       "      <td>5.969170</td>\n",
       "      <td>0.424697</td>\n",
       "      <td>0.502940</td>\n",
       "      <td>1.018691</td>\n",
       "      <td>1.206368</td>\n",
       "      <td>jp-kim</td>\n",
       "      <td>0.416904</td>\n",
       "      <td>True Friendship</td>\n",
       "    </tr>\n",
       "    <tr>\n",
       "      <td>1020</td>\n",
       "      <td>9</td>\n",
       "      <td>'onepiece-chopper','wungjae-hyun','holly-mcnam...</td>\n",
       "      <td>6.864548</td>\n",
       "      <td>5.973296</td>\n",
       "      <td>0.411086</td>\n",
       "      <td>0.502528</td>\n",
       "      <td>0.986043</td>\n",
       "      <td>1.205380</td>\n",
       "      <td>jp-kim</td>\n",
       "      <td>0.416904</td>\n",
       "      <td>True Friendship</td>\n",
       "    </tr>\n",
       "    <tr>\n",
       "      <td>1021</td>\n",
       "      <td>9</td>\n",
       "      <td>'4sq-seoul','wungjae-hyun','holly-mcnamara','s...</td>\n",
       "      <td>6.819940</td>\n",
       "      <td>5.977472</td>\n",
       "      <td>0.415785</td>\n",
       "      <td>0.502111</td>\n",
       "      <td>0.997315</td>\n",
       "      <td>1.204379</td>\n",
       "      <td>jp-kim</td>\n",
       "      <td>0.416904</td>\n",
       "      <td>True Friendship</td>\n",
       "    </tr>\n",
       "    <tr>\n",
       "      <td>1022</td>\n",
       "      <td>10</td>\n",
       "      <td>'onepiece-chopper','4sq-seoul','wungjae-hyun',...</td>\n",
       "      <td>6.783661</td>\n",
       "      <td>5.935116</td>\n",
       "      <td>0.419597</td>\n",
       "      <td>0.506338</td>\n",
       "      <td>1.006458</td>\n",
       "      <td>1.214517</td>\n",
       "      <td>jp-kim</td>\n",
       "      <td>0.416904</td>\n",
       "      <td>True Friendship</td>\n",
       "    </tr>\n",
       "  </tbody>\n",
       "</table>\n",
       "<p>6138 rows × 11 columns</p>\n",
       "</div>"
      ],
      "text/plain": [
       "      Included                                       alters_names  CCE_alters  \\\n",
       "0            1                                       'mike-chang'    9.127645   \n",
       "1            1                                   'nicola-swankie'    7.989066   \n",
       "2            1                                 'tiphereth-gloria'    9.536956   \n",
       "3            1                                   'alastair-green'    9.896806   \n",
       "4            1                                       'jonny-nail'    9.158628   \n",
       "...        ...                                                ...         ...   \n",
       "1018         9  'onepiece-chopper','4sq-seoul','wungjae-hyun',...    6.787361   \n",
       "1019         9  'onepiece-chopper','4sq-seoul','holly-mcnamara...    6.734987   \n",
       "1020         9  'onepiece-chopper','wungjae-hyun','holly-mcnam...    6.864548   \n",
       "1021         9  '4sq-seoul','wungjae-hyun','holly-mcnamara','s...    6.819940   \n",
       "1022        10  'onepiece-chopper','4sq-seoul','wungjae-hyun',...    6.783661   \n",
       "\n",
       "      CCE_ego_alters  Pi_alters  Pi_ego_alters  Pi_alters_ratio  \\\n",
       "0           7.573309   0.161132       0.343457         0.484971   \n",
       "1           7.499171   0.297447       0.351505         0.895250   \n",
       "2           7.519327   0.105919       0.349321         0.318792   \n",
       "3           7.597362   0.050858       0.340837         0.153070   \n",
       "4           7.592723   0.157118       0.341342         0.472892   \n",
       "...              ...        ...            ...              ...   \n",
       "1018        5.937729   0.419208       0.506077         1.005526   \n",
       "1019        5.969170   0.424697       0.502940         1.018691   \n",
       "1020        5.973296   0.411086       0.502528         0.986043   \n",
       "1021        5.977472   0.415785       0.502111         0.997315   \n",
       "1022        5.935116   0.419597       0.506338         1.006458   \n",
       "\n",
       "      Pi_ego_alters_ratio     userid    Pi_ego           category  \n",
       "0                1.033732  geoff-kim  0.332250  Meetup Friendship  \n",
       "1                1.057954  geoff-kim  0.332250  Meetup Friendship  \n",
       "2                1.051382  geoff-kim  0.332250  Meetup Friendship  \n",
       "3                1.025845  geoff-kim  0.332250  Meetup Friendship  \n",
       "4                1.027367  geoff-kim  0.332250  Meetup Friendship  \n",
       "...                   ...        ...       ...                ...  \n",
       "1018             1.213892     jp-kim  0.416904    True Friendship  \n",
       "1019             1.206368     jp-kim  0.416904    True Friendship  \n",
       "1020             1.205380     jp-kim  0.416904    True Friendship  \n",
       "1021             1.204379     jp-kim  0.416904    True Friendship  \n",
       "1022             1.214517     jp-kim  0.416904    True Friendship  \n",
       "\n",
       "[6138 rows x 11 columns]"
      ]
     },
     "execution_count": 382,
     "metadata": {},
     "output_type": "execute_result"
    }
   ],
   "source": [
    "cross_info['category'] = 'Meetup Friendship'\n",
    "cross_info_friend['category'] = 'True Friendship'\n",
    "\n",
    "both_cv = pd.concat([cross_info[cross_info['userid'].isin(['hugh', 'geoff-kim', 'jp-kim'])], cross_info_friend])\n",
    "both_cv"
   ]
  },
  {
   "cell_type": "code",
   "execution_count": 401,
   "metadata": {
    "ExecuteTime": {
     "end_time": "2020-05-19T15:36:09.088509Z",
     "start_time": "2020-05-19T15:36:08.078398Z"
    }
   },
   "outputs": [
    {
     "data": {
      "image/png": "[encoded data removed]",
      "text/plain": [
       "<Figure size 864x504 with 1 Axes>"
      ]
     },
     "metadata": {},
     "output_type": "display_data"
    }
   ],
   "source": [
    "vs.cv_compare_plot(both_cv[both_cv['userid'] == 'jp-kim'])"
   ]
  },
  {
   "cell_type": "code",
   "execution_count": 402,
   "metadata": {
    "ExecuteTime": {
     "end_time": "2020-05-19T15:36:12.814193Z",
     "start_time": "2020-05-19T15:36:12.023801Z"
    }
   },
   "outputs": [
    {
     "data": {
      "image/png": "[encoded data removed]",
      "text/plain": [
       "<Figure size 864x504 with 1 Axes>"
      ]
     },
     "metadata": {},
     "output_type": "display_data"
    }
   ],
   "source": [
    "vs.cv_compare_plot(both_cv[both_cv['userid'] == 'geoff-kim'])"
   ]
  },
  {
   "cell_type": "code",
   "execution_count": 403,
   "metadata": {
    "ExecuteTime": {
     "end_time": "2020-05-19T15:36:16.623041Z",
     "start_time": "2020-05-19T15:36:15.669326Z"
    }
   },
   "outputs": [
    {
     "data": {
      "image/png": "[encoded data removed]",
      "text/plain": [
       "<Figure size 864x504 with 1 Axes>"
      ]
     },
     "metadata": {},
     "output_type": "display_data"
    }
   ],
   "source": [
    "vs.cv_compare_plot(both_cv[both_cv['userid'] == 'hugh'])"
   ]
  },
  {
   "cell_type": "code",
   "execution_count": 404,
   "metadata": {
    "ExecuteTime": {
     "end_time": "2020-05-19T15:36:20.105364Z",
     "start_time": "2020-05-19T15:36:19.230137Z"
    }
   },
   "outputs": [
    {
     "data": {
      "image/png": "[encoded data removed]",
      "text/plain": [
       "<Figure size 864x504 with 1 Axes>"
      ]
     },
     "metadata": {},
     "output_type": "display_data"
    }
   ],
   "source": [
    "vs.cv_compare_plot(both_cv)"
   ]
  },
  {
   "cell_type": "code",
   "execution_count": null,
   "metadata": {},
   "outputs": [],
   "source": []
  }
 ],
 "metadata": {
  "kernelspec": {
   "display_name": "Python 3",
   "language": "python",
   "name": "python3"
  },
  "language_info": {
   "codemirror_mode": {
    "name": "ipython",
    "version": 3
   },
   "file_extension": ".py",
   "mimetype": "text/x-python",
   "name": "python",
   "nbconvert_exporter": "python",
   "pygments_lexer": "ipython3",
   "version": "3.6.9"
  }
 },
 "nbformat": 4,
 "nbformat_minor": 2
}
