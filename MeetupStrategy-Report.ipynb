{
 "cells": [
  {
   "cell_type": "markdown",
   "metadata": {},
   "source": [
    "# Do our “meetupers” provide extra mobility predictability for us?\n",
    "\n",
    "*Updated: 20 March 2020*\n",
    "\n",
    "**By Zexun Chen (sxtpy2010@gmail.com)**\n",
    "\n",
    "All the algorithms are released on the GitHub, please refer to Github repo [social-predictability](https://github.com/Magica-Chen/social-predictability) if you're interested."
   ]
  },
  {
   "cell_type": "markdown",
   "metadata": {},
   "source": [
    "Everyday we will meet up many people in various places. Although some  of the people we met are our friends, or at least, we know each other, a larges percentage of individuals are our “meetupers” who just visit the same locations as us at the same time.\n",
    "\n",
    "As  we know, friendship as social information, is probably useful to provide extra information of ourselves. Unfortunately,  we may have difficulties in collecting actual and accurate friendship network for an individual due to privacy policy and ambiguous definition of friendship. Nowadays, with the development digital technology, we have more digital check-ins using mobile phone. The check-ins datasets usually contain our basic information, for example, username or user ID, location or place ID, and check-in time.  Based on these check-in information, it is not difficult to extract the “meetupers” information for every users. Consequently, the question you probably ask, \n",
    "\n",
    "***do our “meetupers” provide more mobility predictability for us?*** \n",
    "\n",
    "To answer this question, we will start our experiment on a public human mobility dataset."
   ]
  },
  {
   "cell_type": "markdown",
   "metadata": {},
   "source": [
    "## Dataset"
   ]
  },
  {
   "cell_type": "markdown",
   "metadata": {},
   "source": [
    "### Data description"
   ]
  },
  {
   "cell_type": "markdown",
   "metadata": {},
   "source": [
    "***Weeplace dataset***: a data visualisation application that allows users to visualise their check-ins on other LBSNs. Our data include more than 7 million check-ins produced by more than 15,000 Foursquare users visiting over 1 million locations in approximately 50,000 cities worldwide from Nov 2003 to Jun 2011. At the time the data was collected, users manually checked in to locations in order to earn points,  badges, and titles (e. q., \"mayor\") at locations they frequented, including their own homes. Foursquare also had hundreds of thousands of local businesses partners who offered incentives for checking in, such as discounts and free food. Together, these features incentivised frequent check-ins. The data we use here corresponds to the Foursquare users who have provided their data to the Weeplace service (now defunct) in order to create dynamic visualisations of their activities."
   ]
  },
  {
   "cell_type": "code",
   "execution_count": 28,
   "metadata": {},
   "outputs": [],
   "source": [
    "import numpy as np\n",
    "import pandas as pd"
   ]
  },
  {
   "cell_type": "code",
   "execution_count": 7,
   "metadata": {},
   "outputs": [],
   "source": [
    "df_raw = pd.read_csv('data/weeplace_checkins.csv')"
   ]
  },
  {
   "cell_type": "code",
   "execution_count": 33,
   "metadata": {},
   "outputs": [],
   "source": [
    "Nr_record = df_raw.shape[0]\n",
    "Nr_user = len(set(df_raw['userid'].tolist()))\n",
    "Name_col = list(df_raw.columns)\n",
    "Nr_col = len(Name_col)"
   ]
  },
  {
   "cell_type": "markdown",
   "metadata": {
    "variables": {
     "Name_col": "[&#39;userid&#39;, &#39;placeid&#39;, &#39;datetime&#39;, &#39;lat&#39;, &#39;lon&#39;, &#39;city&#39;, &#39;category&#39;]",
     "Nr_col": "7",
     "Nr_record": "7658368",
     "Nr_record / Nr_user": "484.74",
     "Nr_user": "15799"
    }
   },
   "source": [
    "In this raw dataset, there are ***{{Nr_col}}*** attributes, including ***{{Name_col}}***. There are totally ***{{Nr_record}}*** records from ***{{Nr_user}}*** users, averagely ***{{Nr_record / Nr_user}}*** records per user. The details of how many records each user has are shown in the below:"
   ]
  },
  {
   "cell_type": "code",
   "execution_count": 31,
   "metadata": {},
   "outputs": [
    {
     "data": {
      "text/plain": [
       "count    15799.000000\n",
       "mean       484.737515\n",
       "std        530.819991\n",
       "min          1.000000\n",
       "25%        147.000000\n",
       "50%        329.000000\n",
       "75%        638.000000\n",
       "max       7338.000000\n",
       "Name: count, dtype: float64"
      ]
     },
     "execution_count": 31,
     "metadata": {},
     "output_type": "execute_result"
    }
   ],
   "source": [
    "df_raw.groupby('userid')['datetime'].count().reset_index(name='count')['count'].describe()"
   ]
  },
  {
   "cell_type": "markdown",
   "metadata": {},
   "source": [
    "### Data pre-process"
   ]
  },
  {
   "cell_type": "markdown",
   "metadata": {},
   "source": [
    "Since our definition of \"meetup\" is based on userid, placeid, and datetime, we should remove any records with incomplete attributes."
   ]
  },
  {
   "cell_type": "code",
   "execution_count": 38,
   "metadata": {},
   "outputs": [],
   "source": [
    "df_wp = df_raw.dropna(subset=['userid', 'placeid', 'datetime'])\n",
    "Np_record = df_wp.shape[0]\n",
    "Np_user = len(set(df_wp['userid'].tolist()))"
   ]
  },
  {
   "cell_type": "markdown",
   "metadata": {
    "variables": {
     "Np_record": "7369712",
     "Np_record / Np_user": "466.64",
     "Np_user": "15793"
    }
   },
   "source": [
    "In this processed dataset, There are totally ***{{Np_record}}*** records from ***{{Np_user}}*** users, averagely ***{{Np_record / Np_user}}*** records per user. The details of how many records each user has are shown in the below:"
   ]
  },
  {
   "cell_type": "code",
   "execution_count": 39,
   "metadata": {},
   "outputs": [
    {
     "data": {
      "text/plain": [
       "count    15793.000000\n",
       "mean       466.644209\n",
       "std        509.988549\n",
       "min          1.000000\n",
       "25%        138.000000\n",
       "50%        316.000000\n",
       "75%        621.000000\n",
       "max       7338.000000\n",
       "Name: count, dtype: float64"
      ]
     },
     "execution_count": 39,
     "metadata": {},
     "output_type": "execute_result"
    }
   ],
   "source": [
    "df_wp.groupby('userid')['datetime'].count().reset_index(name='count')['count'].describe()"
   ]
  },
  {
   "cell_type": "markdown",
   "metadata": {},
   "source": [
    "## Find all \"meetupers\" for the whole dataset"
   ]
  },
  {
   "cell_type": "markdown",
   "metadata": {},
   "source": [
    "**Definition 1 (meetuper)**: for a specific user $A$, any one who has at least one check-in record of placeid with the user $A$ at the same time, is defined as $A$'s \"meetuper\".\n",
    "\n",
    "**Remark**: for numerical computation, we remove minutes and seconds information of datetime, thus here \"at same time\" means at the same hour-based time slot."
   ]
  },
  {
   "cell_type": "code",
   "execution_count": null,
   "metadata": {},
   "outputs": [],
   "source": []
  }
 ],
 "metadata": {
  "kernelspec": {
   "display_name": "Python 3",
   "language": "python",
   "name": "python3"
  },
  "language_info": {
   "codemirror_mode": {
    "name": "ipython",
    "version": 3
   },
   "file_extension": ".py",
   "mimetype": "text/x-python",
   "name": "python",
   "nbconvert_exporter": "python",
   "pygments_lexer": "ipython3",
   "version": "3.7.6"
  },
  "toc": {
   "base_numbering": 1,
   "nav_menu": {
    "height": "12px",
    "width": "160px"
   },
   "number_sections": true,
   "sideBar": true,
   "skip_h1_title": true,
   "title_cell": "Table of Contents",
   "title_sidebar": "Contents",
   "toc_cell": false,
   "toc_position": {
    "height": "calc(100% - 180px)",
    "left": "10px",
    "top": "150px",
    "width": "202.188px"
   },
   "toc_section_display": true,
   "toc_window_display": true
  }
 },
 "nbformat": 4,
 "nbformat_minor": 4
}
