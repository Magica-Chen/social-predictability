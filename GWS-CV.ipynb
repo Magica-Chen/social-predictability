{
 "cells": [
  {
   "cell_type": "markdown",
   "metadata": {},
   "source": [
    "# Only focus on VIP network (Top 10 alters network)"
   ]
  },
  {
   "cell_type": "code",
   "execution_count": 1,
   "metadata": {
    "ExecuteTime": {
     "end_time": "2020-09-24T22:34:42.064739Z",
     "start_time": "2020-09-24T22:34:41.189989Z"
    }
   },
   "outputs": [],
   "source": [
    "import numpy as np\n",
    "import pandas as pd\n",
    "import meetup_strategy as ms\n",
    "import time \n",
    "import util\n",
    "import pickle\n",
    "%load_ext autoreload\n",
    "%autoreload 2"
   ]
  },
  {
   "cell_type": "code",
   "execution_count": 2,
   "metadata": {
    "ExecuteTime": {
     "end_time": "2020-09-24T22:34:55.624372Z",
     "start_time": "2020-09-24T22:34:55.606914Z"
    }
   },
   "outputs": [],
   "source": [
    "checkin_path = 'data/gowalla_checkins.csv'\n",
    "placeid_path = 'temp_data/gws-150/gowalla_placeidT_150.pickle'\n",
    "friendship_path = 'data/gowalla_friends.csv'\n",
    "VIP_network_path = 'final/gws-150/gws_VIP_MeetupNp.csv'"
   ]
  },
  {
   "cell_type": "code",
   "execution_count": 3,
   "metadata": {
    "ExecuteTime": {
     "end_time": "2020-09-24T22:34:57.623028Z",
     "start_time": "2020-09-24T22:34:57.542953Z"
    }
   },
   "outputs": [],
   "source": [
    "VIP_network = pd.read_csv(VIP_network_path)"
   ]
  },
  {
   "cell_type": "code",
   "execution_count": 4,
   "metadata": {
    "ExecuteTime": {
     "end_time": "2020-09-24T22:35:04.352918Z",
     "start_time": "2020-09-24T22:34:59.446059Z"
    }
   },
   "outputs": [],
   "source": [
    "# read picle file\n",
    "pickle_in = open(placeid_path, \"rb\")\n",
    "placeidT = pickle.load(pickle_in)\n",
    "pickle_in.close()"
   ]
  },
  {
   "cell_type": "code",
   "execution_count": 11,
   "metadata": {
    "ExecuteTime": {
     "end_time": "2020-09-24T22:37:27.498547Z",
     "start_time": "2020-09-24T22:37:27.458181Z"
    }
   },
   "outputs": [],
   "source": [
    "VIP_H_MFN = VIP_network[VIP_network['category'] == 'CB-1H-MFN'][['userid', 'userid_y']]"
   ]
  },
  {
   "cell_type": "markdown",
   "metadata": {},
   "source": [
    "## H-MFN"
   ]
  },
  {
   "cell_type": "code",
   "execution_count": 12,
   "metadata": {
    "ExecuteTime": {
     "end_time": "2020-09-24T22:37:30.076889Z",
     "start_time": "2020-09-24T22:37:30.031195Z"
    }
   },
   "outputs": [],
   "source": [
    "VIP_H_MFN.columns = ['userid_x', 'userid_y']\n",
    "VIP_H_MFN['userid_x'] = VIP_H_MFN['userid_x'].astype(int)\n",
    "VIP_H_MFN['userid_y'] = VIP_H_MFN['userid_y'].astype(int)"
   ]
  },
  {
   "cell_type": "code",
   "execution_count": 13,
   "metadata": {
    "ExecuteTime": {
     "end_time": "2020-09-24T22:37:34.287217Z",
     "start_time": "2020-09-24T22:37:34.242505Z"
    }
   },
   "outputs": [
    {
     "data": {
      "text/html": [
       "<div>\n",
       "<style scoped>\n",
       "    .dataframe tbody tr th:only-of-type {\n",
       "        vertical-align: middle;\n",
       "    }\n",
       "\n",
       "    .dataframe tbody tr th {\n",
       "        vertical-align: top;\n",
       "    }\n",
       "\n",
       "    .dataframe thead th {\n",
       "        text-align: right;\n",
       "    }\n",
       "</style>\n",
       "<table border=\"1\" class=\"dataframe\">\n",
       "  <thead>\n",
       "    <tr style=\"text-align: right;\">\n",
       "      <th></th>\n",
       "      <th>userid_x</th>\n",
       "      <th>userid_y</th>\n",
       "    </tr>\n",
       "  </thead>\n",
       "  <tbody>\n",
       "    <tr>\n",
       "      <th>0</th>\n",
       "      <td>0</td>\n",
       "      <td>267</td>\n",
       "    </tr>\n",
       "    <tr>\n",
       "      <th>1</th>\n",
       "      <td>0</td>\n",
       "      <td>66</td>\n",
       "    </tr>\n",
       "    <tr>\n",
       "      <th>2</th>\n",
       "      <td>0</td>\n",
       "      <td>547</td>\n",
       "    </tr>\n",
       "    <tr>\n",
       "      <th>3</th>\n",
       "      <td>0</td>\n",
       "      <td>256</td>\n",
       "    </tr>\n",
       "    <tr>\n",
       "      <th>4</th>\n",
       "      <td>0</td>\n",
       "      <td>515</td>\n",
       "    </tr>\n",
       "    <tr>\n",
       "      <th>...</th>\n",
       "      <td>...</td>\n",
       "      <td>...</td>\n",
       "    </tr>\n",
       "    <tr>\n",
       "      <th>1415</th>\n",
       "      <td>10962</td>\n",
       "      <td>87281</td>\n",
       "    </tr>\n",
       "    <tr>\n",
       "      <th>1416</th>\n",
       "      <td>10962</td>\n",
       "      <td>33735</td>\n",
       "    </tr>\n",
       "    <tr>\n",
       "      <th>1417</th>\n",
       "      <td>10962</td>\n",
       "      <td>139339</td>\n",
       "    </tr>\n",
       "    <tr>\n",
       "      <th>1418</th>\n",
       "      <td>10962</td>\n",
       "      <td>56768</td>\n",
       "    </tr>\n",
       "    <tr>\n",
       "      <th>1419</th>\n",
       "      <td>10962</td>\n",
       "      <td>10695</td>\n",
       "    </tr>\n",
       "  </tbody>\n",
       "</table>\n",
       "<p>1420 rows × 2 columns</p>\n",
       "</div>"
      ],
      "text/plain": [
       "      userid_x  userid_y\n",
       "0            0       267\n",
       "1            0        66\n",
       "2            0       547\n",
       "3            0       256\n",
       "4            0       515\n",
       "...        ...       ...\n",
       "1415     10962     87281\n",
       "1416     10962     33735\n",
       "1417     10962    139339\n",
       "1418     10962     56768\n",
       "1419     10962     10695\n",
       "\n",
       "[1420 rows x 2 columns]"
      ]
     },
     "execution_count": 13,
     "metadata": {},
     "output_type": "execute_result"
    }
   ],
   "source": [
    "VIP_H_MFN"
   ]
  },
  {
   "cell_type": "code",
   "execution_count": 14,
   "metadata": {
    "ExecuteTime": {
     "end_time": "2020-09-24T22:37:55.255455Z",
     "start_time": "2020-09-24T22:37:38.011774Z"
    }
   },
   "outputs": [],
   "source": [
    "ValidGoodMeetupCV = ms.MeetupCrossValid(checkin_path, mins_records=150, name='gws_H_cv_vip10',freq='H',\n",
    "                            n_previous=None, user_meetup=None, total_meetup=VIP_H_MFN, placeidT=placeidT)"
   ]
  },
  {
   "cell_type": "code",
   "execution_count": 15,
   "metadata": {
    "ExecuteTime": {
     "end_time": "2020-09-24T22:37:57.443861Z",
     "start_time": "2020-09-24T22:37:57.388675Z"
    }
   },
   "outputs": [
    {
     "data": {
      "text/plain": [
       "142"
      ]
     },
     "execution_count": 15,
     "metadata": {},
     "output_type": "execute_result"
    }
   ],
   "source": [
    "len(ValidGoodMeetupCV.egolist)"
   ]
  },
  {
   "cell_type": "code",
   "execution_count": null,
   "metadata": {
    "ExecuteTime": {
     "start_time": "2020-09-24T22:38:12.282Z"
    },
    "scrolled": true
   },
   "outputs": [
    {
     "name": "stdout",
     "output_type": "stream",
     "text": [
      "0\n",
      "41\n",
      "52\n",
      "66\n",
      "88\n",
      "89\n",
      "98\n",
      "107\n"
     ]
    }
   ],
   "source": [
    "ValidGoodMeetupCV.ego_info(n_shown=False, verbose=True, filesave=True)"
   ]
  },
  {
   "cell_type": "markdown",
   "metadata": {},
   "source": [
    "## TFN"
   ]
  },
  {
   "cell_type": "code",
   "execution_count": 11,
   "metadata": {
    "ExecuteTime": {
     "end_time": "2020-08-17T12:03:33.687931Z",
     "start_time": "2020-08-17T12:03:33.655178Z"
    }
   },
   "outputs": [],
   "source": [
    "VIP_TFN.columns = ['userid_x', 'userid_y']\n",
    "VIP_TFN['userid_x'] = VIP_TFN['userid_x'].astype(int)\n",
    "VIP_TFN['userid_y'] = VIP_TFN['userid_y'].astype(int)"
   ]
  },
  {
   "cell_type": "code",
   "execution_count": 12,
   "metadata": {
    "ExecuteTime": {
     "end_time": "2020-08-17T12:04:02.022792Z",
     "start_time": "2020-08-17T12:03:47.137434Z"
    }
   },
   "outputs": [],
   "source": [
    "TFN_vip_meetup = ms.MeetupCrossValid(checkin_path, mins_records=150, name='gws_TFN_vip10',freq='H',\n",
    "                            n_previous=None, user_meetup=None, total_meetup=VIP_TFN, placeidT=placeidT)"
   ]
  },
  {
   "cell_type": "code",
   "execution_count": 13,
   "metadata": {
    "ExecuteTime": {
     "end_time": "2020-08-17T12:04:04.116817Z",
     "start_time": "2020-08-17T12:04:04.097117Z"
    }
   },
   "outputs": [
    {
     "data": {
      "text/plain": [
       "145"
      ]
     },
     "execution_count": 13,
     "metadata": {},
     "output_type": "execute_result"
    }
   ],
   "source": [
    "len(TFN_vip_meetup.egolist)"
   ]
  },
  {
   "cell_type": "code",
   "execution_count": 14,
   "metadata": {
    "ExecuteTime": {
     "end_time": "2020-08-17T23:14:08.892286Z",
     "start_time": "2020-08-17T12:04:07.575163Z"
    }
   },
   "outputs": [
    {
     "name": "stdout",
     "output_type": "stream",
     "text": [
      "0\n",
      "41\n",
      "52\n",
      "66\n",
      "88\n",
      "89\n",
      "98\n",
      "107\n",
      "112\n",
      "116\n",
      "124\n",
      "125\n",
      "135\n",
      "138\n",
      "141\n",
      "148\n",
      "156\n",
      "172\n",
      "203\n",
      "204\n",
      "211\n",
      "233\n",
      "256\n",
      "267\n",
      "282\n",
      "313\n",
      "327\n",
      "334\n",
      "335\n",
      "337\n",
      "350\n",
      "363\n",
      "375\n",
      "376\n",
      "401\n",
      "416\n",
      "428\n",
      "434\n",
      "436\n",
      "445\n",
      "456\n",
      "459\n",
      "460\n",
      "476\n",
      "486\n",
      "490\n",
      "494\n",
      "510\n",
      "511\n",
      "515\n",
      "521\n",
      "531\n",
      "533\n",
      "535\n",
      "547\n",
      "557\n",
      "559\n",
      "573\n",
      "577\n",
      "578\n",
      "584\n",
      "859\n",
      "914\n",
      "956\n",
      "1108\n",
      "1174\n",
      "1405\n",
      "1432\n",
      "1999\n",
      "2241\n",
      "2255\n",
      "2810\n",
      "3018\n",
      "3070\n",
      "3229\n",
      "3426\n",
      "3574\n",
      "3675\n",
      "3703\n",
      "3756\n",
      "3817\n",
      "3870\n",
      "3888\n",
      "4078\n",
      "4103\n",
      "4141\n",
      "4151\n",
      "4216\n",
      "4368\n",
      "4370\n",
      "4390\n",
      "4467\n",
      "4517\n",
      "4535\n",
      "4585\n",
      "4617\n",
      "4627\n",
      "4633\n",
      "4636\n",
      "4676\n",
      "4678\n",
      "4690\n",
      "4730\n",
      "4743\n",
      "4781\n",
      "4804\n",
      "4867\n",
      "4879\n",
      "4937\n",
      "4989\n",
      "5235\n",
      "5236\n",
      "5237\n",
      "5243\n",
      "5438\n",
      "5576\n",
      "5663\n",
      "5670\n",
      "5677\n",
      "5692\n",
      "5717\n",
      "5734\n",
      "5736\n",
      "5764\n",
      "5812\n",
      "5970\n",
      "6035\n",
      "6116\n",
      "6122\n",
      "6139\n",
      "6150\n",
      "6155\n",
      "6156\n",
      "6248\n",
      "6257\n",
      "6296\n",
      "8091\n",
      "10107\n",
      "10681\n",
      "10683\n",
      "10812\n",
      "10832\n",
      "10837\n",
      "10962\n",
      "10971\n"
     ]
    },
    {
     "data": {
      "text/html": [
       "<div>\n",
       "<style scoped>\n",
       "    .dataframe tbody tr th:only-of-type {\n",
       "        vertical-align: middle;\n",
       "    }\n",
       "\n",
       "    .dataframe tbody tr th {\n",
       "        vertical-align: top;\n",
       "    }\n",
       "\n",
       "    .dataframe thead th {\n",
       "        text-align: right;\n",
       "    }\n",
       "</style>\n",
       "<table border=\"1\" class=\"dataframe\">\n",
       "  <thead>\n",
       "    <tr style=\"text-align: right;\">\n",
       "      <th></th>\n",
       "      <th>Included</th>\n",
       "      <th>alters_names</th>\n",
       "      <th>CCE_alters</th>\n",
       "      <th>CCE_ego_alters</th>\n",
       "      <th>Pi_alters</th>\n",
       "      <th>Pi_ego_alters</th>\n",
       "      <th>Pi_alters_ratio</th>\n",
       "      <th>Pi_ego_alters_ratio</th>\n",
       "      <th>userid</th>\n",
       "    </tr>\n",
       "  </thead>\n",
       "  <tbody>\n",
       "    <tr>\n",
       "      <th>0</th>\n",
       "      <td>1</td>\n",
       "      <td>'257'</td>\n",
       "      <td>5.551141</td>\n",
       "      <td>4.935937</td>\n",
       "      <td>0.346086</td>\n",
       "      <td>0.441586</td>\n",
       "      <td>0.900513</td>\n",
       "      <td>1.149004</td>\n",
       "      <td>0</td>\n",
       "    </tr>\n",
       "    <tr>\n",
       "      <th>1</th>\n",
       "      <td>1</td>\n",
       "      <td>'19'</td>\n",
       "      <td>6.034623</td>\n",
       "      <td>5.097940</td>\n",
       "      <td>0.263775</td>\n",
       "      <td>0.417246</td>\n",
       "      <td>0.686340</td>\n",
       "      <td>1.085672</td>\n",
       "      <td>0</td>\n",
       "    </tr>\n",
       "    <tr>\n",
       "      <th>2</th>\n",
       "      <td>1</td>\n",
       "      <td>'88'</td>\n",
       "      <td>6.147205</td>\n",
       "      <td>5.140646</td>\n",
       "      <td>0.243335</td>\n",
       "      <td>0.410741</td>\n",
       "      <td>0.633156</td>\n",
       "      <td>1.068746</td>\n",
       "      <td>0</td>\n",
       "    </tr>\n",
       "    <tr>\n",
       "      <th>3</th>\n",
       "      <td>1</td>\n",
       "      <td>'557'</td>\n",
       "      <td>6.255681</td>\n",
       "      <td>5.157705</td>\n",
       "      <td>0.223053</td>\n",
       "      <td>0.408131</td>\n",
       "      <td>0.580382</td>\n",
       "      <td>1.061956</td>\n",
       "      <td>0</td>\n",
       "    </tr>\n",
       "    <tr>\n",
       "      <th>4</th>\n",
       "      <td>1</td>\n",
       "      <td>'547'</td>\n",
       "      <td>6.300223</td>\n",
       "      <td>5.276130</td>\n",
       "      <td>0.214536</td>\n",
       "      <td>0.389842</td>\n",
       "      <td>0.558221</td>\n",
       "      <td>1.014366</td>\n",
       "      <td>0</td>\n",
       "    </tr>\n",
       "    <tr>\n",
       "      <th>...</th>\n",
       "      <td>...</td>\n",
       "      <td>...</td>\n",
       "      <td>...</td>\n",
       "      <td>...</td>\n",
       "      <td>...</td>\n",
       "      <td>...</td>\n",
       "      <td>...</td>\n",
       "      <td>...</td>\n",
       "      <td>...</td>\n",
       "    </tr>\n",
       "    <tr>\n",
       "      <th>1018</th>\n",
       "      <td>9</td>\n",
       "      <td>'10066','10950','10117','54963','25028','25024...</td>\n",
       "      <td>6.839218</td>\n",
       "      <td>6.708959</td>\n",
       "      <td>0.426669</td>\n",
       "      <td>0.439928</td>\n",
       "      <td>1.052095</td>\n",
       "      <td>1.084788</td>\n",
       "      <td>10971</td>\n",
       "    </tr>\n",
       "    <tr>\n",
       "      <th>1019</th>\n",
       "      <td>9</td>\n",
       "      <td>'10066','10950','10869','54963','25028','25024...</td>\n",
       "      <td>6.766509</td>\n",
       "      <td>6.675511</td>\n",
       "      <td>0.434083</td>\n",
       "      <td>0.443315</td>\n",
       "      <td>1.070376</td>\n",
       "      <td>1.093142</td>\n",
       "      <td>10971</td>\n",
       "    </tr>\n",
       "    <tr>\n",
       "      <th>1020</th>\n",
       "      <td>9</td>\n",
       "      <td>'10066','10117','10869','54963','25028','25024...</td>\n",
       "      <td>6.825001</td>\n",
       "      <td>6.687089</td>\n",
       "      <td>0.428121</td>\n",
       "      <td>0.442143</td>\n",
       "      <td>1.055676</td>\n",
       "      <td>1.090252</td>\n",
       "      <td>10971</td>\n",
       "    </tr>\n",
       "    <tr>\n",
       "      <th>1021</th>\n",
       "      <td>9</td>\n",
       "      <td>'10950','10117','10869','54963','25028','25024...</td>\n",
       "      <td>6.886504</td>\n",
       "      <td>6.706455</td>\n",
       "      <td>0.421830</td>\n",
       "      <td>0.440181</td>\n",
       "      <td>1.040163</td>\n",
       "      <td>1.085415</td>\n",
       "      <td>10971</td>\n",
       "    </tr>\n",
       "    <tr>\n",
       "      <th>1022</th>\n",
       "      <td>10</td>\n",
       "      <td>'10066','10950','10117','10869','54963','25028...</td>\n",
       "      <td>6.745694</td>\n",
       "      <td>6.662544</td>\n",
       "      <td>0.436199</td>\n",
       "      <td>0.444627</td>\n",
       "      <td>1.075595</td>\n",
       "      <td>1.096376</td>\n",
       "      <td>10971</td>\n",
       "    </tr>\n",
       "  </tbody>\n",
       "</table>\n",
       "<p>148335 rows × 9 columns</p>\n",
       "</div>"
      ],
      "text/plain": [
       "      Included                                       alters_names  CCE_alters  \\\n",
       "0            1                                              '257'    5.551141   \n",
       "1            1                                               '19'    6.034623   \n",
       "2            1                                               '88'    6.147205   \n",
       "3            1                                              '557'    6.255681   \n",
       "4            1                                              '547'    6.300223   \n",
       "...        ...                                                ...         ...   \n",
       "1018         9  '10066','10950','10117','54963','25028','25024...    6.839218   \n",
       "1019         9  '10066','10950','10869','54963','25028','25024...    6.766509   \n",
       "1020         9  '10066','10117','10869','54963','25028','25024...    6.825001   \n",
       "1021         9  '10950','10117','10869','54963','25028','25024...    6.886504   \n",
       "1022        10  '10066','10950','10117','10869','54963','25028...    6.745694   \n",
       "\n",
       "      CCE_ego_alters  Pi_alters  Pi_ego_alters  Pi_alters_ratio  \\\n",
       "0           4.935937   0.346086       0.441586         0.900513   \n",
       "1           5.097940   0.263775       0.417246         0.686340   \n",
       "2           5.140646   0.243335       0.410741         0.633156   \n",
       "3           5.157705   0.223053       0.408131         0.580382   \n",
       "4           5.276130   0.214536       0.389842         0.558221   \n",
       "...              ...        ...            ...              ...   \n",
       "1018        6.708959   0.426669       0.439928         1.052095   \n",
       "1019        6.675511   0.434083       0.443315         1.070376   \n",
       "1020        6.687089   0.428121       0.442143         1.055676   \n",
       "1021        6.706455   0.421830       0.440181         1.040163   \n",
       "1022        6.662544   0.436199       0.444627         1.075595   \n",
       "\n",
       "      Pi_ego_alters_ratio  userid  \n",
       "0                1.149004       0  \n",
       "1                1.085672       0  \n",
       "2                1.068746       0  \n",
       "3                1.061956       0  \n",
       "4                1.014366       0  \n",
       "...                   ...     ...  \n",
       "1018             1.084788   10971  \n",
       "1019             1.093142   10971  \n",
       "1020             1.090252   10971  \n",
       "1021             1.085415   10971  \n",
       "1022             1.096376   10971  \n",
       "\n",
       "[148335 rows x 9 columns]"
      ]
     },
     "execution_count": 14,
     "metadata": {},
     "output_type": "execute_result"
    }
   ],
   "source": [
    "TFN_vip_meetup.ego_info(n_shown=False, verbose=True, filesave=True)"
   ]
  },
  {
   "cell_type": "markdown",
   "metadata": {},
   "source": [
    "# Compare and visualisation"
   ]
  },
  {
   "cell_type": "code",
   "execution_count": 15,
   "metadata": {
    "ExecuteTime": {
     "end_time": "2020-08-21T15:21:01.273508Z",
     "start_time": "2020-08-21T15:21:01.155624Z"
    }
   },
   "outputs": [],
   "source": [
    "TFN_vip = TFN_vip_meetup.cross_info.copy()\n",
    "H_MFN_vip = ValidGoodMeetupCV.cross_info.copy()"
   ]
  },
  {
   "cell_type": "code",
   "execution_count": 20,
   "metadata": {
    "ExecuteTime": {
     "end_time": "2020-08-24T21:22:00.991074Z",
     "start_time": "2020-08-24T21:22:00.921616Z"
    }
   },
   "outputs": [],
   "source": [
    "TFN_vip['category'] = 'TFN'\n",
    "H_MFN_vip['category'] = 'CB-1H-MFN'"
   ]
  },
  {
   "cell_type": "code",
   "execution_count": 17,
   "metadata": {
    "ExecuteTime": {
     "end_time": "2020-08-21T15:21:17.166698Z",
     "start_time": "2020-08-21T15:21:17.119355Z"
    }
   },
   "outputs": [],
   "source": [
    "import visualization as vs"
   ]
  },
  {
   "cell_type": "code",
   "execution_count": 21,
   "metadata": {
    "ExecuteTime": {
     "end_time": "2020-08-24T21:22:08.298865Z",
     "start_time": "2020-08-24T21:22:08.177027Z"
    }
   },
   "outputs": [],
   "source": [
    "vip_meetup = pd.concat([H_MFN_vip, TFN_vip])"
   ]
  },
  {
   "cell_type": "code",
   "execution_count": 22,
   "metadata": {
    "ExecuteTime": {
     "end_time": "2020-08-24T21:22:29.325960Z",
     "start_time": "2020-08-24T21:22:26.541486Z"
    }
   },
   "outputs": [],
   "source": [
    "vip_meetup.to_csv('final/gws-150-cv/gws_join_vip10_CV.csv', index=False)"
   ]
  },
  {
   "cell_type": "code",
   "execution_count": 19,
   "metadata": {
    "ExecuteTime": {
     "end_time": "2020-08-21T15:21:34.836561Z",
     "start_time": "2020-08-21T15:21:31.818337Z"
    }
   },
   "outputs": [
    {
     "data": {
      "image/png": "[encoded data removed]",
      "text/plain": [
       "<Figure size 720x360 with 1 Axes>"
      ]
     },
     "metadata": {},
     "output_type": "display_data"
    }
   ],
   "source": [
    "vs.cv_compare_plot(vip_meetup, threshold=10, mode='talk', l=10, w=5)"
   ]
  },
  {
   "cell_type": "code",
   "execution_count": null,
   "metadata": {},
   "outputs": [],
   "source": []
  }
 ],
 "metadata": {
  "kernelspec": {
   "display_name": "Python 3",
   "language": "python",
   "name": "python3"
  },
  "language_info": {
   "codemirror_mode": {
    "name": "ipython",
    "version": 3
   },
   "file_extension": ".py",
   "mimetype": "text/x-python",
   "name": "python",
   "nbconvert_exporter": "python",
   "pygments_lexer": "ipython3",
   "version": "3.6.10"
  }
 },
 "nbformat": 4,
 "nbformat_minor": 4
}
