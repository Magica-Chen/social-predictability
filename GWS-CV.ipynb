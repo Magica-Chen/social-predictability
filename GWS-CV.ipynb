{
 "cells": [
  {
   "cell_type": "markdown",
   "metadata": {},
   "source": [
    "# Only focus on VIP network (Top 10 alters network)"
   ]
  },
  {
   "cell_type": "code",
   "execution_count": 1,
   "metadata": {
    "ExecuteTime": {
     "end_time": "2020-09-24T22:34:42.064739Z",
     "start_time": "2020-09-24T22:34:41.189989Z"
    }
   },
   "outputs": [],
   "source": [
    "import numpy as np\n",
    "import pandas as pd\n",
    "import meetup_strategy as ms\n",
    "import time \n",
    "import util\n",
    "import pickle\n",
    "%load_ext autoreload\n",
    "%autoreload 2"
   ]
  },
  {
   "cell_type": "code",
   "execution_count": 2,
   "metadata": {
    "ExecuteTime": {
     "end_time": "2020-09-24T22:34:55.624372Z",
     "start_time": "2020-09-24T22:34:55.606914Z"
    }
   },
   "outputs": [],
   "source": [
    "checkin_path = 'data/gowalla_checkins.csv'\n",
    "placeid_path = 'temp_data/gws-150/gowalla_placeidT_150.pickle'\n",
    "friendship_path = 'data/gowalla_friends.csv'\n",
    "VIP_network_path = 'final/gws-150/gws_VIP_MeetupNp.csv'"
   ]
  },
  {
   "cell_type": "code",
   "execution_count": 3,
   "metadata": {
    "ExecuteTime": {
     "end_time": "2020-09-24T22:34:57.623028Z",
     "start_time": "2020-09-24T22:34:57.542953Z"
    }
   },
   "outputs": [],
   "source": [
    "VIP_network = pd.read_csv(VIP_network_path)"
   ]
  },
  {
   "cell_type": "code",
   "execution_count": 4,
   "metadata": {
    "ExecuteTime": {
     "end_time": "2020-09-24T22:35:04.352918Z",
     "start_time": "2020-09-24T22:34:59.446059Z"
    }
   },
   "outputs": [],
   "source": [
    "# read picle file\n",
    "pickle_in = open(placeid_path, \"rb\")\n",
    "placeidT = pickle.load(pickle_in)\n",
    "pickle_in.close()"
   ]
  },
  {
   "cell_type": "code",
   "execution_count": 11,
   "metadata": {
    "ExecuteTime": {
     "end_time": "2020-09-24T22:37:27.498547Z",
     "start_time": "2020-09-24T22:37:27.458181Z"
    }
   },
   "outputs": [],
   "source": [
    "VIP_H_MFN = VIP_network[VIP_network['category'] == 'CB-1H-MFN'][['userid', 'userid_y']]"
   ]
  },
  {
   "cell_type": "markdown",
   "metadata": {},
   "source": [
    "## H-MFN"
   ]
  },
  {
   "cell_type": "code",
   "execution_count": 12,
   "metadata": {
    "ExecuteTime": {
     "end_time": "2020-09-24T22:37:30.076889Z",
     "start_time": "2020-09-24T22:37:30.031195Z"
    }
   },
   "outputs": [],
   "source": [
    "VIP_H_MFN.columns = ['userid_x', 'userid_y']\n",
    "VIP_H_MFN['userid_x'] = VIP_H_MFN['userid_x'].astype(int)\n",
    "VIP_H_MFN['userid_y'] = VIP_H_MFN['userid_y'].astype(int)"
   ]
  },
  {
   "cell_type": "code",
   "execution_count": 13,
   "metadata": {
    "ExecuteTime": {
     "end_time": "2020-09-24T22:37:34.287217Z",
     "start_time": "2020-09-24T22:37:34.242505Z"
    }
   },
   "outputs": [
    {
     "data": {
      "text/html": [
       "<div>\n",
       "<style scoped>\n",
       "    .dataframe tbody tr th:only-of-type {\n",
       "        vertical-align: middle;\n",
       "    }\n",
       "\n",
       "    .dataframe tbody tr th {\n",
       "        vertical-align: top;\n",
       "    }\n",
       "\n",
       "    .dataframe thead th {\n",
       "        text-align: right;\n",
       "    }\n",
       "</style>\n",
       "<table border=\"1\" class=\"dataframe\">\n",
       "  <thead>\n",
       "    <tr style=\"text-align: right;\">\n",
       "      <th></th>\n",
       "      <th>userid_x</th>\n",
       "      <th>userid_y</th>\n",
       "    </tr>\n",
       "  </thead>\n",
       "  <tbody>\n",
       "    <tr>\n",
       "      <th>0</th>\n",
       "      <td>0</td>\n",
       "      <td>267</td>\n",
       "    </tr>\n",
       "    <tr>\n",
       "      <th>1</th>\n",
       "      <td>0</td>\n",
       "      <td>66</td>\n",
       "    </tr>\n",
       "    <tr>\n",
       "      <th>2</th>\n",
       "      <td>0</td>\n",
       "      <td>547</td>\n",
       "    </tr>\n",
       "    <tr>\n",
       "      <th>3</th>\n",
       "      <td>0</td>\n",
       "      <td>256</td>\n",
       "    </tr>\n",
       "    <tr>\n",
       "      <th>4</th>\n",
       "      <td>0</td>\n",
       "      <td>515</td>\n",
       "    </tr>\n",
       "    <tr>\n",
       "      <th>...</th>\n",
       "      <td>...</td>\n",
       "      <td>...</td>\n",
       "    </tr>\n",
       "    <tr>\n",
       "      <th>1415</th>\n",
       "      <td>10962</td>\n",
       "      <td>87281</td>\n",
       "    </tr>\n",
       "    <tr>\n",
       "      <th>1416</th>\n",
       "      <td>10962</td>\n",
       "      <td>33735</td>\n",
       "    </tr>\n",
       "    <tr>\n",
       "      <th>1417</th>\n",
       "      <td>10962</td>\n",
       "      <td>139339</td>\n",
       "    </tr>\n",
       "    <tr>\n",
       "      <th>1418</th>\n",
       "      <td>10962</td>\n",
       "      <td>56768</td>\n",
       "    </tr>\n",
       "    <tr>\n",
       "      <th>1419</th>\n",
       "      <td>10962</td>\n",
       "      <td>10695</td>\n",
       "    </tr>\n",
       "  </tbody>\n",
       "</table>\n",
       "<p>1420 rows × 2 columns</p>\n",
       "</div>"
      ],
      "text/plain": [
       "      userid_x  userid_y\n",
       "0            0       267\n",
       "1            0        66\n",
       "2            0       547\n",
       "3            0       256\n",
       "4            0       515\n",
       "...        ...       ...\n",
       "1415     10962     87281\n",
       "1416     10962     33735\n",
       "1417     10962    139339\n",
       "1418     10962     56768\n",
       "1419     10962     10695\n",
       "\n",
       "[1420 rows x 2 columns]"
      ]
     },
     "execution_count": 13,
     "metadata": {},
     "output_type": "execute_result"
    }
   ],
   "source": [
    "VIP_H_MFN"
   ]
  },
  {
   "cell_type": "code",
   "execution_count": 14,
   "metadata": {
    "ExecuteTime": {
     "end_time": "2020-09-24T22:37:55.255455Z",
     "start_time": "2020-09-24T22:37:38.011774Z"
    }
   },
   "outputs": [],
   "source": [
    "ValidGoodMeetupCV = ms.MeetupCrossValid(checkin_path, mins_records=150, name='gws_H_cv_vip10',freq='H',\n",
    "                            n_previous=None, user_meetup=None, total_meetup=VIP_H_MFN, placeidT=placeidT)"
   ]
  },
  {
   "cell_type": "code",
   "execution_count": 15,
   "metadata": {
    "ExecuteTime": {
     "end_time": "2020-09-24T22:37:57.443861Z",
     "start_time": "2020-09-24T22:37:57.388675Z"
    }
   },
   "outputs": [
    {
     "data": {
      "text/plain": [
       "142"
      ]
     },
     "execution_count": 15,
     "metadata": {},
     "output_type": "execute_result"
    }
   ],
   "source": [
    "len(ValidGoodMeetupCV.egolist)"
   ]
  },
  {
   "cell_type": "code",
   "execution_count": 16,
   "metadata": {
    "ExecuteTime": {
     "end_time": "2020-09-25T12:35:03.960732Z",
     "start_time": "2020-09-24T22:38:11.907188Z"
    },
    "scrolled": true
   },
   "outputs": [
    {
     "name": "stdout",
     "output_type": "stream",
     "text": [
      "0\n",
      "41\n",
      "52\n",
      "66\n",
      "88\n",
      "89\n",
      "98\n",
      "107\n",
      "116\n",
      "124\n",
      "125\n",
      "135\n",
      "138\n",
      "141\n",
      "148\n",
      "156\n",
      "172\n",
      "203\n",
      "204\n",
      "211\n",
      "233\n",
      "256\n",
      "267\n",
      "282\n",
      "313\n",
      "327\n",
      "334\n",
      "335\n",
      "337\n",
      "350\n",
      "363\n",
      "375\n",
      "376\n",
      "401\n",
      "416\n",
      "428\n",
      "434\n",
      "436\n",
      "445\n",
      "456\n",
      "459\n",
      "460\n",
      "476\n",
      "486\n",
      "490\n",
      "494\n",
      "510\n",
      "511\n",
      "515\n",
      "521\n",
      "531\n",
      "533\n",
      "535\n",
      "547\n",
      "557\n",
      "559\n",
      "573\n",
      "577\n",
      "578\n",
      "584\n",
      "859\n",
      "914\n",
      "956\n",
      "1108\n",
      "1174\n",
      "1405\n",
      "1432\n",
      "1999\n",
      "2241\n",
      "2255\n",
      "2810\n",
      "3018\n",
      "3070\n",
      "3229\n",
      "3426\n",
      "3574\n",
      "3675\n",
      "3703\n",
      "3756\n",
      "3817\n",
      "3870\n",
      "3888\n",
      "4078\n",
      "4103\n",
      "4141\n",
      "4151\n",
      "4216\n",
      "4368\n",
      "4370\n",
      "4390\n",
      "4467\n",
      "4517\n",
      "4535\n",
      "4585\n",
      "4617\n",
      "4627\n",
      "4633\n",
      "4636\n",
      "4676\n",
      "4678\n",
      "4690\n",
      "4730\n",
      "4743\n",
      "4781\n",
      "4804\n",
      "4867\n",
      "4879\n",
      "4937\n",
      "4989\n",
      "5235\n",
      "5236\n",
      "5237\n",
      "5243\n",
      "5438\n",
      "5576\n",
      "5663\n",
      "5670\n",
      "5677\n",
      "5692\n",
      "5717\n",
      "5734\n",
      "5736\n",
      "5764\n",
      "5812\n",
      "5970\n",
      "6035\n",
      "6116\n",
      "6122\n",
      "6139\n",
      "6150\n",
      "6155\n",
      "6156\n",
      "6248\n",
      "6257\n",
      "6296\n",
      "8091\n",
      "10107\n",
      "10681\n",
      "10683\n",
      "10812\n",
      "10837\n",
      "10962\n"
     ]
    },
    {
     "data": {
      "text/html": [
       "<div>\n",
       "<style scoped>\n",
       "    .dataframe tbody tr th:only-of-type {\n",
       "        vertical-align: middle;\n",
       "    }\n",
       "\n",
       "    .dataframe tbody tr th {\n",
       "        vertical-align: top;\n",
       "    }\n",
       "\n",
       "    .dataframe thead th {\n",
       "        text-align: right;\n",
       "    }\n",
       "</style>\n",
       "<table border=\"1\" class=\"dataframe\">\n",
       "  <thead>\n",
       "    <tr style=\"text-align: right;\">\n",
       "      <th></th>\n",
       "      <th>Included</th>\n",
       "      <th>alters_names</th>\n",
       "      <th>CCE_alters</th>\n",
       "      <th>CCE_ego_alters</th>\n",
       "      <th>Pi_alters</th>\n",
       "      <th>Pi_ego_alters</th>\n",
       "      <th>Pi_alters_ratio</th>\n",
       "      <th>Pi_ego_alters_ratio</th>\n",
       "      <th>userid</th>\n",
       "    </tr>\n",
       "  </thead>\n",
       "  <tbody>\n",
       "    <tr>\n",
       "      <th>0</th>\n",
       "      <td>1</td>\n",
       "      <td>'267'</td>\n",
       "      <td>6.770828</td>\n",
       "      <td>5.919655</td>\n",
       "      <td>0.114387</td>\n",
       "      <td>0.284089</td>\n",
       "      <td>0.297635</td>\n",
       "      <td>0.739198</td>\n",
       "      <td>0</td>\n",
       "    </tr>\n",
       "    <tr>\n",
       "      <th>1</th>\n",
       "      <td>1</td>\n",
       "      <td>'66'</td>\n",
       "      <td>6.534910</td>\n",
       "      <td>5.200187</td>\n",
       "      <td>0.167408</td>\n",
       "      <td>0.401606</td>\n",
       "      <td>0.435595</td>\n",
       "      <td>1.044977</td>\n",
       "      <td>0</td>\n",
       "    </tr>\n",
       "    <tr>\n",
       "      <th>2</th>\n",
       "      <td>1</td>\n",
       "      <td>'547'</td>\n",
       "      <td>6.300223</td>\n",
       "      <td>5.276130</td>\n",
       "      <td>0.214536</td>\n",
       "      <td>0.389842</td>\n",
       "      <td>0.558221</td>\n",
       "      <td>1.014366</td>\n",
       "      <td>0</td>\n",
       "    </tr>\n",
       "    <tr>\n",
       "      <th>3</th>\n",
       "      <td>1</td>\n",
       "      <td>'256'</td>\n",
       "      <td>6.568759</td>\n",
       "      <td>5.360672</td>\n",
       "      <td>0.160228</td>\n",
       "      <td>0.376589</td>\n",
       "      <td>0.416912</td>\n",
       "      <td>0.979884</td>\n",
       "      <td>0</td>\n",
       "    </tr>\n",
       "    <tr>\n",
       "      <th>4</th>\n",
       "      <td>1</td>\n",
       "      <td>'515'</td>\n",
       "      <td>6.771965</td>\n",
       "      <td>5.660702</td>\n",
       "      <td>0.114111</td>\n",
       "      <td>0.328096</td>\n",
       "      <td>0.296916</td>\n",
       "      <td>0.853704</td>\n",
       "      <td>0</td>\n",
       "    </tr>\n",
       "    <tr>\n",
       "      <th>...</th>\n",
       "      <td>...</td>\n",
       "      <td>...</td>\n",
       "      <td>...</td>\n",
       "      <td>...</td>\n",
       "      <td>...</td>\n",
       "      <td>...</td>\n",
       "      <td>...</td>\n",
       "      <td>...</td>\n",
       "      <td>...</td>\n",
       "    </tr>\n",
       "    <tr>\n",
       "      <th>1018</th>\n",
       "      <td>9</td>\n",
       "      <td>'10107','89961','10917','33244','87281','33735...</td>\n",
       "      <td>5.704742</td>\n",
       "      <td>4.286924</td>\n",
       "      <td>0.388669</td>\n",
       "      <td>0.574098</td>\n",
       "      <td>0.752488</td>\n",
       "      <td>1.111492</td>\n",
       "      <td>10962</td>\n",
       "    </tr>\n",
       "    <tr>\n",
       "      <th>1019</th>\n",
       "      <td>9</td>\n",
       "      <td>'10107','89961','56787','33244','87281','33735...</td>\n",
       "      <td>5.013246</td>\n",
       "      <td>4.199617</td>\n",
       "      <td>0.482373</td>\n",
       "      <td>0.584723</td>\n",
       "      <td>0.933906</td>\n",
       "      <td>1.132063</td>\n",
       "      <td>10962</td>\n",
       "    </tr>\n",
       "    <tr>\n",
       "      <th>1020</th>\n",
       "      <td>9</td>\n",
       "      <td>'10107','10917','56787','33244','87281','33735...</td>\n",
       "      <td>5.051220</td>\n",
       "      <td>4.207708</td>\n",
       "      <td>0.477401</td>\n",
       "      <td>0.583741</td>\n",
       "      <td>0.924281</td>\n",
       "      <td>1.130163</td>\n",
       "      <td>10962</td>\n",
       "    </tr>\n",
       "    <tr>\n",
       "      <th>1021</th>\n",
       "      <td>9</td>\n",
       "      <td>'89961','10917','56787','33244','87281','33735...</td>\n",
       "      <td>5.211174</td>\n",
       "      <td>4.194274</td>\n",
       "      <td>0.456252</td>\n",
       "      <td>0.585370</td>\n",
       "      <td>0.883335</td>\n",
       "      <td>1.133316</td>\n",
       "      <td>10962</td>\n",
       "    </tr>\n",
       "    <tr>\n",
       "      <th>1022</th>\n",
       "      <td>10</td>\n",
       "      <td>'10107','89961','10917','56787','33244','87281...</td>\n",
       "      <td>5.001856</td>\n",
       "      <td>4.177877</td>\n",
       "      <td>0.483860</td>\n",
       "      <td>0.587356</td>\n",
       "      <td>0.936786</td>\n",
       "      <td>1.137161</td>\n",
       "      <td>10962</td>\n",
       "    </tr>\n",
       "  </tbody>\n",
       "</table>\n",
       "<p>145266 rows × 9 columns</p>\n",
       "</div>"
      ],
      "text/plain": [
       "      Included                                       alters_names  CCE_alters  \\\n",
       "0            1                                              '267'    6.770828   \n",
       "1            1                                               '66'    6.534910   \n",
       "2            1                                              '547'    6.300223   \n",
       "3            1                                              '256'    6.568759   \n",
       "4            1                                              '515'    6.771965   \n",
       "...        ...                                                ...         ...   \n",
       "1018         9  '10107','89961','10917','33244','87281','33735...    5.704742   \n",
       "1019         9  '10107','89961','56787','33244','87281','33735...    5.013246   \n",
       "1020         9  '10107','10917','56787','33244','87281','33735...    5.051220   \n",
       "1021         9  '89961','10917','56787','33244','87281','33735...    5.211174   \n",
       "1022        10  '10107','89961','10917','56787','33244','87281...    5.001856   \n",
       "\n",
       "      CCE_ego_alters  Pi_alters  Pi_ego_alters  Pi_alters_ratio  \\\n",
       "0           5.919655   0.114387       0.284089         0.297635   \n",
       "1           5.200187   0.167408       0.401606         0.435595   \n",
       "2           5.276130   0.214536       0.389842         0.558221   \n",
       "3           5.360672   0.160228       0.376589         0.416912   \n",
       "4           5.660702   0.114111       0.328096         0.296916   \n",
       "...              ...        ...            ...              ...   \n",
       "1018        4.286924   0.388669       0.574098         0.752488   \n",
       "1019        4.199617   0.482373       0.584723         0.933906   \n",
       "1020        4.207708   0.477401       0.583741         0.924281   \n",
       "1021        4.194274   0.456252       0.585370         0.883335   \n",
       "1022        4.177877   0.483860       0.587356         0.936786   \n",
       "\n",
       "      Pi_ego_alters_ratio  userid  \n",
       "0                0.739198       0  \n",
       "1                1.044977       0  \n",
       "2                1.014366       0  \n",
       "3                0.979884       0  \n",
       "4                0.853704       0  \n",
       "...                   ...     ...  \n",
       "1018             1.111492   10962  \n",
       "1019             1.132063   10962  \n",
       "1020             1.130163   10962  \n",
       "1021             1.133316   10962  \n",
       "1022             1.137161   10962  \n",
       "\n",
       "[145266 rows x 9 columns]"
      ]
     },
     "execution_count": 16,
     "metadata": {},
     "output_type": "execute_result"
    }
   ],
   "source": [
    "ValidGoodMeetupCV.ego_info(n_shown=False, verbose=True, filesave=True)"
   ]
  },
  {
   "cell_type": "markdown",
   "metadata": {},
   "source": [
    "## TFN"
   ]
  },
  {
   "cell_type": "code",
   "execution_count": 17,
   "metadata": {
    "ExecuteTime": {
     "end_time": "2020-09-25T13:27:15.686275Z",
     "start_time": "2020-09-25T13:27:15.630599Z"
    }
   },
   "outputs": [],
   "source": [
    "VIP_TFN = VIP_network[VIP_network['category'] == 'TFN'][['userid', 'userid_y']]"
   ]
  },
  {
   "cell_type": "code",
   "execution_count": 18,
   "metadata": {
    "ExecuteTime": {
     "end_time": "2020-09-25T13:27:19.274777Z",
     "start_time": "2020-09-25T13:27:19.228233Z"
    }
   },
   "outputs": [],
   "source": [
    "VIP_TFN.columns = ['userid_x', 'userid_y']\n",
    "VIP_TFN['userid_x'] = VIP_TFN['userid_x'].astype(int)\n",
    "VIP_TFN['userid_y'] = VIP_TFN['userid_y'].astype(int)"
   ]
  },
  {
   "cell_type": "code",
   "execution_count": 19,
   "metadata": {
    "ExecuteTime": {
     "end_time": "2020-09-25T13:27:48.967896Z",
     "start_time": "2020-09-25T13:27:32.651614Z"
    }
   },
   "outputs": [],
   "source": [
    "TFN_vip_meetup = ms.MeetupCrossValid(checkin_path, mins_records=150, name='gws_TFN_cv_vip10',freq='H',\n",
    "                            n_previous=None, user_meetup=None, total_meetup=VIP_TFN, placeidT=placeidT)"
   ]
  },
  {
   "cell_type": "code",
   "execution_count": 20,
   "metadata": {
    "ExecuteTime": {
     "end_time": "2020-09-25T13:27:52.425207Z",
     "start_time": "2020-09-25T13:27:52.382701Z"
    }
   },
   "outputs": [
    {
     "data": {
      "text/plain": [
       "142"
      ]
     },
     "execution_count": 20,
     "metadata": {},
     "output_type": "execute_result"
    }
   ],
   "source": [
    "len(TFN_vip_meetup.egolist)"
   ]
  },
  {
   "cell_type": "code",
   "execution_count": 21,
   "metadata": {
    "ExecuteTime": {
     "end_time": "2020-09-26T02:34:08.413535Z",
     "start_time": "2020-09-25T13:28:01.913311Z"
    }
   },
   "outputs": [
    {
     "name": "stdout",
     "output_type": "stream",
     "text": [
      "0\n",
      "41\n",
      "52\n",
      "66\n",
      "88\n",
      "89\n",
      "98\n",
      "107\n",
      "116\n",
      "124\n",
      "125\n",
      "135\n",
      "138\n",
      "141\n",
      "148\n",
      "156\n",
      "172\n",
      "203\n",
      "204\n",
      "211\n",
      "233\n",
      "256\n",
      "267\n",
      "282\n",
      "313\n",
      "327\n",
      "334\n",
      "335\n",
      "337\n",
      "350\n",
      "363\n",
      "375\n",
      "376\n",
      "401\n",
      "416\n",
      "428\n",
      "434\n",
      "436\n",
      "445\n",
      "456\n",
      "459\n",
      "460\n",
      "476\n",
      "486\n",
      "490\n",
      "494\n",
      "510\n",
      "511\n",
      "515\n",
      "521\n",
      "531\n",
      "533\n",
      "535\n",
      "547\n",
      "557\n",
      "559\n",
      "573\n",
      "577\n",
      "578\n",
      "584\n",
      "859\n",
      "914\n",
      "956\n",
      "1108\n",
      "1174\n",
      "1405\n",
      "1432\n",
      "1999\n",
      "2241\n",
      "2255\n",
      "2810\n",
      "3018\n",
      "3070\n",
      "3229\n",
      "3426\n",
      "3574\n",
      "3675\n",
      "3703\n",
      "3756\n",
      "3817\n",
      "3870\n",
      "3888\n",
      "4078\n",
      "4103\n",
      "4141\n",
      "4151\n",
      "4216\n",
      "4368\n",
      "4370\n",
      "4390\n",
      "4467\n",
      "4517\n",
      "4535\n",
      "4585\n",
      "4617\n",
      "4627\n",
      "4633\n",
      "4636\n",
      "4676\n",
      "4678\n",
      "4690\n",
      "4730\n",
      "4743\n",
      "4781\n",
      "4804\n",
      "4867\n",
      "4879\n",
      "4937\n",
      "4989\n",
      "5235\n",
      "5236\n",
      "5237\n",
      "5243\n",
      "5438\n",
      "5576\n",
      "5663\n",
      "5670\n",
      "5677\n",
      "5692\n",
      "5717\n",
      "5734\n",
      "5736\n",
      "5764\n",
      "5812\n",
      "5970\n",
      "6035\n",
      "6116\n",
      "6122\n",
      "6139\n",
      "6150\n",
      "6155\n",
      "6156\n",
      "6248\n",
      "6257\n",
      "6296\n",
      "8091\n",
      "10107\n",
      "10681\n",
      "10683\n",
      "10812\n",
      "10837\n",
      "10962\n"
     ]
    },
    {
     "data": {
      "text/html": [
       "<div>\n",
       "<style scoped>\n",
       "    .dataframe tbody tr th:only-of-type {\n",
       "        vertical-align: middle;\n",
       "    }\n",
       "\n",
       "    .dataframe tbody tr th {\n",
       "        vertical-align: top;\n",
       "    }\n",
       "\n",
       "    .dataframe thead th {\n",
       "        text-align: right;\n",
       "    }\n",
       "</style>\n",
       "<table border=\"1\" class=\"dataframe\">\n",
       "  <thead>\n",
       "    <tr style=\"text-align: right;\">\n",
       "      <th></th>\n",
       "      <th>Included</th>\n",
       "      <th>alters_names</th>\n",
       "      <th>CCE_alters</th>\n",
       "      <th>CCE_ego_alters</th>\n",
       "      <th>Pi_alters</th>\n",
       "      <th>Pi_ego_alters</th>\n",
       "      <th>Pi_alters_ratio</th>\n",
       "      <th>Pi_ego_alters_ratio</th>\n",
       "      <th>userid</th>\n",
       "    </tr>\n",
       "  </thead>\n",
       "  <tbody>\n",
       "    <tr>\n",
       "      <th>0</th>\n",
       "      <td>1</td>\n",
       "      <td>'267'</td>\n",
       "      <td>6.770828</td>\n",
       "      <td>5.919655</td>\n",
       "      <td>0.114387</td>\n",
       "      <td>0.284089</td>\n",
       "      <td>0.297635</td>\n",
       "      <td>0.739198</td>\n",
       "      <td>0</td>\n",
       "    </tr>\n",
       "    <tr>\n",
       "      <th>1</th>\n",
       "      <td>1</td>\n",
       "      <td>'66'</td>\n",
       "      <td>6.534910</td>\n",
       "      <td>5.200187</td>\n",
       "      <td>0.167408</td>\n",
       "      <td>0.401606</td>\n",
       "      <td>0.435595</td>\n",
       "      <td>1.044977</td>\n",
       "      <td>0</td>\n",
       "    </tr>\n",
       "    <tr>\n",
       "      <th>2</th>\n",
       "      <td>1</td>\n",
       "      <td>'547'</td>\n",
       "      <td>6.300223</td>\n",
       "      <td>5.276130</td>\n",
       "      <td>0.214536</td>\n",
       "      <td>0.389842</td>\n",
       "      <td>0.558221</td>\n",
       "      <td>1.014366</td>\n",
       "      <td>0</td>\n",
       "    </tr>\n",
       "    <tr>\n",
       "      <th>3</th>\n",
       "      <td>1</td>\n",
       "      <td>'256'</td>\n",
       "      <td>6.568759</td>\n",
       "      <td>5.360672</td>\n",
       "      <td>0.160228</td>\n",
       "      <td>0.376589</td>\n",
       "      <td>0.416912</td>\n",
       "      <td>0.979884</td>\n",
       "      <td>0</td>\n",
       "    </tr>\n",
       "    <tr>\n",
       "      <th>4</th>\n",
       "      <td>1</td>\n",
       "      <td>'515'</td>\n",
       "      <td>6.771965</td>\n",
       "      <td>5.660702</td>\n",
       "      <td>0.114111</td>\n",
       "      <td>0.328096</td>\n",
       "      <td>0.296916</td>\n",
       "      <td>0.853704</td>\n",
       "      <td>0</td>\n",
       "    </tr>\n",
       "    <tr>\n",
       "      <th>...</th>\n",
       "      <td>...</td>\n",
       "      <td>...</td>\n",
       "      <td>...</td>\n",
       "      <td>...</td>\n",
       "      <td>...</td>\n",
       "      <td>...</td>\n",
       "      <td>...</td>\n",
       "      <td>...</td>\n",
       "      <td>...</td>\n",
       "    </tr>\n",
       "    <tr>\n",
       "      <th>1018</th>\n",
       "      <td>9</td>\n",
       "      <td>'10107','89961','56787','10050','10094','10659...</td>\n",
       "      <td>5.068282</td>\n",
       "      <td>4.184260</td>\n",
       "      <td>0.475162</td>\n",
       "      <td>0.586583</td>\n",
       "      <td>0.919945</td>\n",
       "      <td>1.135665</td>\n",
       "      <td>10962</td>\n",
       "    </tr>\n",
       "    <tr>\n",
       "      <th>1019</th>\n",
       "      <td>9</td>\n",
       "      <td>'10107','89961','56768','10050','10094','10659...</td>\n",
       "      <td>5.632738</td>\n",
       "      <td>4.261617</td>\n",
       "      <td>0.398764</td>\n",
       "      <td>0.577186</td>\n",
       "      <td>0.772035</td>\n",
       "      <td>1.117471</td>\n",
       "      <td>10962</td>\n",
       "    </tr>\n",
       "    <tr>\n",
       "      <th>1020</th>\n",
       "      <td>9</td>\n",
       "      <td>'10107','56787','56768','10050','10094','10659...</td>\n",
       "      <td>4.989754</td>\n",
       "      <td>4.177043</td>\n",
       "      <td>0.485439</td>\n",
       "      <td>0.587457</td>\n",
       "      <td>0.939842</td>\n",
       "      <td>1.137356</td>\n",
       "      <td>10962</td>\n",
       "    </tr>\n",
       "    <tr>\n",
       "      <th>1021</th>\n",
       "      <td>9</td>\n",
       "      <td>'89961','56787','56768','10050','10094','10659...</td>\n",
       "      <td>4.973241</td>\n",
       "      <td>4.144818</td>\n",
       "      <td>0.487590</td>\n",
       "      <td>0.591350</td>\n",
       "      <td>0.944006</td>\n",
       "      <td>1.144894</td>\n",
       "      <td>10962</td>\n",
       "    </tr>\n",
       "    <tr>\n",
       "      <th>1022</th>\n",
       "      <td>10</td>\n",
       "      <td>'10107','89961','56787','56768','10050','10094...</td>\n",
       "      <td>4.954711</td>\n",
       "      <td>4.148202</td>\n",
       "      <td>0.489999</td>\n",
       "      <td>0.590942</td>\n",
       "      <td>0.948671</td>\n",
       "      <td>1.144104</td>\n",
       "      <td>10962</td>\n",
       "    </tr>\n",
       "  </tbody>\n",
       "</table>\n",
       "<p>145266 rows × 9 columns</p>\n",
       "</div>"
      ],
      "text/plain": [
       "      Included                                       alters_names  CCE_alters  \\\n",
       "0            1                                              '267'    6.770828   \n",
       "1            1                                               '66'    6.534910   \n",
       "2            1                                              '547'    6.300223   \n",
       "3            1                                              '256'    6.568759   \n",
       "4            1                                              '515'    6.771965   \n",
       "...        ...                                                ...         ...   \n",
       "1018         9  '10107','89961','56787','10050','10094','10659...    5.068282   \n",
       "1019         9  '10107','89961','56768','10050','10094','10659...    5.632738   \n",
       "1020         9  '10107','56787','56768','10050','10094','10659...    4.989754   \n",
       "1021         9  '89961','56787','56768','10050','10094','10659...    4.973241   \n",
       "1022        10  '10107','89961','56787','56768','10050','10094...    4.954711   \n",
       "\n",
       "      CCE_ego_alters  Pi_alters  Pi_ego_alters  Pi_alters_ratio  \\\n",
       "0           5.919655   0.114387       0.284089         0.297635   \n",
       "1           5.200187   0.167408       0.401606         0.435595   \n",
       "2           5.276130   0.214536       0.389842         0.558221   \n",
       "3           5.360672   0.160228       0.376589         0.416912   \n",
       "4           5.660702   0.114111       0.328096         0.296916   \n",
       "...              ...        ...            ...              ...   \n",
       "1018        4.184260   0.475162       0.586583         0.919945   \n",
       "1019        4.261617   0.398764       0.577186         0.772035   \n",
       "1020        4.177043   0.485439       0.587457         0.939842   \n",
       "1021        4.144818   0.487590       0.591350         0.944006   \n",
       "1022        4.148202   0.489999       0.590942         0.948671   \n",
       "\n",
       "      Pi_ego_alters_ratio  userid  \n",
       "0                0.739198       0  \n",
       "1                1.044977       0  \n",
       "2                1.014366       0  \n",
       "3                0.979884       0  \n",
       "4                0.853704       0  \n",
       "...                   ...     ...  \n",
       "1018             1.135665   10962  \n",
       "1019             1.117471   10962  \n",
       "1020             1.137356   10962  \n",
       "1021             1.144894   10962  \n",
       "1022             1.144104   10962  \n",
       "\n",
       "[145266 rows x 9 columns]"
      ]
     },
     "execution_count": 21,
     "metadata": {},
     "output_type": "execute_result"
    }
   ],
   "source": [
    "TFN_vip_meetup.ego_info(n_shown=False, verbose=True, filesave=True)"
   ]
  },
  {
   "cell_type": "markdown",
   "metadata": {},
   "source": [
    "# Compare and visualisation"
   ]
  },
  {
   "cell_type": "code",
   "execution_count": 22,
   "metadata": {
    "ExecuteTime": {
     "end_time": "2020-09-26T21:19:49.626125Z",
     "start_time": "2020-09-26T21:19:49.539694Z"
    }
   },
   "outputs": [],
   "source": [
    "TFN_vip = TFN_vip_meetup.cross_info.copy()\n",
    "H_MFN_vip = ValidGoodMeetupCV.cross_info.copy()"
   ]
  },
  {
   "cell_type": "code",
   "execution_count": 23,
   "metadata": {
    "ExecuteTime": {
     "end_time": "2020-09-26T21:19:52.364638Z",
     "start_time": "2020-09-26T21:19:52.327160Z"
    }
   },
   "outputs": [],
   "source": [
    "TFN_vip['category'] = 'TFN'\n",
    "H_MFN_vip['category'] = 'CB-1H-MFN'"
   ]
  },
  {
   "cell_type": "code",
   "execution_count": 24,
   "metadata": {
    "ExecuteTime": {
     "end_time": "2020-09-26T21:19:54.878502Z",
     "start_time": "2020-09-26T21:19:54.847822Z"
    }
   },
   "outputs": [],
   "source": [
    "import visualization as vs"
   ]
  },
  {
   "cell_type": "code",
   "execution_count": 25,
   "metadata": {
    "ExecuteTime": {
     "end_time": "2020-09-26T21:19:57.775898Z",
     "start_time": "2020-09-26T21:19:57.668657Z"
    }
   },
   "outputs": [],
   "source": [
    "vip_meetup = pd.concat([H_MFN_vip, TFN_vip])"
   ]
  },
  {
   "cell_type": "code",
   "execution_count": 27,
   "metadata": {
    "ExecuteTime": {
     "end_time": "2020-09-26T21:21:54.002672Z",
     "start_time": "2020-09-26T21:21:50.667355Z"
    }
   },
   "outputs": [],
   "source": [
    "vip_meetup.to_csv('final/gws-150-cv/gws_join_vip10_CV_MeetupNp.csv', index=False)"
   ]
  },
  {
   "cell_type": "code",
   "execution_count": 26,
   "metadata": {
    "ExecuteTime": {
     "end_time": "2020-09-26T21:20:11.707946Z",
     "start_time": "2020-09-26T21:20:08.829189Z"
    }
   },
   "outputs": [
    {
     "data": {
      "image/png": "[encoded data removed]",
      "text/plain": [
       "<Figure size 720x360 with 1 Axes>"
      ]
     },
     "metadata": {},
     "output_type": "display_data"
    }
   ],
   "source": [
    "vs.cv_compare_plot(vip_meetup, threshold=10, mode='talk', l=10, w=5)"
   ]
  },
  {
   "cell_type": "code",
   "execution_count": null,
   "metadata": {},
   "outputs": [],
   "source": []
  }
 ],
 "metadata": {
  "kernelspec": {
   "display_name": "Python 3",
   "language": "python",
   "name": "python3"
  },
  "language_info": {
   "codemirror_mode": {
    "name": "ipython",
    "version": 3
   },
   "file_extension": ".py",
   "mimetype": "text/x-python",
   "name": "python",
   "nbconvert_exporter": "python",
   "pygments_lexer": "ipython3",
   "version": "3.6.10"
  }
 },
 "nbformat": 4,
 "nbformat_minor": 4
}
