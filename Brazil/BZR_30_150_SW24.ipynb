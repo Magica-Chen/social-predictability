{
 "cells": [
  {
   "cell_type": "code",
   "execution_count": 1,
   "metadata": {
    "ExecuteTime": {
     "end_time": "2021-09-09T21:48:08.083632Z",
     "start_time": "2021-09-09T21:48:06.884461Z"
    }
   },
   "outputs": [],
   "source": [
    "import numpy as np\n",
    "import colocationship as cl\n",
    "import copy\n",
    "import pandas as pd\n",
    "\n",
    "%load_ext autoreload\n",
    "%autoreload 2"
   ]
  },
  {
   "cell_type": "code",
   "execution_count": 2,
   "metadata": {
    "ExecuteTime": {
     "end_time": "2021-09-09T21:48:13.072769Z",
     "start_time": "2021-09-09T21:48:10.632873Z"
    }
   },
   "outputs": [],
   "source": [
    "df = pd.read_hdf('/scratch/share/datasets/a21/a21_checkins_30k_users.h5', key='table')"
   ]
  },
  {
   "cell_type": "code",
   "execution_count": 3,
   "metadata": {
    "ExecuteTime": {
     "end_time": "2021-09-09T21:48:49.833881Z",
     "start_time": "2021-09-09T21:48:15.353657Z"
    }
   },
   "outputs": [],
   "source": [
    "df_network = pd.read_hdf('/scratch/share/datasets/a21/a21_checkins_with_network.h5', key='table')"
   ]
  },
  {
   "cell_type": "code",
   "execution_count": 4,
   "metadata": {
    "ExecuteTime": {
     "end_time": "2021-09-09T21:49:28.446341Z",
     "start_time": "2021-09-09T21:49:24.517956Z"
    }
   },
   "outputs": [],
   "source": [
    "egolist = list(set(df_network['user_id'].tolist()))\n",
    "alterlist = list(set(df_network['tgt'].tolist()))"
   ]
  },
  {
   "cell_type": "code",
   "execution_count": 5,
   "metadata": {
    "ExecuteTime": {
     "end_time": "2021-09-09T21:49:34.596502Z",
     "start_time": "2021-09-09T21:49:32.239279Z"
    }
   },
   "outputs": [],
   "source": [
    "df_part = df_network[df_network['tgt'].isin(egolist)]"
   ]
  },
  {
   "cell_type": "markdown",
   "metadata": {},
   "source": [
    "# What is Friendship Network (reciprocal friendships)"
   ]
  },
  {
   "cell_type": "code",
   "execution_count": 7,
   "metadata": {
    "ExecuteTime": {
     "end_time": "2021-09-09T21:53:32.856655Z",
     "start_time": "2021-09-09T21:51:49.570481Z"
    }
   },
   "outputs": [],
   "source": [
    "df_A = df_part.copy()\n",
    "df_B = df_part.copy()\n",
    "df_A = df_A.rename(columns={\"user_id\": \"userid_x\", \"tgt\": \"userid_y\"})\n",
    "df_B = df_B.rename(columns={\"user_id\": \"userid_y\", \"tgt\": \"userid_x\"})\n",
    "df_inner = pd.merge(df_A, df_B, on =['userid_x', 'userid_y'])\n",
    "df_reciprocal = df_inner.groupby(by=['userid_x', 'userid_y']).size().reset_index(name='N_contact')"
   ]
  },
  {
   "cell_type": "markdown",
   "metadata": {},
   "source": [
    "More than 30 reciprocal contact"
   ]
  },
  {
   "cell_type": "code",
   "execution_count": 8,
   "metadata": {
    "ExecuteTime": {
     "end_time": "2021-09-09T21:53:37.945693Z",
     "start_time": "2021-09-09T21:53:37.868216Z"
    }
   },
   "outputs": [],
   "source": [
    "df_reciprocal_valid  = df_reciprocal[df_reciprocal['N_contact']>=30]"
   ]
  },
  {
   "cell_type": "code",
   "execution_count": 10,
   "metadata": {
    "ExecuteTime": {
     "end_time": "2021-09-09T21:53:56.627267Z",
     "start_time": "2021-09-09T21:53:56.520471Z"
    }
   },
   "outputs": [],
   "source": [
    "df_friend  = df_reciprocal_valid[['userid_x', 'userid_y']]"
   ]
  },
  {
   "cell_type": "code",
   "execution_count": 11,
   "metadata": {
    "ExecuteTime": {
     "end_time": "2021-09-09T21:54:48.460664Z",
     "start_time": "2021-09-09T21:54:44.544739Z"
    }
   },
   "outputs": [],
   "source": [
    "df_AB = pd.concat([df_A, df_B])[['userid_x', 'userid_y']]\n",
    "df_call_info = df_AB.groupby(['userid_x', 'userid_y']).size().reset_index(name='N_call')"
   ]
  },
  {
   "cell_type": "markdown",
   "metadata": {},
   "source": [
    "# DF checkins"
   ]
  },
  {
   "cell_type": "code",
   "execution_count": 12,
   "metadata": {
    "ExecuteTime": {
     "end_time": "2021-09-09T21:55:05.749495Z",
     "start_time": "2021-09-09T21:55:05.370073Z"
    }
   },
   "outputs": [],
   "source": [
    "df_checkin = df_part[['user_id', 'lat', 'lon', 'location_id', 'created_at']].copy()\n",
    "df_checkin.columns = ['userid', 'lat', 'lon', 'placeid', 'datetime']"
   ]
  },
  {
   "cell_type": "markdown",
   "metadata": {},
   "source": [
    "# Let's Focus on Main Results"
   ]
  },
  {
   "cell_type": "code",
   "execution_count": 13,
   "metadata": {
    "ExecuteTime": {
     "end_time": "2021-09-09T21:56:34.321681Z",
     "start_time": "2021-09-09T21:56:32.359475Z"
    }
   },
   "outputs": [],
   "source": [
    "co_locationship = cl.Co_Locationship(df_checkin, mins_records=150, missing='-')"
   ]
  },
  {
   "cell_type": "code",
   "execution_count": 15,
   "metadata": {
    "ExecuteTime": {
     "end_time": "2021-09-09T22:01:10.764121Z",
     "start_time": "2021-09-09T21:56:46.698495Z"
    }
   },
   "outputs": [],
   "source": [
    "# First time, should run co_locationship\n",
    "placeidT = co_locationship()"
   ]
  },
  {
   "cell_type": "code",
   "execution_count": 16,
   "metadata": {
    "ExecuteTime": {
     "end_time": "2021-09-09T22:10:00.371251Z",
     "start_time": "2021-09-09T22:09:59.165106Z"
    }
   },
   "outputs": [],
   "source": [
    "# Run in the first time (it takes 30 mins)\n",
    "# co_locationship.build_network(freq='H')\n",
    "# cln.to_csv('BZR_raw_meetup_150.csv', index=False)\n",
    "\n",
    "cln = pd.read_csv('interim-150/BZR_raw_meetup_150.csv')\n",
    "co_locationship.network = cln"
   ]
  },
  {
   "cell_type": "code",
   "execution_count": 19,
   "metadata": {
    "ExecuteTime": {
     "end_time": "2021-09-09T22:11:53.124332Z",
     "start_time": "2021-09-09T22:11:51.726077Z"
    }
   },
   "outputs": [],
   "source": [
    "# # Run in the first time (it takes 6 hours)\n",
    "# cln_details = co_locationship.calculate_info()\n",
    "# cln_details.to_csv('BZR_CLN_CE_info_150.csv', index=False)\n",
    "\n",
    "cln_details= pd.read_csv('interim-150/BZR_CLN_CE_info_150.csv')\n",
    "co_locationship.network_details = cln_details"
   ]
  },
  {
   "cell_type": "code",
   "execution_count": 21,
   "metadata": {
    "ExecuteTime": {
     "end_time": "2021-09-09T22:12:03.523227Z",
     "start_time": "2021-09-09T22:12:03.198170Z"
    }
   },
   "outputs": [],
   "source": [
    "cln_filtered = co_locationship.network_control(quality=True, \n",
    "                                contribution=True, \n",
    "                                num_alters=10, \n",
    "                                by=['userid_x', 'meetup', 'N_previous'], \n",
    "                                ascending=[True, False, True],\n",
    "                                N_previous=150)"
   ]
  },
  {
   "cell_type": "code",
   "execution_count": 22,
   "metadata": {
    "ExecuteTime": {
     "end_time": "2021-09-09T22:12:07.392331Z",
     "start_time": "2021-09-09T22:12:07.267419Z"
    }
   },
   "outputs": [
    {
     "name": "stdout",
     "output_type": "stream",
     "text": [
      "3608 4346\n"
     ]
    }
   ],
   "source": [
    "print(cln_filtered['userid_x'].nunique(), cln_filtered['userid_y'].nunique())"
   ]
  },
  {
   "cell_type": "code",
   "execution_count": 23,
   "metadata": {
    "ExecuteTime": {
     "end_time": "2021-09-09T22:12:40.721779Z",
     "start_time": "2021-09-09T22:12:39.632044Z"
    }
   },
   "outputs": [],
   "source": [
    "# # Run in the first time (it takes 1 hour)\n",
    "# co_locationship.calculate_network(verbose=False, filesave=True, name='BZR')\n",
    "\n",
    "# The second time, you can just read the saved result\n",
    "co_locationship.network_details = pd.read_csv('interim-150/BZR_CLN_network_details_H.csv')\n",
    "co_locationship.final_userlist = sorted(list(set(co_locationship.network_details['userid_x'].tolist())))"
   ]
  },
  {
   "cell_type": "code",
   "execution_count": 24,
   "metadata": {
    "ExecuteTime": {
     "end_time": "2021-09-09T22:13:42.463081Z",
     "start_time": "2021-09-09T22:13:38.877559Z"
    }
   },
   "outputs": [],
   "source": [
    "cl.util.save_object(co_locationship, 'BZR_150_colocationship.pickle')"
   ]
  },
  {
   "cell_type": "markdown",
   "metadata": {},
   "source": [
    "# Social-Relationship Network Experiment"
   ]
  },
  {
   "cell_type": "code",
   "execution_count": 25,
   "metadata": {
    "ExecuteTime": {
     "end_time": "2021-09-09T22:15:07.035757Z",
     "start_time": "2021-09-09T22:15:04.955794Z"
    }
   },
   "outputs": [],
   "source": [
    "social_relationship = cl.Social_Relationship(df_checkin,df_friend, \n",
    "                                             mins_records=150, \n",
    "                                             missing='-')"
   ]
  },
  {
   "cell_type": "code",
   "execution_count": 27,
   "metadata": {
    "ExecuteTime": {
     "end_time": "2021-09-09T22:15:26.817989Z",
     "start_time": "2021-09-09T22:15:26.776443Z"
    }
   },
   "outputs": [],
   "source": [
    "# given the same time unit, we can just the placeid sequence generated by co-locationship\n",
    "# otherwise, also run `social_relationship()` to generate placeid sequence again.\n",
    "social_relationship.placeidT = placeidT"
   ]
  },
  {
   "cell_type": "code",
   "execution_count": 28,
   "metadata": {
    "ExecuteTime": {
     "end_time": "2021-09-09T22:17:02.996619Z",
     "start_time": "2021-09-09T22:17:02.801301Z"
    }
   },
   "outputs": [],
   "source": [
    "# # Run in the first time (it takes 16 mins)\n",
    "# srn_details = social_relationship.calculate_info()\n",
    "# srn_details.to_csv('BZR_SRN_CE_info_reciprocal_30.csv', index=False)\n",
    "\n",
    "# # The second time, you can just read the saved result\n",
    "social_relationship.network_details = pd.read_csv('reciprocal30_150/BZR_SRN_CE_info_reciprocal_30.csv')"
   ]
  },
  {
   "cell_type": "code",
   "execution_count": 29,
   "metadata": {
    "ExecuteTime": {
     "end_time": "2021-09-09T22:20:12.792499Z",
     "start_time": "2021-09-09T22:17:07.159598Z"
    }
   },
   "outputs": [],
   "source": [
    "srn_filtered = social_relationship.network_control(\n",
    "                                contribution=True, \n",
    "                                num_alters=10, \n",
    "                                by=['userid_x', 'meetup', 'N_previous'], \n",
    "                                ascending=[True, False, True],\n",
    "                                N_previous=150,\n",
    "                                freq='H')"
   ]
  },
  {
   "cell_type": "code",
   "execution_count": 33,
   "metadata": {
    "ExecuteTime": {
     "end_time": "2021-09-09T22:22:17.793081Z",
     "start_time": "2021-09-09T22:22:17.695129Z"
    }
   },
   "outputs": [],
   "source": [
    "# # Run in the first time (it takes 28 hour)\n",
    "# social_relationship.calculate_network(verbose=False, filesave=True, name='BZR_reciprocal_30')\n",
    "\n",
    "# The second time, you can just read the saved result\n",
    "social_relationship.network_details = pd.read_csv('reciprocal30_150/BZR_reciprocal_30_SRN_network_details_H.csv')\n",
    "social_relationship.final_userlist = sorted(list(set(social_relationship.network_details['userid_x'].tolist())))"
   ]
  },
  {
   "cell_type": "code",
   "execution_count": 34,
   "metadata": {
    "ExecuteTime": {
     "end_time": "2021-09-09T22:23:33.403504Z",
     "start_time": "2021-09-09T22:23:29.368885Z"
    }
   },
   "outputs": [],
   "source": [
    "cl.util.save_object(co_locationship, 'BZR_150_reciprocal_30_SRN.pickle')"
   ]
  },
  {
   "cell_type": "markdown",
   "metadata": {},
   "source": [
    "# No_call_history_colocation network"
   ]
  },
  {
   "cell_type": "code",
   "execution_count": 35,
   "metadata": {
    "ExecuteTime": {
     "end_time": "2021-09-09T22:24:09.503739Z",
     "start_time": "2021-09-09T22:24:09.242606Z"
    }
   },
   "outputs": [],
   "source": [
    "call_pair = []\n",
    "for a,b in zip(df_call_info.userid_x, df_call_info.userid_y): \n",
    "     call_pair.append((a, b))"
   ]
  },
  {
   "cell_type": "code",
   "execution_count": 36,
   "metadata": {
    "ExecuteTime": {
     "end_time": "2021-09-09T22:24:11.992432Z",
     "start_time": "2021-09-09T22:24:11.511755Z"
    }
   },
   "outputs": [],
   "source": [
    "non_call_co_locationship = copy.deepcopy(co_locationship)"
   ]
  },
  {
   "cell_type": "code",
   "execution_count": 37,
   "metadata": {
    "ExecuteTime": {
     "end_time": "2021-09-09T22:24:18.308325Z",
     "start_time": "2021-09-09T22:24:14.963979Z"
    }
   },
   "outputs": [],
   "source": [
    "exclude_call_network = cln_filtered[~cln_filtered[['userid_x', \n",
    "                                                   'userid_y']].apply(tuple, axis=1).isin(call_pair)]\n",
    "non_call_co_locationship.network_details = exclude_call_network"
   ]
  },
  {
   "cell_type": "code",
   "execution_count": 38,
   "metadata": {
    "ExecuteTime": {
     "end_time": "2021-09-09T22:24:21.307009Z",
     "start_time": "2021-09-09T22:24:21.059420Z"
    }
   },
   "outputs": [],
   "source": [
    "non_call_cln_filtered = non_call_co_locationship.network_control(quality=True, \n",
    "                                                                    contribution=True, \n",
    "                                                                    num_alters=10, \n",
    "                                                                    by=['userid_x', 'meetup', 'N_previous'], \n",
    "                                                                    ascending=[True, False, True],\n",
    "                                                                    N_previous=150)"
   ]
  },
  {
   "cell_type": "code",
   "execution_count": 40,
   "metadata": {
    "ExecuteTime": {
     "end_time": "2021-09-09T22:27:24.124067Z",
     "start_time": "2021-09-09T22:27:23.318408Z"
    }
   },
   "outputs": [],
   "source": [
    "# # Run in the first time (it takes XXX hour)\n",
    "# non_call_co_locationship.calculate_network(verbose=False, filesave=True, name='no_call')\n",
    "\n",
    "non_call_co_locationship.network_details = pd.read_csv('no_call_150/no_call_CLN_network_details_H.csv')\n",
    "non_call_co_locationship.final_userlist = sorted(list(set(non_call_co_locationship.network_details['userid_x'].tolist())))"
   ]
  },
  {
   "cell_type": "code",
   "execution_count": 41,
   "metadata": {
    "ExecuteTime": {
     "end_time": "2021-09-09T22:28:22.021231Z",
     "start_time": "2021-09-09T22:28:18.265889Z"
    }
   },
   "outputs": [],
   "source": [
    "cl.util.save_object(non_call_co_locationship, 'BZR_150_no_call_30_CLN.pickle')"
   ]
  },
  {
   "cell_type": "markdown",
   "metadata": {},
   "source": [
    "# Import BZE network time windows"
   ]
  },
  {
   "cell_type": "code",
   "execution_count": 42,
   "metadata": {
    "ExecuteTime": {
     "end_time": "2021-09-09T22:28:56.381149Z",
     "start_time": "2021-09-09T22:28:44.642492Z"
    },
    "scrolled": true
   },
   "outputs": [],
   "source": [
    "# total_network = network_sliding_windows(co_locationship.network, interval=1800, max_size=24)\n",
    "total_network = pd.read_csv('interim-150/BZR_network_time_windows.csv')"
   ]
  },
  {
   "cell_type": "markdown",
   "metadata": {},
   "source": [
    "# Building no_call SW1-Netowrk and Compute the details"
   ]
  },
  {
   "cell_type": "code",
   "execution_count": 45,
   "metadata": {
    "ExecuteTime": {
     "end_time": "2021-09-09T22:45:57.564897Z",
     "start_time": "2021-09-09T22:45:57.513731Z"
    }
   },
   "outputs": [],
   "source": [
    "def fast_SW_run(i):\n",
    "    no_call_SW1_CLN = copy.deepcopy(co_locationship)\n",
    "    SW_H1_Network = total_network[total_network['time-pos'].\n",
    "                                  isin([-i,i])].groupby(['userid_x',\n",
    "                                                             'userid_y'])['meetup'].sum().reset_index(name='meetup')\n",
    "    SW1_exclude_call_network = SW_H1_Network[~SW_H1_Network[['userid_x', \n",
    "                                                   'userid_y']].apply(tuple, axis=1).isin(call_pair)]\n",
    "    no_call_SW1_CLN.network = SW1_exclude_call_network\n",
    "    no_call_SW1_CLN.calculate_info()\n",
    "    \n",
    "    no_call_SW1_cln_filtered = no_call_SW1_CLN.network_control(quality=True, \n",
    "                                contribution=True, \n",
    "                                num_alters=10, \n",
    "                                by=['userid_x', 'meetup', 'N_previous'], \n",
    "                                ascending=[True, False, True],\n",
    "                                N_previous=150)\n",
    "    name = 'no_call_SW' + str(i)\n",
    "    no_call_SW1_CLN.calculate_network(verbose=False, filesave=True, name=name)\n",
    "    \n",
    "    return no_call_SW1_CLN.network_details"
   ]
  },
  {
   "cell_type": "code",
   "execution_count": 46,
   "metadata": {
    "ExecuteTime": {
     "end_time": "2021-09-09T22:45:59.977633Z",
     "start_time": "2021-09-09T22:45:59.938022Z"
    }
   },
   "outputs": [],
   "source": [
    "SW_details = []"
   ]
  },
  {
   "cell_type": "code",
   "execution_count": 47,
   "metadata": {
    "ExecuteTime": {
     "end_time": "2021-09-15T23:55:56.420741Z",
     "start_time": "2021-09-09T22:46:02.002848Z"
    }
   },
   "outputs": [
    {
     "name": "stdout",
     "output_type": "stream",
     "text": [
      "2\n",
      "3\n",
      "4\n",
      "5\n",
      "6\n",
      "7\n",
      "8\n",
      "9\n",
      "10\n",
      "11\n",
      "12\n",
      "13\n",
      "14\n",
      "15\n",
      "16\n",
      "17\n",
      "18\n",
      "19\n",
      "20\n",
      "21\n",
      "22\n",
      "23\n",
      "24\n"
     ]
    }
   ],
   "source": [
    "for i in range(2, 25):\n",
    "    print(i)\n",
    "    network_details = fast_SW_run(i)\n",
    "    network_details['interval'] = i\n",
    "    SW_details.append(network_details)"
   ]
  },
  {
   "cell_type": "code",
   "execution_count": 50,
   "metadata": {
    "ExecuteTime": {
     "end_time": "2021-09-18T14:21:50.700708Z",
     "start_time": "2021-09-18T14:21:49.753080Z"
    }
   },
   "outputs": [],
   "source": [
    "SW1_details = pd.read_csv('no_call_150/no_call_SW1_CLN_network_details_H.csv')"
   ]
  },
  {
   "cell_type": "code",
   "execution_count": 51,
   "metadata": {
    "ExecuteTime": {
     "end_time": "2021-09-18T14:25:28.875050Z",
     "start_time": "2021-09-18T14:25:28.831779Z"
    }
   },
   "outputs": [],
   "source": [
    "# SW_details.append(SW1_details)"
   ]
  },
  {
   "cell_type": "code",
   "execution_count": 52,
   "metadata": {
    "ExecuteTime": {
     "end_time": "2021-09-18T14:25:35.140385Z",
     "start_time": "2021-09-18T14:25:33.831273Z"
    }
   },
   "outputs": [],
   "source": [
    "df_SW_details=pd.concat(SW_details)"
   ]
  },
  {
   "cell_type": "code",
   "execution_count": 63,
   "metadata": {
    "ExecuteTime": {
     "end_time": "2021-09-18T16:02:11.592521Z",
     "start_time": "2021-09-18T16:01:04.933909Z"
    }
   },
   "outputs": [],
   "source": [
    "df_SW_details.fillna(1.0, inplace=True)\n",
    "df_SW_details.to_csv('no_call_150/no_call_SW_full_CLN_network_details_H.csv', index=False)"
   ]
  },
  {
   "cell_type": "code",
   "execution_count": 64,
   "metadata": {
    "ExecuteTime": {
     "end_time": "2021-09-18T16:02:15.710892Z",
     "start_time": "2021-09-18T16:02:15.598668Z"
    }
   },
   "outputs": [
    {
     "data": {
      "text/html": [
       "<div>\n",
       "<style scoped>\n",
       "    .dataframe tbody tr th:only-of-type {\n",
       "        vertical-align: middle;\n",
       "    }\n",
       "\n",
       "    .dataframe tbody tr th {\n",
       "        vertical-align: top;\n",
       "    }\n",
       "\n",
       "    .dataframe thead th {\n",
       "        text-align: right;\n",
       "    }\n",
       "</style>\n",
       "<table border=\"1\" class=\"dataframe\">\n",
       "  <thead>\n",
       "    <tr style=\"text-align: right;\">\n",
       "      <th></th>\n",
       "      <th>userid_x</th>\n",
       "      <th>userid_y</th>\n",
       "      <th>meetup</th>\n",
       "      <th>N_previous</th>\n",
       "      <th>n_prev_match</th>\n",
       "      <th>CE_alter</th>\n",
       "      <th>Pi_alter</th>\n",
       "      <th>Rank</th>\n",
       "      <th>CCE_alters</th>\n",
       "      <th>Pi_alters</th>\n",
       "      <th>CCE_ego_alter</th>\n",
       "      <th>Pi_ego_alter</th>\n",
       "      <th>CCE_ego_alters</th>\n",
       "      <th>Pi_ego_alters</th>\n",
       "      <th>LZ_entropy</th>\n",
       "      <th>Pi</th>\n",
       "      <th>ODLR</th>\n",
       "      <th>CODLR</th>\n",
       "      <th>interval</th>\n",
       "    </tr>\n",
       "  </thead>\n",
       "  <tbody>\n",
       "    <tr>\n",
       "      <th>45</th>\n",
       "      <td>0002D18309AF4230C09139D2FBB59E72</td>\n",
       "      <td>4E26219CBFFE91D73B2AED3AE62E3410</td>\n",
       "      <td>53</td>\n",
       "      <td>521</td>\n",
       "      <td>361</td>\n",
       "      <td>2.923875</td>\n",
       "      <td>0.576680</td>\n",
       "      <td>1</td>\n",
       "      <td>2.923875</td>\n",
       "      <td>0.576680</td>\n",
       "      <td>2.089216</td>\n",
       "      <td>0.728368</td>\n",
       "      <td>2.089216</td>\n",
       "      <td>0.728368</td>\n",
       "      <td>1.945826</td>\n",
       "      <td>0.751893</td>\n",
       "      <td>0.40</td>\n",
       "      <td>0.40</td>\n",
       "      <td>2.0</td>\n",
       "    </tr>\n",
       "    <tr>\n",
       "      <th>7</th>\n",
       "      <td>0002D18309AF4230C09139D2FBB59E72</td>\n",
       "      <td>0A5900898073025A1F432EF4653AFCEB</td>\n",
       "      <td>45</td>\n",
       "      <td>201</td>\n",
       "      <td>436</td>\n",
       "      <td>2.173451</td>\n",
       "      <td>0.714228</td>\n",
       "      <td>2</td>\n",
       "      <td>2.220640</td>\n",
       "      <td>0.706200</td>\n",
       "      <td>1.821687</td>\n",
       "      <td>0.771715</td>\n",
       "      <td>1.924205</td>\n",
       "      <td>0.755381</td>\n",
       "      <td>1.945826</td>\n",
       "      <td>0.751893</td>\n",
       "      <td>0.32</td>\n",
       "      <td>0.48</td>\n",
       "      <td>2.0</td>\n",
       "    </tr>\n",
       "    <tr>\n",
       "      <th>61</th>\n",
       "      <td>0002D18309AF4230C09139D2FBB59E72</td>\n",
       "      <td>659BE695FD0B3BEAD95ABEF949E492BA</td>\n",
       "      <td>43</td>\n",
       "      <td>774</td>\n",
       "      <td>380</td>\n",
       "      <td>3.010154</td>\n",
       "      <td>0.559355</td>\n",
       "      <td>3</td>\n",
       "      <td>2.261555</td>\n",
       "      <td>0.699177</td>\n",
       "      <td>2.213912</td>\n",
       "      <td>0.707350</td>\n",
       "      <td>1.996226</td>\n",
       "      <td>0.743702</td>\n",
       "      <td>1.945826</td>\n",
       "      <td>0.751893</td>\n",
       "      <td>0.28</td>\n",
       "      <td>0.56</td>\n",
       "      <td>2.0</td>\n",
       "    </tr>\n",
       "    <tr>\n",
       "      <th>151</th>\n",
       "      <td>0002D18309AF4230C09139D2FBB59E72</td>\n",
       "      <td>DF87916D5660761F99C7C5CE0BD73D72</td>\n",
       "      <td>23</td>\n",
       "      <td>172</td>\n",
       "      <td>156</td>\n",
       "      <td>3.943688</td>\n",
       "      <td>0.341983</td>\n",
       "      <td>4</td>\n",
       "      <td>2.217358</td>\n",
       "      <td>0.706761</td>\n",
       "      <td>1.945867</td>\n",
       "      <td>0.751886</td>\n",
       "      <td>1.972037</td>\n",
       "      <td>0.747644</td>\n",
       "      <td>1.945826</td>\n",
       "      <td>0.751893</td>\n",
       "      <td>0.16</td>\n",
       "      <td>0.60</td>\n",
       "      <td>2.0</td>\n",
       "    </tr>\n",
       "    <tr>\n",
       "      <th>30</th>\n",
       "      <td>0002D18309AF4230C09139D2FBB59E72</td>\n",
       "      <td>3B57ACCD63A7A12490F30D63580E4205</td>\n",
       "      <td>21</td>\n",
       "      <td>213</td>\n",
       "      <td>185</td>\n",
       "      <td>3.785168</td>\n",
       "      <td>0.383997</td>\n",
       "      <td>5</td>\n",
       "      <td>2.165232</td>\n",
       "      <td>0.715618</td>\n",
       "      <td>1.941393</td>\n",
       "      <td>0.752609</td>\n",
       "      <td>1.935918</td>\n",
       "      <td>0.753493</td>\n",
       "      <td>1.945826</td>\n",
       "      <td>0.751893</td>\n",
       "      <td>0.52</td>\n",
       "      <td>0.68</td>\n",
       "      <td>2.0</td>\n",
       "    </tr>\n",
       "    <tr>\n",
       "      <th>...</th>\n",
       "      <td>...</td>\n",
       "      <td>...</td>\n",
       "      <td>...</td>\n",
       "      <td>...</td>\n",
       "      <td>...</td>\n",
       "      <td>...</td>\n",
       "      <td>...</td>\n",
       "      <td>...</td>\n",
       "      <td>...</td>\n",
       "      <td>...</td>\n",
       "      <td>...</td>\n",
       "      <td>...</td>\n",
       "      <td>...</td>\n",
       "      <td>...</td>\n",
       "      <td>...</td>\n",
       "      <td>...</td>\n",
       "      <td>...</td>\n",
       "      <td>...</td>\n",
       "      <td>...</td>\n",
       "    </tr>\n",
       "    <tr>\n",
       "      <th>222879</th>\n",
       "      <td>FFDDC356739ABE744793623DC6F4D06C</td>\n",
       "      <td>70AED96E6FF4A440EC2688510EC37BE6</td>\n",
       "      <td>2</td>\n",
       "      <td>240</td>\n",
       "      <td>513</td>\n",
       "      <td>2.484117</td>\n",
       "      <td>0.659926</td>\n",
       "      <td>15</td>\n",
       "      <td>1.345758</td>\n",
       "      <td>0.843166</td>\n",
       "      <td>1.358627</td>\n",
       "      <td>0.841328</td>\n",
       "      <td>1.224330</td>\n",
       "      <td>0.860250</td>\n",
       "      <td>1.386503</td>\n",
       "      <td>0.837329</td>\n",
       "      <td>0.64</td>\n",
       "      <td>0.72</td>\n",
       "      <td>1.0</td>\n",
       "    </tr>\n",
       "    <tr>\n",
       "      <th>222880</th>\n",
       "      <td>FFDDC356739ABE744793623DC6F4D06C</td>\n",
       "      <td>DF847C0F82A4370F23557517A02810AE</td>\n",
       "      <td>2</td>\n",
       "      <td>267</td>\n",
       "      <td>204</td>\n",
       "      <td>4.314951</td>\n",
       "      <td>0.227698</td>\n",
       "      <td>16</td>\n",
       "      <td>1.342611</td>\n",
       "      <td>0.843615</td>\n",
       "      <td>1.395426</td>\n",
       "      <td>0.836043</td>\n",
       "      <td>1.221967</td>\n",
       "      <td>0.860578</td>\n",
       "      <td>1.386503</td>\n",
       "      <td>0.837329</td>\n",
       "      <td>0.24</td>\n",
       "      <td>0.72</td>\n",
       "      <td>1.0</td>\n",
       "    </tr>\n",
       "    <tr>\n",
       "      <th>222881</th>\n",
       "      <td>FFDDC356739ABE744793623DC6F4D06C</td>\n",
       "      <td>F0E45B65559D134CE8177E9F57EBD25C</td>\n",
       "      <td>2</td>\n",
       "      <td>366</td>\n",
       "      <td>216</td>\n",
       "      <td>4.437227</td>\n",
       "      <td>0.181049</td>\n",
       "      <td>17</td>\n",
       "      <td>1.344784</td>\n",
       "      <td>0.843305</td>\n",
       "      <td>1.430519</td>\n",
       "      <td>0.830964</td>\n",
       "      <td>1.224058</td>\n",
       "      <td>0.860288</td>\n",
       "      <td>1.386503</td>\n",
       "      <td>0.837329</td>\n",
       "      <td>0.20</td>\n",
       "      <td>0.72</td>\n",
       "      <td>1.0</td>\n",
       "    </tr>\n",
       "    <tr>\n",
       "      <th>222882</th>\n",
       "      <td>FFDDC356739ABE744793623DC6F4D06C</td>\n",
       "      <td>BFC430AFB977144B1515E5ACAA925A6F</td>\n",
       "      <td>2</td>\n",
       "      <td>368</td>\n",
       "      <td>265</td>\n",
       "      <td>4.006074</td>\n",
       "      <td>0.324578</td>\n",
       "      <td>18</td>\n",
       "      <td>1.346887</td>\n",
       "      <td>0.843005</td>\n",
       "      <td>1.434659</td>\n",
       "      <td>0.830362</td>\n",
       "      <td>1.226092</td>\n",
       "      <td>0.860006</td>\n",
       "      <td>1.386503</td>\n",
       "      <td>0.837329</td>\n",
       "      <td>0.08</td>\n",
       "      <td>0.72</td>\n",
       "      <td>1.0</td>\n",
       "    </tr>\n",
       "    <tr>\n",
       "      <th>222883</th>\n",
       "      <td>FFDDC356739ABE744793623DC6F4D06C</td>\n",
       "      <td>1FFE6122F30D1B13B719EA353E441A6E</td>\n",
       "      <td>2</td>\n",
       "      <td>394</td>\n",
       "      <td>308</td>\n",
       "      <td>3.731459</td>\n",
       "      <td>0.397613</td>\n",
       "      <td>19</td>\n",
       "      <td>1.349930</td>\n",
       "      <td>0.842571</td>\n",
       "      <td>1.443539</td>\n",
       "      <td>0.829069</td>\n",
       "      <td>1.228942</td>\n",
       "      <td>0.859610</td>\n",
       "      <td>1.386503</td>\n",
       "      <td>0.837329</td>\n",
       "      <td>0.32</td>\n",
       "      <td>0.72</td>\n",
       "      <td>1.0</td>\n",
       "    </tr>\n",
       "  </tbody>\n",
       "</table>\n",
       "<p>4105467 rows × 19 columns</p>\n",
       "</div>"
      ],
      "text/plain": [
       "                                userid_x                          userid_y  \\\n",
       "45      0002D18309AF4230C09139D2FBB59E72  4E26219CBFFE91D73B2AED3AE62E3410   \n",
       "7       0002D18309AF4230C09139D2FBB59E72  0A5900898073025A1F432EF4653AFCEB   \n",
       "61      0002D18309AF4230C09139D2FBB59E72  659BE695FD0B3BEAD95ABEF949E492BA   \n",
       "151     0002D18309AF4230C09139D2FBB59E72  DF87916D5660761F99C7C5CE0BD73D72   \n",
       "30      0002D18309AF4230C09139D2FBB59E72  3B57ACCD63A7A12490F30D63580E4205   \n",
       "...                                  ...                               ...   \n",
       "222879  FFDDC356739ABE744793623DC6F4D06C  70AED96E6FF4A440EC2688510EC37BE6   \n",
       "222880  FFDDC356739ABE744793623DC6F4D06C  DF847C0F82A4370F23557517A02810AE   \n",
       "222881  FFDDC356739ABE744793623DC6F4D06C  F0E45B65559D134CE8177E9F57EBD25C   \n",
       "222882  FFDDC356739ABE744793623DC6F4D06C  BFC430AFB977144B1515E5ACAA925A6F   \n",
       "222883  FFDDC356739ABE744793623DC6F4D06C  1FFE6122F30D1B13B719EA353E441A6E   \n",
       "\n",
       "        meetup  N_previous  n_prev_match  CE_alter  Pi_alter  Rank  \\\n",
       "45          53         521           361  2.923875  0.576680     1   \n",
       "7           45         201           436  2.173451  0.714228     2   \n",
       "61          43         774           380  3.010154  0.559355     3   \n",
       "151         23         172           156  3.943688  0.341983     4   \n",
       "30          21         213           185  3.785168  0.383997     5   \n",
       "...        ...         ...           ...       ...       ...   ...   \n",
       "222879       2         240           513  2.484117  0.659926    15   \n",
       "222880       2         267           204  4.314951  0.227698    16   \n",
       "222881       2         366           216  4.437227  0.181049    17   \n",
       "222882       2         368           265  4.006074  0.324578    18   \n",
       "222883       2         394           308  3.731459  0.397613    19   \n",
       "\n",
       "        CCE_alters  Pi_alters  CCE_ego_alter  Pi_ego_alter  CCE_ego_alters  \\\n",
       "45        2.923875   0.576680       2.089216      0.728368        2.089216   \n",
       "7         2.220640   0.706200       1.821687      0.771715        1.924205   \n",
       "61        2.261555   0.699177       2.213912      0.707350        1.996226   \n",
       "151       2.217358   0.706761       1.945867      0.751886        1.972037   \n",
       "30        2.165232   0.715618       1.941393      0.752609        1.935918   \n",
       "...            ...        ...            ...           ...             ...   \n",
       "222879    1.345758   0.843166       1.358627      0.841328        1.224330   \n",
       "222880    1.342611   0.843615       1.395426      0.836043        1.221967   \n",
       "222881    1.344784   0.843305       1.430519      0.830964        1.224058   \n",
       "222882    1.346887   0.843005       1.434659      0.830362        1.226092   \n",
       "222883    1.349930   0.842571       1.443539      0.829069        1.228942   \n",
       "\n",
       "        Pi_ego_alters  LZ_entropy        Pi  ODLR  CODLR  interval  \n",
       "45           0.728368    1.945826  0.751893  0.40   0.40       2.0  \n",
       "7            0.755381    1.945826  0.751893  0.32   0.48       2.0  \n",
       "61           0.743702    1.945826  0.751893  0.28   0.56       2.0  \n",
       "151          0.747644    1.945826  0.751893  0.16   0.60       2.0  \n",
       "30           0.753493    1.945826  0.751893  0.52   0.68       2.0  \n",
       "...               ...         ...       ...   ...    ...       ...  \n",
       "222879       0.860250    1.386503  0.837329  0.64   0.72       1.0  \n",
       "222880       0.860578    1.386503  0.837329  0.24   0.72       1.0  \n",
       "222881       0.860288    1.386503  0.837329  0.20   0.72       1.0  \n",
       "222882       0.860006    1.386503  0.837329  0.08   0.72       1.0  \n",
       "222883       0.859610    1.386503  0.837329  0.32   0.72       1.0  \n",
       "\n",
       "[4105467 rows x 19 columns]"
      ]
     },
     "execution_count": 64,
     "metadata": {},
     "output_type": "execute_result"
    }
   ],
   "source": [
    "df_SW_details"
   ]
  },
  {
   "cell_type": "code",
   "execution_count": null,
   "metadata": {},
   "outputs": [],
   "source": []
  }
 ],
 "metadata": {
  "kernelspec": {
   "display_name": "Python 3",
   "language": "python",
   "name": "python3"
  },
  "language_info": {
   "codemirror_mode": {
    "name": "ipython",
    "version": 3
   },
   "file_extension": ".py",
   "mimetype": "text/x-python",
   "name": "python",
   "nbconvert_exporter": "python",
   "pygments_lexer": "ipython3",
   "version": "3.6.10"
  },
  "latex_envs": {
   "LaTeX_envs_menu_present": true,
   "autoclose": false,
   "autocomplete": true,
   "bibliofile": "biblio.bib",
   "cite_by": "apalike",
   "current_citInitial": 1,
   "eqLabelWithNumbers": true,
   "eqNumInitial": 1,
   "hotkeys": {
    "equation": "Ctrl-E",
    "itemize": "Ctrl-I"
   },
   "labels_anchors": false,
   "latex_user_defs": false,
   "report_style_numbering": false,
   "user_envs_cfg": false
  },
  "toc": {
   "base_numbering": 1,
   "nav_menu": {},
   "number_sections": true,
   "sideBar": true,
   "skip_h1_title": false,
   "title_cell": "Table of Contents",
   "title_sidebar": "Contents",
   "toc_cell": false,
   "toc_position": {},
   "toc_section_display": true,
   "toc_window_display": false
  }
 },
 "nbformat": 4,
 "nbformat_minor": 4
}
