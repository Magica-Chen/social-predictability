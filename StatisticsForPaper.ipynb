{
 "cells": [
  {
   "cell_type": "code",
   "execution_count": 1,
   "metadata": {
    "ExecuteTime": {
     "end_time": "2020-09-24T16:08:13.821739Z",
     "start_time": "2020-09-24T16:08:12.665175Z"
    }
   },
   "outputs": [],
   "source": [
    "import seaborn as sns\n",
    "import visualization as vs\n",
    "import pandas as pd\n",
    "import numpy as np\n",
    "%load_ext autoreload\n",
    "%autoreload 2"
   ]
  },
  {
   "cell_type": "code",
   "execution_count": 2,
   "metadata": {
    "ExecuteTime": {
     "end_time": "2020-09-24T16:08:16.727729Z",
     "start_time": "2020-09-24T16:08:16.686212Z"
    }
   },
   "outputs": [],
   "source": [
    "from scipy import stats\n",
    "from functools import reduce\n",
    "from seaborn.utils import ci"
   ]
  },
  {
   "cell_type": "code",
   "execution_count": 3,
   "metadata": {
    "ExecuteTime": {
     "end_time": "2020-09-24T16:08:19.538625Z",
     "start_time": "2020-09-24T16:08:19.498584Z"
    }
   },
   "outputs": [],
   "source": [
    "from scipy.stats import spearmanr\n",
    "from scipy.stats import kendalltau\n",
    "from scipy.stats import wilcoxon\n",
    "from scipy.stats import mannwhitneyu"
   ]
  },
  {
   "cell_type": "markdown",
   "metadata": {},
   "source": [
    "# H-MFN"
   ]
  },
  {
   "cell_type": "code",
   "execution_count": 61,
   "metadata": {
    "ExecuteTime": {
     "end_time": "2020-09-29T14:27:43.482392Z",
     "start_time": "2020-09-29T14:27:43.164119Z"
    }
   },
   "outputs": [],
   "source": [
    "# wp_final = pd.read_csv(\"final/wp-150/wp-H-2-10-CP-MFN.csv\")\n",
    "# bk_final = pd.read_csv(\"final/bk-150/bk-H-2-10-CP-MFN.csv\")\n",
    "# gw_final = pd.read_csv(\"final/gws-150/gws-H-2-10-CP-MFN.csv\")\n",
    "\n",
    "# wp_final = pd.read_csv(\"final/wp-150/wp-H-2-10-MeetupNp-MFN.csv\")\n",
    "# bk_final = pd.read_csv(\"final/bk-150/bk-H-2-10-MeetupNp-MFN.csv\")\n",
    "# gw_final = pd.read_csv(\"final/gws-150/gws-H-2-10-MeetupNp-MFN.csv\")\n",
    "\n",
    "wp_final = pd.read_csv(\"final/wp-150/wp-H-2-10-FreqNp-MFN.csv\")\n",
    "bk_final = pd.read_csv(\"final/bk-150/bk-H-2-10-FreqNp-MFN.csv\")\n",
    "gw_final = pd.read_csv(\"final/gws-150/gws-H-2-10-FreqNp-MFN.csv\")\n",
    "\n",
    "\n",
    "wp_final['dataset'] = \"Weeplace\"\n",
    "bk_final['dataset'] = \"BrightKite\"\n",
    "gw_final['dataset'] =  \"Gowalla\""
   ]
  },
  {
   "cell_type": "code",
   "execution_count": 62,
   "metadata": {
    "ExecuteTime": {
     "end_time": "2020-09-29T14:27:46.605685Z",
     "start_time": "2020-09-29T14:27:46.552092Z"
    }
   },
   "outputs": [],
   "source": [
    "def transform_df(df_H_MFN):\n",
    "    df_H_MFN = df_H_MFN[['Included Rank','userid_y', 'CCE_alters', 'CCE_ego_alters', 'Pi_alters', 'Pi_ego_alters', \n",
    "                                     'LZ_entropy', 'Pi', 'n_meetupers_x', 'n_meetupers_y', 'userid_x', 'dataset']]\n",
    "    df_H_MFN = df_H_MFN.rename({'Included Rank': 'Included', \n",
    "                                'userid_x': 'userid',\n",
    "                                'Pi': 'Pi_ego'}, axis=1)\n",
    "    df_H_MFN['Pi_alters_ratio'] = df_H_MFN['Pi_alters'] / df_H_MFN['Pi_ego'] \n",
    "    df_H_MFN['Pi_ego_alters_ratio'] = df_H_MFN['Pi_ego_alters'] / df_H_MFN['Pi_ego'] \n",
    "    return df_H_MFN"
   ]
  },
  {
   "cell_type": "code",
   "execution_count": 63,
   "metadata": {
    "ExecuteTime": {
     "end_time": "2020-09-29T14:27:50.379352Z",
     "start_time": "2020-09-29T14:27:50.274700Z"
    }
   },
   "outputs": [],
   "source": [
    "df_final = transform_df(pd.concat([wp_final, bk_final, gw_final]))"
   ]
  },
  {
   "cell_type": "code",
   "execution_count": 64,
   "metadata": {
    "ExecuteTime": {
     "end_time": "2020-09-29T14:27:53.322771Z",
     "start_time": "2020-09-29T14:27:53.271108Z"
    }
   },
   "outputs": [],
   "source": [
    "df_used = df_final[(df_final['Included'] <=10) & (df_final['n_meetupers_x']>=10)]"
   ]
  },
  {
   "cell_type": "code",
   "execution_count": 65,
   "metadata": {
    "ExecuteTime": {
     "end_time": "2020-09-29T14:27:55.733219Z",
     "start_time": "2020-09-29T14:27:55.683442Z"
    }
   },
   "outputs": [
    {
     "data": {
      "text/plain": [
       "dataset\n",
       "BrightKite    1690\n",
       "Gowalla       2500\n",
       "Weeplace      7510\n",
       "Name: userid, dtype: int64"
      ]
     },
     "execution_count": 65,
     "metadata": {},
     "output_type": "execute_result"
    }
   ],
   "source": [
    "df_used.groupby('dataset')['userid'].count()"
   ]
  },
  {
   "cell_type": "code",
   "execution_count": 66,
   "metadata": {
    "ExecuteTime": {
     "end_time": "2020-09-29T14:28:19.648528Z",
     "start_time": "2020-09-29T14:28:01.195117Z"
    }
   },
   "outputs": [],
   "source": [
    "lower = df_used.groupby(['Included', \n",
    "                         'dataset'])['Pi_alters_ratio'].apply(lambda x: ci(sns.algorithms.bootstrap(x), \n",
    "                                                                           which=95)[0]).reset_index()\n",
    "upper = df_used.groupby(['Included', \n",
    "                         'dataset'])['Pi_alters_ratio'].apply(lambda x: ci(sns.algorithms.bootstrap(x), \n",
    "                                                                           which=95)[1]).reset_index()\n",
    "mid = df_used.groupby(['Included', 'dataset'])['Pi_alters_ratio'].mean().reset_index()"
   ]
  },
  {
   "cell_type": "code",
   "execution_count": 67,
   "metadata": {
    "ExecuteTime": {
     "end_time": "2020-09-29T14:28:31.662515Z",
     "start_time": "2020-09-29T14:28:31.583415Z"
    }
   },
   "outputs": [],
   "source": [
    "final = reduce(lambda df1,df2: pd.merge(df1,df2,on=['Included', 'dataset']), [mid, lower, upper])\n",
    "final.columns = ['included', 'dataset', 'mean', 'lower', 'upper']"
   ]
  },
  {
   "cell_type": "code",
   "execution_count": 68,
   "metadata": {
    "ExecuteTime": {
     "end_time": "2020-09-29T14:29:50.353870Z",
     "start_time": "2020-09-29T14:29:50.303959Z"
    }
   },
   "outputs": [],
   "source": [
    "# final.to_csv('final/150_all_2_10_CP_H_MFN.csv', index=False)\n",
    "# final.to_csv('final/150_all_2_10_MeetupNp_H_MFN.csv', index=False)\n",
    "final.to_csv('final/FreqNp_Rank/150_all_2_10_FreqNp_H_MFN.csv', index=False)"
   ]
  },
  {
   "cell_type": "code",
   "execution_count": 29,
   "metadata": {
    "ExecuteTime": {
     "end_time": "2020-09-18T12:58:11.148510Z",
     "start_time": "2020-09-18T12:58:11.095427Z"
    }
   },
   "outputs": [],
   "source": [
    "# spearman test"
   ]
  },
  {
   "cell_type": "code",
   "execution_count": 69,
   "metadata": {
    "ExecuteTime": {
     "end_time": "2020-09-29T14:29:54.612239Z",
     "start_time": "2020-09-29T14:29:54.564114Z"
    }
   },
   "outputs": [],
   "source": [
    "ds_list = df_used['dataset'].unique().tolist()\n",
    "user_list = df_used['userid'].unique().tolist()"
   ]
  },
  {
   "cell_type": "code",
   "execution_count": 70,
   "metadata": {
    "ExecuteTime": {
     "end_time": "2020-09-29T14:39:29.281110Z",
     "start_time": "2020-09-29T14:39:25.273692Z"
    },
    "scrolled": true
   },
   "outputs": [
    {
     "name": "stdout",
     "output_type": "stream",
     "text": [
      "Weeplace 585 0.7789613848202397 602 0.8015978695073236 751\n",
      "BrightKite 96 0.5680473372781065 100 0.591715976331361 169\n",
      "Gowalla 208 0.832 216 0.864 250\n"
     ]
    }
   ],
   "source": [
    "for ds in ds_list:\n",
    "    count_sm = 0\n",
    "    count_kd = 0\n",
    "    df_temp = df_used[df_used['dataset'] == ds]\n",
    "    ur_ds = df_temp['userid'].unique().tolist()\n",
    "    for user in ur_ds:\n",
    "        rank = df_temp[df_temp['userid'] == user]['Included'].tolist()\n",
    "        Pi_alters_ratio = df_temp[df_temp['userid'] == user]['Pi_alters_ratio'].tolist()\n",
    "        \n",
    "        coef_sm, p_sm = spearmanr(rank, Pi_alters_ratio)\n",
    "        coef_kd, p_kd = kendalltau(rank, Pi_alters_ratio)     \n",
    "        \n",
    "        if (coef_sm > 0) & (p_sm < 0.05):\n",
    "            count_sm +=1\n",
    "        \n",
    "        if (coef_kd > 0) & (p_kd < 0.05):\n",
    "            count_kd +=1\n",
    "\n",
    "    print(ds, count_sm, count_sm/len(ur_ds), count_kd, count_kd/len(ur_ds),len(ur_ds))"
   ]
  },
  {
   "cell_type": "markdown",
   "metadata": {},
   "source": [
    "# All these MFNs and TFN (pointplot)"
   ]
  },
  {
   "cell_type": "code",
   "execution_count": 71,
   "metadata": {
    "ExecuteTime": {
     "end_time": "2020-09-29T14:41:57.117992Z",
     "start_time": "2020-09-29T14:41:56.354310Z"
    }
   },
   "outputs": [],
   "source": [
    "# wp_all = pd.read_csv(\"final/wp-150/wp_shared_all_2_10_CP.csv\")\n",
    "# bk_all = pd.read_csv(\"final/bk-150/bk_shared_all_2_10_CP.csv\")\n",
    "# gw_all = pd.read_csv(\"final/gws-150/gws_shared_all_2_10_CP.csv\")\n",
    "\n",
    "# wp_all = pd.read_csv(\"final/wp-150/wp_shared_all_2_10_MeetupNp.csv\")\n",
    "# bk_all = pd.read_csv(\"final/bk-150/bk_shared_all_2_10_MeetupNp.csv\")\n",
    "# gw_all = pd.read_csv(\"final/gws-150/gws_shared_all_2_10_MeetupNp.csv\")\n",
    "\n",
    "wp_all = pd.read_csv(\"final/wp-150/wp_shared_all_2_10_FreqNp.csv\")\n",
    "bk_all = pd.read_csv(\"final/bk-150/bk_shared_all_2_10_FreqNp.csv\")\n",
    "gw_all = pd.read_csv(\"final/gws-150/gws_shared_all_2_10_FreqNp.csv\")\n",
    "\n",
    "wp_all['dataset'] = \"Weeplace\"\n",
    "bk_all['dataset'] = \"BrightKite\"\n",
    "gw_all['dataset'] =  \"Gowalla\""
   ]
  },
  {
   "cell_type": "code",
   "execution_count": 72,
   "metadata": {
    "ExecuteTime": {
     "end_time": "2020-09-29T14:42:43.972812Z",
     "start_time": "2020-09-29T14:42:43.853288Z"
    }
   },
   "outputs": [],
   "source": [
    "df_all = pd.concat([wp_all, bk_all, gw_all])"
   ]
  },
  {
   "cell_type": "code",
   "execution_count": 73,
   "metadata": {
    "ExecuteTime": {
     "end_time": "2020-09-29T14:42:46.816861Z",
     "start_time": "2020-09-29T14:42:46.684736Z"
    }
   },
   "outputs": [],
   "source": [
    "df_all_used = df_all[(df_all['Included'] <=10) & (df_all['n_meetupers_x']>=10)]"
   ]
  },
  {
   "cell_type": "code",
   "execution_count": 19,
   "metadata": {
    "ExecuteTime": {
     "end_time": "2020-09-24T16:30:01.815920Z",
     "start_time": "2020-09-24T16:30:00.020980Z"
    }
   },
   "outputs": [
    {
     "data": {
      "text/plain": [
       "dataset     category   userid          \n",
       "BrightKite  CB-1D-MFN  0.0                 (0.9999999999999999, 6.646897422032013e-64)\n",
       "                       2.0                 (0.9878787878787878, 9.307459988955517e-08)\n",
       "                       3.0                 (0.9636363636363635, 7.320974809529922e-06)\n",
       "                       7.0                 (0.9515151515151514, 2.279854920641689e-05)\n",
       "                       11.0                (0.9393939393939393, 5.484052998513666e-05)\n",
       "                                                              ...                     \n",
       "Weeplace    TFN        yuna-park           (0.9999999999999999, 6.646897422032013e-64)\n",
       "                       yuri-van-geest      (0.9636363636363635, 7.320974809529922e-06)\n",
       "                       zach-linder         (0.9999999999999999, 6.646897422032013e-64)\n",
       "                       zachariah-schaap    (0.9999999999999999, 6.646897422032013e-64)\n",
       "                       zachary-blank       (0.9878787878787878, 9.307459988955517e-08)\n",
       "Length: 1972, dtype: object"
      ]
     },
     "execution_count": 19,
     "metadata": {},
     "output_type": "execute_result"
    }
   ],
   "source": [
    "df_all_used.groupby(['dataset', 'category', 'userid']).apply(lambda row: spearmanr(row.Included, row.Pi_alters_ratio))"
   ]
  },
  {
   "cell_type": "code",
   "execution_count": 74,
   "metadata": {
    "ExecuteTime": {
     "end_time": "2020-09-29T14:43:11.848499Z",
     "start_time": "2020-09-29T14:43:11.802347Z"
    }
   },
   "outputs": [],
   "source": [
    "category = list(set(df_all_used['category'].tolist()))"
   ]
  },
  {
   "cell_type": "code",
   "execution_count": 75,
   "metadata": {
    "ExecuteTime": {
     "end_time": "2020-09-29T14:43:24.888501Z",
     "start_time": "2020-09-29T14:43:20.487653Z"
    },
    "scrolled": true
   },
   "outputs": [],
   "source": [
    "result = []\n",
    "for ds in ds_list:\n",
    "    for cat in category:\n",
    "        count_sm = 0\n",
    "        count_kd = 0\n",
    "        count_mw = 0\n",
    "        \n",
    "        df_temp = df_all_used[(df_all_used['dataset'] == ds) & (df_all_used['category'] == cat)]\n",
    "        ur_ds = df_temp['userid'].unique().tolist()\n",
    "        for user in ur_ds:\n",
    "            rank = df_temp[df_temp['userid'] == user]['Included'].tolist()\n",
    "            Pi_alters_ratio = df_temp[df_temp['userid'] == user]['Pi_alters_ratio'].tolist()\n",
    "\n",
    "            coef_sm, p_sm = spearmanr(rank, Pi_alters_ratio)\n",
    "            coef_kd, p_kd = kendalltau(rank, Pi_alters_ratio)  \n",
    "            mannwhitneyu\n",
    "            \n",
    "\n",
    "            if (coef_sm > 0) & (p_sm < 0.05):\n",
    "                count_sm +=1\n",
    "\n",
    "            if (coef_kd > 0) & (p_kd < 0.05):\n",
    "                count_kd +=1\n",
    "\n",
    "#         print(ds, cat, count_sm, count_sm/len(ur_ds), count_kd, count_kd/len(ur_ds),len(ur_ds))\n",
    "        result.append([ds, cat, count_sm, count_sm/len(ur_ds), count_kd, count_kd/len(ur_ds),len(ur_ds)])"
   ]
  },
  {
   "cell_type": "code",
   "execution_count": 76,
   "metadata": {
    "ExecuteTime": {
     "end_time": "2020-09-29T14:43:29.167814Z",
     "start_time": "2020-09-29T14:43:29.085237Z"
    }
   },
   "outputs": [
    {
     "data": {
      "text/html": [
       "<div>\n",
       "<style scoped>\n",
       "    .dataframe tbody tr th:only-of-type {\n",
       "        vertical-align: middle;\n",
       "    }\n",
       "\n",
       "    .dataframe tbody tr th {\n",
       "        vertical-align: top;\n",
       "    }\n",
       "\n",
       "    .dataframe thead th {\n",
       "        text-align: right;\n",
       "    }\n",
       "</style>\n",
       "<table border=\"1\" class=\"dataframe\">\n",
       "  <thead>\n",
       "    <tr style=\"text-align: right;\">\n",
       "      <th></th>\n",
       "      <th>Dataset</th>\n",
       "      <th>MF</th>\n",
       "      <th>SpN</th>\n",
       "      <th>SpP</th>\n",
       "      <th>Kn</th>\n",
       "      <th>Kp</th>\n",
       "      <th>total</th>\n",
       "    </tr>\n",
       "  </thead>\n",
       "  <tbody>\n",
       "    <tr>\n",
       "      <th>7</th>\n",
       "      <td>BrightKite</td>\n",
       "      <td>CB-1D-MFN</td>\n",
       "      <td>38</td>\n",
       "      <td>0.575758</td>\n",
       "      <td>40</td>\n",
       "      <td>0.606061</td>\n",
       "      <td>66</td>\n",
       "    </tr>\n",
       "    <tr>\n",
       "      <th>6</th>\n",
       "      <td>BrightKite</td>\n",
       "      <td>CB-1H-MFN</td>\n",
       "      <td>41</td>\n",
       "      <td>0.621212</td>\n",
       "      <td>44</td>\n",
       "      <td>0.666667</td>\n",
       "      <td>66</td>\n",
       "    </tr>\n",
       "    <tr>\n",
       "      <th>4</th>\n",
       "      <td>BrightKite</td>\n",
       "      <td>SW-24H-MFN</td>\n",
       "      <td>40</td>\n",
       "      <td>0.606061</td>\n",
       "      <td>43</td>\n",
       "      <td>0.651515</td>\n",
       "      <td>66</td>\n",
       "    </tr>\n",
       "    <tr>\n",
       "      <th>5</th>\n",
       "      <td>BrightKite</td>\n",
       "      <td>TFN</td>\n",
       "      <td>42</td>\n",
       "      <td>0.636364</td>\n",
       "      <td>45</td>\n",
       "      <td>0.681818</td>\n",
       "      <td>66</td>\n",
       "    </tr>\n",
       "    <tr>\n",
       "      <th>11</th>\n",
       "      <td>Gowalla</td>\n",
       "      <td>CB-1D-MFN</td>\n",
       "      <td>128</td>\n",
       "      <td>0.901408</td>\n",
       "      <td>131</td>\n",
       "      <td>0.922535</td>\n",
       "      <td>142</td>\n",
       "    </tr>\n",
       "    <tr>\n",
       "      <th>10</th>\n",
       "      <td>Gowalla</td>\n",
       "      <td>CB-1H-MFN</td>\n",
       "      <td>123</td>\n",
       "      <td>0.866197</td>\n",
       "      <td>127</td>\n",
       "      <td>0.894366</td>\n",
       "      <td>142</td>\n",
       "    </tr>\n",
       "    <tr>\n",
       "      <th>8</th>\n",
       "      <td>Gowalla</td>\n",
       "      <td>SW-24H-MFN</td>\n",
       "      <td>120</td>\n",
       "      <td>0.845070</td>\n",
       "      <td>124</td>\n",
       "      <td>0.873239</td>\n",
       "      <td>142</td>\n",
       "    </tr>\n",
       "    <tr>\n",
       "      <th>9</th>\n",
       "      <td>Gowalla</td>\n",
       "      <td>TFN</td>\n",
       "      <td>115</td>\n",
       "      <td>0.809859</td>\n",
       "      <td>120</td>\n",
       "      <td>0.845070</td>\n",
       "      <td>142</td>\n",
       "    </tr>\n",
       "    <tr>\n",
       "      <th>3</th>\n",
       "      <td>Weeplace</td>\n",
       "      <td>CB-1D-MFN</td>\n",
       "      <td>234</td>\n",
       "      <td>0.821053</td>\n",
       "      <td>243</td>\n",
       "      <td>0.852632</td>\n",
       "      <td>285</td>\n",
       "    </tr>\n",
       "    <tr>\n",
       "      <th>2</th>\n",
       "      <td>Weeplace</td>\n",
       "      <td>CB-1H-MFN</td>\n",
       "      <td>229</td>\n",
       "      <td>0.803509</td>\n",
       "      <td>236</td>\n",
       "      <td>0.828070</td>\n",
       "      <td>285</td>\n",
       "    </tr>\n",
       "    <tr>\n",
       "      <th>0</th>\n",
       "      <td>Weeplace</td>\n",
       "      <td>SW-24H-MFN</td>\n",
       "      <td>234</td>\n",
       "      <td>0.821053</td>\n",
       "      <td>239</td>\n",
       "      <td>0.838596</td>\n",
       "      <td>285</td>\n",
       "    </tr>\n",
       "    <tr>\n",
       "      <th>1</th>\n",
       "      <td>Weeplace</td>\n",
       "      <td>TFN</td>\n",
       "      <td>250</td>\n",
       "      <td>0.877193</td>\n",
       "      <td>258</td>\n",
       "      <td>0.905263</td>\n",
       "      <td>285</td>\n",
       "    </tr>\n",
       "  </tbody>\n",
       "</table>\n",
       "</div>"
      ],
      "text/plain": [
       "       Dataset          MF  SpN       SpP   Kn        Kp  total\n",
       "7   BrightKite   CB-1D-MFN   38  0.575758   40  0.606061     66\n",
       "6   BrightKite   CB-1H-MFN   41  0.621212   44  0.666667     66\n",
       "4   BrightKite  SW-24H-MFN   40  0.606061   43  0.651515     66\n",
       "5   BrightKite         TFN   42  0.636364   45  0.681818     66\n",
       "11     Gowalla   CB-1D-MFN  128  0.901408  131  0.922535    142\n",
       "10     Gowalla   CB-1H-MFN  123  0.866197  127  0.894366    142\n",
       "8      Gowalla  SW-24H-MFN  120  0.845070  124  0.873239    142\n",
       "9      Gowalla         TFN  115  0.809859  120  0.845070    142\n",
       "3     Weeplace   CB-1D-MFN  234  0.821053  243  0.852632    285\n",
       "2     Weeplace   CB-1H-MFN  229  0.803509  236  0.828070    285\n",
       "0     Weeplace  SW-24H-MFN  234  0.821053  239  0.838596    285\n",
       "1     Weeplace         TFN  250  0.877193  258  0.905263    285"
      ]
     },
     "execution_count": 76,
     "metadata": {},
     "output_type": "execute_result"
    }
   ],
   "source": [
    "pd.DataFrame(result, columns = ['Dataset', \n",
    "                                'MF',\n",
    "                               'SpN',\n",
    "                               'SpP',\n",
    "                               'Kn',\n",
    "                                'Kp',\n",
    "                                'total']).sort_values(['Dataset', 'MF'])"
   ]
  },
  {
   "cell_type": "code",
   "execution_count": 23,
   "metadata": {
    "ExecuteTime": {
     "end_time": "2020-09-24T16:32:25.166213Z",
     "start_time": "2020-09-24T16:32:25.113568Z"
    }
   },
   "outputs": [
    {
     "data": {
      "text/plain": [
       "['SW-24H-MFN', 'TFN', 'CB-1H-MFN', 'CB-1D-MFN']"
      ]
     },
     "execution_count": 23,
     "metadata": {},
     "output_type": "execute_result"
    }
   ],
   "source": [
    "category"
   ]
  },
  {
   "cell_type": "code",
   "execution_count": 77,
   "metadata": {
    "ExecuteTime": {
     "end_time": "2020-09-29T14:46:49.549098Z",
     "start_time": "2020-09-29T14:46:49.411256Z"
    },
    "scrolled": true
   },
   "outputs": [],
   "source": [
    "final = []\n",
    "for ds in ds_list:\n",
    "    df_temp = df_all_used[df_all_used['dataset'] == ds]\n",
    "\n",
    "    df_SW = df_temp[df_temp['category'] == category[0]]['Pi_alters_ratio']\n",
    "    df_1D = df_temp[df_temp['category'] == category[1]]['Pi_alters_ratio']\n",
    "    df_1H = df_temp[df_temp['category'] == category[2]]['Pi_alters_ratio']\n",
    "    df_T = df_temp[df_temp['category'] == category[3]]['Pi_alters_ratio']\n",
    "\n",
    "                               \n",
    "    stats_S_D, p_S_D = wilcoxon(df_SW, df_1D)\n",
    "    stats_S_H, p_S_H = wilcoxon(df_SW, df_1H)\n",
    "    stats_S_T, p_S_T = wilcoxon(df_SW, df_T)\n",
    "    \n",
    "    stats_D_H, p_D_H = wilcoxon(df_1D, df_1H)\n",
    "    stats_D_T, p_D_T = wilcoxon(df_1D, df_T)\n",
    "    \n",
    "    stats_H_T, p_H_T = wilcoxon(df_1H, df_T)\n",
    "   \n",
    "\n",
    "    df_stats = pd.DataFrame([[stats_S_D, p_S_D ], \n",
    "                             [stats_S_H, p_S_H],\n",
    "                             [stats_S_T, p_S_T], \n",
    "                             [stats_D_H, p_D_H],\n",
    "                            [stats_D_T, p_D_T], \n",
    "                             [stats_H_T, p_H_T]\n",
    "                            ])\n",
    "    df_stats['dataset'] = ds\n",
    "    final.append(df_stats)\n",
    "final = pd.concat(final)"
   ]
  },
  {
   "cell_type": "code",
   "execution_count": 78,
   "metadata": {
    "ExecuteTime": {
     "end_time": "2020-09-29T14:46:52.114856Z",
     "start_time": "2020-09-29T14:46:52.056569Z"
    }
   },
   "outputs": [
    {
     "data": {
      "text/html": [
       "<div>\n",
       "<style scoped>\n",
       "    .dataframe tbody tr th:only-of-type {\n",
       "        vertical-align: middle;\n",
       "    }\n",
       "\n",
       "    .dataframe tbody tr th {\n",
       "        vertical-align: top;\n",
       "    }\n",
       "\n",
       "    .dataframe thead th {\n",
       "        text-align: right;\n",
       "    }\n",
       "</style>\n",
       "<table border=\"1\" class=\"dataframe\">\n",
       "  <thead>\n",
       "    <tr style=\"text-align: right;\">\n",
       "      <th></th>\n",
       "      <th>0</th>\n",
       "      <th>1</th>\n",
       "      <th>dataset</th>\n",
       "    </tr>\n",
       "  </thead>\n",
       "  <tbody>\n",
       "    <tr>\n",
       "      <th>0</th>\n",
       "      <td>1329611.0</td>\n",
       "      <td>9.310916e-13</td>\n",
       "      <td>Weeplace</td>\n",
       "    </tr>\n",
       "    <tr>\n",
       "      <th>1</th>\n",
       "      <td>1319038.0</td>\n",
       "      <td>2.422502e-10</td>\n",
       "      <td>Weeplace</td>\n",
       "    </tr>\n",
       "    <tr>\n",
       "      <th>2</th>\n",
       "      <td>662844.0</td>\n",
       "      <td>2.155650e-66</td>\n",
       "      <td>Weeplace</td>\n",
       "    </tr>\n",
       "    <tr>\n",
       "      <th>3</th>\n",
       "      <td>861454.0</td>\n",
       "      <td>1.135243e-04</td>\n",
       "      <td>Weeplace</td>\n",
       "    </tr>\n",
       "    <tr>\n",
       "      <th>4</th>\n",
       "      <td>1344301.0</td>\n",
       "      <td>2.451203e-04</td>\n",
       "      <td>Weeplace</td>\n",
       "    </tr>\n",
       "    <tr>\n",
       "      <th>5</th>\n",
       "      <td>1135244.0</td>\n",
       "      <td>4.602729e-16</td>\n",
       "      <td>Weeplace</td>\n",
       "    </tr>\n",
       "    <tr>\n",
       "      <th>0</th>\n",
       "      <td>82013.0</td>\n",
       "      <td>1.748152e-03</td>\n",
       "      <td>BrightKite</td>\n",
       "    </tr>\n",
       "    <tr>\n",
       "      <th>1</th>\n",
       "      <td>71140.0</td>\n",
       "      <td>4.685039e-04</td>\n",
       "      <td>BrightKite</td>\n",
       "    </tr>\n",
       "    <tr>\n",
       "      <th>2</th>\n",
       "      <td>51386.0</td>\n",
       "      <td>9.250250e-16</td>\n",
       "      <td>BrightKite</td>\n",
       "    </tr>\n",
       "    <tr>\n",
       "      <th>3</th>\n",
       "      <td>37750.0</td>\n",
       "      <td>7.792049e-17</td>\n",
       "      <td>BrightKite</td>\n",
       "    </tr>\n",
       "    <tr>\n",
       "      <th>4</th>\n",
       "      <td>64351.0</td>\n",
       "      <td>4.032365e-13</td>\n",
       "      <td>BrightKite</td>\n",
       "    </tr>\n",
       "    <tr>\n",
       "      <th>5</th>\n",
       "      <td>72712.0</td>\n",
       "      <td>4.812975e-04</td>\n",
       "      <td>BrightKite</td>\n",
       "    </tr>\n",
       "    <tr>\n",
       "      <th>0</th>\n",
       "      <td>367262.0</td>\n",
       "      <td>1.234650e-02</td>\n",
       "      <td>Gowalla</td>\n",
       "    </tr>\n",
       "    <tr>\n",
       "      <th>1</th>\n",
       "      <td>306657.0</td>\n",
       "      <td>3.067719e-11</td>\n",
       "      <td>Gowalla</td>\n",
       "    </tr>\n",
       "    <tr>\n",
       "      <th>2</th>\n",
       "      <td>204885.0</td>\n",
       "      <td>1.406032e-13</td>\n",
       "      <td>Gowalla</td>\n",
       "    </tr>\n",
       "    <tr>\n",
       "      <th>3</th>\n",
       "      <td>190302.0</td>\n",
       "      <td>1.412329e-03</td>\n",
       "      <td>Gowalla</td>\n",
       "    </tr>\n",
       "    <tr>\n",
       "      <th>4</th>\n",
       "      <td>303811.0</td>\n",
       "      <td>7.226789e-09</td>\n",
       "      <td>Gowalla</td>\n",
       "    </tr>\n",
       "    <tr>\n",
       "      <th>5</th>\n",
       "      <td>211001.0</td>\n",
       "      <td>6.028795e-38</td>\n",
       "      <td>Gowalla</td>\n",
       "    </tr>\n",
       "  </tbody>\n",
       "</table>\n",
       "</div>"
      ],
      "text/plain": [
       "           0             1     dataset\n",
       "0  1329611.0  9.310916e-13    Weeplace\n",
       "1  1319038.0  2.422502e-10    Weeplace\n",
       "2   662844.0  2.155650e-66    Weeplace\n",
       "3   861454.0  1.135243e-04    Weeplace\n",
       "4  1344301.0  2.451203e-04    Weeplace\n",
       "5  1135244.0  4.602729e-16    Weeplace\n",
       "0    82013.0  1.748152e-03  BrightKite\n",
       "1    71140.0  4.685039e-04  BrightKite\n",
       "2    51386.0  9.250250e-16  BrightKite\n",
       "3    37750.0  7.792049e-17  BrightKite\n",
       "4    64351.0  4.032365e-13  BrightKite\n",
       "5    72712.0  4.812975e-04  BrightKite\n",
       "0   367262.0  1.234650e-02     Gowalla\n",
       "1   306657.0  3.067719e-11     Gowalla\n",
       "2   204885.0  1.406032e-13     Gowalla\n",
       "3   190302.0  1.412329e-03     Gowalla\n",
       "4   303811.0  7.226789e-09     Gowalla\n",
       "5   211001.0  6.028795e-38     Gowalla"
      ]
     },
     "execution_count": 78,
     "metadata": {},
     "output_type": "execute_result"
    }
   ],
   "source": [
    "final"
   ]
  },
  {
   "cell_type": "code",
   "execution_count": 57,
   "metadata": {
    "ExecuteTime": {
     "end_time": "2020-09-18T21:53:00.297176Z",
     "start_time": "2020-09-18T21:53:00.254521Z"
    }
   },
   "outputs": [],
   "source": [
    "# CI computation"
   ]
  },
  {
   "cell_type": "code",
   "execution_count": 79,
   "metadata": {
    "ExecuteTime": {
     "end_time": "2020-09-29T14:53:03.750502Z",
     "start_time": "2020-09-29T14:51:57.070378Z"
    }
   },
   "outputs": [],
   "source": [
    "lower = df_all_used.groupby(['Included', 'category',\n",
    "                         'dataset'])['Pi_alters_ratio'].apply(lambda x: ci(sns.algorithms.bootstrap(x), \n",
    "                                                                           which=95)[0]).reset_index()\n",
    "upper = df_all_used.groupby(['Included', 'category',\n",
    "                         'dataset'])['Pi_alters_ratio'].apply(lambda x: ci(sns.algorithms.bootstrap(x), \n",
    "                                                                           which=95)[1]).reset_index()\n",
    "mid = df_all_used.groupby(['Included', 'category',\n",
    "                           'dataset'])['Pi_alters_ratio'].mean().reset_index()"
   ]
  },
  {
   "cell_type": "code",
   "execution_count": 80,
   "metadata": {
    "ExecuteTime": {
     "end_time": "2020-09-29T14:53:18.344608Z",
     "start_time": "2020-09-29T14:53:18.268741Z"
    }
   },
   "outputs": [],
   "source": [
    "all_final = reduce(lambda df1,df2: pd.merge(df1,df2,on=['Included', 'category', 'dataset']), [mid, lower, upper])\n",
    "all_final.columns = ['included', 'category', 'dataset', 'mean', 'lower', 'upper']"
   ]
  },
  {
   "cell_type": "code",
   "execution_count": 81,
   "metadata": {
    "ExecuteTime": {
     "end_time": "2020-09-29T14:53:57.034541Z",
     "start_time": "2020-09-29T14:53:56.985097Z"
    }
   },
   "outputs": [],
   "source": [
    "# all_final.to_csv('final/150_all_category_CP.csv', index=False)\n",
    "# all_final.to_csv('final/150_all_category_MeetupNp.csv', index=False)\n",
    "all_final.to_csv('final/FreqNp_Rank/150_all_category_FreqNp.csv', index=False)"
   ]
  },
  {
   "cell_type": "markdown",
   "metadata": {},
   "source": [
    "# All these MFNs and TFN (Global Jaccard Similarity)"
   ]
  },
  {
   "cell_type": "code",
   "execution_count": 82,
   "metadata": {
    "ExecuteTime": {
     "end_time": "2020-09-29T14:54:01.860598Z",
     "start_time": "2020-09-29T14:54:01.819600Z"
    }
   },
   "outputs": [],
   "source": [
    "import pickle\n",
    "import matplotlib.pyplot as plt"
   ]
  },
  {
   "cell_type": "code",
   "execution_count": 83,
   "metadata": {
    "ExecuteTime": {
     "end_time": "2020-09-29T14:54:31.174483Z",
     "start_time": "2020-09-29T14:54:31.139878Z"
    }
   },
   "outputs": [],
   "source": [
    "# pickle_in = open(\"final/wp-150/wp_VIP_similarity_CP.pickle\", \"rb\")\n",
    "# wp_vip_similarity = pickle.load(pickle_in)\n",
    "# pickle_in.close()\n",
    "\n",
    "# pickle_in = open(\"final/bk-150/bk_VIP_similarity_CP.pickle\", \"rb\")\n",
    "# bk_vip_similarity = pickle.load(pickle_in)\n",
    "# pickle_in.close()\n",
    "\n",
    "# pickle_in = open(\"final/gws-150/gws_VIP_similarity_CP.pickle\", \"rb\")\n",
    "# gws_vip_similarity = pickle.load(pickle_in)\n",
    "# pickle_in.close()\n",
    "\n",
    "# pickle_in = open(\"final/wp-150/wp_VIP_similarity_MeetupNp.pickle\", \"rb\")\n",
    "# wp_vip_similarity = pickle.load(pickle_in)\n",
    "# pickle_in.close()\n",
    "\n",
    "# pickle_in = open(\"final/bk-150/bk_VIP_similarity_MeetupNp.pickle\", \"rb\")\n",
    "# bk_vip_similarity = pickle.load(pickle_in)\n",
    "# pickle_in.close()\n",
    "\n",
    "# pickle_in = open(\"final/gws-150/gws_VIP_similarity_MeetupNp.pickle\", \"rb\")\n",
    "# gws_vip_similarity = pickle.load(pickle_in)\n",
    "# pickle_in.close()\n",
    "\n",
    "pickle_in = open(\"final/wp-150/wp_VIP_similarity_FreqNp.pickle\", \"rb\")\n",
    "wp_vip_similarity = pickle.load(pickle_in)\n",
    "pickle_in.close()\n",
    "\n",
    "pickle_in = open(\"final/bk-150/bk_VIP_similarity_FreqNp.pickle\", \"rb\")\n",
    "bk_vip_similarity = pickle.load(pickle_in)\n",
    "pickle_in.close()\n",
    "\n",
    "pickle_in = open(\"final/gws-150/gws_VIP_similarity_FreqNp.pickle\", \"rb\")\n",
    "gws_vip_similarity = pickle.load(pickle_in)\n",
    "pickle_in.close()"
   ]
  },
  {
   "cell_type": "code",
   "execution_count": 84,
   "metadata": {
    "ExecuteTime": {
     "end_time": "2020-09-29T14:54:37.028783Z",
     "start_time": "2020-09-29T14:54:36.984222Z"
    }
   },
   "outputs": [],
   "source": [
    "df = [bk_vip_similarity, gws_vip_similarity, wp_vip_similarity]"
   ]
  },
  {
   "cell_type": "code",
   "execution_count": 85,
   "metadata": {
    "ExecuteTime": {
     "end_time": "2020-09-29T14:54:40.783513Z",
     "start_time": "2020-09-29T14:54:40.735844Z"
    }
   },
   "outputs": [],
   "source": [
    "datasets = ['BrightKite', 'Gowalla', 'Weeplace']"
   ]
  },
  {
   "cell_type": "code",
   "execution_count": 86,
   "metadata": {
    "ExecuteTime": {
     "end_time": "2020-09-29T14:54:55.760021Z",
     "start_time": "2020-09-29T14:54:54.107870Z"
    }
   },
   "outputs": [
    {
     "name": "stderr",
     "output_type": "stream",
     "text": [
      "/opt/conda/lib/python3.6/site-packages/ipykernel_launcher.py:12: UserWarning: This figure includes Axes that are not compatible with tight_layout, so results might be incorrect.\n",
      "  if sys.path[0] == '':\n"
     ]
    },
    {
     "data": {
      "image/png": "[encoded data removed]",
      "text/plain": [
       "<Figure size 864x288 with 4 Axes>"
      ]
     },
     "metadata": {
      "needs_background": "light"
     },
     "output_type": "display_data"
    }
   ],
   "source": [
    "fig, axn = plt.subplots(1, 3, figsize=(12, 4), sharey=True)\n",
    "cbar_ax = fig.add_axes([.91, .3, .03, .4])\n",
    "for i, ax in enumerate(axn.flat):\n",
    "    sns.heatmap(df[i] , cmap=\"YlGnBu\", ax=ax, linewidths=.5, annot=True,\n",
    "                cbar=i == 0,\n",
    "                vmin=0, vmax=1,\n",
    "                cbar_ax=None if i else cbar_ax)\n",
    "    ax.xaxis.set_label_position('bottom')\n",
    "    ax.set_title(datasets[i], pad=15)\n",
    "    ax.set_xticklabels(ax.get_xticklabels(), rotation=45, ha='right')\n",
    "    \n",
    "fig.tight_layout(rect=[0, 0, .9, 1])\n",
    "plt.savefig('fig/VIP_similarity_FreqNp.pdf')"
   ]
  },
  {
   "cell_type": "markdown",
   "metadata": {},
   "source": [
    "# VIP LR"
   ]
  },
  {
   "cell_type": "code",
   "execution_count": 105,
   "metadata": {
    "ExecuteTime": {
     "end_time": "2020-10-01T00:49:14.115640Z",
     "start_time": "2020-10-01T00:49:13.983391Z"
    }
   },
   "outputs": [],
   "source": [
    "# wp_vip_LR =  pd.read_csv('final/wp-150/wp_VIP_LR_CP.csv')\n",
    "# wp_vip_LR['dataset'] = 'Weeplace'\n",
    "\n",
    "# bk_vip_LR = pd.read_csv('final/bk-150/bk_VIP_LR_CP.csv')\n",
    "# bk_vip_LR['dataset'] = 'BrightKite'\n",
    "\n",
    "# gw_vip_LR = pd.read_csv('final/gws-150/gws_VIP_LR_CP.csv')\n",
    "# gw_vip_LR['dataset'] = 'Gowalla'\n",
    "\n",
    "# wp_vip_LR =  pd.read_csv('final/wp-150/wp_VIP_LR_MeetupNp.csv')\n",
    "# wp_vip_LR['dataset'] = 'Weeplace'\n",
    "\n",
    "# bk_vip_LR = pd.read_csv('final/bk-150/bk_VIP_LR_MeetupNp.csv')\n",
    "# bk_vip_LR['dataset'] = 'BrightKite'\n",
    "\n",
    "# gw_vip_LR = pd.read_csv('final/gws-150/gws_VIP_LR_MeetupNp.csv')\n",
    "# gw_vip_LR['dataset'] = 'Gowalla'\n",
    "\n",
    "# wp_vip_LR =  pd.read_csv('final/wp-150/wp_VIP_LR_FreqNp.csv')\n",
    "# wp_vip_LR['dataset'] = 'Weeplace'\n",
    "\n",
    "# bk_vip_LR = pd.read_csv('final/bk-150/bk_VIP_LR_FreqNp.csv')\n",
    "# bk_vip_LR['dataset'] = 'BrightKite'\n",
    "\n",
    "# gw_vip_LR = pd.read_csv('final/gws-150/gws_VIP_LR_FreqNp.csv')\n",
    "# gw_vip_LR['dataset'] = 'Gowalla'\n",
    "\n",
    "wp_vip_LR =  pd.read_csv('final/wp-150/wp_VIP_cumulative_LR_MeetupNp.csv')\n",
    "wp_vip_LR['dataset'] = 'Weeplace'\n",
    "\n",
    "bk_vip_LR = pd.read_csv('final/bk-150/bk_VIP_cumulative_LR_MeetupNp.csv')\n",
    "bk_vip_LR['dataset'] = 'BrightKite'\n",
    "\n",
    "gw_vip_LR = pd.read_csv('final/gws-150/gws_VIP_cumulative_LR_MeetupNp.csv')\n",
    "gw_vip_LR['dataset'] = 'Gowalla'\n",
    "\n",
    "# wp_vip_LR =  pd.read_csv('final/wp-150/wp_VIP_cumulative_LR_FreqNp.csv')\n",
    "# wp_vip_LR['dataset'] = 'Weeplace'\n",
    "\n",
    "# bk_vip_LR = pd.read_csv('final/bk-150/bk_VIP_cumulative_LR_FreqNp.csv')\n",
    "# bk_vip_LR['dataset'] = 'BrightKite'\n",
    "\n",
    "# gw_vip_LR = pd.read_csv('final/gws-150/gws_VIP_cumulative_LR_FreqNp.csv')\n",
    "# gw_vip_LR['dataset'] = 'Gowalla'"
   ]
  },
  {
   "cell_type": "code",
   "execution_count": 106,
   "metadata": {
    "ExecuteTime": {
     "end_time": "2020-10-01T00:49:16.707533Z",
     "start_time": "2020-10-01T00:49:16.646732Z"
    }
   },
   "outputs": [],
   "source": [
    "vip_LR = pd.concat([wp_vip_LR, bk_vip_LR, gw_vip_LR])"
   ]
  },
  {
   "cell_type": "code",
   "execution_count": 107,
   "metadata": {
    "ExecuteTime": {
     "end_time": "2020-10-01T00:50:13.897874Z",
     "start_time": "2020-10-01T00:49:19.821589Z"
    }
   },
   "outputs": [],
   "source": [
    "vip_lower = vip_LR.groupby(['Included', 'category',\n",
    "                         'dataset'])['USLR'].apply(lambda x: ci(sns.algorithms.bootstrap(x), \n",
    "                                                                           which=95)[0]).reset_index()\n",
    "vip_upper = vip_LR.groupby(['Included', 'category',\n",
    "                         'dataset'])['USLR'].apply(lambda x: ci(sns.algorithms.bootstrap(x), \n",
    "                                                                           which=95)[1]).reset_index()\n",
    "vip_mid = vip_LR.groupby(['Included', 'category', 'dataset'])['USLR'].mean().reset_index()\n",
    "vip_USLR = reduce(lambda df1,df2: pd.merge(df1,df2,on=['Included', 'category', 'dataset']), [vip_mid, vip_lower, vip_upper])\n",
    "vip_USLR.columns = ['included', 'category', 'dataset', 'mean', 'lower', 'upper']\n",
    "vip_USLR['LR'] = 'USLR'"
   ]
  },
  {
   "cell_type": "code",
   "execution_count": 108,
   "metadata": {
    "ExecuteTime": {
     "end_time": "2020-10-01T00:51:14.849656Z",
     "start_time": "2020-10-01T00:50:18.656701Z"
    }
   },
   "outputs": [],
   "source": [
    "vip_lower = vip_LR.groupby(['Included', 'category',\n",
    "                         'dataset'])['SLR'].apply(lambda x: ci(sns.algorithms.bootstrap(x), \n",
    "                                                                           which=95)[0]).reset_index()\n",
    "vip_upper = vip_LR.groupby(['Included', 'category',\n",
    "                         'dataset'])['SLR'].apply(lambda x: ci(sns.algorithms.bootstrap(x), \n",
    "                                                                           which=95)[1]).reset_index()\n",
    "vip_mid = vip_LR.groupby(['Included', 'category', 'dataset'])['SLR'].mean().reset_index()\n",
    "\n",
    "vip_SLR = reduce(lambda df1,df2: pd.merge(df1,df2,on=['Included', 'category', 'dataset']), [vip_mid, vip_lower, vip_upper])\n",
    "vip_SLR.columns = ['included', 'category', 'dataset', 'mean', 'lower', 'upper']\n",
    "vip_SLR['LR'] = 'SLR'"
   ]
  },
  {
   "cell_type": "code",
   "execution_count": 109,
   "metadata": {
    "ExecuteTime": {
     "end_time": "2020-10-01T00:51:18.158055Z",
     "start_time": "2020-10-01T00:51:18.124850Z"
    }
   },
   "outputs": [],
   "source": [
    "vip_LR_final = pd.concat([vip_USLR, vip_SLR])"
   ]
  },
  {
   "cell_type": "code",
   "execution_count": 110,
   "metadata": {
    "ExecuteTime": {
     "end_time": "2020-10-01T00:51:21.248475Z",
     "start_time": "2020-10-01T00:51:21.201082Z"
    }
   },
   "outputs": [],
   "source": [
    "# vip_LR_final.to_csv('final/150_all_LR_CP.csv', index=False)\n",
    "# vip_LR_final.to_csv('final/150_all_LR_MeetupNp.csv', index=False)\n",
    "# vip_LR_final.to_csv('final/150_all_LR_FreqNp.csv', index=False)\n",
    "\n",
    "vip_LR_final.to_csv('final/150_all_cumulative_LR_MeetupNp.csv', index=False)\n",
    "\n",
    "# vip_LR_final.to_csv('final/150_all_cumulative_LR_FreqNp.csv', index=False)"
   ]
  },
  {
   "cell_type": "markdown",
   "metadata": {},
   "source": [
    "# H-MFN vs TFN Cross validation"
   ]
  },
  {
   "cell_type": "code",
   "execution_count": 99,
   "metadata": {
    "ExecuteTime": {
     "end_time": "2020-08-24T21:26:43.846581Z",
     "start_time": "2020-08-24T21:26:41.687359Z"
    }
   },
   "outputs": [],
   "source": [
    "wp_vip_cv =  pd.read_csv('final/wp-150-cv/wp_join_vip10_CV.csv')\n",
    "wp_vip_cv['dataset'] = 'Weeplace'\n",
    "\n",
    "bk_vip_cv = pd.read_csv('final/bk-150-cv/bk_join_vip10_CV.csv')\n",
    "bk_vip_cv['dataset'] = 'BrightKite'\n",
    "\n",
    "gw_vip_cv = pd.read_csv('final/gws-150-cv/gws_join_vip10_CV.csv')\n",
    "gw_vip_cv['dataset'] = 'Gowalla'"
   ]
  },
  {
   "cell_type": "code",
   "execution_count": 100,
   "metadata": {
    "ExecuteTime": {
     "end_time": "2020-08-24T21:27:02.638645Z",
     "start_time": "2020-08-24T21:27:01.834048Z"
    }
   },
   "outputs": [],
   "source": [
    "vip_CV = pd.concat([wp_vip_cv, bk_vip_cv, gw_vip_cv])"
   ]
  },
  {
   "cell_type": "code",
   "execution_count": 101,
   "metadata": {
    "ExecuteTime": {
     "end_time": "2020-08-24T21:27:06.778548Z",
     "start_time": "2020-08-24T21:27:06.719312Z"
    }
   },
   "outputs": [
    {
     "data": {
      "text/html": [
       "<div>\n",
       "<style scoped>\n",
       "    .dataframe tbody tr th:only-of-type {\n",
       "        vertical-align: middle;\n",
       "    }\n",
       "\n",
       "    .dataframe tbody tr th {\n",
       "        vertical-align: top;\n",
       "    }\n",
       "\n",
       "    .dataframe thead th {\n",
       "        text-align: right;\n",
       "    }\n",
       "</style>\n",
       "<table border=\"1\" class=\"dataframe\">\n",
       "  <thead>\n",
       "    <tr style=\"text-align: right;\">\n",
       "      <th></th>\n",
       "      <th>Included</th>\n",
       "      <th>alters_names</th>\n",
       "      <th>CCE_alters</th>\n",
       "      <th>CCE_ego_alters</th>\n",
       "      <th>Pi_alters</th>\n",
       "      <th>Pi_ego_alters</th>\n",
       "      <th>Pi_alters_ratio</th>\n",
       "      <th>Pi_ego_alters_ratio</th>\n",
       "      <th>userid</th>\n",
       "      <th>category</th>\n",
       "      <th>dataset</th>\n",
       "    </tr>\n",
       "  </thead>\n",
       "  <tbody>\n",
       "    <tr>\n",
       "      <th>0</th>\n",
       "      <td>1</td>\n",
       "      <td>'don-chwojko'</td>\n",
       "      <td>8.171960</td>\n",
       "      <td>4.554808</td>\n",
       "      <td>0.036762</td>\n",
       "      <td>0.567411</td>\n",
       "      <td>0.065429</td>\n",
       "      <td>1.009866</td>\n",
       "      <td>suzanne-marlatt</td>\n",
       "      <td>CB-1H-MFN</td>\n",
       "      <td>Weeplace</td>\n",
       "    </tr>\n",
       "    <tr>\n",
       "      <th>1</th>\n",
       "      <td>1</td>\n",
       "      <td>'katey-mcgarr'</td>\n",
       "      <td>6.124336</td>\n",
       "      <td>4.478870</td>\n",
       "      <td>0.373008</td>\n",
       "      <td>0.576175</td>\n",
       "      <td>0.663872</td>\n",
       "      <td>1.025463</td>\n",
       "      <td>suzanne-marlatt</td>\n",
       "      <td>CB-1H-MFN</td>\n",
       "      <td>Weeplace</td>\n",
       "    </tr>\n",
       "    <tr>\n",
       "      <th>2</th>\n",
       "      <td>1</td>\n",
       "      <td>'richlocation'</td>\n",
       "      <td>8.007438</td>\n",
       "      <td>4.556638</td>\n",
       "      <td>0.076338</td>\n",
       "      <td>0.567199</td>\n",
       "      <td>0.135865</td>\n",
       "      <td>1.009489</td>\n",
       "      <td>suzanne-marlatt</td>\n",
       "      <td>CB-1H-MFN</td>\n",
       "      <td>Weeplace</td>\n",
       "    </tr>\n",
       "    <tr>\n",
       "      <th>3</th>\n",
       "      <td>1</td>\n",
       "      <td>'pamela-vaughter'</td>\n",
       "      <td>8.004760</td>\n",
       "      <td>4.544118</td>\n",
       "      <td>0.076913</td>\n",
       "      <td>0.568648</td>\n",
       "      <td>0.136889</td>\n",
       "      <td>1.012067</td>\n",
       "      <td>suzanne-marlatt</td>\n",
       "      <td>CB-1H-MFN</td>\n",
       "      <td>Weeplace</td>\n",
       "    </tr>\n",
       "    <tr>\n",
       "      <th>4</th>\n",
       "      <td>1</td>\n",
       "      <td>'kerry-sugrue'</td>\n",
       "      <td>7.950789</td>\n",
       "      <td>4.554513</td>\n",
       "      <td>0.088221</td>\n",
       "      <td>0.567446</td>\n",
       "      <td>0.157014</td>\n",
       "      <td>1.009927</td>\n",
       "      <td>suzanne-marlatt</td>\n",
       "      <td>CB-1H-MFN</td>\n",
       "      <td>Weeplace</td>\n",
       "    </tr>\n",
       "    <tr>\n",
       "      <th>...</th>\n",
       "      <td>...</td>\n",
       "      <td>...</td>\n",
       "      <td>...</td>\n",
       "      <td>...</td>\n",
       "      <td>...</td>\n",
       "      <td>...</td>\n",
       "      <td>...</td>\n",
       "      <td>...</td>\n",
       "      <td>...</td>\n",
       "      <td>...</td>\n",
       "      <td>...</td>\n",
       "    </tr>\n",
       "    <tr>\n",
       "      <th>296665</th>\n",
       "      <td>9</td>\n",
       "      <td>'10066','10950','10117','54963','25028','25024...</td>\n",
       "      <td>6.839218</td>\n",
       "      <td>6.708959</td>\n",
       "      <td>0.426669</td>\n",
       "      <td>0.439928</td>\n",
       "      <td>1.052095</td>\n",
       "      <td>1.084788</td>\n",
       "      <td>10971</td>\n",
       "      <td>TFN</td>\n",
       "      <td>Gowalla</td>\n",
       "    </tr>\n",
       "    <tr>\n",
       "      <th>296666</th>\n",
       "      <td>9</td>\n",
       "      <td>'10066','10950','10869','54963','25028','25024...</td>\n",
       "      <td>6.766509</td>\n",
       "      <td>6.675511</td>\n",
       "      <td>0.434083</td>\n",
       "      <td>0.443315</td>\n",
       "      <td>1.070376</td>\n",
       "      <td>1.093142</td>\n",
       "      <td>10971</td>\n",
       "      <td>TFN</td>\n",
       "      <td>Gowalla</td>\n",
       "    </tr>\n",
       "    <tr>\n",
       "      <th>296667</th>\n",
       "      <td>9</td>\n",
       "      <td>'10066','10117','10869','54963','25028','25024...</td>\n",
       "      <td>6.825001</td>\n",
       "      <td>6.687089</td>\n",
       "      <td>0.428121</td>\n",
       "      <td>0.442143</td>\n",
       "      <td>1.055676</td>\n",
       "      <td>1.090252</td>\n",
       "      <td>10971</td>\n",
       "      <td>TFN</td>\n",
       "      <td>Gowalla</td>\n",
       "    </tr>\n",
       "    <tr>\n",
       "      <th>296668</th>\n",
       "      <td>9</td>\n",
       "      <td>'10950','10117','10869','54963','25028','25024...</td>\n",
       "      <td>6.886504</td>\n",
       "      <td>6.706455</td>\n",
       "      <td>0.421830</td>\n",
       "      <td>0.440181</td>\n",
       "      <td>1.040163</td>\n",
       "      <td>1.085415</td>\n",
       "      <td>10971</td>\n",
       "      <td>TFN</td>\n",
       "      <td>Gowalla</td>\n",
       "    </tr>\n",
       "    <tr>\n",
       "      <th>296669</th>\n",
       "      <td>10</td>\n",
       "      <td>'10066','10950','10117','10869','54963','25028...</td>\n",
       "      <td>6.745694</td>\n",
       "      <td>6.662544</td>\n",
       "      <td>0.436199</td>\n",
       "      <td>0.444627</td>\n",
       "      <td>1.075595</td>\n",
       "      <td>1.096376</td>\n",
       "      <td>10971</td>\n",
       "      <td>TFN</td>\n",
       "      <td>Gowalla</td>\n",
       "    </tr>\n",
       "  </tbody>\n",
       "</table>\n",
       "<p>1023000 rows × 11 columns</p>\n",
       "</div>"
      ],
      "text/plain": [
       "        Included                                       alters_names  \\\n",
       "0              1                                      'don-chwojko'   \n",
       "1              1                                     'katey-mcgarr'   \n",
       "2              1                                     'richlocation'   \n",
       "3              1                                  'pamela-vaughter'   \n",
       "4              1                                     'kerry-sugrue'   \n",
       "...          ...                                                ...   \n",
       "296665         9  '10066','10950','10117','54963','25028','25024...   \n",
       "296666         9  '10066','10950','10869','54963','25028','25024...   \n",
       "296667         9  '10066','10117','10869','54963','25028','25024...   \n",
       "296668         9  '10950','10117','10869','54963','25028','25024...   \n",
       "296669        10  '10066','10950','10117','10869','54963','25028...   \n",
       "\n",
       "        CCE_alters  CCE_ego_alters  Pi_alters  Pi_ego_alters  Pi_alters_ratio  \\\n",
       "0         8.171960        4.554808   0.036762       0.567411         0.065429   \n",
       "1         6.124336        4.478870   0.373008       0.576175         0.663872   \n",
       "2         8.007438        4.556638   0.076338       0.567199         0.135865   \n",
       "3         8.004760        4.544118   0.076913       0.568648         0.136889   \n",
       "4         7.950789        4.554513   0.088221       0.567446         0.157014   \n",
       "...            ...             ...        ...            ...              ...   \n",
       "296665    6.839218        6.708959   0.426669       0.439928         1.052095   \n",
       "296666    6.766509        6.675511   0.434083       0.443315         1.070376   \n",
       "296667    6.825001        6.687089   0.428121       0.442143         1.055676   \n",
       "296668    6.886504        6.706455   0.421830       0.440181         1.040163   \n",
       "296669    6.745694        6.662544   0.436199       0.444627         1.075595   \n",
       "\n",
       "        Pi_ego_alters_ratio           userid   category   dataset  \n",
       "0                  1.009866  suzanne-marlatt  CB-1H-MFN  Weeplace  \n",
       "1                  1.025463  suzanne-marlatt  CB-1H-MFN  Weeplace  \n",
       "2                  1.009489  suzanne-marlatt  CB-1H-MFN  Weeplace  \n",
       "3                  1.012067  suzanne-marlatt  CB-1H-MFN  Weeplace  \n",
       "4                  1.009927  suzanne-marlatt  CB-1H-MFN  Weeplace  \n",
       "...                     ...              ...        ...       ...  \n",
       "296665             1.084788            10971        TFN   Gowalla  \n",
       "296666             1.093142            10971        TFN   Gowalla  \n",
       "296667             1.090252            10971        TFN   Gowalla  \n",
       "296668             1.085415            10971        TFN   Gowalla  \n",
       "296669             1.096376            10971        TFN   Gowalla  \n",
       "\n",
       "[1023000 rows x 11 columns]"
      ]
     },
     "execution_count": 101,
     "metadata": {},
     "output_type": "execute_result"
    }
   ],
   "source": [
    "vip_CV "
   ]
  },
  {
   "cell_type": "code",
   "execution_count": 103,
   "metadata": {
    "ExecuteTime": {
     "end_time": "2020-08-24T21:32:47.018200Z",
     "start_time": "2020-08-24T21:30:43.233585Z"
    }
   },
   "outputs": [],
   "source": [
    "vip_lower = vip_CV.groupby(['Included', 'category',\n",
    "                         'dataset'])['Pi_alters_ratio'].apply(lambda x: ci(sns.algorithms.bootstrap(x), \n",
    "                                                                           which=95)[0]).reset_index()\n",
    "vip_upper = vip_CV.groupby(['Included', 'category',\n",
    "                         'dataset'])['Pi_alters_ratio'].apply(lambda x: ci(sns.algorithms.bootstrap(x), \n",
    "                                                                           which=95)[1]).reset_index()\n",
    "vip_mid = vip_CV.groupby(['Included', 'category', 'dataset'])['Pi_alters_ratio'].mean().reset_index()\n",
    "vip_CV_final = reduce(lambda df1,df2: pd.merge(df1,df2,on=['Included', 'category', 'dataset']), [vip_mid, vip_lower, vip_upper])\n",
    "vip_CV_final.columns = ['included', 'category', 'dataset', 'mean', 'lower', 'upper']"
   ]
  },
  {
   "cell_type": "code",
   "execution_count": 105,
   "metadata": {
    "ExecuteTime": {
     "end_time": "2020-08-24T21:33:49.273225Z",
     "start_time": "2020-08-24T21:33:49.242699Z"
    },
    "scrolled": false
   },
   "outputs": [],
   "source": [
    "vip_CV_final.to_csv('final/150_all_CV.csv', index=False)"
   ]
  },
  {
   "cell_type": "code",
   "execution_count": null,
   "metadata": {},
   "outputs": [],
   "source": []
  }
 ],
 "metadata": {
  "kernelspec": {
   "display_name": "Python 3",
   "language": "python",
   "name": "python3"
  },
  "language_info": {
   "codemirror_mode": {
    "name": "ipython",
    "version": 3
   },
   "file_extension": ".py",
   "mimetype": "text/x-python",
   "name": "python",
   "nbconvert_exporter": "python",
   "pygments_lexer": "ipython3",
   "version": "3.6.10"
  }
 },
 "nbformat": 4,
 "nbformat_minor": 4
}
