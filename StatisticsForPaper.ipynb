{
 "cells": [
  {
   "cell_type": "code",
   "execution_count": 1,
   "metadata": {
    "ExecuteTime": {
     "end_time": "2020-10-06T13:38:45.218291Z",
     "start_time": "2020-10-06T13:38:44.014575Z"
    }
   },
   "outputs": [],
   "source": [
    "import seaborn as sns\n",
    "import visualization as vs\n",
    "import pandas as pd\n",
    "import numpy as np\n",
    "%load_ext autoreload\n",
    "%autoreload 2"
   ]
  },
  {
   "cell_type": "code",
   "execution_count": 2,
   "metadata": {
    "ExecuteTime": {
     "end_time": "2020-10-06T13:38:47.181866Z",
     "start_time": "2020-10-06T13:38:47.146663Z"
    }
   },
   "outputs": [],
   "source": [
    "from scipy import stats\n",
    "from functools import reduce\n",
    "from seaborn.utils import ci"
   ]
  },
  {
   "cell_type": "code",
   "execution_count": 102,
   "metadata": {
    "ExecuteTime": {
     "end_time": "2020-10-07T01:23:55.434750Z",
     "start_time": "2020-10-07T01:23:55.392353Z"
    }
   },
   "outputs": [],
   "source": [
    "from scipy.stats import spearmanr\n",
    "from scipy.stats import kendalltau\n",
    "from scipy.stats import wilcoxon\n",
    "from scipy.stats import mannwhitneyu\n",
    "from scipy.stats import ttest_ind\n",
    "from scipy.stats import ttest_1samp"
   ]
  },
  {
   "cell_type": "markdown",
   "metadata": {},
   "source": [
    "# H-MFN"
   ]
  },
  {
   "cell_type": "code",
   "execution_count": 4,
   "metadata": {
    "ExecuteTime": {
     "end_time": "2020-10-06T13:39:00.674700Z",
     "start_time": "2020-10-06T13:39:00.405348Z"
    }
   },
   "outputs": [],
   "source": [
    "# wp_final = pd.read_csv(\"final/wp-150/wp-H-2-10-CP-MFN.csv\")\n",
    "# bk_final = pd.read_csv(\"final/bk-150/bk-H-2-10-CP-MFN.csv\")\n",
    "# gw_final = pd.read_csv(\"final/gws-150/gws-H-2-10-CP-MFN.csv\")\n",
    "\n",
    "wp_final = pd.read_csv(\"final/wp-150/wp-H-2-10-MeetupNp-MFN.csv\")\n",
    "bk_final = pd.read_csv(\"final/bk-150/bk-H-2-10-MeetupNp-MFN.csv\")\n",
    "gw_final = pd.read_csv(\"final/gws-150/gws-H-2-10-MeetupNp-MFN.csv\")\n",
    "\n",
    "# wp_final = pd.read_csv(\"final/wp-150/wp-H-2-10-FreqNp-MFN.csv\")\n",
    "# bk_final = pd.read_csv(\"final/bk-150/bk-H-2-10-FreqNp-MFN.csv\")\n",
    "# gw_final = pd.read_csv(\"final/gws-150/gws-H-2-10-FreqNp-MFN.csv\")\n",
    "\n",
    "\n",
    "wp_final['dataset'] = \"Weeplace\"\n",
    "bk_final['dataset'] = \"BrightKite\"\n",
    "gw_final['dataset'] =  \"Gowalla\""
   ]
  },
  {
   "cell_type": "code",
   "execution_count": 8,
   "metadata": {
    "ExecuteTime": {
     "end_time": "2020-10-06T13:42:57.731070Z",
     "start_time": "2020-10-06T13:42:57.682633Z"
    }
   },
   "outputs": [],
   "source": [
    "def transform_df(df_H_MFN):\n",
    "    df_H_MFN = df_H_MFN[['Included Rank','userid_y', 'CCE_alters', 'CCE_ego_alters', 'Pi_alters', 'Pi_ego_alters', \n",
    "                                     'LZ_entropy', 'Pi', 'n_meetupers_x', 'n_meetupers_y', 'userid_x', 'dataset']]\n",
    "    df_H_MFN = df_H_MFN.rename({'Included Rank': 'Included', \n",
    "                                'userid_x': 'userid',\n",
    "                                'Pi': 'Pi_ego'}, axis=1)\n",
    "    df_H_MFN['Pi_alters_ratio'] = df_H_MFN['Pi_alters'] / df_H_MFN['Pi_ego'] \n",
    "    df_H_MFN['Pi_ego_alters_ratio'] = df_H_MFN['Pi_ego_alters'] / df_H_MFN['Pi_ego']\n",
    "    \n",
    "    df_H_MFN['CCE_alters_ratio'] = df_H_MFN['CCE_alters'] / df_H_MFN['LZ_entropy'] \n",
    "    df_H_MFN['CCE_ego_alters_ratio'] = df_H_MFN['CCE_ego_alters'] / df_H_MFN['LZ_entropy'] \n",
    "    \n",
    "    return df_H_MFN"
   ]
  },
  {
   "cell_type": "code",
   "execution_count": 9,
   "metadata": {
    "ExecuteTime": {
     "end_time": "2020-10-06T13:43:01.478423Z",
     "start_time": "2020-10-06T13:43:01.382148Z"
    }
   },
   "outputs": [],
   "source": [
    "df_final = transform_df(pd.concat([wp_final, bk_final, gw_final]))"
   ]
  },
  {
   "cell_type": "code",
   "execution_count": 10,
   "metadata": {
    "ExecuteTime": {
     "end_time": "2020-10-06T13:43:04.879052Z",
     "start_time": "2020-10-06T13:43:04.829180Z"
    }
   },
   "outputs": [],
   "source": [
    "df_used = df_final[(df_final['Included'] <=10) & (df_final['n_meetupers_x']>=10)]"
   ]
  },
  {
   "cell_type": "code",
   "execution_count": 11,
   "metadata": {
    "ExecuteTime": {
     "end_time": "2020-10-06T13:43:11.682895Z",
     "start_time": "2020-10-06T13:43:11.620556Z"
    }
   },
   "outputs": [
    {
     "data": {
      "text/html": [
       "<div>\n",
       "<style scoped>\n",
       "    .dataframe tbody tr th:only-of-type {\n",
       "        vertical-align: middle;\n",
       "    }\n",
       "\n",
       "    .dataframe tbody tr th {\n",
       "        vertical-align: top;\n",
       "    }\n",
       "\n",
       "    .dataframe thead th {\n",
       "        text-align: right;\n",
       "    }\n",
       "</style>\n",
       "<table border=\"1\" class=\"dataframe\">\n",
       "  <thead>\n",
       "    <tr style=\"text-align: right;\">\n",
       "      <th></th>\n",
       "      <th>Included</th>\n",
       "      <th>userid_y</th>\n",
       "      <th>CCE_alters</th>\n",
       "      <th>CCE_ego_alters</th>\n",
       "      <th>Pi_alters</th>\n",
       "      <th>Pi_ego_alters</th>\n",
       "      <th>LZ_entropy</th>\n",
       "      <th>Pi_ego</th>\n",
       "      <th>n_meetupers_x</th>\n",
       "      <th>n_meetupers_y</th>\n",
       "      <th>userid</th>\n",
       "      <th>dataset</th>\n",
       "      <th>Pi_alters_ratio</th>\n",
       "      <th>Pi_ego_alters_ratio</th>\n",
       "      <th>CCE_alters_ratio</th>\n",
       "      <th>CCE_ego_alters_ratio</th>\n",
       "    </tr>\n",
       "  </thead>\n",
       "  <tbody>\n",
       "    <tr>\n",
       "      <th>0</th>\n",
       "      <td>1</td>\n",
       "      <td>kanoka</td>\n",
       "      <td>5.770617</td>\n",
       "      <td>2.882110</td>\n",
       "      <td>0.413797</td>\n",
       "      <td>0.747220</td>\n",
       "      <td>2.981229</td>\n",
       "      <td>0.737002</td>\n",
       "      <td>130</td>\n",
       "      <td>130</td>\n",
       "      <td>26</td>\n",
       "      <td>Weeplace</td>\n",
       "      <td>0.561460</td>\n",
       "      <td>1.013865</td>\n",
       "      <td>1.935650</td>\n",
       "      <td>0.966752</td>\n",
       "    </tr>\n",
       "    <tr>\n",
       "      <th>1</th>\n",
       "      <td>2</td>\n",
       "      <td>826</td>\n",
       "      <td>5.564250</td>\n",
       "      <td>2.822808</td>\n",
       "      <td>0.440421</td>\n",
       "      <td>0.753295</td>\n",
       "      <td>2.981229</td>\n",
       "      <td>0.737002</td>\n",
       "      <td>130</td>\n",
       "      <td>130</td>\n",
       "      <td>26</td>\n",
       "      <td>Weeplace</td>\n",
       "      <td>0.597585</td>\n",
       "      <td>1.022108</td>\n",
       "      <td>1.866428</td>\n",
       "      <td>0.946860</td>\n",
       "    </tr>\n",
       "    <tr>\n",
       "      <th>2</th>\n",
       "      <td>3</td>\n",
       "      <td>koichi</td>\n",
       "      <td>5.397132</td>\n",
       "      <td>2.779068</td>\n",
       "      <td>0.461599</td>\n",
       "      <td>0.757757</td>\n",
       "      <td>2.981229</td>\n",
       "      <td>0.737002</td>\n",
       "      <td>130</td>\n",
       "      <td>130</td>\n",
       "      <td>26</td>\n",
       "      <td>Weeplace</td>\n",
       "      <td>0.626320</td>\n",
       "      <td>1.028162</td>\n",
       "      <td>1.810371</td>\n",
       "      <td>0.932189</td>\n",
       "    </tr>\n",
       "    <tr>\n",
       "      <th>3</th>\n",
       "      <td>4</td>\n",
       "      <td>rarirureroppa</td>\n",
       "      <td>5.191310</td>\n",
       "      <td>2.725435</td>\n",
       "      <td>0.487239</td>\n",
       "      <td>0.763207</td>\n",
       "      <td>2.981229</td>\n",
       "      <td>0.737002</td>\n",
       "      <td>130</td>\n",
       "      <td>130</td>\n",
       "      <td>26</td>\n",
       "      <td>Weeplace</td>\n",
       "      <td>0.661110</td>\n",
       "      <td>1.035556</td>\n",
       "      <td>1.741332</td>\n",
       "      <td>0.914198</td>\n",
       "    </tr>\n",
       "    <tr>\n",
       "      <th>4</th>\n",
       "      <td>5</td>\n",
       "      <td>eugene-donca-mollino</td>\n",
       "      <td>5.221137</td>\n",
       "      <td>2.706943</td>\n",
       "      <td>0.483553</td>\n",
       "      <td>0.765080</td>\n",
       "      <td>2.981229</td>\n",
       "      <td>0.737002</td>\n",
       "      <td>130</td>\n",
       "      <td>130</td>\n",
       "      <td>26</td>\n",
       "      <td>Weeplace</td>\n",
       "      <td>0.656108</td>\n",
       "      <td>1.038098</td>\n",
       "      <td>1.751337</td>\n",
       "      <td>0.907996</td>\n",
       "    </tr>\n",
       "    <tr>\n",
       "      <th>...</th>\n",
       "      <td>...</td>\n",
       "      <td>...</td>\n",
       "      <td>...</td>\n",
       "      <td>...</td>\n",
       "      <td>...</td>\n",
       "      <td>...</td>\n",
       "      <td>...</td>\n",
       "      <td>...</td>\n",
       "      <td>...</td>\n",
       "      <td>...</td>\n",
       "      <td>...</td>\n",
       "      <td>...</td>\n",
       "      <td>...</td>\n",
       "      <td>...</td>\n",
       "      <td>...</td>\n",
       "      <td>...</td>\n",
       "    </tr>\n",
       "    <tr>\n",
       "      <th>11180</th>\n",
       "      <td>6</td>\n",
       "      <td>6341</td>\n",
       "      <td>6.789386</td>\n",
       "      <td>5.205235</td>\n",
       "      <td>0.227566</td>\n",
       "      <td>0.459419</td>\n",
       "      <td>5.625357</td>\n",
       "      <td>0.402543</td>\n",
       "      <td>20</td>\n",
       "      <td>20</td>\n",
       "      <td>127119</td>\n",
       "      <td>Gowalla</td>\n",
       "      <td>0.565321</td>\n",
       "      <td>1.141292</td>\n",
       "      <td>1.206925</td>\n",
       "      <td>0.925316</td>\n",
       "    </tr>\n",
       "    <tr>\n",
       "      <th>11181</th>\n",
       "      <td>7</td>\n",
       "      <td>39697</td>\n",
       "      <td>6.769114</td>\n",
       "      <td>5.189624</td>\n",
       "      <td>0.230923</td>\n",
       "      <td>0.461484</td>\n",
       "      <td>5.625357</td>\n",
       "      <td>0.402543</td>\n",
       "      <td>20</td>\n",
       "      <td>20</td>\n",
       "      <td>127119</td>\n",
       "      <td>Gowalla</td>\n",
       "      <td>0.573661</td>\n",
       "      <td>1.146423</td>\n",
       "      <td>1.203322</td>\n",
       "      <td>0.922541</td>\n",
       "    </tr>\n",
       "    <tr>\n",
       "      <th>11182</th>\n",
       "      <td>8</td>\n",
       "      <td>36514</td>\n",
       "      <td>6.755037</td>\n",
       "      <td>5.161999</td>\n",
       "      <td>0.233245</td>\n",
       "      <td>0.465131</td>\n",
       "      <td>5.625357</td>\n",
       "      <td>0.402543</td>\n",
       "      <td>20</td>\n",
       "      <td>20</td>\n",
       "      <td>127119</td>\n",
       "      <td>Gowalla</td>\n",
       "      <td>0.579430</td>\n",
       "      <td>1.155481</td>\n",
       "      <td>1.200819</td>\n",
       "      <td>0.917630</td>\n",
       "    </tr>\n",
       "    <tr>\n",
       "      <th>11183</th>\n",
       "      <td>9</td>\n",
       "      <td>3821</td>\n",
       "      <td>6.670033</td>\n",
       "      <td>5.093785</td>\n",
       "      <td>0.247121</td>\n",
       "      <td>0.474092</td>\n",
       "      <td>5.625357</td>\n",
       "      <td>0.402543</td>\n",
       "      <td>20</td>\n",
       "      <td>20</td>\n",
       "      <td>127119</td>\n",
       "      <td>Gowalla</td>\n",
       "      <td>0.613899</td>\n",
       "      <td>1.177742</td>\n",
       "      <td>1.185708</td>\n",
       "      <td>0.905504</td>\n",
       "    </tr>\n",
       "    <tr>\n",
       "      <th>11184</th>\n",
       "      <td>10</td>\n",
       "      <td>6592</td>\n",
       "      <td>6.624826</td>\n",
       "      <td>5.056478</td>\n",
       "      <td>0.254402</td>\n",
       "      <td>0.478967</td>\n",
       "      <td>5.625357</td>\n",
       "      <td>0.402543</td>\n",
       "      <td>20</td>\n",
       "      <td>20</td>\n",
       "      <td>127119</td>\n",
       "      <td>Gowalla</td>\n",
       "      <td>0.631987</td>\n",
       "      <td>1.189853</td>\n",
       "      <td>1.177672</td>\n",
       "      <td>0.898872</td>\n",
       "    </tr>\n",
       "  </tbody>\n",
       "</table>\n",
       "<p>11700 rows × 16 columns</p>\n",
       "</div>"
      ],
      "text/plain": [
       "       Included              userid_y  CCE_alters  CCE_ego_alters  Pi_alters  \\\n",
       "0             1                kanoka    5.770617        2.882110   0.413797   \n",
       "1             2                   826    5.564250        2.822808   0.440421   \n",
       "2             3                koichi    5.397132        2.779068   0.461599   \n",
       "3             4         rarirureroppa    5.191310        2.725435   0.487239   \n",
       "4             5  eugene-donca-mollino    5.221137        2.706943   0.483553   \n",
       "...         ...                   ...         ...             ...        ...   \n",
       "11180         6                  6341    6.789386        5.205235   0.227566   \n",
       "11181         7                 39697    6.769114        5.189624   0.230923   \n",
       "11182         8                 36514    6.755037        5.161999   0.233245   \n",
       "11183         9                  3821    6.670033        5.093785   0.247121   \n",
       "11184        10                  6592    6.624826        5.056478   0.254402   \n",
       "\n",
       "       Pi_ego_alters  LZ_entropy    Pi_ego  n_meetupers_x  n_meetupers_y  \\\n",
       "0           0.747220    2.981229  0.737002            130            130   \n",
       "1           0.753295    2.981229  0.737002            130            130   \n",
       "2           0.757757    2.981229  0.737002            130            130   \n",
       "3           0.763207    2.981229  0.737002            130            130   \n",
       "4           0.765080    2.981229  0.737002            130            130   \n",
       "...              ...         ...       ...            ...            ...   \n",
       "11180       0.459419    5.625357  0.402543             20             20   \n",
       "11181       0.461484    5.625357  0.402543             20             20   \n",
       "11182       0.465131    5.625357  0.402543             20             20   \n",
       "11183       0.474092    5.625357  0.402543             20             20   \n",
       "11184       0.478967    5.625357  0.402543             20             20   \n",
       "\n",
       "       userid   dataset  Pi_alters_ratio  Pi_ego_alters_ratio  \\\n",
       "0          26  Weeplace         0.561460             1.013865   \n",
       "1          26  Weeplace         0.597585             1.022108   \n",
       "2          26  Weeplace         0.626320             1.028162   \n",
       "3          26  Weeplace         0.661110             1.035556   \n",
       "4          26  Weeplace         0.656108             1.038098   \n",
       "...       ...       ...              ...                  ...   \n",
       "11180  127119   Gowalla         0.565321             1.141292   \n",
       "11181  127119   Gowalla         0.573661             1.146423   \n",
       "11182  127119   Gowalla         0.579430             1.155481   \n",
       "11183  127119   Gowalla         0.613899             1.177742   \n",
       "11184  127119   Gowalla         0.631987             1.189853   \n",
       "\n",
       "       CCE_alters_ratio  CCE_ego_alters_ratio  \n",
       "0              1.935650              0.966752  \n",
       "1              1.866428              0.946860  \n",
       "2              1.810371              0.932189  \n",
       "3              1.741332              0.914198  \n",
       "4              1.751337              0.907996  \n",
       "...                 ...                   ...  \n",
       "11180          1.206925              0.925316  \n",
       "11181          1.203322              0.922541  \n",
       "11182          1.200819              0.917630  \n",
       "11183          1.185708              0.905504  \n",
       "11184          1.177672              0.898872  \n",
       "\n",
       "[11700 rows x 16 columns]"
      ]
     },
     "execution_count": 11,
     "metadata": {},
     "output_type": "execute_result"
    }
   ],
   "source": [
    "df_used"
   ]
  },
  {
   "cell_type": "code",
   "execution_count": 65,
   "metadata": {
    "ExecuteTime": {
     "end_time": "2020-09-29T14:27:55.733219Z",
     "start_time": "2020-09-29T14:27:55.683442Z"
    }
   },
   "outputs": [
    {
     "data": {
      "text/plain": [
       "dataset\n",
       "BrightKite    1690\n",
       "Gowalla       2500\n",
       "Weeplace      7510\n",
       "Name: userid, dtype: int64"
      ]
     },
     "execution_count": 65,
     "metadata": {},
     "output_type": "execute_result"
    }
   ],
   "source": [
    "df_used.groupby('dataset')['userid'].count()"
   ]
  },
  {
   "cell_type": "code",
   "execution_count": 12,
   "metadata": {
    "ExecuteTime": {
     "end_time": "2020-10-06T13:47:05.182376Z",
     "start_time": "2020-10-06T13:46:47.434195Z"
    }
   },
   "outputs": [],
   "source": [
    "# This is for Pi\n",
    "lower = df_used.groupby(['Included', \n",
    "                         'dataset'])['Pi_alters_ratio'].apply(lambda x: ci(sns.algorithms.bootstrap(x), \n",
    "                                                                           which=95)[0]).reset_index()\n",
    "upper = df_used.groupby(['Included', \n",
    "                         'dataset'])['Pi_alters_ratio'].apply(lambda x: ci(sns.algorithms.bootstrap(x), \n",
    "                                                                           which=95)[1]).reset_index()\n",
    "mid = df_used.groupby(['Included', 'dataset'])['Pi_alters_ratio'].mean().reset_index()"
   ]
  },
  {
   "cell_type": "code",
   "execution_count": 13,
   "metadata": {
    "ExecuteTime": {
     "end_time": "2020-10-06T13:47:26.066302Z",
     "start_time": "2020-10-06T13:47:09.332192Z"
    }
   },
   "outputs": [],
   "source": [
    "# This is for CCE\n",
    "lower_CCE = df_used.groupby(['Included', \n",
    "                         'dataset'])['CCE_alters_ratio'].apply(lambda x: ci(sns.algorithms.bootstrap(x), \n",
    "                                                                           which=95)[0]).reset_index()\n",
    "upper_CCE = df_used.groupby(['Included', \n",
    "                         'dataset'])['CCE_alters_ratio'].apply(lambda x: ci(sns.algorithms.bootstrap(x), \n",
    "                                                                           which=95)[1]).reset_index()\n",
    "mid_CCE = df_used.groupby(['Included', 'dataset'])['CCE_alters_ratio'].mean().reset_index()"
   ]
  },
  {
   "cell_type": "code",
   "execution_count": 15,
   "metadata": {
    "ExecuteTime": {
     "end_time": "2020-10-06T13:49:02.504077Z",
     "start_time": "2020-10-06T13:49:02.416399Z"
    }
   },
   "outputs": [],
   "source": [
    "final = reduce(lambda df1,df2: pd.merge(df1,df2,on=['Included', 'dataset']), [mid, lower, upper, mid_CCE, lower_CCE, upper_CCE])\n",
    "final.columns = ['included', 'dataset', 'mean', 'lower', 'upper', 'mean_CCE', 'lower_CCE', 'upper_CCE']"
   ]
  },
  {
   "cell_type": "code",
   "execution_count": 16,
   "metadata": {
    "ExecuteTime": {
     "end_time": "2020-10-06T13:49:28.462551Z",
     "start_time": "2020-10-06T13:49:28.412383Z"
    }
   },
   "outputs": [],
   "source": [
    "# final.to_csv('final/150_all_2_10_CP_H_MFN.csv', index=False)\n",
    "final.to_csv('final/150_all_2_10_MeetupNp_H_MFN.csv', index=False)\n",
    "# final.to_csv('final/FreqNp_Rank/150_all_2_10_FreqNp_H_MFN.csv', index=False)"
   ]
  },
  {
   "cell_type": "code",
   "execution_count": 29,
   "metadata": {
    "ExecuteTime": {
     "end_time": "2020-09-18T12:58:11.148510Z",
     "start_time": "2020-09-18T12:58:11.095427Z"
    }
   },
   "outputs": [],
   "source": [
    "# spearman test"
   ]
  },
  {
   "cell_type": "code",
   "execution_count": 69,
   "metadata": {
    "ExecuteTime": {
     "end_time": "2020-09-29T14:29:54.612239Z",
     "start_time": "2020-09-29T14:29:54.564114Z"
    }
   },
   "outputs": [],
   "source": [
    "ds_list = df_used['dataset'].unique().tolist()\n",
    "user_list = df_used['userid'].unique().tolist()"
   ]
  },
  {
   "cell_type": "code",
   "execution_count": 70,
   "metadata": {
    "ExecuteTime": {
     "end_time": "2020-09-29T14:39:29.281110Z",
     "start_time": "2020-09-29T14:39:25.273692Z"
    },
    "scrolled": true
   },
   "outputs": [
    {
     "name": "stdout",
     "output_type": "stream",
     "text": [
      "Weeplace 585 0.7789613848202397 602 0.8015978695073236 751\n",
      "BrightKite 96 0.5680473372781065 100 0.591715976331361 169\n",
      "Gowalla 208 0.832 216 0.864 250\n"
     ]
    }
   ],
   "source": [
    "for ds in ds_list:\n",
    "    count_sm = 0\n",
    "    count_kd = 0\n",
    "    df_temp = df_used[df_used['dataset'] == ds]\n",
    "    ur_ds = df_temp['userid'].unique().tolist()\n",
    "    for user in ur_ds:\n",
    "        rank = df_temp[df_temp['userid'] == user]['Included'].tolist()\n",
    "        Pi_alters_ratio = df_temp[df_temp['userid'] == user]['Pi_alters_ratio'].tolist()\n",
    "        \n",
    "        coef_sm, p_sm = spearmanr(rank, Pi_alters_ratio)\n",
    "        coef_kd, p_kd = kendalltau(rank, Pi_alters_ratio)     \n",
    "        \n",
    "        if (coef_sm > 0) & (p_sm < 0.05):\n",
    "            count_sm +=1\n",
    "        \n",
    "        if (coef_kd > 0) & (p_kd < 0.05):\n",
    "            count_kd +=1\n",
    "\n",
    "    print(ds, count_sm, count_sm/len(ur_ds), count_kd, count_kd/len(ur_ds),len(ur_ds))"
   ]
  },
  {
   "cell_type": "markdown",
   "metadata": {},
   "source": [
    "# All these MFNs and TFN (pointplot)"
   ]
  },
  {
   "cell_type": "code",
   "execution_count": 145,
   "metadata": {
    "ExecuteTime": {
     "end_time": "2020-10-08T00:29:50.910865Z",
     "start_time": "2020-10-08T00:29:50.179869Z"
    }
   },
   "outputs": [],
   "source": [
    "# wp_all = pd.read_csv(\"final/wp-150/wp_shared_all_2_10_CP.csv\")\n",
    "# bk_all = pd.read_csv(\"final/bk-150/bk_shared_all_2_10_CP.csv\")\n",
    "# gw_all = pd.read_csv(\"final/gws-150/gws_shared_all_2_10_CP.csv\")\n",
    "\n",
    "wp_all = pd.read_csv(\"final/wp-150/wp_shared_all_2_10_MeetupNp.csv\")\n",
    "bk_all = pd.read_csv(\"final/bk-150/bk_shared_all_2_10_MeetupNp.csv\")\n",
    "gw_all = pd.read_csv(\"final/gws-150/gws_shared_all_2_10_MeetupNp.csv\")\n",
    "\n",
    "# wp_all = pd.read_csv(\"final/wp-150/wp_shared_all_2_10_FreqNp.csv\")\n",
    "# bk_all = pd.read_csv(\"final/bk-150/bk_shared_all_2_10_FreqNp.csv\")\n",
    "# gw_all = pd.read_csv(\"final/gws-150/gws_shared_all_2_10_FreqNp.csv\")\n",
    "\n",
    "wp_all['dataset'] = \"Weeplace\"\n",
    "bk_all['dataset'] = \"BrightKite\"\n",
    "gw_all['dataset'] =  \"Gowalla\""
   ]
  },
  {
   "cell_type": "code",
   "execution_count": 147,
   "metadata": {
    "ExecuteTime": {
     "end_time": "2020-10-08T00:29:55.820182Z",
     "start_time": "2020-10-08T00:29:55.665849Z"
    }
   },
   "outputs": [],
   "source": [
    "df_all = pd.concat([wp_all, bk_all, gw_all])\n",
    "df_all_used = df_all[(df_all['Included'] <=10) & (df_all['n_meetupers_x']>=10)]\n",
    "category = list(set(df_all_used['category'].tolist()))\n",
    "ds_list = list(set(df_all_used['dataset'].tolist()))"
   ]
  },
  {
   "cell_type": "code",
   "execution_count": 148,
   "metadata": {
    "ExecuteTime": {
     "end_time": "2020-10-08T00:29:58.692249Z",
     "start_time": "2020-10-08T00:29:58.637063Z"
    }
   },
   "outputs": [
    {
     "name": "stderr",
     "output_type": "stream",
     "text": [
      "/opt/conda/lib/python3.6/site-packages/ipykernel_launcher.py:1: SettingWithCopyWarning: \n",
      "A value is trying to be set on a copy of a slice from a DataFrame.\n",
      "Try using .loc[row_indexer,col_indexer] = value instead\n",
      "\n",
      "See the caveats in the documentation: https://pandas.pydata.org/pandas-docs/stable/user_guide/indexing.html#returning-a-view-versus-a-copy\n",
      "  \"\"\"Entry point for launching an IPython kernel.\n",
      "/opt/conda/lib/python3.6/site-packages/ipykernel_launcher.py:2: SettingWithCopyWarning: \n",
      "A value is trying to be set on a copy of a slice from a DataFrame.\n",
      "Try using .loc[row_indexer,col_indexer] = value instead\n",
      "\n",
      "See the caveats in the documentation: https://pandas.pydata.org/pandas-docs/stable/user_guide/indexing.html#returning-a-view-versus-a-copy\n",
      "  \n"
     ]
    }
   ],
   "source": [
    "df_all_used['CCE_alters_ratio'] = df_all_used['CCE_alters'] / df_all_used['LZ_entropy'] \n",
    "df_all_used['CCE_ego_alters_ratio'] = df_all_used['CCE_ego_alters'] / df_all_used['LZ_entropy'] "
   ]
  },
  {
   "cell_type": "code",
   "execution_count": 29,
   "metadata": {
    "ExecuteTime": {
     "end_time": "2020-10-06T14:23:56.804846Z",
     "start_time": "2020-10-06T14:23:49.857004Z"
    },
    "scrolled": true
   },
   "outputs": [],
   "source": [
    "result = []\n",
    "for ds in ds_list:\n",
    "    for cat in category:\n",
    "        count_sm = 0\n",
    "        count_kd = 0\n",
    "        \n",
    "        count_sm_CCE = 0\n",
    "        count_kd_CCE = 0\n",
    "        \n",
    "        df_temp = df_all_used[(df_all_used['dataset'] == ds) & (df_all_used['category'] == cat)]\n",
    "        ur_ds = df_temp['userid'].unique().tolist()\n",
    "        for user in ur_ds:\n",
    "            rank = df_temp[df_temp['userid'] == user]['Included'].tolist()\n",
    "            \n",
    "            Pi_alters_ratio = df_temp[df_temp['userid'] == user]['Pi_alters_ratio'].tolist()\n",
    "            CCE_alters_ratio = df_temp[df_temp['userid'] == user]['CCE_alters_ratio'].tolist()\n",
    "\n",
    "            coef_sm, p_sm = spearmanr(rank, Pi_alters_ratio)\n",
    "            coef_kd, p_kd = kendalltau(rank, Pi_alters_ratio)\n",
    "            \n",
    "            coef_sm_CCE, p_sm_CCE = spearmanr(rank, CCE_alters_ratio)\n",
    "            coef_kd_CCE, p_kd_CCE = kendalltau(rank, CCE_alters_ratio)\n",
    "            \n",
    "            if (coef_sm > 0) & (p_sm < 0.05):\n",
    "                count_sm +=1\n",
    "\n",
    "            if (coef_kd > 0) & (p_kd < 0.05):\n",
    "                count_kd +=1\n",
    "\n",
    "            if (coef_sm_CCE < 0) & (p_sm_CCE < 0.05):\n",
    "                count_sm_CCE +=1\n",
    "\n",
    "            if (coef_kd_CCE < 0) & (p_kd_CCE < 0.05):\n",
    "                count_kd_CCE +=1\n",
    "                \n",
    "        result.append([ds, cat, \n",
    "                       count_sm, count_sm/len(ur_ds), \n",
    "                       count_kd, count_kd/len(ur_ds),\n",
    "                       count_sm_CCE, count_sm_CCE/len(ur_ds), \n",
    "                       count_kd_CCE, count_kd_CCE/len(ur_ds),                       \n",
    "                       len(ur_ds)])"
   ]
  },
  {
   "cell_type": "code",
   "execution_count": 32,
   "metadata": {
    "ExecuteTime": {
     "end_time": "2020-10-06T14:25:06.524997Z",
     "start_time": "2020-10-06T14:25:06.478820Z"
    }
   },
   "outputs": [],
   "source": [
    "stats_test = pd.DataFrame(result, columns = ['Dataset', \n",
    "                                'MF',\n",
    "                               'SpN','SpP','Kn','Kp',\n",
    "                               'SpN_CCE','SpP_CCE','Kn_CCE','Kp_CCE',\n",
    "                                'total']).sort_values(['Dataset', 'MF'])"
   ]
  },
  {
   "cell_type": "code",
   "execution_count": 149,
   "metadata": {
    "ExecuteTime": {
     "end_time": "2020-10-08T00:30:05.783683Z",
     "start_time": "2020-10-08T00:30:05.739027Z"
    }
   },
   "outputs": [
    {
     "data": {
      "text/plain": [
       "['CB-1H-MFN', 'CB-1D-MFN', 'TFN', 'SW-24H-MFN']"
      ]
     },
     "execution_count": 149,
     "metadata": {},
     "output_type": "execute_result"
    }
   ],
   "source": [
    "category"
   ]
  },
  {
   "cell_type": "code",
   "execution_count": 33,
   "metadata": {
    "ExecuteTime": {
     "end_time": "2020-10-06T14:26:10.745685Z",
     "start_time": "2020-10-06T14:26:10.684276Z"
    }
   },
   "outputs": [],
   "source": [
    "# stats_test.to_csv('docs/vip_stats_test_all_category.csv', index=False)"
   ]
  },
  {
   "cell_type": "code",
   "execution_count": 164,
   "metadata": {
    "ExecuteTime": {
     "end_time": "2020-10-08T00:56:08.475002Z",
     "start_time": "2020-10-08T00:56:05.877737Z"
    },
    "scrolled": true
   },
   "outputs": [],
   "source": [
    "final = []\n",
    "for ds in ds_list:\n",
    "    \n",
    "    count_S_D = 0\n",
    "    count_S_H = 0 \n",
    "    count_S_T = 0\n",
    "    count_D_H = 0 \n",
    "    count_D_T = 0\n",
    "    count_H_T = 0 \n",
    "    \n",
    "    df_temp = df_all_used[df_all_used['dataset'] == ds]\n",
    "    ur_ds = df_temp['userid'].unique().tolist()\n",
    "    for user in ur_ds:\n",
    "        temp_user = df_temp[df_temp['userid'] == user]\n",
    "    \n",
    "        df_SW = temp_user[temp_user['category'] == category[3]]['Pi_alters_ratio']\n",
    "        df_1D = temp_user[temp_user['category'] == category[1]]['Pi_alters_ratio']\n",
    "        df_1H = temp_user[temp_user['category'] == category[0]]['Pi_alters_ratio']\n",
    "        df_T = temp_user[temp_user['category'] == category[2]]['Pi_alters_ratio']\n",
    "\n",
    "\n",
    "        stats_S_D, p_S_D = ttest_ind(df_SW, df_1D)\n",
    "        if p_S_D > 0.05:\n",
    "            count_S_D +=1\n",
    "        \n",
    "        stats_S_H, p_S_H = ttest_ind(df_SW, df_1H)\n",
    "        if p_S_H > 0.05:\n",
    "            count_S_H +=1\n",
    "            \n",
    "        stats_S_T, p_S_T = ttest_ind(df_SW, df_T)\n",
    "        if p_S_T > 0.05:\n",
    "            count_S_T +=1\n",
    "\n",
    "        stats_D_H, p_D_H = ttest_ind(df_1D, df_1H)\n",
    "        if p_D_H > 0.05:\n",
    "            count_D_H +=1\n",
    "            \n",
    "        stats_D_T, p_D_T = ttest_ind(df_1D, df_T)\n",
    "        if p_D_T > 0.05:\n",
    "            count_D_T +=1\n",
    "\n",
    "        stats_H_T, p_H_T = ttest_ind(df_1H, df_T)\n",
    "        if p_H_T > 0.05:\n",
    "            count_H_T +=1\n",
    "        \n",
    "        df_stats = pd.DataFrame([[1, count_S_D/len(ur_ds), count_S_H/len(ur_ds), count_S_T/len(ur_ds)], \n",
    "                                [count_S_D/len(ur_ds), 1, count_D_H/len(ur_ds), count_D_T/len(ur_ds)], \n",
    "                                [count_S_H/len(ur_ds), count_D_H/len(ur_ds), 1, count_H_T/len(ur_ds)],\n",
    "                                [count_S_T/len(ur_ds), count_D_T/len(ur_ds), count_H_T/len(ur_ds), 1]],\n",
    "                                columns=['SW-24H-CN', 'CB-1D-CN', 'CB-1H-CN', 'Friendship']\n",
    "                               )\n",
    "        df_stats.index = ['SW-24H-CN', 'CB-1D-CN', 'CB-1H-CN', 'Friendship']\n",
    "\n",
    "#     df_stats = pd.DataFrame([['SW-24H-CN vs CB-1D-CN', count_S_D/len(ur_ds), count_S_D ], \n",
    "#                              ['SW-24H-CN vs CB-1H-CN', count_S_H/len(ur_ds), count_S_H],\n",
    "#                              ['SW-24H-CN vs Friendship', count_S_T/len(ur_ds), count_S_T], \n",
    "#                              ['CB-1D-CN vs CB-1H-CN', count_D_H/len(ur_ds), count_D_H],\n",
    "#                             ['CB-1D-CN vs Friendship',count_D_T/len(ur_ds), count_D_T], \n",
    "#                              ['CB-1H-CN vs Friendship', count_H_T/len(ur_ds), count_H_T]\n",
    "#                             ], columns= ['Compared Network', 'Statistics', 'Total'])\n",
    "#     df_stats['dataset'] = ds\n",
    "    final.append(df_stats)\n",
    "# final = pd.concat(final)"
   ]
  },
  {
   "cell_type": "code",
   "execution_count": 169,
   "metadata": {
    "ExecuteTime": {
     "end_time": "2020-10-08T00:57:51.191875Z",
     "start_time": "2020-10-08T00:57:50.127850Z"
    }
   },
   "outputs": [
    {
     "data": {
      "image/png": "[encoded data removed]",
      "text/plain": [
       "<Figure size 864x288 with 3 Axes>"
      ]
     },
     "metadata": {
      "needs_background": "light"
     },
     "output_type": "display_data"
    }
   ],
   "source": [
    "fig, axn = plt.subplots(1, 3, figsize=(12, 4), sharey=True)\n",
    "# cbar_ax = fig.add_axes([.91, .3, .03, .4])\n",
    "for i, ax in enumerate(axn.flat):\n",
    "    sns.heatmap(final[i], ax=ax, linewidths=.5, annot=True, fmt=\".2%\", cbar=False, cmap=\"YlGnBu\"\n",
    "#                 cbar=i == 0,\n",
    "#                 vmin=0.77, vmax=1,\n",
    "#                 cbar_ax=None if i else cbar_ax\n",
    "               )\n",
    "    ax.xaxis.set_label_position('bottom')\n",
    "    ax.set_title(datasets[i], pad=15)\n",
    "    ax.set_xticklabels(ax.get_xticklabels(), rotation=45, ha='right')\n",
    "    \n",
    "fig.tight_layout(rect=[0, 0, .9, 1])\n",
    "plt.savefig('fig/VIP_T_Test_MeetupNp.pdf')"
   ]
  },
  {
   "cell_type": "code",
   "execution_count": 57,
   "metadata": {
    "ExecuteTime": {
     "end_time": "2020-09-18T21:53:00.297176Z",
     "start_time": "2020-09-18T21:53:00.254521Z"
    }
   },
   "outputs": [],
   "source": [
    "# CI computation"
   ]
  },
  {
   "cell_type": "code",
   "execution_count": 37,
   "metadata": {
    "ExecuteTime": {
     "end_time": "2020-10-06T14:34:32.096756Z",
     "start_time": "2020-10-06T14:33:36.577829Z"
    }
   },
   "outputs": [],
   "source": [
    "# Only for PI\n",
    "lower = df_all_used.groupby(['Included', 'category',\n",
    "                         'dataset'])['Pi_alters_ratio'].apply(lambda x: ci(sns.algorithms.bootstrap(x), \n",
    "                                                                           which=95)[0]).reset_index()\n",
    "upper = df_all_used.groupby(['Included', 'category',\n",
    "                         'dataset'])['Pi_alters_ratio'].apply(lambda x: ci(sns.algorithms.bootstrap(x), \n",
    "                                                                           which=95)[1]).reset_index()\n",
    "mid = df_all_used.groupby(['Included', 'category',\n",
    "                           'dataset'])['Pi_alters_ratio'].mean().reset_index()"
   ]
  },
  {
   "cell_type": "code",
   "execution_count": 38,
   "metadata": {
    "ExecuteTime": {
     "end_time": "2020-10-06T14:36:15.152404Z",
     "start_time": "2020-10-06T14:35:18.531757Z"
    }
   },
   "outputs": [],
   "source": [
    "# Only for CCE\n",
    "lower_CCE = df_all_used.groupby(['Included', 'category',\n",
    "                         'dataset'])['CCE_alters_ratio'].apply(lambda x: ci(sns.algorithms.bootstrap(x), \n",
    "                                                                           which=95)[0]).reset_index()\n",
    "upper_CCE = df_all_used.groupby(['Included', 'category',\n",
    "                         'dataset'])['CCE_alters_ratio'].apply(lambda x: ci(sns.algorithms.bootstrap(x), \n",
    "                                                                           which=95)[1]).reset_index()\n",
    "mid_CCE = df_all_used.groupby(['Included', 'category',\n",
    "                           'dataset'])['CCE_alters_ratio'].mean().reset_index()"
   ]
  },
  {
   "cell_type": "code",
   "execution_count": 64,
   "metadata": {
    "ExecuteTime": {
     "end_time": "2020-10-06T14:48:16.182442Z",
     "start_time": "2020-10-06T14:48:16.094640Z"
    },
    "scrolled": true
   },
   "outputs": [],
   "source": [
    "all_final = reduce(lambda df1,df2: pd.merge(df1,df2,on=['Included', 'category', 'dataset']), \n",
    "                   [mid, lower, upper, mid_CCE, lower_CCE, upper_CCE])\n",
    "all_final.columns = ['included', 'category', 'dataset', 'mean', 'lower', 'upper','mean_CCE', 'lower_CCE', 'upper_CCE']"
   ]
  },
  {
   "cell_type": "code",
   "execution_count": 65,
   "metadata": {
    "ExecuteTime": {
     "end_time": "2020-10-06T14:49:55.336916Z",
     "start_time": "2020-10-06T14:49:55.287791Z"
    }
   },
   "outputs": [],
   "source": [
    "# all_final.to_csv('final/150_all_category_CP.csv', index=False)\n",
    "all_final.to_csv('final/150_all_category_MeetupNp.csv', index=False)\n",
    "# all_final.to_csv('final/FreqNp_Rank/150_all_category_FreqNp.csv', index=False)"
   ]
  },
  {
   "cell_type": "markdown",
   "metadata": {},
   "source": [
    "# All these MFNs and TFN (Global Jaccard Similarity)"
   ]
  },
  {
   "cell_type": "code",
   "execution_count": 119,
   "metadata": {
    "ExecuteTime": {
     "end_time": "2020-10-07T21:57:07.452279Z",
     "start_time": "2020-10-07T21:57:07.417048Z"
    }
   },
   "outputs": [],
   "source": [
    "import pickle\n",
    "import matplotlib.pyplot as plt"
   ]
  },
  {
   "cell_type": "code",
   "execution_count": 132,
   "metadata": {
    "ExecuteTime": {
     "end_time": "2020-10-07T22:23:19.285893Z",
     "start_time": "2020-10-07T22:23:19.235435Z"
    }
   },
   "outputs": [],
   "source": [
    "# pickle_in = open(\"final/wp-150/wp_VIP_similarity_CP.pickle\", \"rb\")\n",
    "# wp_vip_similarity = pickle.load(pickle_in)\n",
    "# pickle_in.close()\n",
    "\n",
    "# pickle_in = open(\"final/bk-150/bk_VIP_similarity_CP.pickle\", \"rb\")\n",
    "# bk_vip_similarity = pickle.load(pickle_in)\n",
    "# pickle_in.close()\n",
    "\n",
    "# pickle_in = open(\"final/gws-150/gws_VIP_similarity_CP.pickle\", \"rb\")\n",
    "# gws_vip_similarity = pickle.load(pickle_in)\n",
    "# pickle_in.close()\n",
    "\n",
    "pickle_in = open(\"final/wp-150/wp_VIP_similarity_MeetupNp.pickle\", \"rb\")\n",
    "wp_vip_similarity = pickle.load(pickle_in)\n",
    "pickle_in.close()\n",
    "\n",
    "pickle_in = open(\"final/bk-150/bk_VIP_similarity_MeetupNp.pickle\", \"rb\")\n",
    "bk_vip_similarity = pickle.load(pickle_in)\n",
    "pickle_in.close()\n",
    "\n",
    "pickle_in = open(\"final/gws-150/gws_VIP_similarity_MeetupNp.pickle\", \"rb\")\n",
    "gws_vip_similarity = pickle.load(pickle_in)\n",
    "pickle_in.close()\n",
    "\n",
    "# pickle_in = open(\"final/wp-150/wp_VIP_similarity_FreqNp.pickle\", \"rb\")\n",
    "# wp_vip_similarity = pickle.load(pickle_in)\n",
    "# pickle_in.close()\n",
    "\n",
    "# pickle_in = open(\"final/bk-150/bk_VIP_similarity_FreqNp.pickle\", \"rb\")\n",
    "# bk_vip_similarity = pickle.load(pickle_in)\n",
    "# pickle_in.close()\n",
    "\n",
    "# pickle_in = open(\"final/gws-150/gws_VIP_similarity_FreqNp.pickle\", \"rb\")\n",
    "# gws_vip_similarity = pickle.load(pickle_in)\n",
    "# pickle_in.close()"
   ]
  },
  {
   "cell_type": "code",
   "execution_count": 133,
   "metadata": {
    "ExecuteTime": {
     "end_time": "2020-10-07T22:23:21.518215Z",
     "start_time": "2020-10-07T22:23:21.477642Z"
    }
   },
   "outputs": [],
   "source": [
    "df = [bk_vip_similarity, gws_vip_similarity, wp_vip_similarity]"
   ]
  },
  {
   "cell_type": "code",
   "execution_count": 134,
   "metadata": {
    "ExecuteTime": {
     "end_time": "2020-10-07T22:23:23.576386Z",
     "start_time": "2020-10-07T22:23:23.535627Z"
    }
   },
   "outputs": [],
   "source": [
    "datasets = ['BrightKite', 'Gowalla', 'Weeplace']"
   ]
  },
  {
   "cell_type": "code",
   "execution_count": 136,
   "metadata": {
    "ExecuteTime": {
     "end_time": "2020-10-07T22:23:45.899015Z",
     "start_time": "2020-10-07T22:23:44.515045Z"
    }
   },
   "outputs": [
    {
     "name": "stderr",
     "output_type": "stream",
     "text": [
      "/opt/conda/lib/python3.6/site-packages/ipykernel_launcher.py:12: UserWarning: This figure includes Axes that are not compatible with tight_layout, so results might be incorrect.\n",
      "  if sys.path[0] == '':\n"
     ]
    },
    {
     "data": {
      "image/png": "[encoded data removed]",
      "text/plain": [
       "<Figure size 864x288 with 4 Axes>"
      ]
     },
     "metadata": {
      "needs_background": "light"
     },
     "output_type": "display_data"
    }
   ],
   "source": [
    "fig, axn = plt.subplots(1, 3, figsize=(12, 4), sharey=True)\n",
    "cbar_ax = fig.add_axes([.91, .3, .03, .4])\n",
    "for i, ax in enumerate(axn.flat):\n",
    "    sns.heatmap(df[i], ax=ax, linewidths=.5, annot=True,\n",
    "                cbar=i == 0,\n",
    "                vmin=0, vmax=1,\n",
    "                cbar_ax=None if i else cbar_ax)\n",
    "    ax.xaxis.set_label_position('bottom')\n",
    "    ax.set_title(datasets[i], pad=15)\n",
    "    ax.set_xticklabels(ax.get_xticklabels(), rotation=45, ha='right')\n",
    "    \n",
    "fig.tight_layout(rect=[0, 0, .9, 1])\n",
    "# plt.savefig('fig/VIP_similarity_FreqNp.pdf')\n",
    "plt.savefig('fig/VIP_similarity_MeetupNp.pdf')"
   ]
  },
  {
   "cell_type": "markdown",
   "metadata": {},
   "source": [
    "# VIP LR"
   ]
  },
  {
   "cell_type": "code",
   "execution_count": 69,
   "metadata": {
    "ExecuteTime": {
     "end_time": "2020-10-07T00:33:13.755714Z",
     "start_time": "2020-10-07T00:33:13.655859Z"
    }
   },
   "outputs": [],
   "source": [
    "# wp_vip_LR =  pd.read_csv('final/wp-150/wp_VIP_LR_CP.csv')\n",
    "# wp_vip_LR['dataset'] = 'Weeplace'\n",
    "\n",
    "# bk_vip_LR = pd.read_csv('final/bk-150/bk_VIP_LR_CP.csv')\n",
    "# bk_vip_LR['dataset'] = 'BrightKite'\n",
    "\n",
    "# gw_vip_LR = pd.read_csv('final/gws-150/gws_VIP_LR_CP.csv')\n",
    "# gw_vip_LR['dataset'] = 'Gowalla'\n",
    "\n",
    "# wp_vip_LR =  pd.read_csv('final/wp-150/wp_VIP_LR_MeetupNp.csv')\n",
    "# wp_vip_LR['dataset'] = 'Weeplace'\n",
    "\n",
    "# bk_vip_LR = pd.read_csv('final/bk-150/bk_VIP_LR_MeetupNp.csv')\n",
    "# bk_vip_LR['dataset'] = 'BrightKite'\n",
    "\n",
    "# gw_vip_LR = pd.read_csv('final/gws-150/gws_VIP_LR_MeetupNp.csv')\n",
    "# gw_vip_LR['dataset'] = 'Gowalla'\n",
    "\n",
    "# wp_vip_LR =  pd.read_csv('final/wp-150/wp_VIP_LR_FreqNp.csv')\n",
    "# wp_vip_LR['dataset'] = 'Weeplace'\n",
    "\n",
    "# bk_vip_LR = pd.read_csv('final/bk-150/bk_VIP_LR_FreqNp.csv')\n",
    "# bk_vip_LR['dataset'] = 'BrightKite'\n",
    "\n",
    "# gw_vip_LR = pd.read_csv('final/gws-150/gws_VIP_LR_FreqNp.csv')\n",
    "# gw_vip_LR['dataset'] = 'Gowalla'\n",
    "\n",
    "wp_vip_LR =  pd.read_csv('final/wp-150/wp_VIP_cumulative_LR_MeetupNp.csv')\n",
    "wp_vip_LR['dataset'] = 'Weeplace'\n",
    "\n",
    "bk_vip_LR = pd.read_csv('final/bk-150/bk_VIP_cumulative_LR_MeetupNp.csv')\n",
    "bk_vip_LR['dataset'] = 'BrightKite'\n",
    "\n",
    "gw_vip_LR = pd.read_csv('final/gws-150/gws_VIP_cumulative_LR_MeetupNp.csv')\n",
    "gw_vip_LR['dataset'] = 'Gowalla'\n",
    "\n",
    "# wp_vip_LR =  pd.read_csv('final/wp-150/wp_VIP_cumulative_LR_FreqNp.csv')\n",
    "# wp_vip_LR['dataset'] = 'Weeplace'\n",
    "\n",
    "# bk_vip_LR = pd.read_csv('final/bk-150/bk_VIP_cumulative_LR_FreqNp.csv')\n",
    "# bk_vip_LR['dataset'] = 'BrightKite'\n",
    "\n",
    "# gw_vip_LR = pd.read_csv('final/gws-150/gws_VIP_cumulative_LR_FreqNp.csv')\n",
    "# gw_vip_LR['dataset'] = 'Gowalla'"
   ]
  },
  {
   "cell_type": "code",
   "execution_count": 70,
   "metadata": {
    "ExecuteTime": {
     "end_time": "2020-10-07T00:33:17.054791Z",
     "start_time": "2020-10-07T00:33:17.005536Z"
    }
   },
   "outputs": [],
   "source": [
    "vip_LR = pd.concat([wp_vip_LR, bk_vip_LR, gw_vip_LR])"
   ]
  },
  {
   "cell_type": "code",
   "execution_count": 107,
   "metadata": {
    "ExecuteTime": {
     "end_time": "2020-10-01T00:50:13.897874Z",
     "start_time": "2020-10-01T00:49:19.821589Z"
    }
   },
   "outputs": [],
   "source": [
    "vip_lower = vip_LR.groupby(['Included', 'category',\n",
    "                         'dataset'])['USLR'].apply(lambda x: ci(sns.algorithms.bootstrap(x), \n",
    "                                                                           which=95)[0]).reset_index()\n",
    "vip_upper = vip_LR.groupby(['Included', 'category',\n",
    "                         'dataset'])['USLR'].apply(lambda x: ci(sns.algorithms.bootstrap(x), \n",
    "                                                                           which=95)[1]).reset_index()\n",
    "vip_mid = vip_LR.groupby(['Included', 'category', 'dataset'])['USLR'].mean().reset_index()\n",
    "vip_USLR = reduce(lambda df1,df2: pd.merge(df1,df2,on=['Included', 'category', 'dataset']), [vip_mid, vip_lower, vip_upper])\n",
    "vip_USLR.columns = ['included', 'category', 'dataset', 'mean', 'lower', 'upper']\n",
    "vip_USLR['LR'] = 'USLR'"
   ]
  },
  {
   "cell_type": "code",
   "execution_count": 108,
   "metadata": {
    "ExecuteTime": {
     "end_time": "2020-10-01T00:51:14.849656Z",
     "start_time": "2020-10-01T00:50:18.656701Z"
    }
   },
   "outputs": [],
   "source": [
    "vip_lower = vip_LR.groupby(['Included', 'category',\n",
    "                         'dataset'])['SLR'].apply(lambda x: ci(sns.algorithms.bootstrap(x), \n",
    "                                                                           which=95)[0]).reset_index()\n",
    "vip_upper = vip_LR.groupby(['Included', 'category',\n",
    "                         'dataset'])['SLR'].apply(lambda x: ci(sns.algorithms.bootstrap(x), \n",
    "                                                                           which=95)[1]).reset_index()\n",
    "vip_mid = vip_LR.groupby(['Included', 'category', 'dataset'])['SLR'].mean().reset_index()\n",
    "\n",
    "vip_SLR = reduce(lambda df1,df2: pd.merge(df1,df2,on=['Included', 'category', 'dataset']), [vip_mid, vip_lower, vip_upper])\n",
    "vip_SLR.columns = ['included', 'category', 'dataset', 'mean', 'lower', 'upper']\n",
    "vip_SLR['LR'] = 'SLR'"
   ]
  },
  {
   "cell_type": "code",
   "execution_count": 109,
   "metadata": {
    "ExecuteTime": {
     "end_time": "2020-10-01T00:51:18.158055Z",
     "start_time": "2020-10-01T00:51:18.124850Z"
    }
   },
   "outputs": [],
   "source": [
    "vip_LR_final = pd.concat([vip_USLR, vip_SLR])"
   ]
  },
  {
   "cell_type": "code",
   "execution_count": 110,
   "metadata": {
    "ExecuteTime": {
     "end_time": "2020-10-01T00:51:21.248475Z",
     "start_time": "2020-10-01T00:51:21.201082Z"
    }
   },
   "outputs": [],
   "source": [
    "# vip_LR_final.to_csv('final/150_all_LR_CP.csv', index=False)\n",
    "# vip_LR_final.to_csv('final/150_all_LR_MeetupNp.csv', index=False)\n",
    "# vip_LR_final.to_csv('final/150_all_LR_FreqNp.csv', index=False)\n",
    "\n",
    "vip_LR_final.to_csv('final/150_all_cumulative_LR_MeetupNp.csv', index=False)\n",
    "\n",
    "# vip_LR_final.to_csv('final/150_all_cumulative_LR_FreqNp.csv', index=False)"
   ]
  },
  {
   "cell_type": "code",
   "execution_count": 72,
   "metadata": {
    "ExecuteTime": {
     "end_time": "2020-10-07T00:35:42.315739Z",
     "start_time": "2020-10-07T00:35:42.283737Z"
    }
   },
   "outputs": [
    {
     "data": {
      "text/plain": [
       "['CB-1H-MFN', 'CB-1D-MFN', 'TFN', 'SW-24H-MFN']"
      ]
     },
     "execution_count": 72,
     "metadata": {},
     "output_type": "execute_result"
    }
   ],
   "source": [
    "category"
   ]
  },
  {
   "cell_type": "code",
   "execution_count": 107,
   "metadata": {
    "ExecuteTime": {
     "end_time": "2020-10-07T01:30:28.871314Z",
     "start_time": "2020-10-07T01:30:27.356234Z"
    }
   },
   "outputs": [
    {
     "name": "stdout",
     "output_type": "stream",
     "text": [
      "Weeplace 271 95.08771929824562 285\n",
      "BrightKite 59 89.39393939393939 66\n",
      "Gowalla 131 92.25352112676056 142\n"
     ]
    }
   ],
   "source": [
    "for ds in ds_list:\n",
    "    count_t = 0\n",
    "    df_temp = vip_LR[vip_LR['dataset'] == ds]\n",
    "    ur_ds = df_temp['userid'].unique().tolist()\n",
    "    for user in ur_ds:\n",
    "        temp_user = df_temp[df_temp['userid'] == user]\n",
    "        MFN_H = temp_user[temp_user['category'] == category[0]]['USLR']\n",
    "        TFN = temp_user[temp_user['category'] == category[2]]['USLR']\n",
    "        \n",
    "        coef_t, p_t = ttest_ind(MFN_H, TFN)  \n",
    "        \n",
    "        if p_t > 0.05:\n",
    "            count_t +=1\n",
    "    \n",
    "    print(ds, count_t, count_t/len(ur_ds)*100, len(ur_ds))"
   ]
  },
  {
   "cell_type": "markdown",
   "metadata": {},
   "source": [
    "# H-MFN vs TFN Cross validation"
   ]
  },
  {
   "cell_type": "code",
   "execution_count": 112,
   "metadata": {
    "ExecuteTime": {
     "end_time": "2020-10-07T21:06:15.817586Z",
     "start_time": "2020-10-07T21:06:13.626542Z"
    }
   },
   "outputs": [],
   "source": [
    "wp_vip_cv =  pd.read_csv('final/wp-150-cv/wp_join_vip10_CV_MeetupNp.csv')\n",
    "wp_vip_cv['dataset'] = 'Weeplace'\n",
    "\n",
    "bk_vip_cv = pd.read_csv('final/bk-150-cv/bk_join_vip10_CV_MeetupNp.csv')\n",
    "bk_vip_cv['dataset'] = 'BrightKite'\n",
    "\n",
    "gw_vip_cv = pd.read_csv('final/gws-150-cv/gws_join_vip10_CV_MeetupNp.csv')\n",
    "gw_vip_cv['dataset'] = 'Gowalla'"
   ]
  },
  {
   "cell_type": "code",
   "execution_count": 113,
   "metadata": {
    "ExecuteTime": {
     "end_time": "2020-10-07T21:06:21.140806Z",
     "start_time": "2020-10-07T21:06:20.809414Z"
    }
   },
   "outputs": [],
   "source": [
    "vip_CV = pd.concat([wp_vip_cv, bk_vip_cv, gw_vip_cv])"
   ]
  },
  {
   "cell_type": "code",
   "execution_count": 117,
   "metadata": {
    "ExecuteTime": {
     "end_time": "2020-10-07T21:21:49.691178Z",
     "start_time": "2020-10-07T21:19:35.923255Z"
    }
   },
   "outputs": [],
   "source": [
    "vip_lower = vip_CV.groupby(['Included', 'category',\n",
    "                         'dataset'])['Pi_alters_ratio'].apply(lambda x: ci(sns.algorithms.bootstrap(x), \n",
    "                                                                           which=95)[0]).reset_index()\n",
    "vip_upper = vip_CV.groupby(['Included', 'category',\n",
    "                         'dataset'])['Pi_alters_ratio'].apply(lambda x: ci(sns.algorithms.bootstrap(x), \n",
    "                                                                           which=95)[1]).reset_index()\n",
    "vip_mid = vip_CV.groupby(['Included', 'category', 'dataset'])['Pi_alters_ratio'].mean().reset_index()\n",
    "vip_CV_final = reduce(lambda df1,df2: pd.merge(df1,df2,on=['Included', 'category', 'dataset']), [vip_mid, vip_lower, vip_upper])\n",
    "vip_CV_final.columns = ['included', 'category', 'dataset', 'mean', 'lower', 'upper']"
   ]
  },
  {
   "cell_type": "code",
   "execution_count": 118,
   "metadata": {
    "ExecuteTime": {
     "end_time": "2020-10-07T21:21:59.271511Z",
     "start_time": "2020-10-07T21:21:59.238829Z"
    },
    "scrolled": false
   },
   "outputs": [],
   "source": [
    "vip_CV_final.to_csv('final/150_all_CV_MeetupNp.csv', index=False)"
   ]
  },
  {
   "cell_type": "code",
   "execution_count": null,
   "metadata": {},
   "outputs": [],
   "source": []
  }
 ],
 "metadata": {
  "kernelspec": {
   "display_name": "Python 3",
   "language": "python",
   "name": "python3"
  },
  "language_info": {
   "codemirror_mode": {
    "name": "ipython",
    "version": 3
   },
   "file_extension": ".py",
   "mimetype": "text/x-python",
   "name": "python",
   "nbconvert_exporter": "python",
   "pygments_lexer": "ipython3",
   "version": "3.6.10"
  }
 },
 "nbformat": 4,
 "nbformat_minor": 4
}
