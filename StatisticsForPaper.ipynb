{
 "cells": [
  {
   "cell_type": "code",
   "execution_count": 1,
   "metadata": {
    "ExecuteTime": {
     "end_time": "2020-09-07T16:42:56.452295Z",
     "start_time": "2020-09-07T16:42:55.202080Z"
    }
   },
   "outputs": [],
   "source": [
    "import seaborn as sns\n",
    "import visualization as vs\n",
    "import pandas as pd\n",
    "import numpy as np\n",
    "%load_ext autoreload\n",
    "%autoreload 2"
   ]
  },
  {
   "cell_type": "code",
   "execution_count": 2,
   "metadata": {
    "ExecuteTime": {
     "end_time": "2020-09-07T16:42:59.333489Z",
     "start_time": "2020-09-07T16:42:59.292320Z"
    }
   },
   "outputs": [],
   "source": [
    "from scipy import stats\n",
    "from functools import reduce\n",
    "from seaborn.utils import ci"
   ]
  },
  {
   "cell_type": "code",
   "execution_count": 62,
   "metadata": {
    "ExecuteTime": {
     "end_time": "2020-09-18T22:21:53.356032Z",
     "start_time": "2020-09-18T22:21:53.313861Z"
    }
   },
   "outputs": [],
   "source": [
    "from scipy.stats import spearmanr\n",
    "from scipy.stats import kendalltau\n",
    "from scipy.stats import wilcoxon\n",
    "from scipy.stats import mannwhitneyu"
   ]
  },
  {
   "cell_type": "markdown",
   "metadata": {},
   "source": [
    "# H-MFN"
   ]
  },
  {
   "cell_type": "code",
   "execution_count": 3,
   "metadata": {
    "ExecuteTime": {
     "end_time": "2020-09-07T16:43:01.901414Z",
     "start_time": "2020-09-07T16:43:01.632713Z"
    }
   },
   "outputs": [],
   "source": [
    "# wp_final = pd.read_csv(\"final/wp-150/wp-H-MFN.csv\")\n",
    "# bk_final = pd.read_csv(\"final/bk-150/bk-H-MFN.csv\")\n",
    "# gw_final = pd.read_csv(\"final/gws-150/gws-H-MFN.csv\")\n",
    "\n",
    "wp_final = pd.read_csv(\"final/wp-150/wp-H-2-10-CP-MFN.csv\")\n",
    "bk_final = pd.read_csv(\"final/bk-150/bk-H-2-10-CP-MFN.csv\")\n",
    "gw_final = pd.read_csv(\"final/gws-150/gws-H-2-10-CP-MFN.csv\")\n",
    "\n",
    "wp_final['dataset'] = \"Weeplace\"\n",
    "bk_final['dataset'] = \"BrightKite\"\n",
    "gw_final['dataset'] =  \"Gowalla\""
   ]
  },
  {
   "cell_type": "code",
   "execution_count": 4,
   "metadata": {
    "ExecuteTime": {
     "end_time": "2020-09-07T16:43:06.604652Z",
     "start_time": "2020-09-07T16:43:06.559626Z"
    }
   },
   "outputs": [],
   "source": [
    "def transform_df(df_H_MFN):\n",
    "    df_H_MFN = df_H_MFN[['Included Rank','userid_y', 'CCE_alters', 'CCE_ego_alters', 'Pi_alters', 'Pi_ego_alters', \n",
    "                                     'LZ_entropy', 'Pi', 'n_meetupers_x', 'n_meetupers_y', 'userid_x', 'dataset']]\n",
    "    df_H_MFN = df_H_MFN.rename({'Included Rank': 'Included', \n",
    "                                'userid_x': 'userid',\n",
    "                                'Pi': 'Pi_ego'}, axis=1)\n",
    "    df_H_MFN['Pi_alters_ratio'] = df_H_MFN['Pi_alters'] / df_H_MFN['Pi_ego'] \n",
    "    df_H_MFN['Pi_ego_alters_ratio'] = df_H_MFN['Pi_ego_alters'] / df_H_MFN['Pi_ego'] \n",
    "    return df_H_MFN"
   ]
  },
  {
   "cell_type": "code",
   "execution_count": 5,
   "metadata": {
    "ExecuteTime": {
     "end_time": "2020-09-07T16:43:09.401468Z",
     "start_time": "2020-09-07T16:43:09.272439Z"
    }
   },
   "outputs": [],
   "source": [
    "df_final = transform_df(pd.concat([wp_final, bk_final, gw_final]))"
   ]
  },
  {
   "cell_type": "code",
   "execution_count": 6,
   "metadata": {
    "ExecuteTime": {
     "end_time": "2020-09-07T16:43:13.658949Z",
     "start_time": "2020-09-07T16:43:13.608858Z"
    }
   },
   "outputs": [],
   "source": [
    "df_used = df_final[(df_final['Included'] <=10) & (df_final['n_meetupers_x']>=10)]"
   ]
  },
  {
   "cell_type": "code",
   "execution_count": 7,
   "metadata": {
    "ExecuteTime": {
     "end_time": "2020-09-07T16:43:31.617469Z",
     "start_time": "2020-09-07T16:43:16.894411Z"
    }
   },
   "outputs": [],
   "source": [
    "lower = df_used.groupby(['Included', \n",
    "                         'dataset'])['Pi_alters_ratio'].apply(lambda x: ci(sns.algorithms.bootstrap(x), \n",
    "                                                                           which=95)[0]).reset_index()\n",
    "upper = df_used.groupby(['Included', \n",
    "                         'dataset'])['Pi_alters_ratio'].apply(lambda x: ci(sns.algorithms.bootstrap(x), \n",
    "                                                                           which=95)[1]).reset_index()\n",
    "mid = df_used.groupby(['Included', 'dataset'])['Pi_alters_ratio'].mean().reset_index()"
   ]
  },
  {
   "cell_type": "code",
   "execution_count": 8,
   "metadata": {
    "ExecuteTime": {
     "end_time": "2020-09-07T16:43:35.836909Z",
     "start_time": "2020-09-07T16:43:35.768565Z"
    }
   },
   "outputs": [],
   "source": [
    "final = reduce(lambda df1,df2: pd.merge(df1,df2,on=['Included', 'dataset']), [mid, lower, upper])\n",
    "final.columns = ['included', 'dataset', 'mean', 'lower', 'upper']"
   ]
  },
  {
   "cell_type": "code",
   "execution_count": 9,
   "metadata": {
    "ExecuteTime": {
     "end_time": "2020-09-07T16:46:13.973908Z",
     "start_time": "2020-09-07T16:46:13.923714Z"
    }
   },
   "outputs": [],
   "source": [
    "final.to_csv('final/150_all_2_10_CP_H_MFN.csv', index=False)"
   ]
  },
  {
   "cell_type": "code",
   "execution_count": 29,
   "metadata": {
    "ExecuteTime": {
     "end_time": "2020-09-18T12:58:11.148510Z",
     "start_time": "2020-09-18T12:58:11.095427Z"
    }
   },
   "outputs": [],
   "source": [
    "# spearman test"
   ]
  },
  {
   "cell_type": "code",
   "execution_count": 36,
   "metadata": {
    "ExecuteTime": {
     "end_time": "2020-09-18T13:06:30.844145Z",
     "start_time": "2020-09-18T13:06:30.793826Z"
    }
   },
   "outputs": [],
   "source": [
    "ds_list = df_used['dataset'].unique().tolist()\n",
    "user_list = df_used['userid'].unique().tolist()"
   ]
  },
  {
   "cell_type": "code",
   "execution_count": 38,
   "metadata": {
    "ExecuteTime": {
     "end_time": "2020-09-18T13:08:16.305355Z",
     "start_time": "2020-09-18T13:08:16.208616Z"
    }
   },
   "outputs": [
    {
     "data": {
      "text/html": [
       "<div>\n",
       "<style scoped>\n",
       "    .dataframe tbody tr th:only-of-type {\n",
       "        vertical-align: middle;\n",
       "    }\n",
       "\n",
       "    .dataframe tbody tr th {\n",
       "        vertical-align: top;\n",
       "    }\n",
       "\n",
       "    .dataframe thead th {\n",
       "        text-align: right;\n",
       "    }\n",
       "</style>\n",
       "<table border=\"1\" class=\"dataframe\">\n",
       "  <thead>\n",
       "    <tr style=\"text-align: right;\">\n",
       "      <th></th>\n",
       "      <th>Included</th>\n",
       "      <th>userid_y</th>\n",
       "      <th>CCE_alters</th>\n",
       "      <th>CCE_ego_alters</th>\n",
       "      <th>Pi_alters</th>\n",
       "      <th>Pi_ego_alters</th>\n",
       "      <th>LZ_entropy</th>\n",
       "      <th>Pi_ego</th>\n",
       "      <th>n_meetupers_x</th>\n",
       "      <th>n_meetupers_y</th>\n",
       "      <th>userid</th>\n",
       "      <th>dataset</th>\n",
       "      <th>Pi_alters_ratio</th>\n",
       "      <th>Pi_ego_alters_ratio</th>\n",
       "    </tr>\n",
       "  </thead>\n",
       "  <tbody>\n",
       "    <tr>\n",
       "      <th>0</th>\n",
       "      <td>1</td>\n",
       "      <td>moyashi</td>\n",
       "      <td>4.480851</td>\n",
       "      <td>2.819234</td>\n",
       "      <td>0.572350</td>\n",
       "      <td>0.753660</td>\n",
       "      <td>2.981229</td>\n",
       "      <td>0.737002</td>\n",
       "      <td>130</td>\n",
       "      <td>130</td>\n",
       "      <td>26</td>\n",
       "      <td>Weeplace</td>\n",
       "      <td>0.776592</td>\n",
       "      <td>1.022603</td>\n",
       "    </tr>\n",
       "    <tr>\n",
       "      <th>1</th>\n",
       "      <td>2</td>\n",
       "      <td>shino-japan</td>\n",
       "      <td>3.896997</td>\n",
       "      <td>2.726172</td>\n",
       "      <td>0.638740</td>\n",
       "      <td>0.763132</td>\n",
       "      <td>2.981229</td>\n",
       "      <td>0.737002</td>\n",
       "      <td>130</td>\n",
       "      <td>130</td>\n",
       "      <td>26</td>\n",
       "      <td>Weeplace</td>\n",
       "      <td>0.866674</td>\n",
       "      <td>1.035455</td>\n",
       "    </tr>\n",
       "    <tr>\n",
       "      <th>2</th>\n",
       "      <td>3</td>\n",
       "      <td>kazu-skywalker</td>\n",
       "      <td>3.737099</td>\n",
       "      <td>2.655491</td>\n",
       "      <td>0.656403</td>\n",
       "      <td>0.770278</td>\n",
       "      <td>2.981229</td>\n",
       "      <td>0.737002</td>\n",
       "      <td>130</td>\n",
       "      <td>130</td>\n",
       "      <td>26</td>\n",
       "      <td>Weeplace</td>\n",
       "      <td>0.890640</td>\n",
       "      <td>1.045150</td>\n",
       "    </tr>\n",
       "    <tr>\n",
       "      <th>3</th>\n",
       "      <td>4</td>\n",
       "      <td>hirotomo</td>\n",
       "      <td>3.701004</td>\n",
       "      <td>2.606340</td>\n",
       "      <td>0.660360</td>\n",
       "      <td>0.775222</td>\n",
       "      <td>2.981229</td>\n",
       "      <td>0.737002</td>\n",
       "      <td>130</td>\n",
       "      <td>130</td>\n",
       "      <td>26</td>\n",
       "      <td>Weeplace</td>\n",
       "      <td>0.896009</td>\n",
       "      <td>1.051859</td>\n",
       "    </tr>\n",
       "    <tr>\n",
       "      <th>4</th>\n",
       "      <td>5</td>\n",
       "      <td>mb6885</td>\n",
       "      <td>3.682320</td>\n",
       "      <td>2.568332</td>\n",
       "      <td>0.662404</td>\n",
       "      <td>0.779032</td>\n",
       "      <td>2.981229</td>\n",
       "      <td>0.737002</td>\n",
       "      <td>130</td>\n",
       "      <td>130</td>\n",
       "      <td>26</td>\n",
       "      <td>Weeplace</td>\n",
       "      <td>0.898783</td>\n",
       "      <td>1.057028</td>\n",
       "    </tr>\n",
       "    <tr>\n",
       "      <th>...</th>\n",
       "      <td>...</td>\n",
       "      <td>...</td>\n",
       "      <td>...</td>\n",
       "      <td>...</td>\n",
       "      <td>...</td>\n",
       "      <td>...</td>\n",
       "      <td>...</td>\n",
       "      <td>...</td>\n",
       "      <td>...</td>\n",
       "      <td>...</td>\n",
       "      <td>...</td>\n",
       "      <td>...</td>\n",
       "      <td>...</td>\n",
       "      <td>...</td>\n",
       "    </tr>\n",
       "    <tr>\n",
       "      <th>11452</th>\n",
       "      <td>6</td>\n",
       "      <td>6592</td>\n",
       "      <td>6.624965</td>\n",
       "      <td>5.151428</td>\n",
       "      <td>0.254380</td>\n",
       "      <td>0.466523</td>\n",
       "      <td>5.625357</td>\n",
       "      <td>0.402543</td>\n",
       "      <td>20</td>\n",
       "      <td>20</td>\n",
       "      <td>127119</td>\n",
       "      <td>Gowalla</td>\n",
       "      <td>0.631932</td>\n",
       "      <td>1.158941</td>\n",
       "    </tr>\n",
       "    <tr>\n",
       "      <th>11453</th>\n",
       "      <td>7</td>\n",
       "      <td>81</td>\n",
       "      <td>6.611641</td>\n",
       "      <td>5.114609</td>\n",
       "      <td>0.256513</td>\n",
       "      <td>0.471363</td>\n",
       "      <td>5.625357</td>\n",
       "      <td>0.402543</td>\n",
       "      <td>20</td>\n",
       "      <td>20</td>\n",
       "      <td>127119</td>\n",
       "      <td>Gowalla</td>\n",
       "      <td>0.637232</td>\n",
       "      <td>1.170963</td>\n",
       "    </tr>\n",
       "    <tr>\n",
       "      <th>11454</th>\n",
       "      <td>8</td>\n",
       "      <td>36514</td>\n",
       "      <td>6.598962</td>\n",
       "      <td>5.091129</td>\n",
       "      <td>0.258539</td>\n",
       "      <td>0.474439</td>\n",
       "      <td>5.625357</td>\n",
       "      <td>0.402543</td>\n",
       "      <td>20</td>\n",
       "      <td>20</td>\n",
       "      <td>127119</td>\n",
       "      <td>Gowalla</td>\n",
       "      <td>0.642264</td>\n",
       "      <td>1.178606</td>\n",
       "    </tr>\n",
       "    <tr>\n",
       "      <th>11455</th>\n",
       "      <td>9</td>\n",
       "      <td>39697</td>\n",
       "      <td>6.595868</td>\n",
       "      <td>5.085553</td>\n",
       "      <td>0.259032</td>\n",
       "      <td>0.475169</td>\n",
       "      <td>5.625357</td>\n",
       "      <td>0.402543</td>\n",
       "      <td>20</td>\n",
       "      <td>20</td>\n",
       "      <td>127119</td>\n",
       "      <td>Gowalla</td>\n",
       "      <td>0.643489</td>\n",
       "      <td>1.180418</td>\n",
       "    </tr>\n",
       "    <tr>\n",
       "      <th>11456</th>\n",
       "      <td>10</td>\n",
       "      <td>25894</td>\n",
       "      <td>6.592411</td>\n",
       "      <td>5.066809</td>\n",
       "      <td>0.259583</td>\n",
       "      <td>0.477619</td>\n",
       "      <td>5.625357</td>\n",
       "      <td>0.402543</td>\n",
       "      <td>20</td>\n",
       "      <td>20</td>\n",
       "      <td>127119</td>\n",
       "      <td>Gowalla</td>\n",
       "      <td>0.644859</td>\n",
       "      <td>1.186504</td>\n",
       "    </tr>\n",
       "  </tbody>\n",
       "</table>\n",
       "<p>11870 rows × 14 columns</p>\n",
       "</div>"
      ],
      "text/plain": [
       "       Included        userid_y  CCE_alters  CCE_ego_alters  Pi_alters  \\\n",
       "0             1         moyashi    4.480851        2.819234   0.572350   \n",
       "1             2     shino-japan    3.896997        2.726172   0.638740   \n",
       "2             3  kazu-skywalker    3.737099        2.655491   0.656403   \n",
       "3             4        hirotomo    3.701004        2.606340   0.660360   \n",
       "4             5          mb6885    3.682320        2.568332   0.662404   \n",
       "...         ...             ...         ...             ...        ...   \n",
       "11452         6            6592    6.624965        5.151428   0.254380   \n",
       "11453         7              81    6.611641        5.114609   0.256513   \n",
       "11454         8           36514    6.598962        5.091129   0.258539   \n",
       "11455         9           39697    6.595868        5.085553   0.259032   \n",
       "11456        10           25894    6.592411        5.066809   0.259583   \n",
       "\n",
       "       Pi_ego_alters  LZ_entropy    Pi_ego  n_meetupers_x  n_meetupers_y  \\\n",
       "0           0.753660    2.981229  0.737002            130            130   \n",
       "1           0.763132    2.981229  0.737002            130            130   \n",
       "2           0.770278    2.981229  0.737002            130            130   \n",
       "3           0.775222    2.981229  0.737002            130            130   \n",
       "4           0.779032    2.981229  0.737002            130            130   \n",
       "...              ...         ...       ...            ...            ...   \n",
       "11452       0.466523    5.625357  0.402543             20             20   \n",
       "11453       0.471363    5.625357  0.402543             20             20   \n",
       "11454       0.474439    5.625357  0.402543             20             20   \n",
       "11455       0.475169    5.625357  0.402543             20             20   \n",
       "11456       0.477619    5.625357  0.402543             20             20   \n",
       "\n",
       "       userid   dataset  Pi_alters_ratio  Pi_ego_alters_ratio  \n",
       "0          26  Weeplace         0.776592             1.022603  \n",
       "1          26  Weeplace         0.866674             1.035455  \n",
       "2          26  Weeplace         0.890640             1.045150  \n",
       "3          26  Weeplace         0.896009             1.051859  \n",
       "4          26  Weeplace         0.898783             1.057028  \n",
       "...       ...       ...              ...                  ...  \n",
       "11452  127119   Gowalla         0.631932             1.158941  \n",
       "11453  127119   Gowalla         0.637232             1.170963  \n",
       "11454  127119   Gowalla         0.642264             1.178606  \n",
       "11455  127119   Gowalla         0.643489             1.180418  \n",
       "11456  127119   Gowalla         0.644859             1.186504  \n",
       "\n",
       "[11870 rows x 14 columns]"
      ]
     },
     "execution_count": 38,
     "metadata": {},
     "output_type": "execute_result"
    }
   ],
   "source": [
    "df_used"
   ]
  },
  {
   "cell_type": "code",
   "execution_count": 53,
   "metadata": {
    "ExecuteTime": {
     "end_time": "2020-09-18T14:47:10.184246Z",
     "start_time": "2020-09-18T14:47:07.112077Z"
    },
    "scrolled": true
   },
   "outputs": [
    {
     "name": "stdout",
     "output_type": "stream",
     "text": [
      "Weeplace 516 0.6834437086092715 526 0.6966887417218544 755\n",
      "BrightKite 60 0.3468208092485549 58 0.3352601156069364 173\n",
      "Gowalla 203 0.7837837837837838 204 0.7876447876447876 259\n"
     ]
    }
   ],
   "source": [
    "for ds in ds_list:\n",
    "    count_sm = 0\n",
    "    count_kd = 0\n",
    "    df_temp = df_used[df_used['dataset'] == ds]\n",
    "    ur_ds = df_temp['userid'].unique().tolist()\n",
    "    for user in ur_ds:\n",
    "        rank = df_temp[df_temp['userid'] == user]['Included'].tolist()\n",
    "        Pi_alters_ratio = df_temp[df_temp['userid'] == user]['Pi_alters_ratio'].tolist()\n",
    "        \n",
    "        coef_sm, p_sm = spearmanr(rank, Pi_alters_ratio)\n",
    "        coef_kd, p_kd = kendalltau(rank, Pi_alters_ratio)     \n",
    "        \n",
    "        if (coef_sm > 0) & (p_sm < 0.01):\n",
    "            count_sm +=1\n",
    "        \n",
    "        if (coef_kd > 0) & (p_kd < 0.01):\n",
    "            count_kd +=1\n",
    "\n",
    "    print(ds, count_sm, count_sm/len(ur_ds), count_kd, count_kd/len(ur_ds),len(ur_ds))"
   ]
  },
  {
   "cell_type": "markdown",
   "metadata": {},
   "source": [
    "# All these MFNs and TFN (pointplot)"
   ]
  },
  {
   "cell_type": "code",
   "execution_count": 10,
   "metadata": {
    "ExecuteTime": {
     "end_time": "2020-09-07T20:56:03.433358Z",
     "start_time": "2020-09-07T20:56:02.646785Z"
    }
   },
   "outputs": [],
   "source": [
    "wp_all = pd.read_csv(\"final/wp-150/wp_shared_all_2_10_CP.csv\")\n",
    "bk_all = pd.read_csv(\"final/bk-150/bk_shared_all_2_10_CP.csv\")\n",
    "gw_all = pd.read_csv(\"final/gws-150/gws_shared_all_2_10_CP.csv\")\n",
    "wp_all['dataset'] = \"Weeplace\"\n",
    "bk_all['dataset'] = \"BrightKite\"\n",
    "gw_all['dataset'] =  \"Gowalla\""
   ]
  },
  {
   "cell_type": "code",
   "execution_count": 11,
   "metadata": {
    "ExecuteTime": {
     "end_time": "2020-09-07T20:56:05.390728Z",
     "start_time": "2020-09-07T20:56:05.277095Z"
    }
   },
   "outputs": [],
   "source": [
    "df_all = pd.concat([wp_all, bk_all, gw_all])"
   ]
  },
  {
   "cell_type": "code",
   "execution_count": 12,
   "metadata": {
    "ExecuteTime": {
     "end_time": "2020-09-07T20:56:08.104486Z",
     "start_time": "2020-09-07T20:56:07.959539Z"
    }
   },
   "outputs": [],
   "source": [
    "df_all_used = df_all[(df_all['Included'] <=10) & (df_all['n_meetupers_x']>=10)]"
   ]
  },
  {
   "cell_type": "code",
   "execution_count": 50,
   "metadata": {
    "ExecuteTime": {
     "end_time": "2020-09-18T14:33:34.208600Z",
     "start_time": "2020-09-18T14:33:32.640580Z"
    }
   },
   "outputs": [
    {
     "data": {
      "text/plain": [
       "dataset     category   userid          \n",
       "BrightKite  CB-1D-MFN  0.0                   (0.8060606060606059, 0.004862061101964606)\n",
       "                       2.0                   (-0.3939393939393939, 0.25999776683488757)\n",
       "                       3.0                  (-0.8060606060606059, 0.004862061101964606)\n",
       "                       7.0                  (0.9999999999999999, 6.646897422032013e-64)\n",
       "                       11.0                (-0.8666666666666665, 0.0011735381801554687)\n",
       "                                                               ...                     \n",
       "Weeplace    TFN        yuna-park            (0.7939393939393938, 0.0060999233136969115)\n",
       "                       yuri-van-geest       (0.8181818181818182, 0.0038149200825507135)\n",
       "                       zach-linder          (0.9636363636363635, 7.320974809529922e-06)\n",
       "                       zachariah-schaap      (0.7818181818181817, 0.007547007781067878)\n",
       "                       zachary-blank        (0.9878787878787878, 9.307459988955517e-08)\n",
       "Length: 2000, dtype: object"
      ]
     },
     "execution_count": 50,
     "metadata": {},
     "output_type": "execute_result"
    }
   ],
   "source": [
    "df_all_used.groupby(['dataset', 'category', 'userid']).apply(lambda row: spearmanr(row.Included, row.Pi_alters_ratio))"
   ]
  },
  {
   "cell_type": "code",
   "execution_count": 51,
   "metadata": {
    "ExecuteTime": {
     "end_time": "2020-09-18T14:39:21.716218Z",
     "start_time": "2020-09-18T14:39:21.673887Z"
    }
   },
   "outputs": [],
   "source": [
    "category = list(set(df_all_used['category'].tolist()))"
   ]
  },
  {
   "cell_type": "code",
   "execution_count": 54,
   "metadata": {
    "ExecuteTime": {
     "end_time": "2020-09-18T14:49:53.315929Z",
     "start_time": "2020-09-18T14:49:48.163520Z"
    }
   },
   "outputs": [
    {
     "name": "stdout",
     "output_type": "stream",
     "text": [
      "Weeplace SW-24H-MFN 262 0.9065743944636678 261 0.903114186851211 289\n",
      "Weeplace CB-1D-MFN 251 0.8685121107266436 250 0.8650519031141869 289\n",
      "Weeplace CB-1H-MFN 218 0.754325259515571 223 0.7716262975778547 289\n",
      "Weeplace TFN 200 0.6920415224913494 206 0.71280276816609 289\n",
      "BrightKite SW-24H-MFN 34 0.5151515151515151 32 0.48484848484848486 66\n",
      "BrightKite CB-1D-MFN 35 0.5303030303030303 34 0.5151515151515151 66\n",
      "BrightKite CB-1H-MFN 29 0.4393939393939394 29 0.4393939393939394 66\n",
      "BrightKite TFN 32 0.48484848484848486 33 0.5 66\n",
      "Gowalla SW-24H-MFN 140 0.9655172413793104 140 0.9655172413793104 145\n",
      "Gowalla CB-1D-MFN 139 0.9586206896551724 140 0.9655172413793104 145\n",
      "Gowalla CB-1H-MFN 113 0.7793103448275862 116 0.8 145\n",
      "Gowalla TFN 114 0.7862068965517242 117 0.8068965517241379 145\n"
     ]
    }
   ],
   "source": [
    "result = []\n",
    "for ds in ds_list:\n",
    "    for cat in category:\n",
    "        count_sm = 0\n",
    "        count_kd = 0\n",
    "        count_mw = 0\n",
    "        \n",
    "        df_temp = df_all_used[(df_all_used['dataset'] == ds) & (df_all_used['category'] == cat)]\n",
    "        ur_ds = df_temp['userid'].unique().tolist()\n",
    "        for user in ur_ds:\n",
    "            rank = df_temp[df_temp['userid'] == user]['Included'].tolist()\n",
    "            Pi_alters_ratio = df_temp[df_temp['userid'] == user]['Pi_alters_ratio'].tolist()\n",
    "\n",
    "            coef_sm, p_sm = spearmanr(rank, Pi_alters_ratio)\n",
    "            coef_kd, p_kd = kendalltau(rank, Pi_alters_ratio)  \n",
    "            mannwhitneyu\n",
    "            \n",
    "\n",
    "            if (coef_sm > 0) & (p_sm < 0.01):\n",
    "                count_sm +=1\n",
    "\n",
    "            if (coef_kd > 0) & (p_kd < 0.01):\n",
    "                count_kd +=1\n",
    "\n",
    "        print(ds, cat, count_sm, count_sm/len(ur_ds), count_kd, count_kd/len(ur_ds),len(ur_ds))\n",
    "        result.append([ds, cat, count_sm, count_sm/len(ur_ds), count_kd, count_kd/len(ur_ds),len(ur_ds)])"
   ]
  },
  {
   "cell_type": "code",
   "execution_count": 56,
   "metadata": {
    "ExecuteTime": {
     "end_time": "2020-09-18T14:50:58.560362Z",
     "start_time": "2020-09-18T14:50:58.496427Z"
    }
   },
   "outputs": [
    {
     "data": {
      "text/html": [
       "<div>\n",
       "<style scoped>\n",
       "    .dataframe tbody tr th:only-of-type {\n",
       "        vertical-align: middle;\n",
       "    }\n",
       "\n",
       "    .dataframe tbody tr th {\n",
       "        vertical-align: top;\n",
       "    }\n",
       "\n",
       "    .dataframe thead th {\n",
       "        text-align: right;\n",
       "    }\n",
       "</style>\n",
       "<table border=\"1\" class=\"dataframe\">\n",
       "  <thead>\n",
       "    <tr style=\"text-align: right;\">\n",
       "      <th></th>\n",
       "      <th>0</th>\n",
       "      <th>1</th>\n",
       "      <th>2</th>\n",
       "      <th>3</th>\n",
       "      <th>4</th>\n",
       "      <th>5</th>\n",
       "      <th>6</th>\n",
       "    </tr>\n",
       "  </thead>\n",
       "  <tbody>\n",
       "    <tr>\n",
       "      <th>0</th>\n",
       "      <td>Weeplace</td>\n",
       "      <td>SW-24H-MFN</td>\n",
       "      <td>262</td>\n",
       "      <td>0.906574</td>\n",
       "      <td>261</td>\n",
       "      <td>0.903114</td>\n",
       "      <td>289</td>\n",
       "    </tr>\n",
       "    <tr>\n",
       "      <th>1</th>\n",
       "      <td>Weeplace</td>\n",
       "      <td>CB-1D-MFN</td>\n",
       "      <td>251</td>\n",
       "      <td>0.868512</td>\n",
       "      <td>250</td>\n",
       "      <td>0.865052</td>\n",
       "      <td>289</td>\n",
       "    </tr>\n",
       "    <tr>\n",
       "      <th>2</th>\n",
       "      <td>Weeplace</td>\n",
       "      <td>CB-1H-MFN</td>\n",
       "      <td>218</td>\n",
       "      <td>0.754325</td>\n",
       "      <td>223</td>\n",
       "      <td>0.771626</td>\n",
       "      <td>289</td>\n",
       "    </tr>\n",
       "    <tr>\n",
       "      <th>3</th>\n",
       "      <td>Weeplace</td>\n",
       "      <td>TFN</td>\n",
       "      <td>200</td>\n",
       "      <td>0.692042</td>\n",
       "      <td>206</td>\n",
       "      <td>0.712803</td>\n",
       "      <td>289</td>\n",
       "    </tr>\n",
       "    <tr>\n",
       "      <th>4</th>\n",
       "      <td>BrightKite</td>\n",
       "      <td>SW-24H-MFN</td>\n",
       "      <td>34</td>\n",
       "      <td>0.515152</td>\n",
       "      <td>32</td>\n",
       "      <td>0.484848</td>\n",
       "      <td>66</td>\n",
       "    </tr>\n",
       "    <tr>\n",
       "      <th>5</th>\n",
       "      <td>BrightKite</td>\n",
       "      <td>CB-1D-MFN</td>\n",
       "      <td>35</td>\n",
       "      <td>0.530303</td>\n",
       "      <td>34</td>\n",
       "      <td>0.515152</td>\n",
       "      <td>66</td>\n",
       "    </tr>\n",
       "    <tr>\n",
       "      <th>6</th>\n",
       "      <td>BrightKite</td>\n",
       "      <td>CB-1H-MFN</td>\n",
       "      <td>29</td>\n",
       "      <td>0.439394</td>\n",
       "      <td>29</td>\n",
       "      <td>0.439394</td>\n",
       "      <td>66</td>\n",
       "    </tr>\n",
       "    <tr>\n",
       "      <th>7</th>\n",
       "      <td>BrightKite</td>\n",
       "      <td>TFN</td>\n",
       "      <td>32</td>\n",
       "      <td>0.484848</td>\n",
       "      <td>33</td>\n",
       "      <td>0.500000</td>\n",
       "      <td>66</td>\n",
       "    </tr>\n",
       "    <tr>\n",
       "      <th>8</th>\n",
       "      <td>Gowalla</td>\n",
       "      <td>SW-24H-MFN</td>\n",
       "      <td>140</td>\n",
       "      <td>0.965517</td>\n",
       "      <td>140</td>\n",
       "      <td>0.965517</td>\n",
       "      <td>145</td>\n",
       "    </tr>\n",
       "    <tr>\n",
       "      <th>9</th>\n",
       "      <td>Gowalla</td>\n",
       "      <td>CB-1D-MFN</td>\n",
       "      <td>139</td>\n",
       "      <td>0.958621</td>\n",
       "      <td>140</td>\n",
       "      <td>0.965517</td>\n",
       "      <td>145</td>\n",
       "    </tr>\n",
       "    <tr>\n",
       "      <th>10</th>\n",
       "      <td>Gowalla</td>\n",
       "      <td>CB-1H-MFN</td>\n",
       "      <td>113</td>\n",
       "      <td>0.779310</td>\n",
       "      <td>116</td>\n",
       "      <td>0.800000</td>\n",
       "      <td>145</td>\n",
       "    </tr>\n",
       "    <tr>\n",
       "      <th>11</th>\n",
       "      <td>Gowalla</td>\n",
       "      <td>TFN</td>\n",
       "      <td>114</td>\n",
       "      <td>0.786207</td>\n",
       "      <td>117</td>\n",
       "      <td>0.806897</td>\n",
       "      <td>145</td>\n",
       "    </tr>\n",
       "  </tbody>\n",
       "</table>\n",
       "</div>"
      ],
      "text/plain": [
       "             0           1    2         3    4         5    6\n",
       "0     Weeplace  SW-24H-MFN  262  0.906574  261  0.903114  289\n",
       "1     Weeplace   CB-1D-MFN  251  0.868512  250  0.865052  289\n",
       "2     Weeplace   CB-1H-MFN  218  0.754325  223  0.771626  289\n",
       "3     Weeplace         TFN  200  0.692042  206  0.712803  289\n",
       "4   BrightKite  SW-24H-MFN   34  0.515152   32  0.484848   66\n",
       "5   BrightKite   CB-1D-MFN   35  0.530303   34  0.515152   66\n",
       "6   BrightKite   CB-1H-MFN   29  0.439394   29  0.439394   66\n",
       "7   BrightKite         TFN   32  0.484848   33  0.500000   66\n",
       "8      Gowalla  SW-24H-MFN  140  0.965517  140  0.965517  145\n",
       "9      Gowalla   CB-1D-MFN  139  0.958621  140  0.965517  145\n",
       "10     Gowalla   CB-1H-MFN  113  0.779310  116  0.800000  145\n",
       "11     Gowalla         TFN  114  0.786207  117  0.806897  145"
      ]
     },
     "execution_count": 56,
     "metadata": {},
     "output_type": "execute_result"
    }
   ],
   "source": [
    "pd.DataFrame(result)"
   ]
  },
  {
   "cell_type": "code",
   "execution_count": 59,
   "metadata": {
    "ExecuteTime": {
     "end_time": "2020-09-18T22:04:36.596500Z",
     "start_time": "2020-09-18T22:04:36.561568Z"
    }
   },
   "outputs": [
    {
     "data": {
      "text/plain": [
       "['SW-24H-MFN', 'CB-1D-MFN', 'CB-1H-MFN', 'TFN']"
      ]
     },
     "execution_count": 59,
     "metadata": {},
     "output_type": "execute_result"
    }
   ],
   "source": [
    "category"
   ]
  },
  {
   "cell_type": "code",
   "execution_count": 65,
   "metadata": {
    "ExecuteTime": {
     "end_time": "2020-09-18T22:31:42.860275Z",
     "start_time": "2020-09-18T22:31:42.736612Z"
    }
   },
   "outputs": [],
   "source": [
    "final = []\n",
    "for ds in ds_list:\n",
    "    df_temp = df_all_used[df_all_used['dataset'] == ds]\n",
    "\n",
    "    df_SW = df_temp[df_temp['category'] == category[0]]['Pi_alters_ratio']\n",
    "    df_1D = df_temp[df_temp['category'] == category[1]]['Pi_alters_ratio']\n",
    "    df_1H = df_temp[df_temp['category'] == category[2]]['Pi_alters_ratio']\n",
    "    df_T = df_temp[df_temp['category'] == category[3]]['Pi_alters_ratio']\n",
    "\n",
    "                               \n",
    "    stats_S_D, p_S_D = wilcoxon(df_SW, df_1D)\n",
    "    stats_S_H, p_S_H = wilcoxon(df_SW, df_1H)\n",
    "    stats_S_T, p_S_T = wilcoxon(df_SW, df_T)\n",
    "    \n",
    "    stats_D_H, p_D_H = wilcoxon(df_1D, df_1H)\n",
    "    stats_D_T, p_D_T = wilcoxon(df_1D, df_T)\n",
    "    \n",
    "    stats_H_T, p_H_T = wilcoxon(df_1H, df_T)\n",
    "\n",
    "#     stats_S_D, p_S_D =  mannwhitneyu(df_SW, df_1D)\n",
    "#     stats_S_H, p_S_H =  mannwhitneyu(df_SW, df_1H)\n",
    "#     stats_S_T, p_S_T =  mannwhitneyu(df_SW, df_T)\n",
    "    \n",
    "#     stats_D_H, p_D_H = mannwhitneyu(df_1D, df_1H)\n",
    "#     stats_D_T, p_D_T = mannwhitneyu(df_1D, df_T)\n",
    "    \n",
    "#     stats_H_T, p_H_T = mannwhitneyu(df_1H, df_T)\n",
    "    \n",
    "   \n",
    "\n",
    "    df_stats = pd.DataFrame([[stats_S_D, p_S_D ], \n",
    "                             [stats_S_H, p_S_H],\n",
    "                             [stats_S_T, p_S_T], \n",
    "                             [stats_D_H, p_D_H],\n",
    "                            [stats_D_T, p_D_T], \n",
    "                             [stats_H_T, p_H_T]\n",
    "                            ])\n",
    "    df_stats['dataset'] = ds\n",
    "    final.append(df_stats)\n",
    "final = pd.concat(final)"
   ]
  },
  {
   "cell_type": "code",
   "execution_count": 66,
   "metadata": {
    "ExecuteTime": {
     "end_time": "2020-09-18T22:31:50.151707Z",
     "start_time": "2020-09-18T22:31:50.102107Z"
    }
   },
   "outputs": [
    {
     "data": {
      "text/html": [
       "<div>\n",
       "<style scoped>\n",
       "    .dataframe tbody tr th:only-of-type {\n",
       "        vertical-align: middle;\n",
       "    }\n",
       "\n",
       "    .dataframe tbody tr th {\n",
       "        vertical-align: top;\n",
       "    }\n",
       "\n",
       "    .dataframe thead th {\n",
       "        text-align: right;\n",
       "    }\n",
       "</style>\n",
       "<table border=\"1\" class=\"dataframe\">\n",
       "  <thead>\n",
       "    <tr style=\"text-align: right;\">\n",
       "      <th></th>\n",
       "      <th>0</th>\n",
       "      <th>1</th>\n",
       "      <th>dataset</th>\n",
       "    </tr>\n",
       "  </thead>\n",
       "  <tbody>\n",
       "    <tr>\n",
       "      <th>0</th>\n",
       "      <td>780790.0</td>\n",
       "      <td>8.027565e-04</td>\n",
       "      <td>Weeplace</td>\n",
       "    </tr>\n",
       "    <tr>\n",
       "      <th>1</th>\n",
       "      <td>654561.0</td>\n",
       "      <td>4.178669e-187</td>\n",
       "      <td>Weeplace</td>\n",
       "    </tr>\n",
       "    <tr>\n",
       "      <th>2</th>\n",
       "      <td>737540.0</td>\n",
       "      <td>4.361357e-165</td>\n",
       "      <td>Weeplace</td>\n",
       "    </tr>\n",
       "    <tr>\n",
       "      <th>3</th>\n",
       "      <td>626505.0</td>\n",
       "      <td>2.013899e-192</td>\n",
       "      <td>Weeplace</td>\n",
       "    </tr>\n",
       "    <tr>\n",
       "      <th>4</th>\n",
       "      <td>726029.0</td>\n",
       "      <td>1.270496e-165</td>\n",
       "      <td>Weeplace</td>\n",
       "    </tr>\n",
       "    <tr>\n",
       "      <th>5</th>\n",
       "      <td>1604933.0</td>\n",
       "      <td>1.299756e-01</td>\n",
       "      <td>Weeplace</td>\n",
       "    </tr>\n",
       "    <tr>\n",
       "      <th>0</th>\n",
       "      <td>9628.0</td>\n",
       "      <td>8.707609e-17</td>\n",
       "      <td>BrightKite</td>\n",
       "    </tr>\n",
       "    <tr>\n",
       "      <th>1</th>\n",
       "      <td>20320.0</td>\n",
       "      <td>6.788675e-46</td>\n",
       "      <td>BrightKite</td>\n",
       "    </tr>\n",
       "    <tr>\n",
       "      <th>2</th>\n",
       "      <td>18966.0</td>\n",
       "      <td>2.435761e-61</td>\n",
       "      <td>BrightKite</td>\n",
       "    </tr>\n",
       "    <tr>\n",
       "      <th>3</th>\n",
       "      <td>25467.0</td>\n",
       "      <td>1.279541e-33</td>\n",
       "      <td>BrightKite</td>\n",
       "    </tr>\n",
       "    <tr>\n",
       "      <th>4</th>\n",
       "      <td>31116.0</td>\n",
       "      <td>3.992320e-44</td>\n",
       "      <td>BrightKite</td>\n",
       "    </tr>\n",
       "    <tr>\n",
       "      <th>5</th>\n",
       "      <td>60263.0</td>\n",
       "      <td>4.268018e-13</td>\n",
       "      <td>BrightKite</td>\n",
       "    </tr>\n",
       "    <tr>\n",
       "      <th>0</th>\n",
       "      <td>65189.0</td>\n",
       "      <td>9.282915e-16</td>\n",
       "      <td>Gowalla</td>\n",
       "    </tr>\n",
       "    <tr>\n",
       "      <th>1</th>\n",
       "      <td>60237.0</td>\n",
       "      <td>4.220405e-142</td>\n",
       "      <td>Gowalla</td>\n",
       "    </tr>\n",
       "    <tr>\n",
       "      <th>2</th>\n",
       "      <td>103974.0</td>\n",
       "      <td>4.143804e-101</td>\n",
       "      <td>Gowalla</td>\n",
       "    </tr>\n",
       "    <tr>\n",
       "      <th>3</th>\n",
       "      <td>65602.0</td>\n",
       "      <td>4.803825e-134</td>\n",
       "      <td>Gowalla</td>\n",
       "    </tr>\n",
       "    <tr>\n",
       "      <th>4</th>\n",
       "      <td>113456.0</td>\n",
       "      <td>3.296209e-90</td>\n",
       "      <td>Gowalla</td>\n",
       "    </tr>\n",
       "    <tr>\n",
       "      <th>5</th>\n",
       "      <td>322406.0</td>\n",
       "      <td>1.003199e-05</td>\n",
       "      <td>Gowalla</td>\n",
       "    </tr>\n",
       "  </tbody>\n",
       "</table>\n",
       "</div>"
      ],
      "text/plain": [
       "           0              1     dataset\n",
       "0   780790.0   8.027565e-04    Weeplace\n",
       "1   654561.0  4.178669e-187    Weeplace\n",
       "2   737540.0  4.361357e-165    Weeplace\n",
       "3   626505.0  2.013899e-192    Weeplace\n",
       "4   726029.0  1.270496e-165    Weeplace\n",
       "5  1604933.0   1.299756e-01    Weeplace\n",
       "0     9628.0   8.707609e-17  BrightKite\n",
       "1    20320.0   6.788675e-46  BrightKite\n",
       "2    18966.0   2.435761e-61  BrightKite\n",
       "3    25467.0   1.279541e-33  BrightKite\n",
       "4    31116.0   3.992320e-44  BrightKite\n",
       "5    60263.0   4.268018e-13  BrightKite\n",
       "0    65189.0   9.282915e-16     Gowalla\n",
       "1    60237.0  4.220405e-142     Gowalla\n",
       "2   103974.0  4.143804e-101     Gowalla\n",
       "3    65602.0  4.803825e-134     Gowalla\n",
       "4   113456.0   3.296209e-90     Gowalla\n",
       "5   322406.0   1.003199e-05     Gowalla"
      ]
     },
     "execution_count": 66,
     "metadata": {},
     "output_type": "execute_result"
    }
   ],
   "source": [
    "final"
   ]
  },
  {
   "cell_type": "code",
   "execution_count": 57,
   "metadata": {
    "ExecuteTime": {
     "end_time": "2020-09-18T21:53:00.297176Z",
     "start_time": "2020-09-18T21:53:00.254521Z"
    }
   },
   "outputs": [],
   "source": [
    "# CI computation"
   ]
  },
  {
   "cell_type": "code",
   "execution_count": 14,
   "metadata": {
    "ExecuteTime": {
     "end_time": "2020-09-07T20:57:08.149776Z",
     "start_time": "2020-09-07T20:56:14.959189Z"
    }
   },
   "outputs": [],
   "source": [
    "lower = df_all_used.groupby(['Included', 'category',\n",
    "                         'dataset'])['Pi_alters_ratio'].apply(lambda x: ci(sns.algorithms.bootstrap(x), \n",
    "                                                                           which=95)[0]).reset_index()\n",
    "upper = df_all_used.groupby(['Included', 'category',\n",
    "                         'dataset'])['Pi_alters_ratio'].apply(lambda x: ci(sns.algorithms.bootstrap(x), \n",
    "                                                                           which=95)[1]).reset_index()\n",
    "mid = df_all_used.groupby(['Included', 'category',\n",
    "                           'dataset'])['Pi_alters_ratio'].mean().reset_index()"
   ]
  },
  {
   "cell_type": "code",
   "execution_count": 15,
   "metadata": {
    "ExecuteTime": {
     "end_time": "2020-09-07T20:58:12.902264Z",
     "start_time": "2020-09-07T20:58:12.831320Z"
    }
   },
   "outputs": [],
   "source": [
    "all_final = reduce(lambda df1,df2: pd.merge(df1,df2,on=['Included', 'category', 'dataset']), [mid, lower, upper])\n",
    "all_final.columns = ['included', 'category', 'dataset', 'mean', 'lower', 'upper']"
   ]
  },
  {
   "cell_type": "code",
   "execution_count": 16,
   "metadata": {
    "ExecuteTime": {
     "end_time": "2020-09-07T20:58:16.374678Z",
     "start_time": "2020-09-07T20:58:16.328683Z"
    }
   },
   "outputs": [],
   "source": [
    "all_final.to_csv('final/150_all_category_CP.csv', index=False)"
   ]
  },
  {
   "cell_type": "markdown",
   "metadata": {},
   "source": [
    "# All these MFNs and TFN (Global Jaccard Similarity)"
   ]
  },
  {
   "cell_type": "code",
   "execution_count": 17,
   "metadata": {
    "ExecuteTime": {
     "end_time": "2020-09-07T20:58:23.710036Z",
     "start_time": "2020-09-07T20:58:23.669111Z"
    }
   },
   "outputs": [],
   "source": [
    "import pickle\n",
    "import matplotlib.pyplot as plt"
   ]
  },
  {
   "cell_type": "code",
   "execution_count": 18,
   "metadata": {
    "ExecuteTime": {
     "end_time": "2020-09-07T20:58:41.715830Z",
     "start_time": "2020-09-07T20:58:41.665908Z"
    }
   },
   "outputs": [],
   "source": [
    "pickle_in = open(\"final/wp-150/wp_VIP_similarity_CP.pickle\", \"rb\")\n",
    "wp_vip_similarity = pickle.load(pickle_in)\n",
    "pickle_in.close()\n",
    "\n",
    "pickle_in = open(\"final/bk-150/bk_VIP_similarity_CP.pickle\", \"rb\")\n",
    "bk_vip_similarity = pickle.load(pickle_in)\n",
    "pickle_in.close()\n",
    "\n",
    "pickle_in = open(\"final/gws-150/gws_VIP_similarity_CP.pickle\", \"rb\")\n",
    "gws_vip_similarity = pickle.load(pickle_in)\n",
    "pickle_in.close()"
   ]
  },
  {
   "cell_type": "code",
   "execution_count": 19,
   "metadata": {
    "ExecuteTime": {
     "end_time": "2020-09-07T20:58:45.176226Z",
     "start_time": "2020-09-07T20:58:45.136582Z"
    }
   },
   "outputs": [],
   "source": [
    "df = [bk_vip_similarity, gws_vip_similarity, wp_vip_similarity]"
   ]
  },
  {
   "cell_type": "code",
   "execution_count": 20,
   "metadata": {
    "ExecuteTime": {
     "end_time": "2020-09-07T20:58:47.778364Z",
     "start_time": "2020-09-07T20:58:47.738777Z"
    }
   },
   "outputs": [],
   "source": [
    "datasets = ['BrightKite', 'Gowalla', 'Weeplace']"
   ]
  },
  {
   "cell_type": "code",
   "execution_count": 21,
   "metadata": {
    "ExecuteTime": {
     "end_time": "2020-09-07T20:58:58.415013Z",
     "start_time": "2020-09-07T20:58:57.232608Z"
    }
   },
   "outputs": [
    {
     "name": "stderr",
     "output_type": "stream",
     "text": [
      "/opt/conda/lib/python3.6/site-packages/ipykernel_launcher.py:12: UserWarning: This figure includes Axes that are not compatible with tight_layout, so results might be incorrect.\n",
      "  if sys.path[0] == '':\n"
     ]
    },
    {
     "data": {
      "image/png": "[encoded data removed]",
      "text/plain": [
       "<Figure size 864x288 with 4 Axes>"
      ]
     },
     "metadata": {
      "needs_background": "light"
     },
     "output_type": "display_data"
    }
   ],
   "source": [
    "fig, axn = plt.subplots(1, 3, figsize=(12, 4), sharey=True)\n",
    "cbar_ax = fig.add_axes([.91, .3, .03, .4])\n",
    "for i, ax in enumerate(axn.flat):\n",
    "    sns.heatmap(df[i] , cmap=\"YlGnBu\", ax=ax, linewidths=.5, annot=True,\n",
    "                cbar=i == 0,\n",
    "                vmin=0, vmax=1,\n",
    "                cbar_ax=None if i else cbar_ax)\n",
    "    ax.xaxis.set_label_position('bottom')\n",
    "    ax.set_title(datasets[i], pad=15)\n",
    "    ax.set_xticklabels(ax.get_xticklabels(), rotation=45, ha='right')\n",
    "    \n",
    "fig.tight_layout(rect=[0, 0, .9, 1])\n",
    "plt.savefig('fig/VIP_similarity_CP.pdf')"
   ]
  },
  {
   "cell_type": "markdown",
   "metadata": {},
   "source": [
    "# VIP LR"
   ]
  },
  {
   "cell_type": "code",
   "execution_count": 22,
   "metadata": {
    "ExecuteTime": {
     "end_time": "2020-09-07T20:59:28.510960Z",
     "start_time": "2020-09-07T20:59:28.412988Z"
    }
   },
   "outputs": [],
   "source": [
    "wp_vip_LR =  pd.read_csv('final/wp-150/wp_VIP_LR_CP.csv')\n",
    "wp_vip_LR['dataset'] = 'Weeplace'\n",
    "\n",
    "bk_vip_LR = pd.read_csv('final/bk-150/bk_VIP_LR_CP.csv')\n",
    "bk_vip_LR['dataset'] = 'BrightKite'\n",
    "\n",
    "gw_vip_LR = pd.read_csv('final/gws-150/gws_VIP_LR_CP.csv')\n",
    "gw_vip_LR['dataset'] = 'Gowalla'"
   ]
  },
  {
   "cell_type": "code",
   "execution_count": 23,
   "metadata": {
    "ExecuteTime": {
     "end_time": "2020-09-07T20:59:30.950524Z",
     "start_time": "2020-09-07T20:59:30.896962Z"
    }
   },
   "outputs": [],
   "source": [
    "vip_LR = pd.concat([wp_vip_LR, bk_vip_LR, gw_vip_LR])"
   ]
  },
  {
   "cell_type": "code",
   "execution_count": 24,
   "metadata": {
    "ExecuteTime": {
     "end_time": "2020-09-07T20:59:33.161388Z",
     "start_time": "2020-09-07T20:59:33.091361Z"
    }
   },
   "outputs": [
    {
     "data": {
      "text/html": [
       "<div>\n",
       "<style scoped>\n",
       "    .dataframe tbody tr th:only-of-type {\n",
       "        vertical-align: middle;\n",
       "    }\n",
       "\n",
       "    .dataframe tbody tr th {\n",
       "        vertical-align: top;\n",
       "    }\n",
       "\n",
       "    .dataframe thead th {\n",
       "        text-align: right;\n",
       "    }\n",
       "</style>\n",
       "<table border=\"1\" class=\"dataframe\">\n",
       "  <thead>\n",
       "    <tr style=\"text-align: right;\">\n",
       "      <th></th>\n",
       "      <th>Included</th>\n",
       "      <th>userid</th>\n",
       "      <th>userid_y</th>\n",
       "      <th>category</th>\n",
       "      <th>USLR</th>\n",
       "      <th>SLR</th>\n",
       "      <th>dataset</th>\n",
       "    </tr>\n",
       "  </thead>\n",
       "  <tbody>\n",
       "    <tr>\n",
       "      <th>0</th>\n",
       "      <td>1</td>\n",
       "      <td>4sq-seoul</td>\n",
       "      <td>jaehoon-choi</td>\n",
       "      <td>CB-1H-MFN</td>\n",
       "      <td>0.025862</td>\n",
       "      <td>0.236620</td>\n",
       "      <td>Weeplace</td>\n",
       "    </tr>\n",
       "    <tr>\n",
       "      <th>1</th>\n",
       "      <td>2</td>\n",
       "      <td>4sq-seoul</td>\n",
       "      <td>dylan-ko</td>\n",
       "      <td>CB-1H-MFN</td>\n",
       "      <td>0.068966</td>\n",
       "      <td>0.087324</td>\n",
       "      <td>Weeplace</td>\n",
       "    </tr>\n",
       "    <tr>\n",
       "      <th>2</th>\n",
       "      <td>3</td>\n",
       "      <td>4sq-seoul</td>\n",
       "      <td>jihoon-yeo</td>\n",
       "      <td>CB-1H-MFN</td>\n",
       "      <td>0.068966</td>\n",
       "      <td>0.290141</td>\n",
       "      <td>Weeplace</td>\n",
       "    </tr>\n",
       "    <tr>\n",
       "      <th>3</th>\n",
       "      <td>4</td>\n",
       "      <td>4sq-seoul</td>\n",
       "      <td>leeclo</td>\n",
       "      <td>CB-1H-MFN</td>\n",
       "      <td>0.077586</td>\n",
       "      <td>0.281690</td>\n",
       "      <td>Weeplace</td>\n",
       "    </tr>\n",
       "    <tr>\n",
       "      <th>4</th>\n",
       "      <td>5</td>\n",
       "      <td>4sq-seoul</td>\n",
       "      <td>sunghwan-kim</td>\n",
       "      <td>CB-1H-MFN</td>\n",
       "      <td>0.189655</td>\n",
       "      <td>0.354930</td>\n",
       "      <td>Weeplace</td>\n",
       "    </tr>\n",
       "    <tr>\n",
       "      <th>...</th>\n",
       "      <td>...</td>\n",
       "      <td>...</td>\n",
       "      <td>...</td>\n",
       "      <td>...</td>\n",
       "      <td>...</td>\n",
       "      <td>...</td>\n",
       "      <td>...</td>\n",
       "    </tr>\n",
       "    <tr>\n",
       "      <th>5795</th>\n",
       "      <td>6</td>\n",
       "      <td>10971</td>\n",
       "      <td>25028</td>\n",
       "      <td>TFN</td>\n",
       "      <td>0.021061</td>\n",
       "      <td>0.018851</td>\n",
       "      <td>Gowalla</td>\n",
       "    </tr>\n",
       "    <tr>\n",
       "      <th>5796</th>\n",
       "      <td>7</td>\n",
       "      <td>10971</td>\n",
       "      <td>25024</td>\n",
       "      <td>TFN</td>\n",
       "      <td>0.005055</td>\n",
       "      <td>0.005977</td>\n",
       "      <td>Gowalla</td>\n",
       "    </tr>\n",
       "    <tr>\n",
       "      <th>5797</th>\n",
       "      <td>8</td>\n",
       "      <td>10971</td>\n",
       "      <td>25046</td>\n",
       "      <td>TFN</td>\n",
       "      <td>0.014322</td>\n",
       "      <td>0.008736</td>\n",
       "      <td>Gowalla</td>\n",
       "    </tr>\n",
       "    <tr>\n",
       "      <th>5798</th>\n",
       "      <td>9</td>\n",
       "      <td>10971</td>\n",
       "      <td>24408</td>\n",
       "      <td>TFN</td>\n",
       "      <td>0.010110</td>\n",
       "      <td>0.005977</td>\n",
       "      <td>Gowalla</td>\n",
       "    </tr>\n",
       "    <tr>\n",
       "      <th>5799</th>\n",
       "      <td>10</td>\n",
       "      <td>10971</td>\n",
       "      <td>1649</td>\n",
       "      <td>TFN</td>\n",
       "      <td>0.048020</td>\n",
       "      <td>0.032644</td>\n",
       "      <td>Gowalla</td>\n",
       "    </tr>\n",
       "  </tbody>\n",
       "</table>\n",
       "<p>20000 rows × 7 columns</p>\n",
       "</div>"
      ],
      "text/plain": [
       "      Included     userid      userid_y   category      USLR       SLR  \\\n",
       "0            1  4sq-seoul  jaehoon-choi  CB-1H-MFN  0.025862  0.236620   \n",
       "1            2  4sq-seoul      dylan-ko  CB-1H-MFN  0.068966  0.087324   \n",
       "2            3  4sq-seoul    jihoon-yeo  CB-1H-MFN  0.068966  0.290141   \n",
       "3            4  4sq-seoul        leeclo  CB-1H-MFN  0.077586  0.281690   \n",
       "4            5  4sq-seoul  sunghwan-kim  CB-1H-MFN  0.189655  0.354930   \n",
       "...        ...        ...           ...        ...       ...       ...   \n",
       "5795         6      10971         25028        TFN  0.021061  0.018851   \n",
       "5796         7      10971         25024        TFN  0.005055  0.005977   \n",
       "5797         8      10971         25046        TFN  0.014322  0.008736   \n",
       "5798         9      10971         24408        TFN  0.010110  0.005977   \n",
       "5799        10      10971          1649        TFN  0.048020  0.032644   \n",
       "\n",
       "       dataset  \n",
       "0     Weeplace  \n",
       "1     Weeplace  \n",
       "2     Weeplace  \n",
       "3     Weeplace  \n",
       "4     Weeplace  \n",
       "...        ...  \n",
       "5795   Gowalla  \n",
       "5796   Gowalla  \n",
       "5797   Gowalla  \n",
       "5798   Gowalla  \n",
       "5799   Gowalla  \n",
       "\n",
       "[20000 rows x 7 columns]"
      ]
     },
     "execution_count": 24,
     "metadata": {},
     "output_type": "execute_result"
    }
   ],
   "source": [
    "vip_LR"
   ]
  },
  {
   "cell_type": "code",
   "execution_count": 25,
   "metadata": {
    "ExecuteTime": {
     "end_time": "2020-09-07T21:00:35.708567Z",
     "start_time": "2020-09-07T20:59:42.185189Z"
    }
   },
   "outputs": [],
   "source": [
    "vip_lower = vip_LR.groupby(['Included', 'category',\n",
    "                         'dataset'])['USLR'].apply(lambda x: ci(sns.algorithms.bootstrap(x), \n",
    "                                                                           which=95)[0]).reset_index()\n",
    "vip_upper = vip_LR.groupby(['Included', 'category',\n",
    "                         'dataset'])['USLR'].apply(lambda x: ci(sns.algorithms.bootstrap(x), \n",
    "                                                                           which=95)[1]).reset_index()\n",
    "vip_mid = vip_LR.groupby(['Included', 'category', 'dataset'])['USLR'].mean().reset_index()\n",
    "vip_USLR = reduce(lambda df1,df2: pd.merge(df1,df2,on=['Included', 'category', 'dataset']), [vip_mid, vip_lower, vip_upper])\n",
    "vip_USLR.columns = ['included', 'category', 'dataset', 'mean', 'lower', 'upper']\n",
    "vip_USLR['LR'] = 'USLR'"
   ]
  },
  {
   "cell_type": "code",
   "execution_count": 26,
   "metadata": {
    "ExecuteTime": {
     "end_time": "2020-09-07T21:03:52.461034Z",
     "start_time": "2020-09-07T21:02:59.031621Z"
    }
   },
   "outputs": [],
   "source": [
    "vip_lower = vip_LR.groupby(['Included', 'category',\n",
    "                         'dataset'])['SLR'].apply(lambda x: ci(sns.algorithms.bootstrap(x), \n",
    "                                                                           which=95)[0]).reset_index()\n",
    "vip_upper = vip_LR.groupby(['Included', 'category',\n",
    "                         'dataset'])['SLR'].apply(lambda x: ci(sns.algorithms.bootstrap(x), \n",
    "                                                                           which=95)[1]).reset_index()\n",
    "vip_mid = vip_LR.groupby(['Included', 'category', 'dataset'])['SLR'].mean().reset_index()\n",
    "\n",
    "vip_SLR = reduce(lambda df1,df2: pd.merge(df1,df2,on=['Included', 'category', 'dataset']), [vip_mid, vip_lower, vip_upper])\n",
    "vip_SLR.columns = ['included', 'category', 'dataset', 'mean', 'lower', 'upper']\n",
    "vip_SLR['LR'] = 'SLR'"
   ]
  },
  {
   "cell_type": "code",
   "execution_count": 27,
   "metadata": {
    "ExecuteTime": {
     "end_time": "2020-09-07T21:04:09.716550Z",
     "start_time": "2020-09-07T21:04:09.662819Z"
    }
   },
   "outputs": [],
   "source": [
    "vip_LR_final = pd.concat([vip_USLR, vip_SLR])"
   ]
  },
  {
   "cell_type": "code",
   "execution_count": 28,
   "metadata": {
    "ExecuteTime": {
     "end_time": "2020-09-07T21:04:16.067684Z",
     "start_time": "2020-09-07T21:04:16.022279Z"
    }
   },
   "outputs": [],
   "source": [
    "vip_LR_final.to_csv('final/150_all_LR_CP.csv', index=False)"
   ]
  },
  {
   "cell_type": "markdown",
   "metadata": {},
   "source": [
    "# H-MFN vs TFN Cross validation"
   ]
  },
  {
   "cell_type": "code",
   "execution_count": 99,
   "metadata": {
    "ExecuteTime": {
     "end_time": "2020-08-24T21:26:43.846581Z",
     "start_time": "2020-08-24T21:26:41.687359Z"
    }
   },
   "outputs": [],
   "source": [
    "wp_vip_cv =  pd.read_csv('final/wp-150-cv/wp_join_vip10_CV.csv')\n",
    "wp_vip_cv['dataset'] = 'Weeplace'\n",
    "\n",
    "bk_vip_cv = pd.read_csv('final/bk-150-cv/bk_join_vip10_CV.csv')\n",
    "bk_vip_cv['dataset'] = 'BrightKite'\n",
    "\n",
    "gw_vip_cv = pd.read_csv('final/gws-150-cv/gws_join_vip10_CV.csv')\n",
    "gw_vip_cv['dataset'] = 'Gowalla'"
   ]
  },
  {
   "cell_type": "code",
   "execution_count": 100,
   "metadata": {
    "ExecuteTime": {
     "end_time": "2020-08-24T21:27:02.638645Z",
     "start_time": "2020-08-24T21:27:01.834048Z"
    }
   },
   "outputs": [],
   "source": [
    "vip_CV = pd.concat([wp_vip_cv, bk_vip_cv, gw_vip_cv])"
   ]
  },
  {
   "cell_type": "code",
   "execution_count": 101,
   "metadata": {
    "ExecuteTime": {
     "end_time": "2020-08-24T21:27:06.778548Z",
     "start_time": "2020-08-24T21:27:06.719312Z"
    }
   },
   "outputs": [
    {
     "data": {
      "text/html": [
       "<div>\n",
       "<style scoped>\n",
       "    .dataframe tbody tr th:only-of-type {\n",
       "        vertical-align: middle;\n",
       "    }\n",
       "\n",
       "    .dataframe tbody tr th {\n",
       "        vertical-align: top;\n",
       "    }\n",
       "\n",
       "    .dataframe thead th {\n",
       "        text-align: right;\n",
       "    }\n",
       "</style>\n",
       "<table border=\"1\" class=\"dataframe\">\n",
       "  <thead>\n",
       "    <tr style=\"text-align: right;\">\n",
       "      <th></th>\n",
       "      <th>Included</th>\n",
       "      <th>alters_names</th>\n",
       "      <th>CCE_alters</th>\n",
       "      <th>CCE_ego_alters</th>\n",
       "      <th>Pi_alters</th>\n",
       "      <th>Pi_ego_alters</th>\n",
       "      <th>Pi_alters_ratio</th>\n",
       "      <th>Pi_ego_alters_ratio</th>\n",
       "      <th>userid</th>\n",
       "      <th>category</th>\n",
       "      <th>dataset</th>\n",
       "    </tr>\n",
       "  </thead>\n",
       "  <tbody>\n",
       "    <tr>\n",
       "      <th>0</th>\n",
       "      <td>1</td>\n",
       "      <td>'don-chwojko'</td>\n",
       "      <td>8.171960</td>\n",
       "      <td>4.554808</td>\n",
       "      <td>0.036762</td>\n",
       "      <td>0.567411</td>\n",
       "      <td>0.065429</td>\n",
       "      <td>1.009866</td>\n",
       "      <td>suzanne-marlatt</td>\n",
       "      <td>CB-1H-MFN</td>\n",
       "      <td>Weeplace</td>\n",
       "    </tr>\n",
       "    <tr>\n",
       "      <th>1</th>\n",
       "      <td>1</td>\n",
       "      <td>'katey-mcgarr'</td>\n",
       "      <td>6.124336</td>\n",
       "      <td>4.478870</td>\n",
       "      <td>0.373008</td>\n",
       "      <td>0.576175</td>\n",
       "      <td>0.663872</td>\n",
       "      <td>1.025463</td>\n",
       "      <td>suzanne-marlatt</td>\n",
       "      <td>CB-1H-MFN</td>\n",
       "      <td>Weeplace</td>\n",
       "    </tr>\n",
       "    <tr>\n",
       "      <th>2</th>\n",
       "      <td>1</td>\n",
       "      <td>'richlocation'</td>\n",
       "      <td>8.007438</td>\n",
       "      <td>4.556638</td>\n",
       "      <td>0.076338</td>\n",
       "      <td>0.567199</td>\n",
       "      <td>0.135865</td>\n",
       "      <td>1.009489</td>\n",
       "      <td>suzanne-marlatt</td>\n",
       "      <td>CB-1H-MFN</td>\n",
       "      <td>Weeplace</td>\n",
       "    </tr>\n",
       "    <tr>\n",
       "      <th>3</th>\n",
       "      <td>1</td>\n",
       "      <td>'pamela-vaughter'</td>\n",
       "      <td>8.004760</td>\n",
       "      <td>4.544118</td>\n",
       "      <td>0.076913</td>\n",
       "      <td>0.568648</td>\n",
       "      <td>0.136889</td>\n",
       "      <td>1.012067</td>\n",
       "      <td>suzanne-marlatt</td>\n",
       "      <td>CB-1H-MFN</td>\n",
       "      <td>Weeplace</td>\n",
       "    </tr>\n",
       "    <tr>\n",
       "      <th>4</th>\n",
       "      <td>1</td>\n",
       "      <td>'kerry-sugrue'</td>\n",
       "      <td>7.950789</td>\n",
       "      <td>4.554513</td>\n",
       "      <td>0.088221</td>\n",
       "      <td>0.567446</td>\n",
       "      <td>0.157014</td>\n",
       "      <td>1.009927</td>\n",
       "      <td>suzanne-marlatt</td>\n",
       "      <td>CB-1H-MFN</td>\n",
       "      <td>Weeplace</td>\n",
       "    </tr>\n",
       "    <tr>\n",
       "      <th>...</th>\n",
       "      <td>...</td>\n",
       "      <td>...</td>\n",
       "      <td>...</td>\n",
       "      <td>...</td>\n",
       "      <td>...</td>\n",
       "      <td>...</td>\n",
       "      <td>...</td>\n",
       "      <td>...</td>\n",
       "      <td>...</td>\n",
       "      <td>...</td>\n",
       "      <td>...</td>\n",
       "    </tr>\n",
       "    <tr>\n",
       "      <th>296665</th>\n",
       "      <td>9</td>\n",
       "      <td>'10066','10950','10117','54963','25028','25024...</td>\n",
       "      <td>6.839218</td>\n",
       "      <td>6.708959</td>\n",
       "      <td>0.426669</td>\n",
       "      <td>0.439928</td>\n",
       "      <td>1.052095</td>\n",
       "      <td>1.084788</td>\n",
       "      <td>10971</td>\n",
       "      <td>TFN</td>\n",
       "      <td>Gowalla</td>\n",
       "    </tr>\n",
       "    <tr>\n",
       "      <th>296666</th>\n",
       "      <td>9</td>\n",
       "      <td>'10066','10950','10869','54963','25028','25024...</td>\n",
       "      <td>6.766509</td>\n",
       "      <td>6.675511</td>\n",
       "      <td>0.434083</td>\n",
       "      <td>0.443315</td>\n",
       "      <td>1.070376</td>\n",
       "      <td>1.093142</td>\n",
       "      <td>10971</td>\n",
       "      <td>TFN</td>\n",
       "      <td>Gowalla</td>\n",
       "    </tr>\n",
       "    <tr>\n",
       "      <th>296667</th>\n",
       "      <td>9</td>\n",
       "      <td>'10066','10117','10869','54963','25028','25024...</td>\n",
       "      <td>6.825001</td>\n",
       "      <td>6.687089</td>\n",
       "      <td>0.428121</td>\n",
       "      <td>0.442143</td>\n",
       "      <td>1.055676</td>\n",
       "      <td>1.090252</td>\n",
       "      <td>10971</td>\n",
       "      <td>TFN</td>\n",
       "      <td>Gowalla</td>\n",
       "    </tr>\n",
       "    <tr>\n",
       "      <th>296668</th>\n",
       "      <td>9</td>\n",
       "      <td>'10950','10117','10869','54963','25028','25024...</td>\n",
       "      <td>6.886504</td>\n",
       "      <td>6.706455</td>\n",
       "      <td>0.421830</td>\n",
       "      <td>0.440181</td>\n",
       "      <td>1.040163</td>\n",
       "      <td>1.085415</td>\n",
       "      <td>10971</td>\n",
       "      <td>TFN</td>\n",
       "      <td>Gowalla</td>\n",
       "    </tr>\n",
       "    <tr>\n",
       "      <th>296669</th>\n",
       "      <td>10</td>\n",
       "      <td>'10066','10950','10117','10869','54963','25028...</td>\n",
       "      <td>6.745694</td>\n",
       "      <td>6.662544</td>\n",
       "      <td>0.436199</td>\n",
       "      <td>0.444627</td>\n",
       "      <td>1.075595</td>\n",
       "      <td>1.096376</td>\n",
       "      <td>10971</td>\n",
       "      <td>TFN</td>\n",
       "      <td>Gowalla</td>\n",
       "    </tr>\n",
       "  </tbody>\n",
       "</table>\n",
       "<p>1023000 rows × 11 columns</p>\n",
       "</div>"
      ],
      "text/plain": [
       "        Included                                       alters_names  \\\n",
       "0              1                                      'don-chwojko'   \n",
       "1              1                                     'katey-mcgarr'   \n",
       "2              1                                     'richlocation'   \n",
       "3              1                                  'pamela-vaughter'   \n",
       "4              1                                     'kerry-sugrue'   \n",
       "...          ...                                                ...   \n",
       "296665         9  '10066','10950','10117','54963','25028','25024...   \n",
       "296666         9  '10066','10950','10869','54963','25028','25024...   \n",
       "296667         9  '10066','10117','10869','54963','25028','25024...   \n",
       "296668         9  '10950','10117','10869','54963','25028','25024...   \n",
       "296669        10  '10066','10950','10117','10869','54963','25028...   \n",
       "\n",
       "        CCE_alters  CCE_ego_alters  Pi_alters  Pi_ego_alters  Pi_alters_ratio  \\\n",
       "0         8.171960        4.554808   0.036762       0.567411         0.065429   \n",
       "1         6.124336        4.478870   0.373008       0.576175         0.663872   \n",
       "2         8.007438        4.556638   0.076338       0.567199         0.135865   \n",
       "3         8.004760        4.544118   0.076913       0.568648         0.136889   \n",
       "4         7.950789        4.554513   0.088221       0.567446         0.157014   \n",
       "...            ...             ...        ...            ...              ...   \n",
       "296665    6.839218        6.708959   0.426669       0.439928         1.052095   \n",
       "296666    6.766509        6.675511   0.434083       0.443315         1.070376   \n",
       "296667    6.825001        6.687089   0.428121       0.442143         1.055676   \n",
       "296668    6.886504        6.706455   0.421830       0.440181         1.040163   \n",
       "296669    6.745694        6.662544   0.436199       0.444627         1.075595   \n",
       "\n",
       "        Pi_ego_alters_ratio           userid   category   dataset  \n",
       "0                  1.009866  suzanne-marlatt  CB-1H-MFN  Weeplace  \n",
       "1                  1.025463  suzanne-marlatt  CB-1H-MFN  Weeplace  \n",
       "2                  1.009489  suzanne-marlatt  CB-1H-MFN  Weeplace  \n",
       "3                  1.012067  suzanne-marlatt  CB-1H-MFN  Weeplace  \n",
       "4                  1.009927  suzanne-marlatt  CB-1H-MFN  Weeplace  \n",
       "...                     ...              ...        ...       ...  \n",
       "296665             1.084788            10971        TFN   Gowalla  \n",
       "296666             1.093142            10971        TFN   Gowalla  \n",
       "296667             1.090252            10971        TFN   Gowalla  \n",
       "296668             1.085415            10971        TFN   Gowalla  \n",
       "296669             1.096376            10971        TFN   Gowalla  \n",
       "\n",
       "[1023000 rows x 11 columns]"
      ]
     },
     "execution_count": 101,
     "metadata": {},
     "output_type": "execute_result"
    }
   ],
   "source": [
    "vip_CV "
   ]
  },
  {
   "cell_type": "code",
   "execution_count": 103,
   "metadata": {
    "ExecuteTime": {
     "end_time": "2020-08-24T21:32:47.018200Z",
     "start_time": "2020-08-24T21:30:43.233585Z"
    }
   },
   "outputs": [],
   "source": [
    "vip_lower = vip_CV.groupby(['Included', 'category',\n",
    "                         'dataset'])['Pi_alters_ratio'].apply(lambda x: ci(sns.algorithms.bootstrap(x), \n",
    "                                                                           which=95)[0]).reset_index()\n",
    "vip_upper = vip_CV.groupby(['Included', 'category',\n",
    "                         'dataset'])['Pi_alters_ratio'].apply(lambda x: ci(sns.algorithms.bootstrap(x), \n",
    "                                                                           which=95)[1]).reset_index()\n",
    "vip_mid = vip_CV.groupby(['Included', 'category', 'dataset'])['Pi_alters_ratio'].mean().reset_index()\n",
    "vip_CV_final = reduce(lambda df1,df2: pd.merge(df1,df2,on=['Included', 'category', 'dataset']), [vip_mid, vip_lower, vip_upper])\n",
    "vip_CV_final.columns = ['included', 'category', 'dataset', 'mean', 'lower', 'upper']"
   ]
  },
  {
   "cell_type": "code",
   "execution_count": 105,
   "metadata": {
    "ExecuteTime": {
     "end_time": "2020-08-24T21:33:49.273225Z",
     "start_time": "2020-08-24T21:33:49.242699Z"
    },
    "scrolled": false
   },
   "outputs": [],
   "source": [
    "vip_CV_final.to_csv('final/150_all_CV.csv', index=False)"
   ]
  },
  {
   "cell_type": "code",
   "execution_count": null,
   "metadata": {},
   "outputs": [],
   "source": []
  }
 ],
 "metadata": {
  "kernelspec": {
   "display_name": "Python 3",
   "language": "python",
   "name": "python3"
  },
  "language_info": {
   "codemirror_mode": {
    "name": "ipython",
    "version": 3
   },
   "file_extension": ".py",
   "mimetype": "text/x-python",
   "name": "python",
   "nbconvert_exporter": "python",
   "pygments_lexer": "ipython3",
   "version": "3.6.10"
  }
 },
 "nbformat": 4,
 "nbformat_minor": 4
}
