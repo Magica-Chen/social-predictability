{
 "cells": [
  {
   "cell_type": "code",
   "execution_count": 1,
   "metadata": {
    "ExecuteTime": {
     "end_time": "2020-12-12T20:20:55.685212Z",
     "start_time": "2020-12-12T20:20:54.190640Z"
    }
   },
   "outputs": [],
   "source": [
    "import seaborn as sns\n",
    "import visualization as vs\n",
    "import pandas as pd\n",
    "import numpy as np\n",
    "%load_ext autoreload\n",
    "%autoreload 2"
   ]
  },
  {
   "cell_type": "code",
   "execution_count": 2,
   "metadata": {
    "ExecuteTime": {
     "end_time": "2020-12-12T20:20:58.057721Z",
     "start_time": "2020-12-12T20:20:58.025989Z"
    }
   },
   "outputs": [],
   "source": [
    "from scipy import stats\n",
    "from functools import reduce\n",
    "from seaborn.utils import ci\n",
    "import matplotlib.pyplot as plt"
   ]
  },
  {
   "cell_type": "code",
   "execution_count": 3,
   "metadata": {
    "ExecuteTime": {
     "end_time": "2020-12-12T20:21:00.559979Z",
     "start_time": "2020-12-12T20:21:00.527027Z"
    }
   },
   "outputs": [],
   "source": [
    "from scipy.stats import spearmanr\n",
    "from scipy.stats import kendalltau\n",
    "from scipy.stats import wilcoxon\n",
    "from scipy.stats import mannwhitneyu\n",
    "from scipy.stats import ttest_ind\n",
    "from scipy.stats import ttest_rel"
   ]
  },
  {
   "cell_type": "markdown",
   "metadata": {},
   "source": [
    "# H-MFN"
   ]
  },
  {
   "cell_type": "code",
   "execution_count": 4,
   "metadata": {
    "ExecuteTime": {
     "end_time": "2020-12-12T20:21:04.012893Z",
     "start_time": "2020-12-12T20:21:03.763231Z"
    }
   },
   "outputs": [],
   "source": [
    "# wp_final = pd.read_csv(\"final/wp-150/wp-H-2-10-CP-MFN.csv\")\n",
    "# bk_final = pd.read_csv(\"final/bk-150/bk-H-2-10-CP-MFN.csv\")\n",
    "# gw_final = pd.read_csv(\"final/gws-150/gws-H-2-10-CP-MFN.csv\")\n",
    "\n",
    "wp_final = pd.read_csv(\"final/wp-150/wp-H-2-10-MeetupNp-MFN.csv\")\n",
    "bk_final = pd.read_csv(\"final/bk-150/bk-H-2-10-MeetupNp-MFN.csv\")\n",
    "gw_final = pd.read_csv(\"final/gws-150/gws-H-2-10-MeetupNp-MFN.csv\")\n",
    "\n",
    "# wp_final = pd.read_csv(\"final/wp-150/wp-H-2-10-FreqNp-MFN.csv\")\n",
    "# bk_final = pd.read_csv(\"final/bk-150/bk-H-2-10-FreqNp-MFN.csv\")\n",
    "# gw_final = pd.read_csv(\"final/gws-150/gws-H-2-10-FreqNp-MFN.csv\")\n",
    "\n",
    "\n",
    "wp_final['dataset'] = \"Weeplace\"\n",
    "bk_final['dataset'] = \"BrightKite\"\n",
    "gw_final['dataset'] =  \"Gowalla\""
   ]
  },
  {
   "cell_type": "code",
   "execution_count": 42,
   "metadata": {
    "ExecuteTime": {
     "end_time": "2020-12-12T21:02:17.326252Z",
     "start_time": "2020-12-12T21:02:17.221828Z"
    },
    "code_folding": []
   },
   "outputs": [],
   "source": [
    "def transform_df(df_H_MFN):\n",
    "    df_H_MFN = df_H_MFN[['Included Rank','userid_y', 'CCE_alters', 'CCE_ego_alters', 'Pi_alters', 'Pi_ego_alters', \n",
    "                                     'LZ_entropy', 'Pi', 'n_meetupers_x', 'n_meetupers_y', 'userid_x', 'dataset']]\n",
    "    df_H_MFN = df_H_MFN.rename({'Included Rank': 'Included', \n",
    "                                'userid_x': 'userid',\n",
    "                                'Pi': 'Pi_ego'}, axis=1)\n",
    "    df_H_MFN['Pi_alters_ratio'] = df_H_MFN['Pi_alters'] / df_H_MFN['Pi_ego'] \n",
    "    df_H_MFN['Pi_ego_alters_ratio'] = df_H_MFN['Pi_ego_alters'] / df_H_MFN['Pi_ego']\n",
    "    \n",
    "    df_H_MFN['CCE_alters_ratio'] = df_H_MFN['CCE_alters'] / df_H_MFN['LZ_entropy'] \n",
    "    df_H_MFN['CCE_ego_alters_ratio'] = df_H_MFN['CCE_ego_alters'] / df_H_MFN['LZ_entropy'] \n",
    "    \n",
    "    return df_H_MFN\n",
    "\n",
    "def spearman_kendall_test(df, item):\n",
    "    category = sorted(list(set(df['category'].tolist())))\n",
    "    dataset = sorted(list(set(df['dataset'].tolist())))\n",
    "\n",
    "    test_result = []\n",
    "    for ds in dataset:\n",
    "        for cat in category:\n",
    "            count_sm, count_kd = 0, 0\n",
    "\n",
    "            df_temp = df[(df['dataset'] == ds) & (df['category'] == cat)]\n",
    "            ur_ds = df_temp['userid'].unique().tolist()\n",
    "            for user in ur_ds:\n",
    "                rank = df_temp[df_temp['userid'] == user]['Included'].tolist()\n",
    "\n",
    "                item_specify = df_temp[df_temp['userid'] == user][item].tolist()\n",
    "\n",
    "                coef_sm, p_sm = spearmanr(rank, item_specify)\n",
    "                coef_kd, p_kd = kendalltau(rank, item_specify)\n",
    "\n",
    "                if (coef_sm > 0) & (p_sm < 0.05):\n",
    "                    count_sm += 1\n",
    "\n",
    "                if (coef_kd > 0) & (p_kd < 0.05):\n",
    "                    count_kd += 1\n",
    "\n",
    "            test_result.append([ds, cat,\n",
    "                                count_sm, count_sm / len(ur_ds),\n",
    "                                count_kd, count_kd / len(ur_ds),\n",
    "                                len(ur_ds)]\n",
    "                               )\n",
    "\n",
    "    stats_test = pd.DataFrame(test_result, columns=['dataset',\n",
    "                                                    'category',\n",
    "                                                    'SpN', 'SpP', 'Kn', 'Kp',\n",
    "                                                    'total']).sort_values(['dataset', 'category'])\n",
    "    \n",
    "    return stats_test\n",
    "\n",
    "def two_side_t_test(df, item, alpha=0.001, method = 'paired'):\n",
    "    category = sorted(list(set(df['category'].tolist())))\n",
    "    dataset = sorted(list(set(df['dataset'].tolist())))\n",
    "    n_cat = len(category)\n",
    "    \n",
    "    if method is 'paired':\n",
    "        func = ttest_rel\n",
    "    else:\n",
    "        func = ttest_ind\n",
    "    \n",
    "    stats_list = []\n",
    "    for ds in dataset:\n",
    "        df_temp = df[df['dataset'] == ds]\n",
    "        ur_ds = df_temp['userid'].unique().tolist()\n",
    "        n_users = len(ur_ds)\n",
    "\n",
    "        result = []\n",
    "        for cat1 in category:\n",
    "            for cat2 in category:\n",
    "                count = 0\n",
    "                for user in ur_ds:\n",
    "                    df_cat1 = df_temp[(df_temp['category'] == cat1) & (df_temp['userid'] == user)][item]\n",
    "                    df_cat2 = df_temp[(df_temp['category'] == cat2) & (df_temp['userid'] == user)][item]\n",
    "                    stats, p = func(df_cat1, df_cat2)\n",
    "\n",
    "                    if (p > alpha) | (np.isnan(p)):\n",
    "                        count += 1\n",
    "                result.append(count/n_users)\n",
    "        result = np.array(result).reshape(n_cat, n_cat)\n",
    "        result = pd.DataFrame(result, columns=category, index=category)\n",
    "        stats_list.append(result)\n",
    "    \n",
    "    return stats_list, dataset"
   ]
  },
  {
   "cell_type": "code",
   "execution_count": 6,
   "metadata": {
    "ExecuteTime": {
     "end_time": "2020-12-12T20:21:44.940955Z",
     "start_time": "2020-12-12T20:21:44.813185Z"
    }
   },
   "outputs": [],
   "source": [
    "df_final = transform_df(pd.concat([wp_final, bk_final, gw_final]))"
   ]
  },
  {
   "cell_type": "code",
   "execution_count": 7,
   "metadata": {
    "ExecuteTime": {
     "end_time": "2020-12-12T20:21:47.369456Z",
     "start_time": "2020-12-12T20:21:47.311320Z"
    }
   },
   "outputs": [],
   "source": [
    "df_used = df_final[(df_final['Included'] <=10) & (df_final['n_meetupers_x']>=10)]"
   ]
  },
  {
   "cell_type": "code",
   "execution_count": 12,
   "metadata": {
    "ExecuteTime": {
     "end_time": "2020-10-06T13:47:05.182376Z",
     "start_time": "2020-10-06T13:46:47.434195Z"
    }
   },
   "outputs": [],
   "source": [
    "# This is for Pi\n",
    "lower = df_used.groupby(['Included', \n",
    "                         'dataset'])['Pi_alters_ratio'].apply(lambda x: ci(sns.algorithms.bootstrap(x), \n",
    "                                                                           which=95)[0]).reset_index()\n",
    "upper = df_used.groupby(['Included', \n",
    "                         'dataset'])['Pi_alters_ratio'].apply(lambda x: ci(sns.algorithms.bootstrap(x), \n",
    "                                                                           which=95)[1]).reset_index()\n",
    "mid = df_used.groupby(['Included', 'dataset'])['Pi_alters_ratio'].mean().reset_index()"
   ]
  },
  {
   "cell_type": "code",
   "execution_count": 13,
   "metadata": {
    "ExecuteTime": {
     "end_time": "2020-10-06T13:47:26.066302Z",
     "start_time": "2020-10-06T13:47:09.332192Z"
    }
   },
   "outputs": [],
   "source": [
    "# This is for CCE\n",
    "lower_CCE = df_used.groupby(['Included', \n",
    "                         'dataset'])['CCE_alters_ratio'].apply(lambda x: ci(sns.algorithms.bootstrap(x), \n",
    "                                                                           which=95)[0]).reset_index()\n",
    "upper_CCE = df_used.groupby(['Included', \n",
    "                         'dataset'])['CCE_alters_ratio'].apply(lambda x: ci(sns.algorithms.bootstrap(x), \n",
    "                                                                           which=95)[1]).reset_index()\n",
    "mid_CCE = df_used.groupby(['Included', 'dataset'])['CCE_alters_ratio'].mean().reset_index()"
   ]
  },
  {
   "cell_type": "code",
   "execution_count": 15,
   "metadata": {
    "ExecuteTime": {
     "end_time": "2020-10-06T13:49:02.504077Z",
     "start_time": "2020-10-06T13:49:02.416399Z"
    }
   },
   "outputs": [],
   "source": [
    "final = reduce(lambda df1,df2: pd.merge(df1,df2,on=['Included', 'dataset']), [mid, lower, upper, mid_CCE, lower_CCE, upper_CCE])\n",
    "final.columns = ['included', 'dataset', 'mean', 'lower', 'upper', 'mean_CCE', 'lower_CCE', 'upper_CCE']"
   ]
  },
  {
   "cell_type": "code",
   "execution_count": 16,
   "metadata": {
    "ExecuteTime": {
     "end_time": "2020-10-06T13:49:28.462551Z",
     "start_time": "2020-10-06T13:49:28.412383Z"
    }
   },
   "outputs": [],
   "source": [
    "# final.to_csv('final/150_all_2_10_CP_H_MFN.csv', index=False)\n",
    "final.to_csv('final/150_all_2_10_MeetupNp_H_MFN.csv', index=False)\n",
    "# final.to_csv('final/FreqNp_Rank/150_all_2_10_FreqNp_H_MFN.csv', index=False)"
   ]
  },
  {
   "cell_type": "code",
   "execution_count": 29,
   "metadata": {
    "ExecuteTime": {
     "end_time": "2020-09-18T12:58:11.148510Z",
     "start_time": "2020-09-18T12:58:11.095427Z"
    }
   },
   "outputs": [],
   "source": [
    "# spearman test"
   ]
  },
  {
   "cell_type": "code",
   "execution_count": 63,
   "metadata": {
    "ExecuteTime": {
     "end_time": "2020-12-10T18:19:54.630678Z",
     "start_time": "2020-12-10T18:19:51.833790Z"
    }
   },
   "outputs": [
    {
     "name": "stderr",
     "output_type": "stream",
     "text": [
      "/opt/conda/lib/python3.6/site-packages/ipykernel_launcher.py:1: SettingWithCopyWarning: \n",
      "A value is trying to be set on a copy of a slice from a DataFrame.\n",
      "Try using .loc[row_indexer,col_indexer] = value instead\n",
      "\n",
      "See the caveats in the documentation: https://pandas.pydata.org/pandas-docs/stable/user_guide/indexing.html#returning-a-view-versus-a-copy\n",
      "  \"\"\"Entry point for launching an IPython kernel.\n"
     ]
    },
    {
     "data": {
      "text/html": [
       "<div>\n",
       "<style scoped>\n",
       "    .dataframe tbody tr th:only-of-type {\n",
       "        vertical-align: middle;\n",
       "    }\n",
       "\n",
       "    .dataframe tbody tr th {\n",
       "        vertical-align: top;\n",
       "    }\n",
       "\n",
       "    .dataframe thead th {\n",
       "        text-align: right;\n",
       "    }\n",
       "</style>\n",
       "<table border=\"1\" class=\"dataframe\">\n",
       "  <thead>\n",
       "    <tr style=\"text-align: right;\">\n",
       "      <th></th>\n",
       "      <th>dataset</th>\n",
       "      <th>category</th>\n",
       "      <th>SpN</th>\n",
       "      <th>SpP</th>\n",
       "      <th>Kn</th>\n",
       "      <th>Kp</th>\n",
       "      <th>total</th>\n",
       "    </tr>\n",
       "  </thead>\n",
       "  <tbody>\n",
       "    <tr>\n",
       "      <th>0</th>\n",
       "      <td>BrightKite</td>\n",
       "      <td>CB-1H-MFN</td>\n",
       "      <td>141</td>\n",
       "      <td>0.834320</td>\n",
       "      <td>144</td>\n",
       "      <td>0.852071</td>\n",
       "      <td>169</td>\n",
       "    </tr>\n",
       "    <tr>\n",
       "      <th>1</th>\n",
       "      <td>Gowalla</td>\n",
       "      <td>CB-1H-MFN</td>\n",
       "      <td>222</td>\n",
       "      <td>0.888000</td>\n",
       "      <td>229</td>\n",
       "      <td>0.916000</td>\n",
       "      <td>250</td>\n",
       "    </tr>\n",
       "    <tr>\n",
       "      <th>2</th>\n",
       "      <td>Weeplace</td>\n",
       "      <td>CB-1H-MFN</td>\n",
       "      <td>694</td>\n",
       "      <td>0.924101</td>\n",
       "      <td>700</td>\n",
       "      <td>0.932091</td>\n",
       "      <td>751</td>\n",
       "    </tr>\n",
       "  </tbody>\n",
       "</table>\n",
       "</div>"
      ],
      "text/plain": [
       "      dataset   category  SpN       SpP   Kn        Kp  total\n",
       "0  BrightKite  CB-1H-MFN  141  0.834320  144  0.852071    169\n",
       "1     Gowalla  CB-1H-MFN  222  0.888000  229  0.916000    250\n",
       "2    Weeplace  CB-1H-MFN  694  0.924101  700  0.932091    751"
      ]
     },
     "execution_count": 63,
     "metadata": {},
     "output_type": "execute_result"
    }
   ],
   "source": [
    "df_used['category'] = 'CB-1H-MFN'\n",
    "spearman_kendall_test(df_used, 'Pi_alters_ratio')"
   ]
  },
  {
   "cell_type": "markdown",
   "metadata": {},
   "source": [
    "# All these MFNs and TFN (pointplot)"
   ]
  },
  {
   "cell_type": "code",
   "execution_count": 8,
   "metadata": {
    "ExecuteTime": {
     "end_time": "2020-12-12T20:23:03.704907Z",
     "start_time": "2020-12-12T20:23:03.028639Z"
    }
   },
   "outputs": [],
   "source": [
    "# wp_all = pd.read_csv(\"final/wp-150/wp_shared_all_2_10_CP.csv\")\n",
    "# bk_all = pd.read_csv(\"final/bk-150/bk_shared_all_2_10_CP.csv\")\n",
    "# gw_all = pd.read_csv(\"final/gws-150/gws_shared_all_2_10_CP.csv\")\n",
    "\n",
    "wp_all = pd.read_csv(\"final/wp-150/wp_shared_all_2_10_MeetupNp.csv\")\n",
    "bk_all = pd.read_csv(\"final/bk-150/bk_shared_all_2_10_MeetupNp.csv\")\n",
    "gw_all = pd.read_csv(\"final/gws-150/gws_shared_all_2_10_MeetupNp.csv\")\n",
    "\n",
    "# wp_all = pd.read_csv(\"final/wp-150/wp_shared_all_2_10_FreqNp.csv\")\n",
    "# bk_all = pd.read_csv(\"final/bk-150/bk_shared_all_2_10_FreqNp.csv\")\n",
    "# gw_all = pd.read_csv(\"final/gws-150/gws_shared_all_2_10_FreqNp.csv\")\n",
    "\n",
    "wp_all['dataset'] = \"Weeplace\"\n",
    "bk_all['dataset'] = \"BrightKite\"\n",
    "gw_all['dataset'] =  \"Gowalla\""
   ]
  },
  {
   "cell_type": "code",
   "execution_count": 88,
   "metadata": {
    "ExecuteTime": {
     "end_time": "2020-12-13T15:32:41.439542Z",
     "start_time": "2020-12-13T15:32:41.200163Z"
    }
   },
   "outputs": [],
   "source": [
    "df_all = pd.concat([wp_all, bk_all, gw_all])\n",
    "df_all_used = df_all[(df_all['Included'] <=10) & (df_all['n_meetupers_x']>=10)]"
   ]
  },
  {
   "cell_type": "code",
   "execution_count": 68,
   "metadata": {
    "ExecuteTime": {
     "end_time": "2020-12-10T18:24:31.967685Z",
     "start_time": "2020-12-10T18:24:27.988324Z"
    }
   },
   "outputs": [
    {
     "data": {
      "text/html": [
       "<div>\n",
       "<style scoped>\n",
       "    .dataframe tbody tr th:only-of-type {\n",
       "        vertical-align: middle;\n",
       "    }\n",
       "\n",
       "    .dataframe tbody tr th {\n",
       "        vertical-align: top;\n",
       "    }\n",
       "\n",
       "    .dataframe thead th {\n",
       "        text-align: right;\n",
       "    }\n",
       "</style>\n",
       "<table border=\"1\" class=\"dataframe\">\n",
       "  <thead>\n",
       "    <tr style=\"text-align: right;\">\n",
       "      <th></th>\n",
       "      <th>dataset</th>\n",
       "      <th>category</th>\n",
       "      <th>SpN</th>\n",
       "      <th>SpP</th>\n",
       "      <th>Kn</th>\n",
       "      <th>Kp</th>\n",
       "      <th>total</th>\n",
       "    </tr>\n",
       "  </thead>\n",
       "  <tbody>\n",
       "    <tr>\n",
       "      <th>0</th>\n",
       "      <td>BrightKite</td>\n",
       "      <td>CB-1D-MFN</td>\n",
       "      <td>57</td>\n",
       "      <td>0.863636</td>\n",
       "      <td>59</td>\n",
       "      <td>0.893939</td>\n",
       "      <td>66</td>\n",
       "    </tr>\n",
       "    <tr>\n",
       "      <th>1</th>\n",
       "      <td>BrightKite</td>\n",
       "      <td>CB-1H-MFN</td>\n",
       "      <td>57</td>\n",
       "      <td>0.863636</td>\n",
       "      <td>59</td>\n",
       "      <td>0.893939</td>\n",
       "      <td>66</td>\n",
       "    </tr>\n",
       "    <tr>\n",
       "      <th>2</th>\n",
       "      <td>BrightKite</td>\n",
       "      <td>SW-24H-MFN</td>\n",
       "      <td>59</td>\n",
       "      <td>0.893939</td>\n",
       "      <td>60</td>\n",
       "      <td>0.909091</td>\n",
       "      <td>66</td>\n",
       "    </tr>\n",
       "    <tr>\n",
       "      <th>3</th>\n",
       "      <td>BrightKite</td>\n",
       "      <td>TFN</td>\n",
       "      <td>55</td>\n",
       "      <td>0.833333</td>\n",
       "      <td>57</td>\n",
       "      <td>0.863636</td>\n",
       "      <td>66</td>\n",
       "    </tr>\n",
       "    <tr>\n",
       "      <th>4</th>\n",
       "      <td>Gowalla</td>\n",
       "      <td>CB-1D-MFN</td>\n",
       "      <td>130</td>\n",
       "      <td>0.915493</td>\n",
       "      <td>133</td>\n",
       "      <td>0.936620</td>\n",
       "      <td>142</td>\n",
       "    </tr>\n",
       "    <tr>\n",
       "      <th>5</th>\n",
       "      <td>Gowalla</td>\n",
       "      <td>CB-1H-MFN</td>\n",
       "      <td>129</td>\n",
       "      <td>0.908451</td>\n",
       "      <td>132</td>\n",
       "      <td>0.929577</td>\n",
       "      <td>142</td>\n",
       "    </tr>\n",
       "    <tr>\n",
       "      <th>6</th>\n",
       "      <td>Gowalla</td>\n",
       "      <td>SW-24H-MFN</td>\n",
       "      <td>129</td>\n",
       "      <td>0.908451</td>\n",
       "      <td>130</td>\n",
       "      <td>0.915493</td>\n",
       "      <td>142</td>\n",
       "    </tr>\n",
       "    <tr>\n",
       "      <th>7</th>\n",
       "      <td>Gowalla</td>\n",
       "      <td>TFN</td>\n",
       "      <td>125</td>\n",
       "      <td>0.880282</td>\n",
       "      <td>129</td>\n",
       "      <td>0.908451</td>\n",
       "      <td>142</td>\n",
       "    </tr>\n",
       "    <tr>\n",
       "      <th>8</th>\n",
       "      <td>Weeplace</td>\n",
       "      <td>CB-1D-MFN</td>\n",
       "      <td>278</td>\n",
       "      <td>0.975439</td>\n",
       "      <td>281</td>\n",
       "      <td>0.985965</td>\n",
       "      <td>285</td>\n",
       "    </tr>\n",
       "    <tr>\n",
       "      <th>9</th>\n",
       "      <td>Weeplace</td>\n",
       "      <td>CB-1H-MFN</td>\n",
       "      <td>269</td>\n",
       "      <td>0.943860</td>\n",
       "      <td>272</td>\n",
       "      <td>0.954386</td>\n",
       "      <td>285</td>\n",
       "    </tr>\n",
       "    <tr>\n",
       "      <th>10</th>\n",
       "      <td>Weeplace</td>\n",
       "      <td>SW-24H-MFN</td>\n",
       "      <td>272</td>\n",
       "      <td>0.954386</td>\n",
       "      <td>274</td>\n",
       "      <td>0.961404</td>\n",
       "      <td>285</td>\n",
       "    </tr>\n",
       "    <tr>\n",
       "      <th>11</th>\n",
       "      <td>Weeplace</td>\n",
       "      <td>TFN</td>\n",
       "      <td>273</td>\n",
       "      <td>0.957895</td>\n",
       "      <td>282</td>\n",
       "      <td>0.989474</td>\n",
       "      <td>285</td>\n",
       "    </tr>\n",
       "  </tbody>\n",
       "</table>\n",
       "</div>"
      ],
      "text/plain": [
       "       dataset    category  SpN       SpP   Kn        Kp  total\n",
       "0   BrightKite   CB-1D-MFN   57  0.863636   59  0.893939     66\n",
       "1   BrightKite   CB-1H-MFN   57  0.863636   59  0.893939     66\n",
       "2   BrightKite  SW-24H-MFN   59  0.893939   60  0.909091     66\n",
       "3   BrightKite         TFN   55  0.833333   57  0.863636     66\n",
       "4      Gowalla   CB-1D-MFN  130  0.915493  133  0.936620    142\n",
       "5      Gowalla   CB-1H-MFN  129  0.908451  132  0.929577    142\n",
       "6      Gowalla  SW-24H-MFN  129  0.908451  130  0.915493    142\n",
       "7      Gowalla         TFN  125  0.880282  129  0.908451    142\n",
       "8     Weeplace   CB-1D-MFN  278  0.975439  281  0.985965    285\n",
       "9     Weeplace   CB-1H-MFN  269  0.943860  272  0.954386    285\n",
       "10    Weeplace  SW-24H-MFN  272  0.954386  274  0.961404    285\n",
       "11    Weeplace         TFN  273  0.957895  282  0.989474    285"
      ]
     },
     "execution_count": 68,
     "metadata": {},
     "output_type": "execute_result"
    }
   ],
   "source": [
    "spearman_kendall_test(df_all_used, 'Pi_alters_ratio')"
   ]
  },
  {
   "cell_type": "code",
   "execution_count": 33,
   "metadata": {
    "ExecuteTime": {
     "end_time": "2020-10-06T14:26:10.745685Z",
     "start_time": "2020-10-06T14:26:10.684276Z"
    }
   },
   "outputs": [],
   "source": [
    "# stats_test.to_csv('docs/vip_stats_test_all_category.csv', index=False)"
   ]
  },
  {
   "cell_type": "code",
   "execution_count": 87,
   "metadata": {
    "ExecuteTime": {
     "end_time": "2020-12-13T15:32:36.929065Z",
     "start_time": "2020-12-13T15:32:36.877495Z"
    }
   },
   "outputs": [],
   "source": [
    "def name_transfer(df_all_used):\n",
    "    df_all_used.loc[df_all_used.dataset == 'Weeplace', 'dataset'] = 'Weeplaces'\n",
    "    df_all_used.loc[df_all_used.category == 'CB-1H-MFN', 'category'] = 'CB-1H-CN'\n",
    "    df_all_used.loc[df_all_used.category == 'CB-1D-MFN', 'category'] = 'CB-1D-CN'\n",
    "    df_all_used.loc[df_all_used.category == 'SW-24H-MFN', 'category'] = 'SW-24H-CN'\n",
    "    df_all_used.loc[df_all_used.category == 'TFN', 'category'] = 'Social relationship'\n",
    "    return df_all_used"
   ]
  },
  {
   "cell_type": "code",
   "execution_count": 89,
   "metadata": {
    "ExecuteTime": {
     "end_time": "2020-12-13T15:32:45.820620Z",
     "start_time": "2020-12-13T15:32:45.752565Z"
    }
   },
   "outputs": [
    {
     "name": "stderr",
     "output_type": "stream",
     "text": [
      "/home/zchen/.local/lib/python3.6/site-packages/pandas/core/indexing.py:1763: SettingWithCopyWarning: \n",
      "A value is trying to be set on a copy of a slice from a DataFrame.\n",
      "Try using .loc[row_indexer,col_indexer] = value instead\n",
      "\n",
      "See the caveats in the documentation: https://pandas.pydata.org/pandas-docs/stable/user_guide/indexing.html#returning-a-view-versus-a-copy\n",
      "  isetter(loc, value)\n"
     ]
    }
   ],
   "source": [
    "df_all_used = name_transfer(df_all_used)"
   ]
  },
  {
   "cell_type": "code",
   "execution_count": 121,
   "metadata": {
    "ExecuteTime": {
     "end_time": "2020-12-13T15:47:26.151939Z",
     "start_time": "2020-12-13T15:47:15.163381Z"
    }
   },
   "outputs": [],
   "source": [
    "ttest_CCP, ds_list = two_side_t_test(df_all_used[df_all_used['category'] != 'Social relationship'], 'Pi_alters_ratio')"
   ]
  },
  {
   "cell_type": "code",
   "execution_count": 118,
   "metadata": {
    "ExecuteTime": {
     "end_time": "2020-12-13T15:46:04.737603Z",
     "start_time": "2020-12-13T15:45:43.626036Z"
    }
   },
   "outputs": [],
   "source": [
    "ttest_CCP, ds_list = two_side_t_test(df_all_used, 'Pi_alters_ratio', alpha=0.01)"
   ]
  },
  {
   "cell_type": "code",
   "execution_count": 122,
   "metadata": {
    "ExecuteTime": {
     "end_time": "2020-12-13T15:47:31.392040Z",
     "start_time": "2020-12-13T15:47:30.565810Z"
    }
   },
   "outputs": [
    {
     "data": {
      "image/png": "[encoded data removed]",
      "text/plain": [
       "<Figure size 583.2x194.4 with 3 Axes>"
      ]
     },
     "metadata": {
      "needs_background": "light"
     },
     "output_type": "display_data"
    }
   ],
   "source": [
    "fig, axn = plt.subplots(1, 3, figsize=(8.1, 2.7), sharey=True)\n",
    "# 8.1 and 2.7 for three\n",
    "# cbar_ax = fig.add_axes([.91, .3, .03, .4])\n",
    "for i, ax in enumerate(axn.flat):\n",
    "    sns.heatmap(ttest_CCP[i], ax=ax, linewidths=.5, annot=True, fmt=\".2%\", cbar=False, cmap=\"YlGnBu\"\n",
    "#                 cbar=i == 0,\n",
    "#                 vmin=0.77, vmax=1,\n",
    "#                 cbar_ax=None if i else cbar_ax\n",
    "               )\n",
    "    ax.xaxis.set_label_position('bottom')\n",
    "    ax.set_title(ds_list[i], pad=15)\n",
    "    ax.set_xticklabels(ax.get_xticklabels(), rotation=45, ha='right')\n",
    "    \n",
    "fig.tight_layout(rect=[0, 0, .9, 1])\n",
    "# plt.savefig('fig/VIP_T_Test_CCP_MeetupNp.pdf')\n",
    "plt.savefig('fig/VIP_T_Test_CCP_MeetupNp3.pdf')"
   ]
  },
  {
   "cell_type": "code",
   "execution_count": 57,
   "metadata": {
    "ExecuteTime": {
     "end_time": "2020-09-18T21:53:00.297176Z",
     "start_time": "2020-09-18T21:53:00.254521Z"
    }
   },
   "outputs": [],
   "source": [
    "# CI computation"
   ]
  },
  {
   "cell_type": "code",
   "execution_count": 37,
   "metadata": {
    "ExecuteTime": {
     "end_time": "2020-10-06T14:34:32.096756Z",
     "start_time": "2020-10-06T14:33:36.577829Z"
    }
   },
   "outputs": [],
   "source": [
    "# Only for PI\n",
    "lower = df_all_used.groupby(['Included', 'category',\n",
    "                         'dataset'])['Pi_alters_ratio'].apply(lambda x: ci(sns.algorithms.bootstrap(x), \n",
    "                                                                           which=95)[0]).reset_index()\n",
    "upper = df_all_used.groupby(['Included', 'category',\n",
    "                         'dataset'])['Pi_alters_ratio'].apply(lambda x: ci(sns.algorithms.bootstrap(x), \n",
    "                                                                           which=95)[1]).reset_index()\n",
    "mid = df_all_used.groupby(['Included', 'category',\n",
    "                           'dataset'])['Pi_alters_ratio'].mean().reset_index()"
   ]
  },
  {
   "cell_type": "code",
   "execution_count": 38,
   "metadata": {
    "ExecuteTime": {
     "end_time": "2020-10-06T14:36:15.152404Z",
     "start_time": "2020-10-06T14:35:18.531757Z"
    }
   },
   "outputs": [],
   "source": [
    "# Only for CCE\n",
    "lower_CCE = df_all_used.groupby(['Included', 'category',\n",
    "                         'dataset'])['CCE_alters_ratio'].apply(lambda x: ci(sns.algorithms.bootstrap(x), \n",
    "                                                                           which=95)[0]).reset_index()\n",
    "upper_CCE = df_all_used.groupby(['Included', 'category',\n",
    "                         'dataset'])['CCE_alters_ratio'].apply(lambda x: ci(sns.algorithms.bootstrap(x), \n",
    "                                                                           which=95)[1]).reset_index()\n",
    "mid_CCE = df_all_used.groupby(['Included', 'category',\n",
    "                           'dataset'])['CCE_alters_ratio'].mean().reset_index()"
   ]
  },
  {
   "cell_type": "code",
   "execution_count": 64,
   "metadata": {
    "ExecuteTime": {
     "end_time": "2020-10-06T14:48:16.182442Z",
     "start_time": "2020-10-06T14:48:16.094640Z"
    },
    "scrolled": true
   },
   "outputs": [],
   "source": [
    "all_final = reduce(lambda df1,df2: pd.merge(df1,df2,on=['Included', 'category', 'dataset']), \n",
    "                   [mid, lower, upper, mid_CCE, lower_CCE, upper_CCE])\n",
    "all_final.columns = ['included', 'category', 'dataset', 'mean', 'lower', 'upper','mean_CCE', 'lower_CCE', 'upper_CCE']"
   ]
  },
  {
   "cell_type": "code",
   "execution_count": 65,
   "metadata": {
    "ExecuteTime": {
     "end_time": "2020-10-06T14:49:55.336916Z",
     "start_time": "2020-10-06T14:49:55.287791Z"
    }
   },
   "outputs": [],
   "source": [
    "# all_final.to_csv('final/150_all_category_CP.csv', index=False)\n",
    "all_final.to_csv('final/150_all_category_MeetupNp.csv', index=False)\n",
    "# all_final.to_csv('final/FreqNp_Rank/150_all_category_FreqNp.csv', index=False)"
   ]
  },
  {
   "cell_type": "markdown",
   "metadata": {},
   "source": [
    "# All these MFNs and TFN (Global Jaccard Similarity)"
   ]
  },
  {
   "cell_type": "code",
   "execution_count": 93,
   "metadata": {
    "ExecuteTime": {
     "end_time": "2020-12-13T15:34:35.328899Z",
     "start_time": "2020-12-13T15:34:35.284122Z"
    }
   },
   "outputs": [],
   "source": [
    "import pickle\n",
    "import matplotlib.pyplot as plt"
   ]
  },
  {
   "cell_type": "code",
   "execution_count": 94,
   "metadata": {
    "ExecuteTime": {
     "end_time": "2020-12-13T15:34:37.844119Z",
     "start_time": "2020-12-13T15:34:37.789875Z"
    }
   },
   "outputs": [],
   "source": [
    "# pickle_in = open(\"final/wp-150/wp_VIP_similarity_CP.pickle\", \"rb\")\n",
    "# wp_vip_similarity = pickle.load(pickle_in)\n",
    "# pickle_in.close()\n",
    "\n",
    "# pickle_in = open(\"final/bk-150/bk_VIP_similarity_CP.pickle\", \"rb\")\n",
    "# bk_vip_similarity = pickle.load(pickle_in)\n",
    "# pickle_in.close()\n",
    "\n",
    "# pickle_in = open(\"final/gws-150/gws_VIP_similarity_CP.pickle\", \"rb\")\n",
    "# gws_vip_similarity = pickle.load(pickle_in)\n",
    "# pickle_in.close()\n",
    "\n",
    "pickle_in = open(\"final/wp-150/wp_VIP_similarity_MeetupNp.pickle\", \"rb\")\n",
    "wp_vip_similarity = pickle.load(pickle_in)\n",
    "pickle_in.close()\n",
    "\n",
    "pickle_in = open(\"final/bk-150/bk_VIP_similarity_MeetupNp.pickle\", \"rb\")\n",
    "bk_vip_similarity = pickle.load(pickle_in)\n",
    "pickle_in.close()\n",
    "\n",
    "pickle_in = open(\"final/gws-150/gws_VIP_similarity_MeetupNp.pickle\", \"rb\")\n",
    "gws_vip_similarity = pickle.load(pickle_in)\n",
    "pickle_in.close()\n",
    "\n",
    "# pickle_in = open(\"final/wp-150/wp_VIP_similarity_FreqNp.pickle\", \"rb\")\n",
    "# wp_vip_similarity = pickle.load(pickle_in)\n",
    "# pickle_in.close()\n",
    "\n",
    "# pickle_in = open(\"final/bk-150/bk_VIP_similarity_FreqNp.pickle\", \"rb\")\n",
    "# bk_vip_similarity = pickle.load(pickle_in)\n",
    "# pickle_in.close()\n",
    "\n",
    "# pickle_in = open(\"final/gws-150/gws_VIP_similarity_FreqNp.pickle\", \"rb\")\n",
    "# gws_vip_similarity = pickle.load(pickle_in)\n",
    "# pickle_in.close()"
   ]
  },
  {
   "cell_type": "code",
   "execution_count": 95,
   "metadata": {
    "ExecuteTime": {
     "end_time": "2020-12-13T15:34:40.970866Z",
     "start_time": "2020-12-13T15:34:40.926058Z"
    }
   },
   "outputs": [],
   "source": [
    "df = [bk_vip_similarity, gws_vip_similarity, wp_vip_similarity]"
   ]
  },
  {
   "cell_type": "code",
   "execution_count": 96,
   "metadata": {
    "ExecuteTime": {
     "end_time": "2020-12-13T15:34:48.274549Z",
     "start_time": "2020-12-13T15:34:48.230100Z"
    }
   },
   "outputs": [],
   "source": [
    "datasets = ['BrightKite', 'Gowalla', 'Weeplaces']"
   ]
  },
  {
   "cell_type": "code",
   "execution_count": 97,
   "metadata": {
    "ExecuteTime": {
     "end_time": "2020-12-13T15:35:06.311423Z",
     "start_time": "2020-12-13T15:35:06.256904Z"
    }
   },
   "outputs": [],
   "source": [
    "for i in range(3):\n",
    "    df[i].drop(df[i].tail(1).index,inplace=True)\n",
    "    df[i].drop(df[i].columns[[-1,]], axis=1, inplace=True)"
   ]
  },
  {
   "cell_type": "code",
   "execution_count": 98,
   "metadata": {
    "ExecuteTime": {
     "end_time": "2020-12-13T15:35:13.654464Z",
     "start_time": "2020-12-13T15:35:12.750462Z"
    }
   },
   "outputs": [
    {
     "name": "stderr",
     "output_type": "stream",
     "text": [
      "/opt/conda/lib/python3.6/site-packages/ipykernel_launcher.py:12: UserWarning: This figure includes Axes that are not compatible with tight_layout, so results might be incorrect.\n",
      "  if sys.path[0] == '':\n"
     ]
    },
    {
     "data": {
      "image/png": "[encoded data removed]",
      "text/plain": [
       "<Figure size 648x216 with 4 Axes>"
      ]
     },
     "metadata": {
      "needs_background": "light"
     },
     "output_type": "display_data"
    }
   ],
   "source": [
    "fig, axn = plt.subplots(1, 3, figsize=(9, 3), sharey=True)\n",
    "cbar_ax = fig.add_axes([.91, .3, .03, .4])\n",
    "for i, ax in enumerate(axn.flat):\n",
    "    sns.heatmap(df[i], ax=ax, linewidths=.5, annot=True,\n",
    "                cbar=i == 0,\n",
    "                vmin=0, vmax=1,\n",
    "                cbar_ax=None if i else cbar_ax)\n",
    "    ax.xaxis.set_label_position('bottom')\n",
    "    ax.set_title(datasets[i], pad=15)\n",
    "    ax.set_xticklabels(ax.get_xticklabels(), rotation=45, ha='right')\n",
    "    \n",
    "fig.tight_layout(rect=[0, 0, .9, 1])\n",
    "# plt.savefig('fig/VIP_similarity_FreqNp.pdf')\n",
    "plt.savefig('fig/VIP_similarity_MeetupNp3.pdf')"
   ]
  },
  {
   "cell_type": "markdown",
   "metadata": {},
   "source": [
    "# VIP LR"
   ]
  },
  {
   "cell_type": "code",
   "execution_count": 99,
   "metadata": {
    "ExecuteTime": {
     "end_time": "2020-12-13T15:36:19.404818Z",
     "start_time": "2020-12-13T15:36:19.296854Z"
    }
   },
   "outputs": [],
   "source": [
    "# wp_vip_LR =  pd.read_csv('final/wp-150/wp_VIP_LR_CP.csv')\n",
    "# wp_vip_LR['dataset'] = 'Weeplace'\n",
    "\n",
    "# bk_vip_LR = pd.read_csv('final/bk-150/bk_VIP_LR_CP.csv')\n",
    "# bk_vip_LR['dataset'] = 'BrightKite'\n",
    "\n",
    "# gw_vip_LR = pd.read_csv('final/gws-150/gws_VIP_LR_CP.csv')\n",
    "# gw_vip_LR['dataset'] = 'Gowalla'\n",
    "\n",
    "# wp_vip_LR =  pd.read_csv('final/wp-150/wp_VIP_LR_MeetupNp.csv')\n",
    "# wp_vip_LR['dataset'] = 'Weeplace'\n",
    "\n",
    "# bk_vip_LR = pd.read_csv('final/bk-150/bk_VIP_LR_MeetupNp.csv')\n",
    "# bk_vip_LR['dataset'] = 'BrightKite'\n",
    "\n",
    "# gw_vip_LR = pd.read_csv('final/gws-150/gws_VIP_LR_MeetupNp.csv')\n",
    "# gw_vip_LR['dataset'] = 'Gowalla'\n",
    "\n",
    "# wp_vip_LR =  pd.read_csv('final/wp-150/wp_VIP_LR_FreqNp.csv')\n",
    "# wp_vip_LR['dataset'] = 'Weeplace'\n",
    "\n",
    "# bk_vip_LR = pd.read_csv('final/bk-150/bk_VIP_LR_FreqNp.csv')\n",
    "# bk_vip_LR['dataset'] = 'BrightKite'\n",
    "\n",
    "# gw_vip_LR = pd.read_csv('final/gws-150/gws_VIP_LR_FreqNp.csv')\n",
    "# gw_vip_LR['dataset'] = 'Gowalla'\n",
    "\n",
    "wp_vip_LR =  pd.read_csv('final/wp-150/wp_VIP_cumulative_LR_MeetupNp.csv')\n",
    "wp_vip_LR['dataset'] = 'Weeplace'\n",
    "\n",
    "bk_vip_LR = pd.read_csv('final/bk-150/bk_VIP_cumulative_LR_MeetupNp.csv')\n",
    "bk_vip_LR['dataset'] = 'BrightKite'\n",
    "\n",
    "gw_vip_LR = pd.read_csv('final/gws-150/gws_VIP_cumulative_LR_MeetupNp.csv')\n",
    "gw_vip_LR['dataset'] = 'Gowalla'\n",
    "\n",
    "# wp_vip_LR =  pd.read_csv('final/wp-150/wp_VIP_cumulative_LR_FreqNp.csv')\n",
    "# wp_vip_LR['dataset'] = 'Weeplace'\n",
    "\n",
    "# bk_vip_LR = pd.read_csv('final/bk-150/bk_VIP_cumulative_LR_FreqNp.csv')\n",
    "# bk_vip_LR['dataset'] = 'BrightKite'\n",
    "\n",
    "# gw_vip_LR = pd.read_csv('final/gws-150/gws_VIP_cumulative_LR_FreqNp.csv')\n",
    "# gw_vip_LR['dataset'] = 'Gowalla'"
   ]
  },
  {
   "cell_type": "code",
   "execution_count": 100,
   "metadata": {
    "ExecuteTime": {
     "end_time": "2020-12-13T15:36:22.052552Z",
     "start_time": "2020-12-13T15:36:21.966922Z"
    }
   },
   "outputs": [],
   "source": [
    "vip_LR = pd.concat([wp_vip_LR, bk_vip_LR, gw_vip_LR])"
   ]
  },
  {
   "cell_type": "code",
   "execution_count": 107,
   "metadata": {
    "ExecuteTime": {
     "end_time": "2020-10-01T00:50:13.897874Z",
     "start_time": "2020-10-01T00:49:19.821589Z"
    }
   },
   "outputs": [],
   "source": [
    "vip_lower = vip_LR.groupby(['Included', 'category',\n",
    "                         'dataset'])['USLR'].apply(lambda x: ci(sns.algorithms.bootstrap(x), \n",
    "                                                                           which=95)[0]).reset_index()\n",
    "vip_upper = vip_LR.groupby(['Included', 'category',\n",
    "                         'dataset'])['USLR'].apply(lambda x: ci(sns.algorithms.bootstrap(x), \n",
    "                                                                           which=95)[1]).reset_index()\n",
    "vip_mid = vip_LR.groupby(['Included', 'category', 'dataset'])['USLR'].mean().reset_index()\n",
    "vip_USLR = reduce(lambda df1,df2: pd.merge(df1,df2,on=['Included', 'category', 'dataset']), [vip_mid, vip_lower, vip_upper])\n",
    "vip_USLR.columns = ['included', 'category', 'dataset', 'mean', 'lower', 'upper']\n",
    "vip_USLR['LR'] = 'USLR'"
   ]
  },
  {
   "cell_type": "code",
   "execution_count": 108,
   "metadata": {
    "ExecuteTime": {
     "end_time": "2020-10-01T00:51:14.849656Z",
     "start_time": "2020-10-01T00:50:18.656701Z"
    }
   },
   "outputs": [],
   "source": [
    "vip_lower = vip_LR.groupby(['Included', 'category',\n",
    "                         'dataset'])['SLR'].apply(lambda x: ci(sns.algorithms.bootstrap(x), \n",
    "                                                                           which=95)[0]).reset_index()\n",
    "vip_upper = vip_LR.groupby(['Included', 'category',\n",
    "                         'dataset'])['SLR'].apply(lambda x: ci(sns.algorithms.bootstrap(x), \n",
    "                                                                           which=95)[1]).reset_index()\n",
    "vip_mid = vip_LR.groupby(['Included', 'category', 'dataset'])['SLR'].mean().reset_index()\n",
    "\n",
    "vip_SLR = reduce(lambda df1,df2: pd.merge(df1,df2,on=['Included', 'category', 'dataset']), [vip_mid, vip_lower, vip_upper])\n",
    "vip_SLR.columns = ['included', 'category', 'dataset', 'mean', 'lower', 'upper']\n",
    "vip_SLR['LR'] = 'SLR'"
   ]
  },
  {
   "cell_type": "code",
   "execution_count": 109,
   "metadata": {
    "ExecuteTime": {
     "end_time": "2020-10-01T00:51:18.158055Z",
     "start_time": "2020-10-01T00:51:18.124850Z"
    }
   },
   "outputs": [],
   "source": [
    "vip_LR_final = pd.concat([vip_USLR, vip_SLR])"
   ]
  },
  {
   "cell_type": "code",
   "execution_count": 110,
   "metadata": {
    "ExecuteTime": {
     "end_time": "2020-10-01T00:51:21.248475Z",
     "start_time": "2020-10-01T00:51:21.201082Z"
    }
   },
   "outputs": [],
   "source": [
    "# vip_LR_final.to_csv('final/150_all_LR_CP.csv', index=False)\n",
    "# vip_LR_final.to_csv('final/150_all_LR_MeetupNp.csv', index=False)\n",
    "# vip_LR_final.to_csv('final/150_all_LR_FreqNp.csv', index=False)\n",
    "\n",
    "vip_LR_final.to_csv('final/150_all_cumulative_LR_MeetupNp.csv', index=False)\n",
    "\n",
    "# vip_LR_final.to_csv('final/150_all_cumulative_LR_FreqNp.csv', index=False)"
   ]
  },
  {
   "cell_type": "code",
   "execution_count": 73,
   "metadata": {
    "ExecuteTime": {
     "end_time": "2020-12-10T18:33:08.120062Z",
     "start_time": "2020-12-10T18:33:03.534650Z"
    }
   },
   "outputs": [
    {
     "data": {
      "text/plain": [
       "([           CB-1H-MFN       TFN\n",
       "  CB-1H-MFN   0.984848  0.893939\n",
       "  TFN         0.893939  1.000000,\n",
       "             CB-1H-MFN       TFN\n",
       "  CB-1H-MFN   1.000000  0.922535\n",
       "  TFN         0.922535  1.000000,\n",
       "             CB-1H-MFN       TFN\n",
       "  CB-1H-MFN   1.000000  0.950877\n",
       "  TFN         0.950877  1.000000],\n",
       " ['BrightKite', 'Gowalla', 'Weeplace'])"
      ]
     },
     "execution_count": 73,
     "metadata": {},
     "output_type": "execute_result"
    }
   ],
   "source": [
    "two_side_t_test(vip_LR[vip_LR['category'].isin(['TFN', 'CB-1H-MFN'])], 'USLR')"
   ]
  },
  {
   "cell_type": "code",
   "execution_count": 74,
   "metadata": {
    "ExecuteTime": {
     "end_time": "2020-12-10T18:34:24.286795Z",
     "start_time": "2020-12-10T18:34:24.129812Z"
    }
   },
   "outputs": [],
   "source": [
    "wp_vip_LR =  pd.read_csv('final/wp-150/wp_VIP_LR_MeetupNp.csv')\n",
    "wp_vip_LR['dataset'] = 'Weeplace'\n",
    "\n",
    "bk_vip_LR = pd.read_csv('final/bk-150/bk_VIP_LR_MeetupNp.csv')\n",
    "bk_vip_LR['dataset'] = 'BrightKite'\n",
    "\n",
    "gw_vip_LR = pd.read_csv('final/gws-150/gws_VIP_LR_MeetupNp.csv')\n",
    "gw_vip_LR['dataset'] = 'Gowalla'\n",
    "\n",
    "vip_LR = pd.concat([wp_vip_LR, bk_vip_LR, gw_vip_LR])"
   ]
  },
  {
   "cell_type": "code",
   "execution_count": 75,
   "metadata": {
    "ExecuteTime": {
     "end_time": "2020-12-10T18:34:43.166076Z",
     "start_time": "2020-12-10T18:34:38.553671Z"
    }
   },
   "outputs": [
    {
     "data": {
      "text/plain": [
       "([           CB-1H-MFN       TFN\n",
       "  CB-1H-MFN   1.000000  0.984848\n",
       "  TFN         0.984848  1.000000,\n",
       "             CB-1H-MFN      TFN\n",
       "  CB-1H-MFN    1.00000  0.93662\n",
       "  TFN          0.93662  1.00000,\n",
       "             CB-1H-MFN       TFN\n",
       "  CB-1H-MFN   1.000000  0.985965\n",
       "  TFN         0.985965  1.000000],\n",
       " ['BrightKite', 'Gowalla', 'Weeplace'])"
      ]
     },
     "execution_count": 75,
     "metadata": {},
     "output_type": "execute_result"
    }
   ],
   "source": [
    "two_side_t_test(vip_LR[vip_LR['category'].isin(['TFN', 'CB-1H-MFN'])], 'USLR')"
   ]
  },
  {
   "cell_type": "markdown",
   "metadata": {},
   "source": [
    "# H-MFN vs TFN Cross validation"
   ]
  },
  {
   "cell_type": "code",
   "execution_count": 5,
   "metadata": {
    "ExecuteTime": {
     "end_time": "2020-12-10T15:16:01.081255Z",
     "start_time": "2020-12-10T15:15:57.870454Z"
    }
   },
   "outputs": [],
   "source": [
    "wp_vip_cv =  pd.read_csv('final/wp-150-cv/wp_join_vip10_CV_MeetupNp.csv')\n",
    "wp_vip_cv['dataset'] = 'Weeplace'\n",
    "\n",
    "bk_vip_cv = pd.read_csv('final/bk-150-cv/bk_join_vip10_CV_MeetupNp.csv')\n",
    "bk_vip_cv['dataset'] = 'BrightKite'\n",
    "\n",
    "gw_vip_cv = pd.read_csv('final/gws-150-cv/gws_join_vip10_CV_MeetupNp.csv')\n",
    "gw_vip_cv['dataset'] = 'Gowalla'"
   ]
  },
  {
   "cell_type": "code",
   "execution_count": 6,
   "metadata": {
    "ExecuteTime": {
     "end_time": "2020-12-10T15:16:10.203232Z",
     "start_time": "2020-12-10T15:16:09.802928Z"
    }
   },
   "outputs": [],
   "source": [
    "vip_CV = pd.concat([wp_vip_cv, bk_vip_cv, gw_vip_cv])"
   ]
  },
  {
   "cell_type": "code",
   "execution_count": 117,
   "metadata": {
    "ExecuteTime": {
     "end_time": "2020-10-07T21:21:49.691178Z",
     "start_time": "2020-10-07T21:19:35.923255Z"
    }
   },
   "outputs": [],
   "source": [
    "vip_lower = vip_CV.groupby(['Included', 'category',\n",
    "                         'dataset'])['Pi_alters_ratio'].apply(lambda x: ci(sns.algorithms.bootstrap(x), \n",
    "                                                                           which=95)[0]).reset_index()\n",
    "vip_upper = vip_CV.groupby(['Included', 'category',\n",
    "                         'dataset'])['Pi_alters_ratio'].apply(lambda x: ci(sns.algorithms.bootstrap(x), \n",
    "                                                                           which=95)[1]).reset_index()\n",
    "vip_mid = vip_CV.groupby(['Included', 'category', 'dataset'])['Pi_alters_ratio'].mean().reset_index()\n",
    "vip_CV_final = reduce(lambda df1,df2: pd.merge(df1,df2,on=['Included', 'category', 'dataset']), [vip_mid, vip_lower, vip_upper])\n",
    "vip_CV_final.columns = ['included', 'category', 'dataset', 'mean', 'lower', 'upper']"
   ]
  },
  {
   "cell_type": "code",
   "execution_count": 118,
   "metadata": {
    "ExecuteTime": {
     "end_time": "2020-10-07T21:21:59.271511Z",
     "start_time": "2020-10-07T21:21:59.238829Z"
    },
    "scrolled": false
   },
   "outputs": [],
   "source": [
    "# vip_CV_final.to_csv('final/150_all_CV_MeetupNp.csv', index=False)"
   ]
  },
  {
   "cell_type": "markdown",
   "metadata": {},
   "source": [
    "# Statistical Test for OLDR and COLDR"
   ]
  },
  {
   "cell_type": "markdown",
   "metadata": {},
   "source": [
    "## Test for CODLR"
   ]
  },
  {
   "cell_type": "code",
   "execution_count": 101,
   "metadata": {
    "ExecuteTime": {
     "end_time": "2020-12-13T15:36:59.537019Z",
     "start_time": "2020-12-13T15:36:59.413261Z"
    }
   },
   "outputs": [],
   "source": [
    "wp_vip_SLR =  pd.read_csv('final/wp-150/wp_VIP_cumulative_LR_MeetupNp.csv')\n",
    "wp_vip_SLR['dataset'] = 'Weeplace'\n",
    "\n",
    "bk_vip_SLR = pd.read_csv('final/bk-150/bk_VIP_cumulative_LR_MeetupNp.csv')\n",
    "bk_vip_SLR['dataset'] = 'BrightKite'\n",
    "\n",
    "gw_vip_SLR = pd.read_csv('final/gws-150/gws_VIP_cumulative_LR_MeetupNp.csv')\n",
    "gw_vip_SLR['dataset'] = 'Gowalla'\n",
    "\n",
    "vip_SLR = pd.concat([wp_vip_SLR, bk_vip_SLR, gw_vip_SLR])"
   ]
  },
  {
   "cell_type": "code",
   "execution_count": 102,
   "metadata": {
    "ExecuteTime": {
     "end_time": "2020-12-13T15:37:12.591233Z",
     "start_time": "2020-12-13T15:37:12.520138Z"
    }
   },
   "outputs": [
    {
     "data": {
      "text/html": [
       "<div>\n",
       "<style scoped>\n",
       "    .dataframe tbody tr th:only-of-type {\n",
       "        vertical-align: middle;\n",
       "    }\n",
       "\n",
       "    .dataframe tbody tr th {\n",
       "        vertical-align: top;\n",
       "    }\n",
       "\n",
       "    .dataframe thead th {\n",
       "        text-align: right;\n",
       "    }\n",
       "</style>\n",
       "<table border=\"1\" class=\"dataframe\">\n",
       "  <thead>\n",
       "    <tr style=\"text-align: right;\">\n",
       "      <th></th>\n",
       "      <th>Included</th>\n",
       "      <th>userid</th>\n",
       "      <th>userid_y</th>\n",
       "      <th>category</th>\n",
       "      <th>USLR</th>\n",
       "      <th>SLR</th>\n",
       "      <th>dataset</th>\n",
       "    </tr>\n",
       "  </thead>\n",
       "  <tbody>\n",
       "    <tr>\n",
       "      <th>0</th>\n",
       "      <td>1</td>\n",
       "      <td>4sq-seoul</td>\n",
       "      <td>siegfrid</td>\n",
       "      <td>CB-1H-MFN</td>\n",
       "      <td>0.137931</td>\n",
       "      <td>0.354930</td>\n",
       "      <td>Weeplace</td>\n",
       "    </tr>\n",
       "    <tr>\n",
       "      <th>1</th>\n",
       "      <td>2</td>\n",
       "      <td>4sq-seoul</td>\n",
       "      <td>mrblues</td>\n",
       "      <td>CB-1H-MFN</td>\n",
       "      <td>0.155172</td>\n",
       "      <td>0.552113</td>\n",
       "      <td>Weeplace</td>\n",
       "    </tr>\n",
       "    <tr>\n",
       "      <th>2</th>\n",
       "      <td>3</td>\n",
       "      <td>4sq-seoul</td>\n",
       "      <td>onepiece-chopper</td>\n",
       "      <td>CB-1H-MFN</td>\n",
       "      <td>0.215517</td>\n",
       "      <td>0.884507</td>\n",
       "      <td>Weeplace</td>\n",
       "    </tr>\n",
       "    <tr>\n",
       "      <th>3</th>\n",
       "      <td>4</td>\n",
       "      <td>4sq-seoul</td>\n",
       "      <td>nikki5</td>\n",
       "      <td>CB-1H-MFN</td>\n",
       "      <td>0.241379</td>\n",
       "      <td>1.194366</td>\n",
       "      <td>Weeplace</td>\n",
       "    </tr>\n",
       "    <tr>\n",
       "      <th>4</th>\n",
       "      <td>5</td>\n",
       "      <td>4sq-seoul</td>\n",
       "      <td>jaehoon-choi</td>\n",
       "      <td>CB-1H-MFN</td>\n",
       "      <td>0.241379</td>\n",
       "      <td>1.430986</td>\n",
       "      <td>Weeplace</td>\n",
       "    </tr>\n",
       "    <tr>\n",
       "      <th>...</th>\n",
       "      <td>...</td>\n",
       "      <td>...</td>\n",
       "      <td>...</td>\n",
       "      <td>...</td>\n",
       "      <td>...</td>\n",
       "      <td>...</td>\n",
       "      <td>...</td>\n",
       "    </tr>\n",
       "    <tr>\n",
       "      <th>5675</th>\n",
       "      <td>6</td>\n",
       "      <td>10962</td>\n",
       "      <td>10094</td>\n",
       "      <td>TFN</td>\n",
       "      <td>0.391705</td>\n",
       "      <td>0.520000</td>\n",
       "      <td>Gowalla</td>\n",
       "    </tr>\n",
       "    <tr>\n",
       "      <th>5676</th>\n",
       "      <td>7</td>\n",
       "      <td>10962</td>\n",
       "      <td>10659</td>\n",
       "      <td>TFN</td>\n",
       "      <td>0.400922</td>\n",
       "      <td>0.571852</td>\n",
       "      <td>Gowalla</td>\n",
       "    </tr>\n",
       "    <tr>\n",
       "      <th>5677</th>\n",
       "      <td>8</td>\n",
       "      <td>10962</td>\n",
       "      <td>1791</td>\n",
       "      <td>TFN</td>\n",
       "      <td>0.410138</td>\n",
       "      <td>0.582222</td>\n",
       "      <td>Gowalla</td>\n",
       "    </tr>\n",
       "    <tr>\n",
       "      <th>5678</th>\n",
       "      <td>9</td>\n",
       "      <td>10962</td>\n",
       "      <td>10101</td>\n",
       "      <td>TFN</td>\n",
       "      <td>0.419355</td>\n",
       "      <td>0.616296</td>\n",
       "      <td>Gowalla</td>\n",
       "    </tr>\n",
       "    <tr>\n",
       "      <th>5679</th>\n",
       "      <td>10</td>\n",
       "      <td>10962</td>\n",
       "      <td>10077</td>\n",
       "      <td>TFN</td>\n",
       "      <td>0.433180</td>\n",
       "      <td>0.681481</td>\n",
       "      <td>Gowalla</td>\n",
       "    </tr>\n",
       "  </tbody>\n",
       "</table>\n",
       "<p>19720 rows × 7 columns</p>\n",
       "</div>"
      ],
      "text/plain": [
       "      Included     userid          userid_y   category      USLR       SLR  \\\n",
       "0            1  4sq-seoul          siegfrid  CB-1H-MFN  0.137931  0.354930   \n",
       "1            2  4sq-seoul           mrblues  CB-1H-MFN  0.155172  0.552113   \n",
       "2            3  4sq-seoul  onepiece-chopper  CB-1H-MFN  0.215517  0.884507   \n",
       "3            4  4sq-seoul            nikki5  CB-1H-MFN  0.241379  1.194366   \n",
       "4            5  4sq-seoul      jaehoon-choi  CB-1H-MFN  0.241379  1.430986   \n",
       "...        ...        ...               ...        ...       ...       ...   \n",
       "5675         6      10962             10094        TFN  0.391705  0.520000   \n",
       "5676         7      10962             10659        TFN  0.400922  0.571852   \n",
       "5677         8      10962              1791        TFN  0.410138  0.582222   \n",
       "5678         9      10962             10101        TFN  0.419355  0.616296   \n",
       "5679        10      10962             10077        TFN  0.433180  0.681481   \n",
       "\n",
       "       dataset  \n",
       "0     Weeplace  \n",
       "1     Weeplace  \n",
       "2     Weeplace  \n",
       "3     Weeplace  \n",
       "4     Weeplace  \n",
       "...        ...  \n",
       "5675   Gowalla  \n",
       "5676   Gowalla  \n",
       "5677   Gowalla  \n",
       "5678   Gowalla  \n",
       "5679   Gowalla  \n",
       "\n",
       "[19720 rows x 7 columns]"
      ]
     },
     "execution_count": 102,
     "metadata": {},
     "output_type": "execute_result"
    }
   ],
   "source": [
    "vip_SLR"
   ]
  },
  {
   "cell_type": "code",
   "execution_count": 80,
   "metadata": {
    "ExecuteTime": {
     "end_time": "2020-12-10T18:41:12.116509Z",
     "start_time": "2020-12-10T18:41:08.968585Z"
    }
   },
   "outputs": [
    {
     "name": "stderr",
     "output_type": "stream",
     "text": [
      "/opt/conda/lib/python3.6/site-packages/scipy/stats/stats.py:4196: SpearmanRConstantInputWarning: An input array is constant; the correlation coefficent is not defined.\n",
      "  warnings.warn(SpearmanRConstantInputWarning())\n"
     ]
    },
    {
     "data": {
      "text/html": [
       "<div>\n",
       "<style scoped>\n",
       "    .dataframe tbody tr th:only-of-type {\n",
       "        vertical-align: middle;\n",
       "    }\n",
       "\n",
       "    .dataframe tbody tr th {\n",
       "        vertical-align: top;\n",
       "    }\n",
       "\n",
       "    .dataframe thead th {\n",
       "        text-align: right;\n",
       "    }\n",
       "</style>\n",
       "<table border=\"1\" class=\"dataframe\">\n",
       "  <thead>\n",
       "    <tr style=\"text-align: right;\">\n",
       "      <th></th>\n",
       "      <th>dataset</th>\n",
       "      <th>category</th>\n",
       "      <th>SpN</th>\n",
       "      <th>SpP</th>\n",
       "      <th>Kn</th>\n",
       "      <th>Kp</th>\n",
       "      <th>total</th>\n",
       "    </tr>\n",
       "  </thead>\n",
       "  <tbody>\n",
       "    <tr>\n",
       "      <th>0</th>\n",
       "      <td>BrightKite</td>\n",
       "      <td>CB-1D-MFN</td>\n",
       "      <td>66</td>\n",
       "      <td>1.000000</td>\n",
       "      <td>66</td>\n",
       "      <td>1.000000</td>\n",
       "      <td>66</td>\n",
       "    </tr>\n",
       "    <tr>\n",
       "      <th>1</th>\n",
       "      <td>BrightKite</td>\n",
       "      <td>CB-1H-MFN</td>\n",
       "      <td>65</td>\n",
       "      <td>0.984848</td>\n",
       "      <td>65</td>\n",
       "      <td>0.984848</td>\n",
       "      <td>66</td>\n",
       "    </tr>\n",
       "    <tr>\n",
       "      <th>2</th>\n",
       "      <td>BrightKite</td>\n",
       "      <td>SW-24H-MFN</td>\n",
       "      <td>65</td>\n",
       "      <td>0.984848</td>\n",
       "      <td>65</td>\n",
       "      <td>0.984848</td>\n",
       "      <td>66</td>\n",
       "    </tr>\n",
       "    <tr>\n",
       "      <th>3</th>\n",
       "      <td>Gowalla</td>\n",
       "      <td>CB-1D-MFN</td>\n",
       "      <td>142</td>\n",
       "      <td>1.000000</td>\n",
       "      <td>142</td>\n",
       "      <td>1.000000</td>\n",
       "      <td>142</td>\n",
       "    </tr>\n",
       "    <tr>\n",
       "      <th>4</th>\n",
       "      <td>Gowalla</td>\n",
       "      <td>CB-1H-MFN</td>\n",
       "      <td>142</td>\n",
       "      <td>1.000000</td>\n",
       "      <td>142</td>\n",
       "      <td>1.000000</td>\n",
       "      <td>142</td>\n",
       "    </tr>\n",
       "    <tr>\n",
       "      <th>5</th>\n",
       "      <td>Gowalla</td>\n",
       "      <td>SW-24H-MFN</td>\n",
       "      <td>142</td>\n",
       "      <td>1.000000</td>\n",
       "      <td>142</td>\n",
       "      <td>1.000000</td>\n",
       "      <td>142</td>\n",
       "    </tr>\n",
       "    <tr>\n",
       "      <th>6</th>\n",
       "      <td>Weeplace</td>\n",
       "      <td>CB-1D-MFN</td>\n",
       "      <td>285</td>\n",
       "      <td>1.000000</td>\n",
       "      <td>285</td>\n",
       "      <td>1.000000</td>\n",
       "      <td>285</td>\n",
       "    </tr>\n",
       "    <tr>\n",
       "      <th>7</th>\n",
       "      <td>Weeplace</td>\n",
       "      <td>CB-1H-MFN</td>\n",
       "      <td>285</td>\n",
       "      <td>1.000000</td>\n",
       "      <td>285</td>\n",
       "      <td>1.000000</td>\n",
       "      <td>285</td>\n",
       "    </tr>\n",
       "    <tr>\n",
       "      <th>8</th>\n",
       "      <td>Weeplace</td>\n",
       "      <td>SW-24H-MFN</td>\n",
       "      <td>285</td>\n",
       "      <td>1.000000</td>\n",
       "      <td>285</td>\n",
       "      <td>1.000000</td>\n",
       "      <td>285</td>\n",
       "    </tr>\n",
       "  </tbody>\n",
       "</table>\n",
       "</div>"
      ],
      "text/plain": [
       "      dataset    category  SpN       SpP   Kn        Kp  total\n",
       "0  BrightKite   CB-1D-MFN   66  1.000000   66  1.000000     66\n",
       "1  BrightKite   CB-1H-MFN   65  0.984848   65  0.984848     66\n",
       "2  BrightKite  SW-24H-MFN   65  0.984848   65  0.984848     66\n",
       "3     Gowalla   CB-1D-MFN  142  1.000000  142  1.000000    142\n",
       "4     Gowalla   CB-1H-MFN  142  1.000000  142  1.000000    142\n",
       "5     Gowalla  SW-24H-MFN  142  1.000000  142  1.000000    142\n",
       "6    Weeplace   CB-1D-MFN  285  1.000000  285  1.000000    285\n",
       "7    Weeplace   CB-1H-MFN  285  1.000000  285  1.000000    285\n",
       "8    Weeplace  SW-24H-MFN  285  1.000000  285  1.000000    285"
      ]
     },
     "execution_count": 80,
     "metadata": {},
     "output_type": "execute_result"
    }
   ],
   "source": [
    "spearman_kendall_test(vip_SLR[vip_SLR['category'] != 'TFN'], 'USLR')"
   ]
  },
  {
   "cell_type": "code",
   "execution_count": 103,
   "metadata": {
    "ExecuteTime": {
     "end_time": "2020-12-13T15:37:48.113319Z",
     "start_time": "2020-12-13T15:37:48.038454Z"
    }
   },
   "outputs": [],
   "source": [
    "vip_SLR = name_transfer(vip_SLR)"
   ]
  },
  {
   "cell_type": "code",
   "execution_count": 116,
   "metadata": {
    "ExecuteTime": {
     "end_time": "2020-12-13T15:44:31.782188Z",
     "start_time": "2020-12-13T15:44:21.012140Z"
    }
   },
   "outputs": [],
   "source": [
    "ttest_CODLR, ds_list = two_side_t_test(vip_SLR[vip_SLR['category'] != 'Social relationship'], 'USLR', alpha=0.01)"
   ]
  },
  {
   "cell_type": "code",
   "execution_count": 117,
   "metadata": {
    "ExecuteTime": {
     "end_time": "2020-12-13T15:44:34.533600Z",
     "start_time": "2020-12-13T15:44:33.769092Z"
    }
   },
   "outputs": [
    {
     "data": {
      "image/png": "[encoded data removed]",
      "text/plain": [
       "<Figure size 583.2x194.4 with 3 Axes>"
      ]
     },
     "metadata": {
      "needs_background": "light"
     },
     "output_type": "display_data"
    }
   ],
   "source": [
    "fig, axn = plt.subplots(1, 3, figsize=(8.1, 2.7), sharey=True)\n",
    "# cbar_ax = fig.add_axes([.91, .3, .03, .4])\n",
    "for i, ax in enumerate(axn.flat):\n",
    "    sns.heatmap(ttest_CODLR[i], ax=ax, linewidths=.5, annot=True, fmt=\".2%\", cbar=False, cmap=\"YlGnBu\"\n",
    "#                 cbar=i == 0,\n",
    "#                 vmin=0.77, vmax=1,\n",
    "#                 cbar_ax=None if i else cbar_ax\n",
    "               )\n",
    "    ax.xaxis.set_label_position('bottom')\n",
    "    ax.set_title(ds_list[i], pad=15)\n",
    "    ax.set_xticklabels(ax.get_xticklabels(), rotation=45, ha='right')\n",
    "    \n",
    "fig.tight_layout(rect=[0, 0, .9, 1])\n",
    "plt.savefig('fig/VIP_T_Test_CODLR_MeetupNp3.pdf')"
   ]
  },
  {
   "cell_type": "markdown",
   "metadata": {},
   "source": [
    "## T-test for ODLR"
   ]
  },
  {
   "cell_type": "code",
   "execution_count": 107,
   "metadata": {
    "ExecuteTime": {
     "end_time": "2020-12-13T15:40:20.588548Z",
     "start_time": "2020-12-13T15:40:20.472896Z"
    }
   },
   "outputs": [],
   "source": [
    "wp_vip_LR =  pd.read_csv('final/wp-150/wp_VIP_LR_MeetupNp.csv')\n",
    "wp_vip_LR['dataset'] = 'Weeplace'\n",
    "\n",
    "bk_vip_LR = pd.read_csv('final/bk-150/bk_VIP_LR_MeetupNp.csv')\n",
    "bk_vip_LR['dataset'] = 'BrightKite'\n",
    "\n",
    "gw_vip_LR = pd.read_csv('final/gws-150/gws_VIP_LR_MeetupNp.csv')\n",
    "gw_vip_LR['dataset'] = 'Gowalla'\n",
    "\n",
    "vip_LR = pd.concat([wp_vip_LR, bk_vip_LR, gw_vip_LR])"
   ]
  },
  {
   "cell_type": "code",
   "execution_count": 83,
   "metadata": {
    "ExecuteTime": {
     "end_time": "2020-12-10T18:42:11.263993Z",
     "start_time": "2020-12-10T18:42:08.088491Z"
    }
   },
   "outputs": [
    {
     "data": {
      "text/html": [
       "<div>\n",
       "<style scoped>\n",
       "    .dataframe tbody tr th:only-of-type {\n",
       "        vertical-align: middle;\n",
       "    }\n",
       "\n",
       "    .dataframe tbody tr th {\n",
       "        vertical-align: top;\n",
       "    }\n",
       "\n",
       "    .dataframe thead th {\n",
       "        text-align: right;\n",
       "    }\n",
       "</style>\n",
       "<table border=\"1\" class=\"dataframe\">\n",
       "  <thead>\n",
       "    <tr style=\"text-align: right;\">\n",
       "      <th></th>\n",
       "      <th>dataset</th>\n",
       "      <th>category</th>\n",
       "      <th>SpN</th>\n",
       "      <th>SpP</th>\n",
       "      <th>Kn</th>\n",
       "      <th>Kp</th>\n",
       "      <th>total</th>\n",
       "    </tr>\n",
       "  </thead>\n",
       "  <tbody>\n",
       "    <tr>\n",
       "      <th>0</th>\n",
       "      <td>BrightKite</td>\n",
       "      <td>CB-1D-MFN</td>\n",
       "      <td>0</td>\n",
       "      <td>0.000000</td>\n",
       "      <td>0</td>\n",
       "      <td>0.000000</td>\n",
       "      <td>66</td>\n",
       "    </tr>\n",
       "    <tr>\n",
       "      <th>1</th>\n",
       "      <td>BrightKite</td>\n",
       "      <td>CB-1H-MFN</td>\n",
       "      <td>2</td>\n",
       "      <td>0.030303</td>\n",
       "      <td>0</td>\n",
       "      <td>0.000000</td>\n",
       "      <td>66</td>\n",
       "    </tr>\n",
       "    <tr>\n",
       "      <th>2</th>\n",
       "      <td>BrightKite</td>\n",
       "      <td>SW-24H-MFN</td>\n",
       "      <td>1</td>\n",
       "      <td>0.015152</td>\n",
       "      <td>0</td>\n",
       "      <td>0.000000</td>\n",
       "      <td>66</td>\n",
       "    </tr>\n",
       "    <tr>\n",
       "      <th>3</th>\n",
       "      <td>Gowalla</td>\n",
       "      <td>CB-1D-MFN</td>\n",
       "      <td>0</td>\n",
       "      <td>0.000000</td>\n",
       "      <td>0</td>\n",
       "      <td>0.000000</td>\n",
       "      <td>142</td>\n",
       "    </tr>\n",
       "    <tr>\n",
       "      <th>4</th>\n",
       "      <td>Gowalla</td>\n",
       "      <td>CB-1H-MFN</td>\n",
       "      <td>0</td>\n",
       "      <td>0.000000</td>\n",
       "      <td>0</td>\n",
       "      <td>0.000000</td>\n",
       "      <td>142</td>\n",
       "    </tr>\n",
       "    <tr>\n",
       "      <th>5</th>\n",
       "      <td>Gowalla</td>\n",
       "      <td>SW-24H-MFN</td>\n",
       "      <td>0</td>\n",
       "      <td>0.000000</td>\n",
       "      <td>0</td>\n",
       "      <td>0.000000</td>\n",
       "      <td>142</td>\n",
       "    </tr>\n",
       "    <tr>\n",
       "      <th>6</th>\n",
       "      <td>Weeplace</td>\n",
       "      <td>CB-1D-MFN</td>\n",
       "      <td>0</td>\n",
       "      <td>0.000000</td>\n",
       "      <td>0</td>\n",
       "      <td>0.000000</td>\n",
       "      <td>285</td>\n",
       "    </tr>\n",
       "    <tr>\n",
       "      <th>7</th>\n",
       "      <td>Weeplace</td>\n",
       "      <td>CB-1H-MFN</td>\n",
       "      <td>1</td>\n",
       "      <td>0.003509</td>\n",
       "      <td>1</td>\n",
       "      <td>0.003509</td>\n",
       "      <td>285</td>\n",
       "    </tr>\n",
       "    <tr>\n",
       "      <th>8</th>\n",
       "      <td>Weeplace</td>\n",
       "      <td>SW-24H-MFN</td>\n",
       "      <td>0</td>\n",
       "      <td>0.000000</td>\n",
       "      <td>0</td>\n",
       "      <td>0.000000</td>\n",
       "      <td>285</td>\n",
       "    </tr>\n",
       "  </tbody>\n",
       "</table>\n",
       "</div>"
      ],
      "text/plain": [
       "      dataset    category  SpN       SpP  Kn        Kp  total\n",
       "0  BrightKite   CB-1D-MFN    0  0.000000   0  0.000000     66\n",
       "1  BrightKite   CB-1H-MFN    2  0.030303   0  0.000000     66\n",
       "2  BrightKite  SW-24H-MFN    1  0.015152   0  0.000000     66\n",
       "3     Gowalla   CB-1D-MFN    0  0.000000   0  0.000000    142\n",
       "4     Gowalla   CB-1H-MFN    0  0.000000   0  0.000000    142\n",
       "5     Gowalla  SW-24H-MFN    0  0.000000   0  0.000000    142\n",
       "6    Weeplace   CB-1D-MFN    0  0.000000   0  0.000000    285\n",
       "7    Weeplace   CB-1H-MFN    1  0.003509   1  0.003509    285\n",
       "8    Weeplace  SW-24H-MFN    0  0.000000   0  0.000000    285"
      ]
     },
     "execution_count": 83,
     "metadata": {},
     "output_type": "execute_result"
    }
   ],
   "source": [
    "spearman_kendall_test(vip_LR[vip_LR['category'] != 'TFN'], 'USLR')"
   ]
  },
  {
   "cell_type": "code",
   "execution_count": 108,
   "metadata": {
    "ExecuteTime": {
     "end_time": "2020-12-13T15:40:38.056195Z",
     "start_time": "2020-12-13T15:40:38.001311Z"
    }
   },
   "outputs": [],
   "source": [
    "vip_LR = name_transfer(vip_LR)"
   ]
  },
  {
   "cell_type": "code",
   "execution_count": 114,
   "metadata": {
    "ExecuteTime": {
     "end_time": "2020-12-13T15:44:00.043488Z",
     "start_time": "2020-12-13T15:43:49.270105Z"
    }
   },
   "outputs": [],
   "source": [
    "ttest_ODLR, ds_list = two_side_t_test(vip_LR[vip_LR['category'] != 'Social relationship'], 'USLR', alpha=0.01)"
   ]
  },
  {
   "cell_type": "code",
   "execution_count": 115,
   "metadata": {
    "ExecuteTime": {
     "end_time": "2020-12-13T15:44:02.880126Z",
     "start_time": "2020-12-13T15:44:02.276349Z"
    }
   },
   "outputs": [
    {
     "data": {
      "image/png": "[encoded data removed]",
      "text/plain": [
       "<Figure size 583.2x194.4 with 3 Axes>"
      ]
     },
     "metadata": {
      "needs_background": "light"
     },
     "output_type": "display_data"
    }
   ],
   "source": [
    "fig, axn = plt.subplots(1, 3, figsize=(8.1, 2.7), sharey=True)\n",
    "# cbar_ax = fig.add_axes([.91, .3, .03, .4])\n",
    "for i, ax in enumerate(axn.flat):\n",
    "    sns.heatmap(ttest_ODLR[i], ax=ax, linewidths=.5, annot=True, fmt=\".2%\", cbar=False, cmap=\"YlGnBu\"\n",
    "#                 cbar=i == 0,\n",
    "#                 vmin=0.77, vmax=1,\n",
    "#                 cbar_ax=None if i else cbar_ax\n",
    "               )\n",
    "    ax.xaxis.set_label_position('bottom')\n",
    "    ax.set_title(ds_list[i], pad=15)\n",
    "    ax.set_xticklabels(ax.get_xticklabels(), rotation=45, ha='right')\n",
    "    \n",
    "fig.tight_layout(rect=[0, 0, .9, 1])\n",
    "plt.savefig('fig/VIP_T_Test_ODLR_MeetupNp3.pdf')"
   ]
  },
  {
   "cell_type": "code",
   "execution_count": null,
   "metadata": {},
   "outputs": [],
   "source": []
  }
 ],
 "metadata": {
  "kernelspec": {
   "display_name": "Python 3",
   "language": "python",
   "name": "python3"
  },
  "language_info": {
   "codemirror_mode": {
    "name": "ipython",
    "version": 3
   },
   "file_extension": ".py",
   "mimetype": "text/x-python",
   "name": "python",
   "nbconvert_exporter": "python",
   "pygments_lexer": "ipython3",
   "version": "3.6.10"
  },
  "latex_envs": {
   "LaTeX_envs_menu_present": true,
   "autoclose": false,
   "autocomplete": true,
   "bibliofile": "biblio.bib",
   "cite_by": "apalike",
   "current_citInitial": 1,
   "eqLabelWithNumbers": true,
   "eqNumInitial": 1,
   "hotkeys": {
    "equation": "Ctrl-E",
    "itemize": "Ctrl-I"
   },
   "labels_anchors": false,
   "latex_user_defs": false,
   "report_style_numbering": false,
   "user_envs_cfg": false
  },
  "toc": {
   "base_numbering": 1,
   "nav_menu": {},
   "number_sections": true,
   "sideBar": true,
   "skip_h1_title": false,
   "title_cell": "Table of Contents",
   "title_sidebar": "Contents",
   "toc_cell": false,
   "toc_position": {},
   "toc_section_display": true,
   "toc_window_display": false
  }
 },
 "nbformat": 4,
 "nbformat_minor": 4
}
