{
 "cells": [
  {
   "cell_type": "code",
   "execution_count": 1,
   "metadata": {
    "ExecuteTime": {
     "end_time": "2020-10-16T21:08:31.983863Z",
     "start_time": "2020-10-16T21:08:30.482427Z"
    }
   },
   "outputs": [],
   "source": [
    "import graph_tool.all as gt\n",
    "import numpy as np\n",
    "import pandas as pd\n",
    "from math import log, e\n",
    "import time\n",
    "import pickle"
   ]
  },
  {
   "cell_type": "markdown",
   "metadata": {},
   "source": [
    "# WP"
   ]
  },
  {
   "cell_type": "markdown",
   "metadata": {},
   "source": [
    "## Useful H - MFN"
   ]
  },
  {
   "cell_type": "code",
   "execution_count": 2,
   "metadata": {
    "ExecuteTime": {
     "end_time": "2020-10-16T21:08:35.663063Z",
     "start_time": "2020-10-16T21:08:35.385507Z"
    }
   },
   "outputs": [],
   "source": [
    "wpH = pd.read_csv('temp_data/wp-150/wp-150-H/wp_CE_over1.csv')\n",
    "wpH = wpH[(wpH['group'] =='useful') & (wpH['N_previous']>=150)][['userid_x', 'userid_y']]\n",
    "# wpH.to_csv('final/wp-150/wp-H-useful_network_list_Np.csv', index=False)"
   ]
  },
  {
   "cell_type": "code",
   "execution_count": 3,
   "metadata": {
    "ExecuteTime": {
     "end_time": "2020-10-16T21:08:38.433718Z",
     "start_time": "2020-10-16T21:08:38.310598Z"
    }
   },
   "outputs": [],
   "source": [
    "wp_H_MFN = gt.load_graph_from_csv('final/wp-150/wp-H-useful_network_list_Np.csv', \n",
    "                                  skip_first=True, directed=False, hashed=True)"
   ]
  },
  {
   "cell_type": "code",
   "execution_count": 5,
   "metadata": {
    "ExecuteTime": {
     "end_time": "2020-10-16T21:12:03.700062Z",
     "start_time": "2020-10-16T21:12:03.598775Z"
    }
   },
   "outputs": [
    {
     "data": {
      "text/plain": [
       "(0.1508991377555906, 0.005348384922204835)"
      ]
     },
     "execution_count": 5,
     "metadata": {},
     "output_type": "execute_result"
    }
   ],
   "source": [
    "gt.scalar_assortativity(wp_H_MFN, \"out\")"
   ]
  },
  {
   "cell_type": "code",
   "execution_count": 41,
   "metadata": {
    "ExecuteTime": {
     "end_time": "2020-10-07T15:56:59.058216Z",
     "start_time": "2020-10-07T15:56:11.488319Z"
    }
   },
   "outputs": [
    {
     "data": {
      "text/plain": [
       "<VertexPropertyMap object with value type 'vector<double>', for Graph 0x7f9c04091ca0, at 0x7f9c7cfda280>"
      ]
     },
     "execution_count": 41,
     "metadata": {},
     "output_type": "execute_result"
    }
   ],
   "source": [
    "gt.graph_draw(wp_H_MFN,\n",
    "              vertex_fill_color = \"#1f77b4\",\n",
    "              output_size=(600, 600),\n",
    "              output='fig/wp_H_useful_Np.pdf')"
   ]
  },
  {
   "cell_type": "markdown",
   "metadata": {},
   "source": [
    "## Useful TFN"
   ]
  },
  {
   "cell_type": "code",
   "execution_count": 6,
   "metadata": {
    "ExecuteTime": {
     "end_time": "2020-10-16T21:15:35.712720Z",
     "start_time": "2020-10-16T21:15:35.507727Z"
    }
   },
   "outputs": [],
   "source": [
    "wp_true = pd.read_csv('temp_data/wp-150/wp-true_CE.csv')\n",
    "wp_true = wp_true[(wp_true['group'] =='useful') & (wp_true['N_previous']>=150)][['userid_x', 'userid_y']]\n",
    "# wp_true.to_csv('final/wp-150/wp-true-useful_network_list_Np.csv', index=False)"
   ]
  },
  {
   "cell_type": "code",
   "execution_count": 7,
   "metadata": {
    "ExecuteTime": {
     "end_time": "2020-10-16T21:15:38.609083Z",
     "start_time": "2020-10-16T21:15:38.502769Z"
    }
   },
   "outputs": [],
   "source": [
    "wp_TFN = gt.load_graph_from_csv('final/wp-150/wp-true-useful_network_list_Np.csv', \n",
    "                                skip_first=True, directed=False, hashed=True)"
   ]
  },
  {
   "cell_type": "code",
   "execution_count": 8,
   "metadata": {
    "ExecuteTime": {
     "end_time": "2020-10-16T21:15:55.080217Z",
     "start_time": "2020-10-16T21:15:54.984964Z"
    }
   },
   "outputs": [
    {
     "data": {
      "text/plain": [
       "(0.14104679722107544, 0.00799186034921762)"
      ]
     },
     "execution_count": 8,
     "metadata": {},
     "output_type": "execute_result"
    }
   ],
   "source": [
    "gt.scalar_assortativity(wp_TFN, \"out\")"
   ]
  },
  {
   "cell_type": "code",
   "execution_count": 44,
   "metadata": {
    "ExecuteTime": {
     "end_time": "2020-10-07T15:58:02.552154Z",
     "start_time": "2020-10-07T15:57:18.118817Z"
    }
   },
   "outputs": [
    {
     "data": {
      "text/plain": [
       "<VertexPropertyMap object with value type 'vector<double>', for Graph 0x7f9bd60b2520, at 0x7f9c7fc3b3a0>"
      ]
     },
     "execution_count": 44,
     "metadata": {},
     "output_type": "execute_result"
    }
   ],
   "source": [
    "gt.graph_draw(wp_TFN,\n",
    "              vertex_fill_color = \"#ff7f0e\",\n",
    "              output_size=(600, 600),\n",
    "              output='fig/wp_true_useful_Np.pdf'\n",
    "             )"
   ]
  },
  {
   "cell_type": "markdown",
   "metadata": {},
   "source": [
    "## VIP - H"
   ]
  },
  {
   "cell_type": "code",
   "execution_count": 9,
   "metadata": {
    "ExecuteTime": {
     "end_time": "2020-10-16T21:16:13.807507Z",
     "start_time": "2020-10-16T21:16:13.726467Z"
    }
   },
   "outputs": [],
   "source": [
    "wp_vip = pd.read_csv('final/wp-150/wp_VIP_MeetupNp.csv')\n",
    "wp_vip_H = wp_vip[wp_vip['category'] == 'CB-1H-MFN'][['userid', 'userid_y']]\n",
    "# wp_vip_H.to_csv('final/wp-150/wp-vip-H_network_MeetupNp_list.csv', index=False)"
   ]
  },
  {
   "cell_type": "code",
   "execution_count": 10,
   "metadata": {
    "ExecuteTime": {
     "end_time": "2020-10-16T21:18:07.996483Z",
     "start_time": "2020-10-16T21:18:07.972355Z"
    }
   },
   "outputs": [],
   "source": [
    "wp_vip_H = gt.load_graph_from_csv('final/wp-150/wp-vip-H_network_MeetupNp_list.csv', \n",
    "                                skip_first=True, directed=False, hashed=True)"
   ]
  },
  {
   "cell_type": "code",
   "execution_count": 11,
   "metadata": {
    "ExecuteTime": {
     "end_time": "2020-10-16T21:18:21.280060Z",
     "start_time": "2020-10-16T21:18:21.175311Z"
    }
   },
   "outputs": [
    {
     "data": {
      "text/plain": [
       "(0.052842172455408246, 0.03486307786707354)"
      ]
     },
     "execution_count": 11,
     "metadata": {},
     "output_type": "execute_result"
    }
   ],
   "source": [
    "gt.scalar_assortativity(wp_vip_H, \"out\")"
   ]
  },
  {
   "cell_type": "code",
   "execution_count": 36,
   "metadata": {
    "ExecuteTime": {
     "end_time": "2020-10-07T15:07:38.950400Z",
     "start_time": "2020-10-07T15:07:23.435293Z"
    }
   },
   "outputs": [
    {
     "data": {
      "text/plain": [
       "<VertexPropertyMap object with value type 'vector<double>', for Graph 0x7f9cad258910, at 0x7f9c044de040>"
      ]
     },
     "execution_count": 36,
     "metadata": {},
     "output_type": "execute_result"
    }
   ],
   "source": [
    "gt.graph_draw(wp_vip_H, \n",
    "              vertex_fill_color = \"#1f77b4\",\n",
    "              output_size=(600, 600),\n",
    "              output='fig/wp_vip_H_MeetupNp.pdf'\n",
    "             )"
   ]
  },
  {
   "cell_type": "markdown",
   "metadata": {},
   "source": [
    "## VIP - True"
   ]
  },
  {
   "cell_type": "code",
   "execution_count": 12,
   "metadata": {
    "ExecuteTime": {
     "end_time": "2020-10-16T21:19:05.104014Z",
     "start_time": "2020-10-16T21:19:05.091487Z"
    }
   },
   "outputs": [],
   "source": [
    "wp_vip_TFN = wp_vip[wp_vip['category'] == 'TFN'][['userid', 'userid_y']]\n",
    "# wp_vip_TFN.to_csv('final/wp-150/wp-vip-TFN_network_MeetupNp_list.csv', index=False)"
   ]
  },
  {
   "cell_type": "code",
   "execution_count": 13,
   "metadata": {
    "ExecuteTime": {
     "end_time": "2020-10-16T21:19:08.434066Z",
     "start_time": "2020-10-16T21:19:08.409678Z"
    }
   },
   "outputs": [],
   "source": [
    "wp_vip_TFN = gt.load_graph_from_csv('final/wp-150/wp-vip-TFN_network_MeetupNp_list.csv', \n",
    "                                skip_first=True, directed=False, hashed=True)"
   ]
  },
  {
   "cell_type": "code",
   "execution_count": 14,
   "metadata": {
    "ExecuteTime": {
     "end_time": "2020-10-16T21:19:24.219714Z",
     "start_time": "2020-10-16T21:19:24.100828Z"
    }
   },
   "outputs": [
    {
     "data": {
      "text/plain": [
       "(-0.013685253143447486, 0.03522040296493753)"
      ]
     },
     "execution_count": 14,
     "metadata": {},
     "output_type": "execute_result"
    }
   ],
   "source": [
    "gt.scalar_assortativity(wp_vip_TFN, \"out\")"
   ]
  },
  {
   "cell_type": "code",
   "execution_count": 10,
   "metadata": {
    "ExecuteTime": {
     "end_time": "2020-10-07T14:39:45.710206Z",
     "start_time": "2020-10-07T14:39:34.433679Z"
    }
   },
   "outputs": [
    {
     "data": {
      "text/plain": [
       "<VertexPropertyMap object with value type 'vector<double>', for Graph 0x7f9c7d12b0a0, at 0x7f9c7f97adf0>"
      ]
     },
     "execution_count": 10,
     "metadata": {},
     "output_type": "execute_result"
    }
   ],
   "source": [
    "gt.graph_draw(wp_vip_TFN,\n",
    "              vertex_fill_color = \"#ff7f0e\",\n",
    "              output_size=(600, 600),\n",
    "              output='fig/wp_vip_true_MeetupNp.pdf'\n",
    "             )"
   ]
  },
  {
   "cell_type": "markdown",
   "metadata": {},
   "source": [
    "# BK"
   ]
  },
  {
   "cell_type": "markdown",
   "metadata": {},
   "source": [
    "## Useful H - MFN"
   ]
  },
  {
   "cell_type": "code",
   "execution_count": 15,
   "metadata": {
    "ExecuteTime": {
     "end_time": "2020-10-16T21:21:44.624408Z",
     "start_time": "2020-10-16T21:21:44.568386Z"
    }
   },
   "outputs": [],
   "source": [
    "bkH = pd.read_csv('temp_data/bk-150/bk-150-H/bk_CE_over1.csv')\n",
    "bkH = bkH[(bkH['group'] =='useful') & (bkH['N_previous']>=150)][['userid_x', 'userid_y']]\n",
    "# bkH.to_csv('final/bk-150/bk-H-useful_network_list_Np.csv', index=False)"
   ]
  },
  {
   "cell_type": "code",
   "execution_count": 16,
   "metadata": {
    "ExecuteTime": {
     "end_time": "2020-10-16T21:21:58.876293Z",
     "start_time": "2020-10-16T21:21:58.834373Z"
    }
   },
   "outputs": [],
   "source": [
    "bk_H_MFN = gt.load_graph_from_csv('final/bk-150/bk-H-useful_network_list_Np.csv', \n",
    "                                  skip_first=True, directed=False, hashed=True)"
   ]
  },
  {
   "cell_type": "code",
   "execution_count": 17,
   "metadata": {
    "ExecuteTime": {
     "end_time": "2020-10-16T21:22:29.199620Z",
     "start_time": "2020-10-16T21:22:29.076131Z"
    }
   },
   "outputs": [
    {
     "data": {
      "text/plain": [
       "(0.3818209726697491, 0.014638068010189416)"
      ]
     },
     "execution_count": 17,
     "metadata": {},
     "output_type": "execute_result"
    }
   ],
   "source": [
    "gt.scalar_assortativity(bk_H_MFN, \"out\")"
   ]
  },
  {
   "cell_type": "code",
   "execution_count": 45,
   "metadata": {
    "ExecuteTime": {
     "end_time": "2020-10-07T15:58:42.536530Z",
     "start_time": "2020-10-07T15:58:13.234163Z"
    }
   },
   "outputs": [
    {
     "data": {
      "text/plain": [
       "<VertexPropertyMap object with value type 'vector<double>', for Graph 0x7f9c7d6c8ee0, at 0x7f9bd6523100>"
      ]
     },
     "execution_count": 45,
     "metadata": {},
     "output_type": "execute_result"
    }
   ],
   "source": [
    "gt.graph_draw(bk_H_MFN, \n",
    "              vertex_fill_color = \"#1f77b4\",\n",
    "              output_size=(600, 600),\n",
    "              output='fig/bk_H_useful_Np.pdf'\n",
    "             )"
   ]
  },
  {
   "cell_type": "markdown",
   "metadata": {},
   "source": [
    "## Useful TFN"
   ]
  },
  {
   "cell_type": "code",
   "execution_count": 18,
   "metadata": {
    "ExecuteTime": {
     "end_time": "2020-10-16T21:24:01.937773Z",
     "start_time": "2020-10-16T21:24:01.827161Z"
    }
   },
   "outputs": [],
   "source": [
    "bk_true = pd.read_csv('temp_data/bk-150/bk-true_CE.csv')\n",
    "bk_true = bk_true[(bk_true['group'] =='useful') & (bk_true['N_previous']>=150)][['userid_x', 'userid_y']]\n",
    "# bk_true.to_csv('final/bk-150/bk-true-useful_network_list_Np.csv', index=False)"
   ]
  },
  {
   "cell_type": "code",
   "execution_count": 19,
   "metadata": {
    "ExecuteTime": {
     "end_time": "2020-10-16T21:24:08.537909Z",
     "start_time": "2020-10-16T21:24:08.502434Z"
    }
   },
   "outputs": [],
   "source": [
    "bk_TFN = gt.load_graph_from_csv('final/bk-150/bk-true-useful_network_list_Np.csv', \n",
    "                                skip_first=True, directed=False, hashed=True)"
   ]
  },
  {
   "cell_type": "code",
   "execution_count": 20,
   "metadata": {
    "ExecuteTime": {
     "end_time": "2020-10-16T21:24:48.633654Z",
     "start_time": "2020-10-16T21:24:48.549861Z"
    }
   },
   "outputs": [
    {
     "data": {
      "text/plain": [
       "(0.017625085617314542, 0.010302541352220364)"
      ]
     },
     "execution_count": 20,
     "metadata": {},
     "output_type": "execute_result"
    }
   ],
   "source": [
    "gt.scalar_assortativity(bk_TFN, \"out\")"
   ]
  },
  {
   "cell_type": "code",
   "execution_count": 46,
   "metadata": {
    "ExecuteTime": {
     "end_time": "2020-10-07T15:59:26.202531Z",
     "start_time": "2020-10-07T15:58:56.260652Z"
    }
   },
   "outputs": [
    {
     "data": {
      "text/plain": [
       "<VertexPropertyMap object with value type 'vector<double>', for Graph 0x7f9c7d735880, at 0x7f9c7f97a8b0>"
      ]
     },
     "execution_count": 46,
     "metadata": {},
     "output_type": "execute_result"
    }
   ],
   "source": [
    "gt.graph_draw(bk_TFN,\n",
    "              vertex_fill_color = \"#ff7f0e\",\n",
    "              output_size=(600, 600),\n",
    "              output='fig/bk_true_useful_Np.pdf'\n",
    "             )"
   ]
  },
  {
   "cell_type": "markdown",
   "metadata": {},
   "source": [
    "## VIP - H"
   ]
  },
  {
   "cell_type": "code",
   "execution_count": 21,
   "metadata": {
    "ExecuteTime": {
     "end_time": "2020-10-16T21:25:26.150955Z",
     "start_time": "2020-10-16T21:25:26.124216Z"
    }
   },
   "outputs": [],
   "source": [
    "bk_vip = pd.read_csv('final/bk-150/bk_VIP_MeetupNp.csv')\n",
    "bk_vip_H = bk_vip[bk_vip['category'] == 'CB-1H-MFN'][['userid', 'userid_y']]\n",
    "# bk_vip_H.to_csv('final/bk-150/bk-vip-H_network_MeetupNp_list.csv', index=False)"
   ]
  },
  {
   "cell_type": "code",
   "execution_count": 22,
   "metadata": {
    "ExecuteTime": {
     "end_time": "2020-10-16T21:25:28.947080Z",
     "start_time": "2020-10-16T21:25:28.937297Z"
    }
   },
   "outputs": [],
   "source": [
    "bk_vip_H = gt.load_graph_from_csv('final/bk-150/bk-vip-H_network_MeetupNp_list.csv', \n",
    "                                skip_first=True, directed=False, hashed=True)"
   ]
  },
  {
   "cell_type": "code",
   "execution_count": 23,
   "metadata": {
    "ExecuteTime": {
     "end_time": "2020-10-16T21:26:24.039991Z",
     "start_time": "2020-10-16T21:26:23.947634Z"
    }
   },
   "outputs": [
    {
     "data": {
      "text/plain": [
       "(-0.12295298194091996, 0.07872074099110571)"
      ]
     },
     "execution_count": 23,
     "metadata": {},
     "output_type": "execute_result"
    }
   ],
   "source": [
    "gt.scalar_assortativity(bk_vip_H, \"out\")"
   ]
  },
  {
   "cell_type": "code",
   "execution_count": 35,
   "metadata": {
    "ExecuteTime": {
     "end_time": "2020-10-07T15:06:12.978202Z",
     "start_time": "2020-10-07T15:06:01.795237Z"
    }
   },
   "outputs": [
    {
     "data": {
      "text/plain": [
       "<VertexPropertyMap object with value type 'vector<double>', for Graph 0x7f9c7f94f4f0, at 0x7f9c04247850>"
      ]
     },
     "execution_count": 35,
     "metadata": {},
     "output_type": "execute_result"
    }
   ],
   "source": [
    "gt.graph_draw(bk_vip_H, \n",
    "              vertex_fill_color = \"#1f77b4\",\n",
    "              output_size=(600, 600),\n",
    "              output='fig/bk_vip_H_MeetupNp.pdf'\n",
    "             )"
   ]
  },
  {
   "cell_type": "markdown",
   "metadata": {},
   "source": [
    "## VIP - True"
   ]
  },
  {
   "cell_type": "code",
   "execution_count": 24,
   "metadata": {
    "ExecuteTime": {
     "end_time": "2020-10-16T21:26:51.934286Z",
     "start_time": "2020-10-16T21:26:51.923857Z"
    }
   },
   "outputs": [],
   "source": [
    "bk_vip_TFN = bk_vip[bk_vip['category'] == 'TFN'][['userid', 'userid_y']]\n",
    "# bk_vip_TFN.to_csv('final/bk-150/bk-vip-TFN_network_MeetupNp_list.csv', index=False)"
   ]
  },
  {
   "cell_type": "code",
   "execution_count": 25,
   "metadata": {
    "ExecuteTime": {
     "end_time": "2020-10-16T21:26:54.379699Z",
     "start_time": "2020-10-16T21:26:54.369024Z"
    }
   },
   "outputs": [],
   "source": [
    "bk_vip_TFN = gt.load_graph_from_csv('final/bk-150/bk-vip-TFN_network_MeetupNp_list.csv', \n",
    "                                skip_first=True, directed=False, hashed=True)"
   ]
  },
  {
   "cell_type": "code",
   "execution_count": 26,
   "metadata": {
    "ExecuteTime": {
     "end_time": "2020-10-16T21:27:41.407123Z",
     "start_time": "2020-10-16T21:27:41.294569Z"
    }
   },
   "outputs": [
    {
     "data": {
      "text/plain": [
       "(-0.16562983011232832, 0.0802718884989067)"
      ]
     },
     "execution_count": 26,
     "metadata": {},
     "output_type": "execute_result"
    }
   ],
   "source": [
    "gt.scalar_assortativity(bk_vip_TFN, \"out\")"
   ]
  },
  {
   "cell_type": "code",
   "execution_count": 25,
   "metadata": {
    "ExecuteTime": {
     "end_time": "2020-10-07T14:55:47.067982Z",
     "start_time": "2020-10-07T14:55:35.779038Z"
    }
   },
   "outputs": [
    {
     "data": {
      "text/plain": [
       "<VertexPropertyMap object with value type 'vector<double>', for Graph 0x7f9c7ccc1640, at 0x7f9c0416a7f0>"
      ]
     },
     "execution_count": 25,
     "metadata": {},
     "output_type": "execute_result"
    }
   ],
   "source": [
    "gt.graph_draw(bk_vip_TFN,\n",
    "              vertex_fill_color = \"#ff7f0e\",\n",
    "              output_size=(600, 600),\n",
    "              output='fig/bk_vip_true_MeetupNp.pdf'\n",
    "             )"
   ]
  },
  {
   "cell_type": "markdown",
   "metadata": {},
   "source": [
    "# GWS"
   ]
  },
  {
   "cell_type": "markdown",
   "metadata": {},
   "source": [
    "## Useful H-MFN"
   ]
  },
  {
   "cell_type": "code",
   "execution_count": 27,
   "metadata": {
    "ExecuteTime": {
     "end_time": "2020-10-16T21:28:35.479266Z",
     "start_time": "2020-10-16T21:28:35.392070Z"
    }
   },
   "outputs": [],
   "source": [
    "gwsH = pd.read_csv('temp_data/gws-150/gws-150-H/gws_CE_over1.csv')\n",
    "gwsH = gwsH[(gwsH['group'] =='useful') & (gwsH['N_previous']>=150)][['userid_x', 'userid_y']]\n",
    "# gwsH.to_csv('final/gws-150/gws-H-useful_network_list_Np.csv', index=False)"
   ]
  },
  {
   "cell_type": "code",
   "execution_count": 28,
   "metadata": {
    "ExecuteTime": {
     "end_time": "2020-10-16T21:28:37.834554Z",
     "start_time": "2020-10-16T21:28:37.779152Z"
    }
   },
   "outputs": [],
   "source": [
    "gws_H_MFN = gt.load_graph_from_csv('final/gws-150/gws-H-useful_network_list_Np.csv', \n",
    "                                  skip_first=True, directed=False, hashed=True)"
   ]
  },
  {
   "cell_type": "code",
   "execution_count": 29,
   "metadata": {
    "ExecuteTime": {
     "end_time": "2020-10-16T21:29:05.865127Z",
     "start_time": "2020-10-16T21:29:05.766116Z"
    }
   },
   "outputs": [
    {
     "data": {
      "text/plain": [
       "(0.18990474825731588, 0.008022149077964103)"
      ]
     },
     "execution_count": 29,
     "metadata": {},
     "output_type": "execute_result"
    }
   ],
   "source": [
    "gt.scalar_assortativity(gws_H_MFN, \"out\")"
   ]
  },
  {
   "cell_type": "code",
   "execution_count": 47,
   "metadata": {
    "ExecuteTime": {
     "end_time": "2020-10-07T16:00:39.179408Z",
     "start_time": "2020-10-07T16:00:09.537848Z"
    }
   },
   "outputs": [
    {
     "data": {
      "text/plain": [
       "<VertexPropertyMap object with value type 'vector<double>', for Graph 0x7f9c7cecc6a0, at 0x7f9c0429e5e0>"
      ]
     },
     "execution_count": 47,
     "metadata": {},
     "output_type": "execute_result"
    }
   ],
   "source": [
    "gt.graph_draw(gws_H_MFN, \n",
    "              vertex_fill_color = \"#1f77b4\",\n",
    "              output_size=(600, 600),\n",
    "              output='fig/gws_H_useful_Np.pdf'\n",
    "             )"
   ]
  },
  {
   "cell_type": "markdown",
   "metadata": {},
   "source": [
    "## Useful TFN"
   ]
  },
  {
   "cell_type": "code",
   "execution_count": 30,
   "metadata": {
    "ExecuteTime": {
     "end_time": "2020-10-16T21:29:22.671941Z",
     "start_time": "2020-10-16T21:29:22.542346Z"
    }
   },
   "outputs": [],
   "source": [
    "gws_true = pd.read_csv('temp_data/gws-150/gws-true_CE.csv')\n",
    "gws_true = gws_true[(gws_true['group'] =='useful') & (gws_true['N_previous']>=150)][['userid_x', 'userid_y']]\n",
    "# gws_true.to_csv('final/gws-150/gws-true-useful_network_list_Np.csv', index=False)"
   ]
  },
  {
   "cell_type": "code",
   "execution_count": 31,
   "metadata": {
    "ExecuteTime": {
     "end_time": "2020-10-16T21:29:24.975433Z",
     "start_time": "2020-10-16T21:29:24.917667Z"
    }
   },
   "outputs": [],
   "source": [
    "gws_TFN = gt.load_graph_from_csv('final/gws-150/gws-true-useful_network_list_Np.csv', \n",
    "                                skip_first=True, directed=False, hashed=True)"
   ]
  },
  {
   "cell_type": "code",
   "execution_count": 32,
   "metadata": {
    "ExecuteTime": {
     "end_time": "2020-10-16T21:29:35.333865Z",
     "start_time": "2020-10-16T21:29:35.210179Z"
    }
   },
   "outputs": [
    {
     "data": {
      "text/plain": [
       "(0.11934537422852372, 0.00864585928238833)"
      ]
     },
     "execution_count": 32,
     "metadata": {},
     "output_type": "execute_result"
    }
   ],
   "source": [
    "gt.scalar_assortativity(gws_TFN, \"out\")"
   ]
  },
  {
   "cell_type": "code",
   "execution_count": 48,
   "metadata": {
    "ExecuteTime": {
     "end_time": "2020-10-07T16:01:27.353098Z",
     "start_time": "2020-10-07T16:00:45.292911Z"
    }
   },
   "outputs": [
    {
     "data": {
      "text/plain": [
       "<VertexPropertyMap object with value type 'vector<double>', for Graph 0x7f9c7d7d3dc0, at 0x7f9bd67be100>"
      ]
     },
     "execution_count": 48,
     "metadata": {},
     "output_type": "execute_result"
    }
   ],
   "source": [
    "gt.graph_draw(gws_TFN,\n",
    "              vertex_fill_color = \"#ff7f0e\",\n",
    "              output_size=(600, 600),\n",
    "              output='fig/gws_true_useful_Np.pdf'\n",
    "             )"
   ]
  },
  {
   "cell_type": "markdown",
   "metadata": {},
   "source": [
    "## VIP - H"
   ]
  },
  {
   "cell_type": "code",
   "execution_count": 33,
   "metadata": {
    "ExecuteTime": {
     "end_time": "2020-10-16T21:29:58.953566Z",
     "start_time": "2020-10-16T21:29:58.913174Z"
    }
   },
   "outputs": [],
   "source": [
    "gws_vip = pd.read_csv('final/gws-150/gws_VIP_MeetupNp.csv')\n",
    "gws_vip_H = gws_vip[gws_vip['category'] == 'CB-1H-MFN'][['userid', 'userid_y']]\n",
    "# gws_vip_H.to_csv('final/gws-150/gws-vip-H_network_MeetupNp_list.csv', index=False)"
   ]
  },
  {
   "cell_type": "code",
   "execution_count": 34,
   "metadata": {
    "ExecuteTime": {
     "end_time": "2020-10-16T21:30:01.554456Z",
     "start_time": "2020-10-16T21:30:01.543355Z"
    }
   },
   "outputs": [],
   "source": [
    "gws_vip_H = gt.load_graph_from_csv('final/gws-150/gws-vip-H_network_MeetupNp_list.csv', \n",
    "                                skip_first=True, directed=False, hashed=True)"
   ]
  },
  {
   "cell_type": "code",
   "execution_count": 35,
   "metadata": {
    "ExecuteTime": {
     "end_time": "2020-10-16T21:30:20.283065Z",
     "start_time": "2020-10-16T21:30:20.189686Z"
    }
   },
   "outputs": [
    {
     "data": {
      "text/plain": [
       "(0.276148590785305, 0.05449921459564822)"
      ]
     },
     "execution_count": 35,
     "metadata": {},
     "output_type": "execute_result"
    }
   ],
   "source": [
    "gt.scalar_assortativity(gws_vip_H, \"out\")"
   ]
  },
  {
   "cell_type": "code",
   "execution_count": 34,
   "metadata": {
    "ExecuteTime": {
     "end_time": "2020-10-07T15:05:33.364397Z",
     "start_time": "2020-10-07T15:05:22.259683Z"
    }
   },
   "outputs": [
    {
     "data": {
      "text/plain": [
       "<VertexPropertyMap object with value type 'vector<double>', for Graph 0x7f9c7d616b20, at 0x7f9c7d7d3310>"
      ]
     },
     "execution_count": 34,
     "metadata": {},
     "output_type": "execute_result"
    }
   ],
   "source": [
    "gt.graph_draw(gws_vip_H, \n",
    "              vertex_fill_color = \"#1f77b4\",\n",
    "              output_size=(600, 600),\n",
    "              output='fig/gws_vip_H_MeetupNp.pdf'\n",
    "             )"
   ]
  },
  {
   "cell_type": "markdown",
   "metadata": {},
   "source": [
    "## VIP - True"
   ]
  },
  {
   "cell_type": "code",
   "execution_count": 36,
   "metadata": {
    "ExecuteTime": {
     "end_time": "2020-10-16T21:30:28.094871Z",
     "start_time": "2020-10-16T21:30:28.083767Z"
    }
   },
   "outputs": [],
   "source": [
    "gws_vip_TFN = gws_vip[gws_vip['category'] == 'TFN'][['userid', 'userid_y']]\n",
    "# gws_vip_TFN.to_csv('final/gws-150/gws-vip-TFN_network_MeetupNp_list.csv', index=False)"
   ]
  },
  {
   "cell_type": "code",
   "execution_count": 37,
   "metadata": {
    "ExecuteTime": {
     "end_time": "2020-10-16T21:30:31.040880Z",
     "start_time": "2020-10-16T21:30:31.025713Z"
    }
   },
   "outputs": [],
   "source": [
    "gws_vip_TFN = gt.load_graph_from_csv('final/gws-150/gws-vip-TFN_network_MeetupNp_list.csv', \n",
    "                                skip_first=True, directed=False, hashed=True)"
   ]
  },
  {
   "cell_type": "code",
   "execution_count": 38,
   "metadata": {
    "ExecuteTime": {
     "end_time": "2020-10-16T21:30:55.484320Z",
     "start_time": "2020-10-16T21:30:55.382012Z"
    }
   },
   "outputs": [
    {
     "data": {
      "text/plain": [
       "(0.23353993670446532, 0.04698510354601242)"
      ]
     },
     "execution_count": 38,
     "metadata": {},
     "output_type": "execute_result"
    }
   ],
   "source": [
    "gt.scalar_assortativity(gws_vip_TFN, \"out\")"
   ]
  },
  {
   "cell_type": "code",
   "execution_count": 39,
   "metadata": {
    "ExecuteTime": {
     "end_time": "2020-10-07T15:08:24.558691Z",
     "start_time": "2020-10-07T15:08:13.713213Z"
    }
   },
   "outputs": [
    {
     "data": {
      "text/plain": [
       "<VertexPropertyMap object with value type 'vector<double>', for Graph 0x7f9c7d4018b0, at 0x7f9bd67910d0>"
      ]
     },
     "execution_count": 39,
     "metadata": {},
     "output_type": "execute_result"
    }
   ],
   "source": [
    "gt.graph_draw(gws_vip_TFN,\n",
    "              vertex_fill_color = \"#ff7f0e\",\n",
    "              output_size=(600, 600),\n",
    "              output='fig/gws_vip_true_MeetupNp.pdf'\n",
    "             )"
   ]
  },
  {
   "cell_type": "code",
   "execution_count": null,
   "metadata": {},
   "outputs": [],
   "source": []
  }
 ],
 "metadata": {
  "kernelspec": {
   "display_name": "Python (graph-tool)",
   "language": "python",
   "name": "graphtool"
  },
  "language_info": {
   "codemirror_mode": {
    "name": "ipython",
    "version": 3
   },
   "file_extension": ".py",
   "mimetype": "text/x-python",
   "name": "python",
   "nbconvert_exporter": "python",
   "pygments_lexer": "ipython3",
   "version": "3.8.3"
  }
 },
 "nbformat": 4,
 "nbformat_minor": 4
}
