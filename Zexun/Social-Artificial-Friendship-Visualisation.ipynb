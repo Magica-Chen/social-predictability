{
 "cells": [
  {
   "cell_type": "markdown",
   "metadata": {},
   "source": [
    "# Artifical Friendship Construction and Explore the potential social information from the friendship network-visualisation"
   ]
  },
  {
   "cell_type": "code",
   "execution_count": 1,
   "metadata": {},
   "outputs": [],
   "source": [
    "import numpy as np\n",
    "import pandas as pd\n",
    "import matplotlib.pyplot as plt\n",
    "%matplotlib inline\n",
    "import matplotlib.colors as colors\n",
    "import pickle"
   ]
  },
  {
   "cell_type": "code",
   "execution_count": 2,
   "metadata": {},
   "outputs": [],
   "source": [
    "user_meetup = pd.read_csv('results/user_meetup_new.csv')"
   ]
  },
  {
   "cell_type": "code",
   "execution_count": 16,
   "metadata": {},
   "outputs": [],
   "source": [
    "user_meetup['Included Rank'] = user_meetup['Included Rank'].astype('int32')"
   ]
  },
  {
   "cell_type": "code",
   "execution_count": 62,
   "metadata": {},
   "outputs": [
    {
     "data": {
      "text/html": [
       "<div>\n",
       "<style scoped>\n",
       "    .dataframe tbody tr th:only-of-type {\n",
       "        vertical-align: middle;\n",
       "    }\n",
       "\n",
       "    .dataframe tbody tr th {\n",
       "        vertical-align: top;\n",
       "    }\n",
       "\n",
       "    .dataframe thead th {\n",
       "        text-align: right;\n",
       "    }\n",
       "</style>\n",
       "<table border=\"1\" class=\"dataframe\">\n",
       "  <thead>\n",
       "    <tr style=\"text-align: right;\">\n",
       "      <th></th>\n",
       "      <th>userid_x</th>\n",
       "      <th>userid_y</th>\n",
       "      <th>meetup</th>\n",
       "      <th>percent</th>\n",
       "      <th>SN-E ego</th>\n",
       "      <th>LZ-E ego</th>\n",
       "      <th>Pi ego</th>\n",
       "      <th>CE alter</th>\n",
       "      <th>KL alter</th>\n",
       "      <th>Pi alter</th>\n",
       "      <th>CE ego+alter</th>\n",
       "      <th>Pi ego+alter</th>\n",
       "      <th>Weight</th>\n",
       "      <th>Impact</th>\n",
       "      <th>Included Rank</th>\n",
       "      <th>CCE ego+alters</th>\n",
       "      <th>CCE alters</th>\n",
       "      <th>Pi alters</th>\n",
       "      <th>Pi ego+alters</th>\n",
       "    </tr>\n",
       "  </thead>\n",
       "  <tbody>\n",
       "    <tr>\n",
       "      <td>0</td>\n",
       "      <td>fred-wilson</td>\n",
       "      <td>andrew-parker</td>\n",
       "      <td>10</td>\n",
       "      <td>0.035088</td>\n",
       "      <td>8.003259</td>\n",
       "      <td>6.059807</td>\n",
       "      <td>0.514013</td>\n",
       "      <td>7.062367</td>\n",
       "      <td>1.002560</td>\n",
       "      <td>0.415810</td>\n",
       "      <td>5.600320</td>\n",
       "      <td>0.557284</td>\n",
       "      <td>0.015719</td>\n",
       "      <td>0.015903</td>\n",
       "      <td>1</td>\n",
       "      <td>5.600320</td>\n",
       "      <td>7.062367</td>\n",
       "      <td>0.415810</td>\n",
       "      <td>0.557284</td>\n",
       "    </tr>\n",
       "    <tr>\n",
       "      <td>1</td>\n",
       "      <td>fred-wilson</td>\n",
       "      <td>bijan-sabet</td>\n",
       "      <td>6</td>\n",
       "      <td>0.021053</td>\n",
       "      <td>8.003259</td>\n",
       "      <td>6.059807</td>\n",
       "      <td>0.514013</td>\n",
       "      <td>7.821033</td>\n",
       "      <td>1.761225</td>\n",
       "      <td>0.337468</td>\n",
       "      <td>5.762551</td>\n",
       "      <td>0.542123</td>\n",
       "      <td>0.014352</td>\n",
       "      <td>0.014466</td>\n",
       "      <td>2</td>\n",
       "      <td>5.495602</td>\n",
       "      <td>7.083546</td>\n",
       "      <td>0.413674</td>\n",
       "      <td>0.567005</td>\n",
       "    </tr>\n",
       "    <tr>\n",
       "      <td>2</td>\n",
       "      <td>fred-wilson</td>\n",
       "      <td>caroline-mccarthy</td>\n",
       "      <td>5</td>\n",
       "      <td>0.017544</td>\n",
       "      <td>8.003259</td>\n",
       "      <td>6.059807</td>\n",
       "      <td>0.514013</td>\n",
       "      <td>9.118369</td>\n",
       "      <td>3.058561</td>\n",
       "      <td>0.192075</td>\n",
       "      <td>6.139219</td>\n",
       "      <td>0.506429</td>\n",
       "      <td>0.015133</td>\n",
       "      <td>0.015280</td>\n",
       "      <td>3</td>\n",
       "      <td>5.686781</td>\n",
       "      <td>7.529571</td>\n",
       "      <td>0.368031</td>\n",
       "      <td>0.549220</td>\n",
       "    </tr>\n",
       "    <tr>\n",
       "      <td>3</td>\n",
       "      <td>fred-wilson</td>\n",
       "      <td>mark-g</td>\n",
       "      <td>5</td>\n",
       "      <td>0.017544</td>\n",
       "      <td>8.003259</td>\n",
       "      <td>6.059807</td>\n",
       "      <td>0.514013</td>\n",
       "      <td>9.583830</td>\n",
       "      <td>3.524023</td>\n",
       "      <td>0.134228</td>\n",
       "      <td>6.368137</td>\n",
       "      <td>0.484389</td>\n",
       "      <td>0.014987</td>\n",
       "      <td>0.015136</td>\n",
       "      <td>4</td>\n",
       "      <td>5.847246</td>\n",
       "      <td>7.580211</td>\n",
       "      <td>0.362765</td>\n",
       "      <td>0.534158</td>\n",
       "    </tr>\n",
       "    <tr>\n",
       "      <td>4</td>\n",
       "      <td>fred-wilson</td>\n",
       "      <td>eric-spiegelman</td>\n",
       "      <td>4</td>\n",
       "      <td>0.014035</td>\n",
       "      <td>8.003259</td>\n",
       "      <td>6.059807</td>\n",
       "      <td>0.514013</td>\n",
       "      <td>8.769703</td>\n",
       "      <td>2.709896</td>\n",
       "      <td>0.232993</td>\n",
       "      <td>5.718428</td>\n",
       "      <td>0.546259</td>\n",
       "      <td>0.001806</td>\n",
       "      <td>0.001820</td>\n",
       "      <td>5</td>\n",
       "      <td>5.738637</td>\n",
       "      <td>7.390469</td>\n",
       "      <td>0.382406</td>\n",
       "      <td>0.544366</td>\n",
       "    </tr>\n",
       "    <tr>\n",
       "      <td>...</td>\n",
       "      <td>...</td>\n",
       "      <td>...</td>\n",
       "      <td>...</td>\n",
       "      <td>...</td>\n",
       "      <td>...</td>\n",
       "      <td>...</td>\n",
       "      <td>...</td>\n",
       "      <td>...</td>\n",
       "      <td>...</td>\n",
       "      <td>...</td>\n",
       "      <td>...</td>\n",
       "      <td>...</td>\n",
       "      <td>...</td>\n",
       "      <td>...</td>\n",
       "      <td>...</td>\n",
       "      <td>...</td>\n",
       "      <td>...</td>\n",
       "      <td>...</td>\n",
       "      <td>...</td>\n",
       "    </tr>\n",
       "    <tr>\n",
       "      <td>676295</td>\n",
       "      <td>mark-van-der-poel</td>\n",
       "      <td>simon-colijn</td>\n",
       "      <td>22</td>\n",
       "      <td>0.733333</td>\n",
       "      <td>4.585127</td>\n",
       "      <td>3.204491</td>\n",
       "      <td>0.708478</td>\n",
       "      <td>3.664927</td>\n",
       "      <td>0.460436</td>\n",
       "      <td>0.657968</td>\n",
       "      <td>2.944584</td>\n",
       "      <td>0.736171</td>\n",
       "      <td>0.566766</td>\n",
       "      <td>0.601831</td>\n",
       "      <td>1</td>\n",
       "      <td>2.944584</td>\n",
       "      <td>3.664927</td>\n",
       "      <td>0.657968</td>\n",
       "      <td>0.736171</td>\n",
       "    </tr>\n",
       "    <tr>\n",
       "      <td>676296</td>\n",
       "      <td>mark-van-der-poel</td>\n",
       "      <td>rene-sijnke</td>\n",
       "      <td>5</td>\n",
       "      <td>0.166667</td>\n",
       "      <td>4.585127</td>\n",
       "      <td>3.204491</td>\n",
       "      <td>0.708478</td>\n",
       "      <td>6.183090</td>\n",
       "      <td>2.978599</td>\n",
       "      <td>0.343603</td>\n",
       "      <td>3.448809</td>\n",
       "      <td>0.681909</td>\n",
       "      <td>0.320475</td>\n",
       "      <td>0.306636</td>\n",
       "      <td>2</td>\n",
       "      <td>3.180504</td>\n",
       "      <td>4.096832</td>\n",
       "      <td>0.608862</td>\n",
       "      <td>0.711059</td>\n",
       "    </tr>\n",
       "    <tr>\n",
       "      <td>676297</td>\n",
       "      <td>mark-van-der-poel</td>\n",
       "      <td>celine-lucas</td>\n",
       "      <td>1</td>\n",
       "      <td>0.033333</td>\n",
       "      <td>4.585127</td>\n",
       "      <td>3.204491</td>\n",
       "      <td>0.708478</td>\n",
       "      <td>9.031662</td>\n",
       "      <td>5.827171</td>\n",
       "      <td>-0.142373</td>\n",
       "      <td>3.596399</td>\n",
       "      <td>0.665604</td>\n",
       "      <td>0.047478</td>\n",
       "      <td>0.041190</td>\n",
       "      <td>3</td>\n",
       "      <td>3.308406</td>\n",
       "      <td>4.247919</td>\n",
       "      <td>0.591276</td>\n",
       "      <td>0.697242</td>\n",
       "    </tr>\n",
       "    <tr>\n",
       "      <td>676298</td>\n",
       "      <td>mark-van-der-poel</td>\n",
       "      <td>jordi-wiegerink</td>\n",
       "      <td>1</td>\n",
       "      <td>0.033333</td>\n",
       "      <td>4.585127</td>\n",
       "      <td>3.204491</td>\n",
       "      <td>0.708478</td>\n",
       "      <td>10.206009</td>\n",
       "      <td>7.001518</td>\n",
       "      <td>-0.284861</td>\n",
       "      <td>3.936778</td>\n",
       "      <td>0.627259</td>\n",
       "      <td>0.032641</td>\n",
       "      <td>0.025172</td>\n",
       "      <td>4</td>\n",
       "      <td>3.514634</td>\n",
       "      <td>4.509532</td>\n",
       "      <td>0.560303</td>\n",
       "      <td>0.674661</td>\n",
       "    </tr>\n",
       "    <tr>\n",
       "      <td>676299</td>\n",
       "      <td>mark-van-der-poel</td>\n",
       "      <td>rob-w8</td>\n",
       "      <td>1</td>\n",
       "      <td>0.033333</td>\n",
       "      <td>4.585127</td>\n",
       "      <td>3.204491</td>\n",
       "      <td>0.708478</td>\n",
       "      <td>9.593778</td>\n",
       "      <td>6.389287</td>\n",
       "      <td>-0.211994</td>\n",
       "      <td>3.724797</td>\n",
       "      <td>0.651263</td>\n",
       "      <td>0.032641</td>\n",
       "      <td>0.025172</td>\n",
       "      <td>5</td>\n",
       "      <td>3.554485</td>\n",
       "      <td>4.544057</td>\n",
       "      <td>0.556165</td>\n",
       "      <td>0.670255</td>\n",
       "    </tr>\n",
       "  </tbody>\n",
       "</table>\n",
       "<p>676260 rows × 19 columns</p>\n",
       "</div>"
      ],
      "text/plain": [
       "                 userid_x           userid_y  meetup   percent  SN-E ego  \\\n",
       "0             fred-wilson      andrew-parker      10  0.035088  8.003259   \n",
       "1             fred-wilson        bijan-sabet       6  0.021053  8.003259   \n",
       "2             fred-wilson  caroline-mccarthy       5  0.017544  8.003259   \n",
       "3             fred-wilson             mark-g       5  0.017544  8.003259   \n",
       "4             fred-wilson    eric-spiegelman       4  0.014035  8.003259   \n",
       "...                   ...                ...     ...       ...       ...   \n",
       "676295  mark-van-der-poel       simon-colijn      22  0.733333  4.585127   \n",
       "676296  mark-van-der-poel        rene-sijnke       5  0.166667  4.585127   \n",
       "676297  mark-van-der-poel       celine-lucas       1  0.033333  4.585127   \n",
       "676298  mark-van-der-poel    jordi-wiegerink       1  0.033333  4.585127   \n",
       "676299  mark-van-der-poel             rob-w8       1  0.033333  4.585127   \n",
       "\n",
       "        LZ-E ego    Pi ego   CE alter  KL alter  Pi alter  CE ego+alter  \\\n",
       "0       6.059807  0.514013   7.062367  1.002560  0.415810      5.600320   \n",
       "1       6.059807  0.514013   7.821033  1.761225  0.337468      5.762551   \n",
       "2       6.059807  0.514013   9.118369  3.058561  0.192075      6.139219   \n",
       "3       6.059807  0.514013   9.583830  3.524023  0.134228      6.368137   \n",
       "4       6.059807  0.514013   8.769703  2.709896  0.232993      5.718428   \n",
       "...          ...       ...        ...       ...       ...           ...   \n",
       "676295  3.204491  0.708478   3.664927  0.460436  0.657968      2.944584   \n",
       "676296  3.204491  0.708478   6.183090  2.978599  0.343603      3.448809   \n",
       "676297  3.204491  0.708478   9.031662  5.827171 -0.142373      3.596399   \n",
       "676298  3.204491  0.708478  10.206009  7.001518 -0.284861      3.936778   \n",
       "676299  3.204491  0.708478   9.593778  6.389287 -0.211994      3.724797   \n",
       "\n",
       "        Pi ego+alter    Weight    Impact  Included Rank  CCE ego+alters  \\\n",
       "0           0.557284  0.015719  0.015903              1        5.600320   \n",
       "1           0.542123  0.014352  0.014466              2        5.495602   \n",
       "2           0.506429  0.015133  0.015280              3        5.686781   \n",
       "3           0.484389  0.014987  0.015136              4        5.847246   \n",
       "4           0.546259  0.001806  0.001820              5        5.738637   \n",
       "...              ...       ...       ...            ...             ...   \n",
       "676295      0.736171  0.566766  0.601831              1        2.944584   \n",
       "676296      0.681909  0.320475  0.306636              2        3.180504   \n",
       "676297      0.665604  0.047478  0.041190              3        3.308406   \n",
       "676298      0.627259  0.032641  0.025172              4        3.514634   \n",
       "676299      0.651263  0.032641  0.025172              5        3.554485   \n",
       "\n",
       "        CCE alters  Pi alters  Pi ego+alters  \n",
       "0         7.062367   0.415810       0.557284  \n",
       "1         7.083546   0.413674       0.567005  \n",
       "2         7.529571   0.368031       0.549220  \n",
       "3         7.580211   0.362765       0.534158  \n",
       "4         7.390469   0.382406       0.544366  \n",
       "...            ...        ...            ...  \n",
       "676295    3.664927   0.657968       0.736171  \n",
       "676296    4.096832   0.608862       0.711059  \n",
       "676297    4.247919   0.591276       0.697242  \n",
       "676298    4.509532   0.560303       0.674661  \n",
       "676299    4.544057   0.556165       0.670255  \n",
       "\n",
       "[676260 rows x 19 columns]"
      ]
     },
     "execution_count": 62,
     "metadata": {},
     "output_type": "execute_result"
    }
   ],
   "source": [
    "user_meetup = user_meetup.dropna()\n",
    "user_meetup"
   ]
  },
  {
   "cell_type": "code",
   "execution_count": 4,
   "metadata": {},
   "outputs": [],
   "source": [
    "import seaborn as sns\n",
    "import matplotlib.ticker as ticker\n",
    "palette = sns.color_palette(\"colorblind\")"
   ]
  },
  {
   "cell_type": "markdown",
   "metadata": {},
   "source": [
    "## Distributions of Entropies and Cumulative Cross Entropy"
   ]
  },
  {
   "cell_type": "code",
   "execution_count": 53,
   "metadata": {
    "scrolled": false
   },
   "outputs": [
    {
     "data": {
      "image/png": "[encoded data removed]",
      "text/plain": [
       "<Figure size 864x432 with 1 Axes>"
      ]
     },
     "metadata": {
      "needs_background": "light"
     },
     "output_type": "display_data"
    }
   ],
   "source": [
    "fig, ax = plt.subplots(figsize = (12,6))\n",
    "sns.set_context('talk')\n",
    "sns.distplot(user_meetup['SN-E ego'], label='Shannon Entropy', kde=False, bins=100)\n",
    "sns.distplot(user_meetup['LZ-E ego'], label = 'LZ Entropy',  kde=False, bins=100)\n",
    "sns.distplot(user_meetup['CE alter'], label='Cross Entropy',  kde=False, bins=100)\n",
    "plt.title('pdf of entropies and cross entropy')\n",
    "ax.set(xlabel='Entropy', ylabel='counts')\n",
    "ax.legend()\n",
    "plt.show()"
   ]
  },
  {
   "cell_type": "markdown",
   "metadata": {},
   "source": [
    "## Distributions of predictabilities"
   ]
  },
  {
   "cell_type": "code",
   "execution_count": 63,
   "metadata": {},
   "outputs": [
    {
     "data": {
      "image/png": "[encoded data removed]",
      "text/plain": [
       "<Figure size 864x432 with 1 Axes>"
      ]
     },
     "metadata": {
      "needs_background": "light"
     },
     "output_type": "display_data"
    }
   ],
   "source": [
    "fig, ax = plt.subplots(figsize = (12,6))\n",
    "sns.set_context('talk')\n",
    "sns.distplot(user_meetup['Pi ego'], label='ego', bins = 100, kde=False)\n",
    "sns.distplot(user_meetup['Pi alters'], label='alters', bins=100, kde=False)\n",
    "sns.distplot(user_meetup['Pi ego+alters'], label = 'ego+alters', bins=100, kde=False)\n",
    "plt.title('pdf of predictabilities')\n",
    "ax.set(xlabel='predictability', ylabel='counts')\n",
    "ax.legend()\n",
    "plt.show()"
   ]
  },
  {
   "cell_type": "markdown",
   "metadata": {},
   "source": [
    "## Entropies and predictabilities compare"
   ]
  },
  {
   "cell_type": "code",
   "execution_count": 56,
   "metadata": {},
   "outputs": [],
   "source": [
    "CCE = pd.melt(user_meetup, id_vars=['Included Rank'], value_vars=['CCE ego+alters','CCE alters'], \\\n",
    "                  var_name = 'Cumulative Cross Entropy')"
   ]
  },
  {
   "cell_type": "code",
   "execution_count": 57,
   "metadata": {},
   "outputs": [
    {
     "data": {
      "text/plain": [
       "Text(0.5, 1.0, 'Different entropies for partial dataset (Alters < 250)')"
      ]
     },
     "execution_count": 57,
     "metadata": {},
     "output_type": "execute_result"
    },
    {
     "data": {
      "image/png": "[encoded data removed]",
      "text/plain": [
       "<Figure size 1080x432 with 1 Axes>"
      ]
     },
     "metadata": {
      "needs_background": "light"
     },
     "output_type": "display_data"
    }
   ],
   "source": [
    "fig, ax = plt.subplots(figsize=(15, 6))\n",
    "sns.set_context(\"talk\")\n",
    "sns.pointplot(x=\"Included Rank\", y=\"value\", hue='Cumulative Cross Entropy', data=CCE[CCE['Included Rank'] < 250], \\\n",
    "              ci=95, join=False, ax=ax)\n",
    "ax.axhline(y=user_meetup['LZ-E ego'].mean(), color='black')\n",
    "leg_handles = ax.get_legend_handles_labels()[0]\n",
    "ax.legend(leg_handles, ['Alters + ego', 'Alters only'], loc=9)\n",
    "\n",
    "ax.xaxis.set_major_locator(ticker.MultipleLocator(10))\n",
    "ax.xaxis.set_major_formatter(ticker.ScalarFormatter())\n",
    "ax.set(xlabel='Number of included alters', ylabel='Cumulative Cross Entropy')\n",
    "\n",
    "plt.title('Different entropies for partial dataset (Alters < 250)')"
   ]
  },
  {
   "cell_type": "code",
   "execution_count": 58,
   "metadata": {},
   "outputs": [
    {
     "data": {
      "text/plain": [
       "0.5448717945747807"
      ]
     },
     "execution_count": 58,
     "metadata": {},
     "output_type": "execute_result"
    }
   ],
   "source": [
    "baseline = user_meetup['Pi ego'].mean()\n",
    "baseline"
   ]
  },
  {
   "cell_type": "code",
   "execution_count": 59,
   "metadata": {},
   "outputs": [],
   "source": [
    "CCE_Pi = pd.melt(user_meetup, id_vars=['Included Rank'], value_vars=['Pi ego+alters','Pi alters'], \\\n",
    "                  var_name = 'predictability')"
   ]
  },
  {
   "cell_type": "code",
   "execution_count": 61,
   "metadata": {},
   "outputs": [
    {
     "data": {
      "text/plain": [
       "Text(0.5, 1.0, 'Different predictabilities for partial dataset (Alters < 250)')"
      ]
     },
     "execution_count": 61,
     "metadata": {},
     "output_type": "execute_result"
    },
    {
     "data": {
      "image/png": "[encoded data removed]",
      "text/plain": [
       "<Figure size 1080x432 with 1 Axes>"
      ]
     },
     "metadata": {
      "needs_background": "light"
     },
     "output_type": "display_data"
    }
   ],
   "source": [
    "fig, ax = plt.subplots(figsize=(15, 6))\n",
    "sns.set_context(\"talk\")\n",
    "sns.pointplot(x=\"Included Rank\", y=\"value\", hue='predictability', data=CCE_Pi[CCE_Pi['Included Rank'] < 50], \\\n",
    "              ci=95, join=False, ax=ax)\n",
    "ax.axhline(y=baseline, color='black')\n",
    "handles, _ = ax.get_legend_handles_labels()\n",
    "plt.legend(handles, ['Alters + ego', 'Alters only'])\n",
    "\n",
    "vals = ax.get_yticks()\n",
    "ax.set_yticklabels(['{:,.2%}'.format(x) for x in vals])\n",
    "ax.xaxis.set_major_locator(ticker.MultipleLocator(10))\n",
    "ax.xaxis.set_major_formatter(ticker.ScalarFormatter())\n",
    "ax.set(xlabel='Number of included alters', ylabel='Predictability')\n",
    "\n",
    "\n",
    "plt.title('Different predictabilities for partial dataset (Alters < 250)')"
   ]
  },
  {
   "cell_type": "code",
   "execution_count": null,
   "metadata": {},
   "outputs": [],
   "source": []
  },
  {
   "cell_type": "markdown",
   "metadata": {},
   "source": [
    "## Baisc statistics for number of friends (as long as they have at least meetup), average alters for a ego is 103.4"
   ]
  },
  {
   "cell_type": "code",
   "execution_count": 46,
   "metadata": {},
   "outputs": [
    {
     "data": {
      "text/plain": [
       "count    676300.000000\n",
       "mean        103.412435\n",
       "std         120.142350\n",
       "min           1.000000\n",
       "25%          19.000000\n",
       "50%          59.000000\n",
       "75%         147.000000\n",
       "max        1069.000000\n",
       "Name: Included Rank, dtype: float64"
      ]
     },
     "execution_count": 46,
     "metadata": {},
     "output_type": "execute_result"
    }
   ],
   "source": [
    "user_meetup['Included Rank'].describe()"
   ]
  },
  {
   "cell_type": "code",
   "execution_count": 44,
   "metadata": {},
   "outputs": [
    {
     "data": {
      "image/png": "[encoded data removed]",
      "text/plain": [
       "<Figure size 360x360 with 1 Axes>"
      ]
     },
     "metadata": {
      "needs_background": "light"
     },
     "output_type": "display_data"
    }
   ],
   "source": [
    "fig, ax = plt.subplots(figsize=(5, 5))\n",
    "sns.distplot(user_meetup['Included Rank'], bins=500)\n",
    "ax.set_xscale('log')\n",
    "plt.title('pdf of numbers of meetup alters for a ego')\n",
    "plt.show()"
   ]
  },
  {
   "cell_type": "markdown",
   "metadata": {},
   "source": [
    "## Baisc statistics for Weight and Impact"
   ]
  },
  {
   "cell_type": "code",
   "execution_count": 48,
   "metadata": {},
   "outputs": [
    {
     "data": {
      "text/plain": [
       "count    676260.000000\n",
       "mean          0.021158\n",
       "std           0.070966\n",
       "min           0.000000\n",
       "25%           0.001949\n",
       "50%           0.004622\n",
       "75%           0.013529\n",
       "max           1.000000\n",
       "Name: Weight, dtype: float64"
      ]
     },
     "execution_count": 48,
     "metadata": {},
     "output_type": "execute_result"
    }
   ],
   "source": [
    "user_meetup['Weight'].describe()"
   ]
  },
  {
   "cell_type": "code",
   "execution_count": 49,
   "metadata": {},
   "outputs": [
    {
     "data": {
      "text/plain": [
       "count    676260.000000\n",
       "mean          0.021158\n",
       "std           0.072076\n",
       "min           0.000000\n",
       "25%           0.001909\n",
       "50%           0.004534\n",
       "75%           0.013249\n",
       "max           1.000000\n",
       "Name: Impact, dtype: float64"
      ]
     },
     "execution_count": 49,
     "metadata": {},
     "output_type": "execute_result"
    }
   ],
   "source": [
    "user_meetup['Impact'].describe()"
   ]
  },
  {
   "cell_type": "code",
   "execution_count": 64,
   "metadata": {},
   "outputs": [
    {
     "data": {
      "text/html": [
       "<div>\n",
       "<style scoped>\n",
       "    .dataframe tbody tr th:only-of-type {\n",
       "        vertical-align: middle;\n",
       "    }\n",
       "\n",
       "    .dataframe tbody tr th {\n",
       "        vertical-align: top;\n",
       "    }\n",
       "\n",
       "    .dataframe thead th {\n",
       "        text-align: right;\n",
       "    }\n",
       "</style>\n",
       "<table border=\"1\" class=\"dataframe\">\n",
       "  <thead>\n",
       "    <tr style=\"text-align: right;\">\n",
       "      <th></th>\n",
       "      <th>userid_x</th>\n",
       "      <th>userid_y</th>\n",
       "      <th>meetup</th>\n",
       "      <th>percent</th>\n",
       "      <th>SN-E ego</th>\n",
       "      <th>LZ-E ego</th>\n",
       "      <th>Pi ego</th>\n",
       "      <th>CE alter</th>\n",
       "      <th>KL alter</th>\n",
       "      <th>Pi alter</th>\n",
       "      <th>CE ego+alter</th>\n",
       "      <th>Pi ego+alter</th>\n",
       "      <th>Weight</th>\n",
       "      <th>Impact</th>\n",
       "      <th>Included Rank</th>\n",
       "      <th>CCE ego+alters</th>\n",
       "      <th>CCE alters</th>\n",
       "      <th>Pi alters</th>\n",
       "      <th>Pi ego+alters</th>\n",
       "    </tr>\n",
       "  </thead>\n",
       "  <tbody>\n",
       "    <tr>\n",
       "      <td>8248</td>\n",
       "      <td>laurent-kretz</td>\n",
       "      <td>martin-recke</td>\n",
       "      <td>2</td>\n",
       "      <td>0.333333</td>\n",
       "      <td>5.680063</td>\n",
       "      <td>4.972017</td>\n",
       "      <td>0.394639</td>\n",
       "      <td>10.123047</td>\n",
       "      <td>5.151029</td>\n",
       "      <td>-0.469204</td>\n",
       "      <td>7.022768</td>\n",
       "      <td>-0.058405</td>\n",
       "      <td>0.142857</td>\n",
       "      <td>0.142857</td>\n",
       "      <td>1</td>\n",
       "      <td>7.022768</td>\n",
       "      <td>10.123047</td>\n",
       "      <td>-0.469204</td>\n",
       "      <td>-0.058405</td>\n",
       "    </tr>\n",
       "    <tr>\n",
       "      <td>8249</td>\n",
       "      <td>laurent-kretz</td>\n",
       "      <td>tijs-vrolix</td>\n",
       "      <td>2</td>\n",
       "      <td>0.333333</td>\n",
       "      <td>5.680063</td>\n",
       "      <td>4.972017</td>\n",
       "      <td>0.394639</td>\n",
       "      <td>8.517919</td>\n",
       "      <td>3.545901</td>\n",
       "      <td>-0.267016</td>\n",
       "      <td>5.954887</td>\n",
       "      <td>0.212591</td>\n",
       "      <td>0.142857</td>\n",
       "      <td>0.142857</td>\n",
       "      <td>2</td>\n",
       "      <td>6.867781</td>\n",
       "      <td>9.536955</td>\n",
       "      <td>-0.396763</td>\n",
       "      <td>-0.033529</td>\n",
       "    </tr>\n",
       "    <tr>\n",
       "      <td>8250</td>\n",
       "      <td>laurent-kretz</td>\n",
       "      <td>linda-lindstedt</td>\n",
       "      <td>1</td>\n",
       "      <td>0.166667</td>\n",
       "      <td>5.680063</td>\n",
       "      <td>4.972017</td>\n",
       "      <td>0.394639</td>\n",
       "      <td>9.368889</td>\n",
       "      <td>4.396872</td>\n",
       "      <td>-0.375737</td>\n",
       "      <td>6.440839</td>\n",
       "      <td>0.094528</td>\n",
       "      <td>0.071429</td>\n",
       "      <td>0.071429</td>\n",
       "      <td>3</td>\n",
       "      <td>6.863096</td>\n",
       "      <td>9.362545</td>\n",
       "      <td>-0.374941</td>\n",
       "      <td>-0.032753</td>\n",
       "    </tr>\n",
       "    <tr>\n",
       "      <td>8252</td>\n",
       "      <td>philip-kaplan</td>\n",
       "      <td>michael-diamant</td>\n",
       "      <td>6</td>\n",
       "      <td>0.084507</td>\n",
       "      <td>6.195017</td>\n",
       "      <td>5.726021</td>\n",
       "      <td>0.250241</td>\n",
       "      <td>8.122302</td>\n",
       "      <td>2.396281</td>\n",
       "      <td>-0.223124</td>\n",
       "      <td>6.621434</td>\n",
       "      <td>-0.000136</td>\n",
       "      <td>0.033019</td>\n",
       "      <td>0.040541</td>\n",
       "      <td>1</td>\n",
       "      <td>6.621434</td>\n",
       "      <td>8.122302</td>\n",
       "      <td>-0.223124</td>\n",
       "      <td>-0.000136</td>\n",
       "    </tr>\n",
       "    <tr>\n",
       "      <td>8253</td>\n",
       "      <td>philip-kaplan</td>\n",
       "      <td>dennis-yang</td>\n",
       "      <td>4</td>\n",
       "      <td>0.056338</td>\n",
       "      <td>6.195017</td>\n",
       "      <td>5.726021</td>\n",
       "      <td>0.250241</td>\n",
       "      <td>9.257103</td>\n",
       "      <td>3.531082</td>\n",
       "      <td>-0.370097</td>\n",
       "      <td>7.526860</td>\n",
       "      <td>-0.141467</td>\n",
       "      <td>0.070755</td>\n",
       "      <td>0.076577</td>\n",
       "      <td>2</td>\n",
       "      <td>7.145011</td>\n",
       "      <td>8.379017</td>\n",
       "      <td>-0.257161</td>\n",
       "      <td>-0.086028</td>\n",
       "    </tr>\n",
       "    <tr>\n",
       "      <td>...</td>\n",
       "      <td>...</td>\n",
       "      <td>...</td>\n",
       "      <td>...</td>\n",
       "      <td>...</td>\n",
       "      <td>...</td>\n",
       "      <td>...</td>\n",
       "      <td>...</td>\n",
       "      <td>...</td>\n",
       "      <td>...</td>\n",
       "      <td>...</td>\n",
       "      <td>...</td>\n",
       "      <td>...</td>\n",
       "      <td>...</td>\n",
       "      <td>...</td>\n",
       "      <td>...</td>\n",
       "      <td>...</td>\n",
       "      <td>...</td>\n",
       "      <td>...</td>\n",
       "      <td>...</td>\n",
       "    </tr>\n",
       "    <tr>\n",
       "      <td>675944</td>\n",
       "      <td>dekichi</td>\n",
       "      <td>kosuke-kamiya</td>\n",
       "      <td>1</td>\n",
       "      <td>0.111111</td>\n",
       "      <td>2.500000</td>\n",
       "      <td>2.400000</td>\n",
       "      <td>0.501308</td>\n",
       "      <td>5.177412</td>\n",
       "      <td>2.777412</td>\n",
       "      <td>-0.178327</td>\n",
       "      <td>4.133115</td>\n",
       "      <td>-0.042861</td>\n",
       "      <td>0.285714</td>\n",
       "      <td>0.300000</td>\n",
       "      <td>3</td>\n",
       "      <td>4.732021</td>\n",
       "      <td>5.448620</td>\n",
       "      <td>-0.212119</td>\n",
       "      <td>-0.121752</td>\n",
       "    </tr>\n",
       "    <tr>\n",
       "      <td>675945</td>\n",
       "      <td>dekichi</td>\n",
       "      <td>razorbeam</td>\n",
       "      <td>1</td>\n",
       "      <td>0.111111</td>\n",
       "      <td>2.500000</td>\n",
       "      <td>2.400000</td>\n",
       "      <td>0.501308</td>\n",
       "      <td>5.483025</td>\n",
       "      <td>3.083025</td>\n",
       "      <td>-0.216375</td>\n",
       "      <td>4.399942</td>\n",
       "      <td>-0.078485</td>\n",
       "      <td>0.285714</td>\n",
       "      <td>0.300000</td>\n",
       "      <td>4</td>\n",
       "      <td>4.798472</td>\n",
       "      <td>5.457328</td>\n",
       "      <td>-0.213197</td>\n",
       "      <td>-0.130289</td>\n",
       "    </tr>\n",
       "    <tr>\n",
       "      <td>676002</td>\n",
       "      <td>andika-alivano</td>\n",
       "      <td>olivia-willyost</td>\n",
       "      <td>1</td>\n",
       "      <td>1.000000</td>\n",
       "      <td>5.314494</td>\n",
       "      <td>4.645022</td>\n",
       "      <td>0.400631</td>\n",
       "      <td>9.118189</td>\n",
       "      <td>4.473167</td>\n",
       "      <td>-0.411785</td>\n",
       "      <td>6.302434</td>\n",
       "      <td>-0.015547</td>\n",
       "      <td>1.000000</td>\n",
       "      <td>1.000000</td>\n",
       "      <td>1</td>\n",
       "      <td>6.302434</td>\n",
       "      <td>9.118189</td>\n",
       "      <td>-0.411785</td>\n",
       "      <td>-0.015547</td>\n",
       "    </tr>\n",
       "    <tr>\n",
       "      <td>676005</td>\n",
       "      <td>ryusuke-ochiai</td>\n",
       "      <td>shinya-kamata</td>\n",
       "      <td>2</td>\n",
       "      <td>1.000000</td>\n",
       "      <td>4.729283</td>\n",
       "      <td>4.488123</td>\n",
       "      <td>0.288073</td>\n",
       "      <td>6.896770</td>\n",
       "      <td>2.408648</td>\n",
       "      <td>-0.251088</td>\n",
       "      <td>5.653605</td>\n",
       "      <td>-0.065350</td>\n",
       "      <td>1.000000</td>\n",
       "      <td>1.000000</td>\n",
       "      <td>1</td>\n",
       "      <td>5.653605</td>\n",
       "      <td>6.896770</td>\n",
       "      <td>-0.251088</td>\n",
       "      <td>-0.065350</td>\n",
       "    </tr>\n",
       "    <tr>\n",
       "      <td>676109</td>\n",
       "      <td>michael-crinnion</td>\n",
       "      <td>tim-difford</td>\n",
       "      <td>1</td>\n",
       "      <td>1.000000</td>\n",
       "      <td>5.894455</td>\n",
       "      <td>5.731343</td>\n",
       "      <td>0.138015</td>\n",
       "      <td>7.680886</td>\n",
       "      <td>1.949543</td>\n",
       "      <td>-0.243050</td>\n",
       "      <td>6.743442</td>\n",
       "      <td>-0.109401</td>\n",
       "      <td>1.000000</td>\n",
       "      <td>1.000000</td>\n",
       "      <td>1</td>\n",
       "      <td>6.743442</td>\n",
       "      <td>7.680886</td>\n",
       "      <td>-0.243050</td>\n",
       "      <td>-0.109401</td>\n",
       "    </tr>\n",
       "  </tbody>\n",
       "</table>\n",
       "<p>6426 rows × 19 columns</p>\n",
       "</div>"
      ],
      "text/plain": [
       "                userid_x         userid_y  meetup   percent  SN-E ego  \\\n",
       "8248       laurent-kretz     martin-recke       2  0.333333  5.680063   \n",
       "8249       laurent-kretz      tijs-vrolix       2  0.333333  5.680063   \n",
       "8250       laurent-kretz  linda-lindstedt       1  0.166667  5.680063   \n",
       "8252       philip-kaplan  michael-diamant       6  0.084507  6.195017   \n",
       "8253       philip-kaplan      dennis-yang       4  0.056338  6.195017   \n",
       "...                  ...              ...     ...       ...       ...   \n",
       "675944           dekichi    kosuke-kamiya       1  0.111111  2.500000   \n",
       "675945           dekichi        razorbeam       1  0.111111  2.500000   \n",
       "676002    andika-alivano  olivia-willyost       1  1.000000  5.314494   \n",
       "676005    ryusuke-ochiai    shinya-kamata       2  1.000000  4.729283   \n",
       "676109  michael-crinnion      tim-difford       1  1.000000  5.894455   \n",
       "\n",
       "        LZ-E ego    Pi ego   CE alter  KL alter  Pi alter  CE ego+alter  \\\n",
       "8248    4.972017  0.394639  10.123047  5.151029 -0.469204      7.022768   \n",
       "8249    4.972017  0.394639   8.517919  3.545901 -0.267016      5.954887   \n",
       "8250    4.972017  0.394639   9.368889  4.396872 -0.375737      6.440839   \n",
       "8252    5.726021  0.250241   8.122302  2.396281 -0.223124      6.621434   \n",
       "8253    5.726021  0.250241   9.257103  3.531082 -0.370097      7.526860   \n",
       "...          ...       ...        ...       ...       ...           ...   \n",
       "675944  2.400000  0.501308   5.177412  2.777412 -0.178327      4.133115   \n",
       "675945  2.400000  0.501308   5.483025  3.083025 -0.216375      4.399942   \n",
       "676002  4.645022  0.400631   9.118189  4.473167 -0.411785      6.302434   \n",
       "676005  4.488123  0.288073   6.896770  2.408648 -0.251088      5.653605   \n",
       "676109  5.731343  0.138015   7.680886  1.949543 -0.243050      6.743442   \n",
       "\n",
       "        Pi ego+alter    Weight    Impact  Included Rank  CCE ego+alters  \\\n",
       "8248       -0.058405  0.142857  0.142857              1        7.022768   \n",
       "8249        0.212591  0.142857  0.142857              2        6.867781   \n",
       "8250        0.094528  0.071429  0.071429              3        6.863096   \n",
       "8252       -0.000136  0.033019  0.040541              1        6.621434   \n",
       "8253       -0.141467  0.070755  0.076577              2        7.145011   \n",
       "...              ...       ...       ...            ...             ...   \n",
       "675944     -0.042861  0.285714  0.300000              3        4.732021   \n",
       "675945     -0.078485  0.285714  0.300000              4        4.798472   \n",
       "676002     -0.015547  1.000000  1.000000              1        6.302434   \n",
       "676005     -0.065350  1.000000  1.000000              1        5.653605   \n",
       "676109     -0.109401  1.000000  1.000000              1        6.743442   \n",
       "\n",
       "        CCE alters  Pi alters  Pi ego+alters  \n",
       "8248     10.123047  -0.469204      -0.058405  \n",
       "8249      9.536955  -0.396763      -0.033529  \n",
       "8250      9.362545  -0.374941      -0.032753  \n",
       "8252      8.122302  -0.223124      -0.000136  \n",
       "8253      8.379017  -0.257161      -0.086028  \n",
       "...            ...        ...            ...  \n",
       "675944    5.448620  -0.212119      -0.121752  \n",
       "675945    5.457328  -0.213197      -0.130289  \n",
       "676002    9.118189  -0.411785      -0.015547  \n",
       "676005    6.896770  -0.251088      -0.065350  \n",
       "676109    7.680886  -0.243050      -0.109401  \n",
       "\n",
       "[6426 rows x 19 columns]"
      ]
     },
     "execution_count": 64,
     "metadata": {},
     "output_type": "execute_result"
    }
   ],
   "source": [
    "user_meetup[user_meetup['Pi ego+alters']<0]"
   ]
  },
  {
   "cell_type": "code",
   "execution_count": 65,
   "metadata": {},
   "outputs": [
    {
     "data": {
      "text/html": [
       "<div>\n",
       "<style scoped>\n",
       "    .dataframe tbody tr th:only-of-type {\n",
       "        vertical-align: middle;\n",
       "    }\n",
       "\n",
       "    .dataframe tbody tr th {\n",
       "        vertical-align: top;\n",
       "    }\n",
       "\n",
       "    .dataframe thead th {\n",
       "        text-align: right;\n",
       "    }\n",
       "</style>\n",
       "<table border=\"1\" class=\"dataframe\">\n",
       "  <thead>\n",
       "    <tr style=\"text-align: right;\">\n",
       "      <th></th>\n",
       "      <th>userid_x</th>\n",
       "      <th>userid_y</th>\n",
       "      <th>meetup</th>\n",
       "      <th>percent</th>\n",
       "      <th>SN-E ego</th>\n",
       "      <th>LZ-E ego</th>\n",
       "      <th>Pi ego</th>\n",
       "      <th>CE alter</th>\n",
       "      <th>KL alter</th>\n",
       "      <th>Pi alter</th>\n",
       "      <th>CE ego+alter</th>\n",
       "      <th>Pi ego+alter</th>\n",
       "      <th>Weight</th>\n",
       "      <th>Impact</th>\n",
       "      <th>Included Rank</th>\n",
       "      <th>CCE ego+alters</th>\n",
       "      <th>CCE alters</th>\n",
       "      <th>Pi alters</th>\n",
       "      <th>Pi ego+alters</th>\n",
       "    </tr>\n",
       "  </thead>\n",
       "  <tbody>\n",
       "  </tbody>\n",
       "</table>\n",
       "</div>"
      ],
      "text/plain": [
       "Empty DataFrame\n",
       "Columns: [userid_x, userid_y, meetup, percent, SN-E ego, LZ-E ego, Pi ego, CE alter, KL alter, Pi alter, CE ego+alter, Pi ego+alter, Weight, Impact, Included Rank, CCE ego+alters, CCE alters, Pi alters, Pi ego+alters]\n",
       "Index: []"
      ]
     },
     "execution_count": 65,
     "metadata": {},
     "output_type": "execute_result"
    }
   ],
   "source": [
    "user_meetup[user_meetup['Pi ego']<0]"
   ]
  },
  {
   "cell_type": "code",
   "execution_count": 66,
   "metadata": {},
   "outputs": [],
   "source": [
    "# read picle file\n",
    "pickle_in = open(\"user_placeidT.pickle\", \"rb\")\n",
    "user_placeidT = pickle.load(pickle_in)"
   ]
  },
  {
   "cell_type": "code",
   "execution_count": 74,
   "metadata": {},
   "outputs": [],
   "source": [
    "ego = 'laurent-kretz'\n",
    "ego_temporal_placeid = user_placeidT[ego]\n",
    "ego_time = pd.to_datetime(ego_temporal_placeid.index).tolist()\n",
    "ego_placeid = ego_temporal_placeid['placeid'].tolist()\n",
    "N_uniq_placeid = len(set(ego_placeid))\n",
    "length_ego = len(ego_placeid)"
   ]
  },
  {
   "cell_type": "code",
   "execution_count": 75,
   "metadata": {},
   "outputs": [
    {
     "data": {
      "text/plain": [
       "69"
      ]
     },
     "execution_count": 75,
     "metadata": {},
     "output_type": "execute_result"
    }
   ],
   "source": [
    "N_uniq_placeid"
   ]
  },
  {
   "cell_type": "code",
   "execution_count": 76,
   "metadata": {},
   "outputs": [
    {
     "data": {
      "text/plain": [
       "99"
      ]
     },
     "execution_count": 76,
     "metadata": {},
     "output_type": "execute_result"
    }
   ],
   "source": [
    "length_ego"
   ]
  },
  {
   "cell_type": "code",
   "execution_count": 73,
   "metadata": {},
   "outputs": [],
   "source": [
    "import mpmath\n",
    "\n",
    "# As required by algorithm, N should be large, we set e as the threshold of N. \n",
    "# if it is smaller than threshold, we will just print NA\n",
    "def getPredictability(N, S, e=100):\n",
    "    if N >= e:\n",
    "        f = lambda x: (((1-x)/(N-1)) **(1-x))* x**x - 2**(-S)\n",
    "        root = mpmath.findroot(f, 1)\n",
    "        return float(root.real)\n",
    "    else: \n",
    "        return np.nan"
   ]
  },
  {
   "cell_type": "code",
   "execution_count": 86,
   "metadata": {},
   "outputs": [
    {
     "data": {
      "text/plain": [
       "0.12645185712835483"
      ]
     },
     "execution_count": 86,
     "metadata": {},
     "output_type": "execute_result"
    }
   ],
   "source": [
    "getPredictability(4000, 11, e=2)"
   ]
  },
  {
   "cell_type": "code",
   "execution_count": null,
   "metadata": {},
   "outputs": [],
   "source": []
  }
 ],
 "metadata": {
  "kernelspec": {
   "display_name": "Python 3",
   "language": "python",
   "name": "python3"
  },
  "language_info": {
   "codemirror_mode": {
    "name": "ipython",
    "version": 3
   },
   "file_extension": ".py",
   "mimetype": "text/x-python",
   "name": "python",
   "nbconvert_exporter": "python",
   "pygments_lexer": "ipython3",
   "version": "3.6.9"
  },
  "latex_envs": {
   "LaTeX_envs_menu_present": true,
   "autoclose": false,
   "autocomplete": true,
   "bibliofile": "biblio.bib",
   "cite_by": "apalike",
   "current_citInitial": 1,
   "eqLabelWithNumbers": true,
   "eqNumInitial": 1,
   "hotkeys": {
    "equation": "Ctrl-E",
    "itemize": "Ctrl-I"
   },
   "labels_anchors": false,
   "latex_user_defs": false,
   "report_style_numbering": false,
   "user_envs_cfg": false
  },
  "varInspector": {
   "cols": {
    "lenName": 16,
    "lenType": 16,
    "lenVar": 40
   },
   "kernels_config": {
    "python": {
     "delete_cmd_postfix": "",
     "delete_cmd_prefix": "del ",
     "library": "var_list.py",
     "varRefreshCmd": "print(var_dic_list())"
    },
    "r": {
     "delete_cmd_postfix": ") ",
     "delete_cmd_prefix": "rm(",
     "library": "var_list.r",
     "varRefreshCmd": "cat(var_dic_list()) "
    }
   },
   "types_to_exclude": [
    "module",
    "function",
    "builtin_function_or_method",
    "instance",
    "_Feature"
   ],
   "window_display": false
  }
 },
 "nbformat": 4,
 "nbformat_minor": 2
}
